{
 "cells": [
  {
   "cell_type": "code",
   "execution_count": 3,
   "id": "f5cdc9cf-9efe-4e23-846f-b2eb386abbf1",
   "metadata": {},
   "outputs": [],
   "source": [
    "import os\n",
    "from pathlib import Path\n",
    "import json"
   ]
  },
  {
   "cell_type": "markdown",
   "id": "565670d3-802e-4492-a409-c1794e792761",
   "metadata": {},
   "source": [
    "#### 1. Nougat-parsed PDF (page 1)\n",
    "`/grand/projects/SuperBERT/siebenschuh/raw_pdfs/250k_one_page_mmd/parsed_pdfs`\n",
    "\n",
    "#### 2. "
   ]
  },
  {
   "cell_type": "code",
   "execution_count": 4,
   "id": "a8d97698-cd49-443c-b9d1-b1548a4c275a",
   "metadata": {},
   "outputs": [],
   "source": [
    "# Path\n",
    "jsonl_path  = Path('/grand/projects/SuperBERT/siebenschuh/raw_pdfs/250k_one_page_mmd/parsed_pdfs')\n",
    "jsonl_files = [jsonl_path / f for f in os.listdir(jsonl_path) if f.endswith('.jsonl')]"
   ]
  },
  {
   "cell_type": "code",
   "execution_count": 5,
   "id": "7764c1c2-886f-417a-8d10-ade8e1e0e4ba",
   "metadata": {},
   "outputs": [],
   "source": [
    "# Initialize a list to store the parsed data\n",
    "data = []\n",
    "\n",
    "# loop\n",
    "for file_path in jsonl_files:\n",
    "    # open JSONL file\n",
    "    with open(file_path, 'r', encoding='utf-8') as file:\n",
    "        # Read and parse each line\n",
    "        for line in file:\n",
    "            # Parse JSON line and add it to the list\n",
    "            data.append(json.loads(line))"
   ]
  },
  {
   "cell_type": "code",
   "execution_count": 6,
   "id": "e2e5b3bf-9d9d-498f-8a46-0fa72c44f21e",
   "metadata": {},
   "outputs": [
    {
     "data": {
      "text/plain": [
       "162200"
      ]
     },
     "execution_count": 6,
     "metadata": {},
     "output_type": "execute_result"
    }
   ],
   "source": [
    "len(set([d['path'] for d in data]))"
   ]
  }
 ],
 "metadata": {
  "kernelspec": {
   "display_name": "synth",
   "language": "python",
   "name": "synth"
  },
  "language_info": {
   "codemirror_mode": {
    "name": "ipython",
    "version": 3
   },
   "file_extension": ".py",
   "mimetype": "text/x-python",
   "name": "python",
   "nbconvert_exporter": "python",
   "pygments_lexer": "ipython3",
   "version": "3.10.14"
  }
 },
 "nbformat": 4,
 "nbformat_minor": 5
}
