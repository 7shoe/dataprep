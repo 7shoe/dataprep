{
 "cells": [
  {
   "cell_type": "code",
   "execution_count": 1,
   "id": "fb5d261d-df96-4932-868c-0f321865f831",
   "metadata": {},
   "outputs": [],
   "source": [
    "# Performance"
   ]
  },
  {
   "cell_type": "code",
   "execution_count": null,
   "id": "0f2c7a0c-6e4a-4ccf-a090-1ff53b792383",
   "metadata": {},
   "outputs": [],
   "source": [
    "#df_analytics.to_csv('/lus/eagle/projects/argonne_tpc/siebenschuh/aurora_gpt/database/parser_meta_and_metrics.csv', sep='|')"
   ]
  }
 ],
 "metadata": {
  "kernelspec": {
   "display_name": "bo",
   "language": "python",
   "name": "bo"
  },
  "language_info": {
   "codemirror_mode": {
    "name": "ipython",
    "version": 3
   },
   "file_extension": ".py",
   "mimetype": "text/x-python",
   "name": "python",
   "nbconvert_exporter": "python",
   "pygments_lexer": "ipython3",
   "version": "3.11.9"
  }
 },
 "nbformat": 4,
 "nbformat_minor": 5
}
