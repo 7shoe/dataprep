{
 "cells": [
  {
   "cell_type": "code",
   "execution_count": 8,
   "id": "e0ccf8c2-441b-4496-ac76-159ab0cefc0a",
   "metadata": {},
   "outputs": [],
   "source": [
    "from pathlib import Path\n",
    "import os\n",
    "import json\n",
    "\n",
    "from datasets import load_from_disk\n",
    "from pathlib import Path\n",
    "import numpy as np\n",
    "\n",
    "from sklearn.ensemble import RandomForestClassifier\n",
    "from sklearn.metrics import accuracy_score, classification_report"
   ]
  },
  {
   "cell_type": "code",
   "execution_count": 2,
   "id": "23853b6f-deb2-4168-a28a-c97f84f97925",
   "metadata": {},
   "outputs": [],
   "source": [
    "p = Path('/lus/eagle/projects/argonne_tpc/siebenschuh/aurora_gpt/embeddings/distllm/gist/embeddings')\n",
    "os.listdir(p)\n",
    "\n",
    "file_path = str(p / '442dea03-30ca-4b35-8c40-abdff797e249')\n",
    "\n",
    "# sample dataset\n",
    "dataset = load_from_disk(file_path)\n",
    "\n",
    "# X, y\n",
    "#X = np.array(dataset['embeddings'])\n",
    "#y = np.array(dataset['responses'])\n",
    "\n",
    "# train model\n",
    "#clf = RandomForestClassifier(random_state=42)\n",
    "#clf.fit(X, y)\n",
    "#y_pred = clf.predict(X)\n",
    "\n",
    "## validate\n",
    "#accuracy = accuracy_score(y, y_pred)\n",
    "#print(classification_report(y, y_pred))"
   ]
  },
  {
   "cell_type": "code",
   "execution_count": 3,
   "id": "181e83a7-d006-460e-882e-3f3aa7eb84d2",
   "metadata": {},
   "outputs": [
    {
     "data": {
      "text/plain": [
       "Dataset({\n",
       "    features: ['text', 'embeddings', 'path', 'abstract', 'firstpage'],\n",
       "    num_rows: 2375\n",
       "})"
      ]
     },
     "execution_count": 3,
     "metadata": {},
     "output_type": "execute_result"
    }
   ],
   "source": [
    "dataset"
   ]
  },
  {
   "cell_type": "code",
   "execution_count": 5,
   "id": "ee10fffb-3576-41bd-aca4-0c82cc92dc78",
   "metadata": {},
   "outputs": [
    {
     "data": {
      "text/plain": [
       "['dataset_info.json', 'data-00000-of-00001.arrow', 'state.json']"
      ]
     },
     "execution_count": 5,
     "metadata": {},
     "output_type": "execute_result"
    }
   ],
   "source": [
    "os.listdir(file_path)"
   ]
  },
  {
   "cell_type": "code",
   "execution_count": 12,
   "id": "55023450-9eae-4025-8c1d-a920b744bbc1",
   "metadata": {},
   "outputs": [],
   "source": [
    "with open(Path(file_path) / 'state.json', 'r') as f:\n",
    "    data  = json.load(f)"
   ]
  },
  {
   "cell_type": "code",
   "execution_count": 13,
   "id": "79292ef2-6763-4186-aea8-9d9eb3e6163d",
   "metadata": {},
   "outputs": [
    {
     "data": {
      "text/plain": [
       "{'_data_files': [{'filename': 'data-00000-of-00001.arrow'}],\n",
       " '_fingerprint': '0d7319a519b49da2',\n",
       " '_format_columns': None,\n",
       " '_format_kwargs': {},\n",
       " '_format_type': None,\n",
       " '_output_all_columns': False,\n",
       " '_split': 'train'}"
      ]
     },
     "execution_count": 13,
     "metadata": {},
     "output_type": "execute_result"
    }
   ],
   "source": [
    "data"
   ]
  },
  {
   "cell_type": "code",
   "execution_count": null,
   "id": "f72df943-481d-4378-822a-95a6c68f7571",
   "metadata": {},
   "outputs": [],
   "source": []
  }
 ],
 "metadata": {
  "kernelspec": {
   "display_name": "bo",
   "language": "python",
   "name": "bo"
  },
  "language_info": {
   "codemirror_mode": {
    "name": "ipython",
    "version": 3
   },
   "file_extension": ".py",
   "mimetype": "text/x-python",
   "name": "python",
   "nbconvert_exporter": "python",
   "pygments_lexer": "ipython3",
   "version": "3.11.9"
  }
 },
 "nbformat": 4,
 "nbformat_minor": 5
}
