{
 "cells": [
  {
   "cell_type": "code",
   "execution_count": 10,
   "id": "60e015b6-104f-4108-90bd-1c899b3e52d4",
   "metadata": {},
   "outputs": [],
   "source": [
    "from pathlib import Path\n",
    "import pandas as pd\n",
    "import json\n",
    "import os\n",
    "import json\n",
    "\n",
    "from meta_utils import Terminator_of_already_parsed_Files"
   ]
  },
  {
   "cell_type": "code",
   "execution_count": 12,
   "id": "888d08aa-e4db-4239-b5af-0fed6f5689b3",
   "metadata": {},
   "outputs": [
    {
     "name": "stdout",
     "output_type": "stream",
     "text": [
      "Original path: /eagle/projects/argonne_tpc/siebenschuh/aurora_gpt/merged_pdf_only_data/arxiv/pdf/2408.02994v1.pdf\n"
     ]
    }
   ],
   "source": [
    "# Define the directory path\n",
    "p = Path('/eagle/projects/argonne_tpc/siebenschuh/aurora_gpt/joint_to_nougat/parsed_pdfs')\n",
    "\n",
    "# Iterate over each .jsonl file in the directory\n",
    "for jsonl_file in p.glob(\"*.jsonl\"):\n",
    "    # Open the .jsonl file\n",
    "    with jsonl_file.open('r') as file:\n",
    "        # Read each line in the .jsonl file\n",
    "        for line in file:\n",
    "            # Parse the JSON data\n",
    "            data = json.loads(line)\n",
    "            \n",
    "            # Extract the 'path' entry from the JSON\n",
    "            original_path = Path(data['path'])\n",
    "            \n",
    "            # Open that path as 'path_local'\n",
    "            path_local = original_path\n",
    "            \n",
    "            # Print the name of 'path_local'\n",
    "            print(f\"Original path: {path_local}\")\n",
    "            \n",
    "            # Modify the path to 'path_local.parent.parent.name'\n",
    "            #modified_path = path_local.parent.parent.name\n",
    "            #print(f\"Modified path: {modified_path}\")\n",
    "            \n",
    "            # Break after the first iteration for debugging\n",
    "            break\n",
    "        \n",
    "    # Break after the first file for debugging\n",
    "    break\n"
   ]
  },
  {
   "cell_type": "code",
   "execution_count": 15,
   "id": "9d2724e9-1e7f-4685-afd6-d92f2e4bd75a",
   "metadata": {},
   "outputs": [
    {
     "ename": "AttributeError",
     "evalue": "'PosixPath' object has no attribute 'split'",
     "output_type": "error",
     "traceback": [
      "\u001b[0;31m---------------------------------------------------------------------------\u001b[0m",
      "\u001b[0;31mAttributeError\u001b[0m                            Traceback (most recent call last)",
      "Cell \u001b[0;32mIn[15], line 1\u001b[0m\n\u001b[0;32m----> 1\u001b[0m \u001b[43mpath_local\u001b[49m\u001b[38;5;241;43m.\u001b[39;49m\u001b[43msplit\u001b[49m(\u001b[38;5;124m'\u001b[39m\u001b[38;5;124m/\u001b[39m\u001b[38;5;124m'\u001b[39m)\n",
      "\u001b[0;31mAttributeError\u001b[0m: 'PosixPath' object has no attribute 'split'"
     ]
    }
   ],
   "source": [
    "path_local.split('/')"
   ]
  },
  {
   "cell_type": "code",
   "execution_count": 7,
   "id": "77d597d9-b8a1-4ff1-8cfa-05abcac4e730",
   "metadata": {},
   "outputs": [
    {
     "name": "stdout",
     "output_type": "stream",
     "text": [
      "subdir_name:  arxiv\n",
      "CPU times: user 3.61 s, sys: 34.1 s, total: 37.7 s\n",
      "Wall time: 53.9 s\n"
     ]
    }
   ],
   "source": [
    "%%time\n",
    "\n",
    "T1 = Terminator_of_already_parsed_Files('arxiv', p = Path('/eagle/projects/argonne_tpc/siebenschuh/aurora_gpt/joint_to_nougat/parsed_pdfs'))\n",
    "\n",
    "files1 = T1.load_first_set_pdfs()"
   ]
  },
  {
   "cell_type": "code",
   "execution_count": 8,
   "id": "10bdd524-0e94-4bb0-a776-eff8f34311e9",
   "metadata": {},
   "outputs": [
    {
     "data": {
      "text/plain": [
       "24884"
      ]
     },
     "execution_count": 8,
     "metadata": {},
     "output_type": "execute_result"
    }
   ],
   "source": [
    "len(list(set([Path(f).name for f in files1])))"
   ]
  },
  {
   "cell_type": "code",
   "execution_count": null,
   "id": "5592d55c-d41e-4126-b362-8a519e1d55f9",
   "metadata": {},
   "outputs": [],
   "source": []
  }
 ],
 "metadata": {
  "kernelspec": {
   "display_name": "bo",
   "language": "python",
   "name": "bo"
  },
  "language_info": {
   "codemirror_mode": {
    "name": "ipython",
    "version": 3
   },
   "file_extension": ".py",
   "mimetype": "text/x-python",
   "name": "python",
   "nbconvert_exporter": "python",
   "pygments_lexer": "ipython3",
   "version": "3.11.9"
  }
 },
 "nbformat": 4,
 "nbformat_minor": 5
}
