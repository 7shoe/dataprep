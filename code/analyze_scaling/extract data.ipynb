{
 "cells": [
  {
   "cell_type": "markdown",
   "id": "7fba3a24-2a02-4f3c-9daa-f4aba1184667",
   "metadata": {},
   "source": [
    "## Remember: Use `pdfwf_utils` for this\n",
    "Attempt to run the CLI via subprocesses failed -> write txt fiel of run dir paths and invoke \n",
    "```\n",
    "/home/siebenschuh/Projects/dataprep\n",
    "```\n",
    "\n",
    "### First reservation (Oct. 4th)\n",
    "\n",
    "### Second reservation (Oct. 9th)"
   ]
  },
  {
   "cell_type": "code",
   "execution_count": 15,
   "id": "d251dd2b-193a-4534-a104-98607d02ff2e",
   "metadata": {},
   "outputs": [],
   "source": [
    "from pathlib import Path\n",
    "import pandas as pd\n",
    "from typing import List\n",
    "import os\n",
    "import re\n",
    "\n",
    "from logfile_utils_exp1 import get_parsl_run_dir_paths_for_parser_timer, infer_parser_node"
   ]
  },
  {
   "cell_type": "code",
   "execution_count": 16,
   "id": "ba1217c4-7d77-45eb-82f8-c9b371b8e75f",
   "metadata": {},
   "outputs": [
    {
     "name": "stdout",
     "output_type": "stream",
     "text": [
      "Found 50 paths\n",
      "Run directories saved to /home/siebenschuh/Projects/pdfwf/run_dirs.txt\n"
     ]
    }
   ],
   "source": [
    "# extract raw log files into (infer name how?)\n",
    "#  = = experiment1 = = \n",
    "p_exp1 = Path('/eagle/projects/argonne_tpc/siebenschuh/aurora_gpt/analysis_of_scaling/exp1/')\n",
    "p_log_dst = p_exp1 / 'raw_log_files'\n",
    "p_proc_dst = p_exp1 / 'proc_frames'\n",
    "\n",
    "# (1.) Retrieve\n",
    "all_run_dirs = get_parsl_run_dir_paths_for_parser_timer()\n",
    "\n",
    "# (2.) Store dir in `pdfwf` home (ready for CLI to pick them up!)\n",
    "# - directory to save the file\n",
    "output_dir = Path('/home/siebenschuh/Projects/pdfwf')\n",
    "output_file = output_dir / 'run_dirs.txt'\n",
    "\n",
    "# Write the paths to the file\n",
    "with open(output_file, 'w') as f:\n",
    "    for run_dir in all_run_dirs:\n",
    "        f.write(f\"{run_dir}\\n\")\n",
    "\n",
    "print(f\"Run directories saved to {output_file}\")\n",
    "\n",
    "# (2.) Identify (internally) & Transfer\n"
   ]
  },
  {
   "cell_type": "code",
   "execution_count": null,
   "id": "60ee5d4d-c61b-48cd-8e3b-4161cacf2bbf",
   "metadata": {},
   "outputs": [],
   "source": []
  }
 ],
 "metadata": {
  "kernelspec": {
   "display_name": "pdfwf_utils",
   "language": "python",
   "name": "pdfwf_utils"
  },
  "language_info": {
   "codemirror_mode": {
    "name": "ipython",
    "version": 3
   },
   "file_extension": ".py",
   "mimetype": "text/x-python",
   "name": "python",
   "nbconvert_exporter": "python",
   "pygments_lexer": "ipython3",
   "version": "3.10.15"
  }
 },
 "nbformat": 4,
 "nbformat_minor": 5
}
