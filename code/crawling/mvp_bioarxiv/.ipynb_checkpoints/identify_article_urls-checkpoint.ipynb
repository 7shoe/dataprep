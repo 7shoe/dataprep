{
 "cells": [
  {
   "cell_type": "code",
   "execution_count": null,
   "id": "3e0030bf-154b-48c0-b658-99f85b3c608a",
   "metadata": {},
   "outputs": [],
   "source": [
    "import pandas as pd\n",
    "from mvp_biorxiv_utils import BioRXiV_Spider"
   ]
  },
  {
   "cell_type": "code",
   "execution_count": null,
   "id": "1be4b3d6-ff37-48aa-b508-d7e7856b2399",
   "metadata": {},
   "outputs": [],
   "source": [
    "%%time \n",
    "\n",
    "# run spider\n",
    "b_spider = BioRXiV_Spider(5_000, crawl_delay=7.0)\n",
    "b_spider.crawl_bioarxiv_metadata()"
   ]
  }
 ],
 "metadata": {
  "kernelspec": {
   "display_name": "bo",
   "language": "python",
   "name": "bo"
  },
  "language_info": {
   "codemirror_mode": {
    "name": "ipython",
    "version": 3
   },
   "file_extension": ".py",
   "mimetype": "text/x-python",
   "name": "python",
   "nbconvert_exporter": "python",
   "pygments_lexer": "ipython3",
   "version": "3.11.9"
  }
 },
 "nbformat": 4,
 "nbformat_minor": 5
}
