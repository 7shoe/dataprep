{
 "cells": [
  {
   "cell_type": "code",
   "execution_count": 3,
   "id": "e9287c61-6d01-4698-9189-70c2ae109f91",
   "metadata": {},
   "outputs": [],
   "source": [
    "from pylatexenc.latex2text import LatexNodes2Text"
   ]
  },
  {
   "cell_type": "code",
   "execution_count": null,
   "id": "aef072f7-ed54-49c4-a728-f97d77932fb4",
   "metadata": {},
   "outputs": [],
   "source": [
    "latex = \"... LaTeX code ...\"\n",
    "text = LatexNodes2Text().latex_to_text(latex)"
   ]
  }
 ],
 "metadata": {
  "kernelspec": {
   "display_name": "bo",
   "language": "python",
   "name": "bo"
  },
  "language_info": {
   "codemirror_mode": {
    "name": "ipython",
    "version": 3
   },
   "file_extension": ".py",
   "mimetype": "text/x-python",
   "name": "python",
   "nbconvert_exporter": "python",
   "pygments_lexer": "ipython3",
   "version": "3.11.9"
  }
 },
 "nbformat": 4,
 "nbformat_minor": 5
}
