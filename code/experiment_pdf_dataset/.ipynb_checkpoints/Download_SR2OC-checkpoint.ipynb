{
 "cells": [
  {
   "cell_type": "code",
   "execution_count": 1,
   "id": "c6381ff1-3fb0-4f91-a22e-77222d1229d1",
   "metadata": {},
   "outputs": [
    {
     "ename": "ModuleNotFoundError",
     "evalue": "No module named 'wget'",
     "output_type": "error",
     "traceback": [
      "\u001b[0;31m---------------------------------------------------------------------------\u001b[0m",
      "\u001b[0;31mModuleNotFoundError\u001b[0m                       Traceback (most recent call last)",
      "Cell \u001b[0;32mIn[1], line 5\u001b[0m\n\u001b[1;32m      3\u001b[0m \u001b[38;5;28;01mimport\u001b[39;00m \u001b[38;5;21;01mre\u001b[39;00m\n\u001b[1;32m      4\u001b[0m \u001b[38;5;28;01mimport\u001b[39;00m \u001b[38;5;21;01mrequests\u001b[39;00m\n\u001b[0;32m----> 5\u001b[0m \u001b[38;5;28;01mimport\u001b[39;00m \u001b[38;5;21;01mwget\u001b[39;00m\n\u001b[1;32m      6\u001b[0m \u001b[38;5;28;01mfrom\u001b[39;00m \u001b[38;5;21;01mtqdm\u001b[39;00m \u001b[38;5;28;01mimport\u001b[39;00m tqdm\n",
      "\u001b[0;31mModuleNotFoundError\u001b[0m: No module named 'wget'"
     ]
    }
   ],
   "source": [
    "import json\n",
    "import os\n",
    "import re\n",
    "import requests\n",
    "import wget\n",
    "from tqdm import tqdm"
   ]
  },
  {
   "cell_type": "code",
   "execution_count": null,
   "id": "3dbaa7c0-5fbc-438d-9453-59011ff3b489",
   "metadata": {},
   "outputs": [],
   "source": [
    "# modify these\n",
    "API_KEY = \"...\"\n",
    "DATASET_NAME = \"s2orc\"\n",
    "LOCAL_PATH = \"/eagle/projects/argonne_tpc/siebenschuh/PDF/SR2OC\"\n",
    "os.makedirs(LOCAL_PATH, exist_ok=True)\n",
    "\n",
    "# get latest release's ID\n",
    "response = requests.get(\"https://api.semanticscholar.org/datasets/v1/release/latest\").json()\n",
    "RELEASE_ID = response[\"release_id\"]\n",
    "print(f\"Latest release ID: {RELEASE_ID}\")\n",
    "\n"
   ]
  },
  {
   "cell_type": "code",
   "execution_count": null,
   "id": "a72a1d62-d7de-4aec-9bc0-36891dbaa5f2",
   "metadata": {},
   "outputs": [],
   "source": [
    "# get the download links for the s2orc dataset; needs to pass API key through `x-api-key` header\n",
    "# download via wget. this can take a while...\n",
    "response = requests.get(f\"https://api.semanticscholar.org/datasets/v1/release/{RELEASE_ID}/dataset/{DATASET_NAME}/\", headers={\"x-api-key\": API_KEY}).json()\n",
    "for url in tqdm(response[\"files\"]):\n",
    "    match = re.match(r\"https://ai2-s2ag.s3.amazonaws.com/staging/(.*)/s2orc/(.*).gz(.*)\", url)\n",
    "    assert match.group(1) == RELEASE_ID\n",
    "    SHARD_ID = match.group(2)\n",
    "    wget.download(url, out=os.path.join(LOCAL_PATH, f\"{SHARD_ID}.gz\"))\n",
    "print(\"Downloaded all shards.\")"
   ]
  }
 ],
 "metadata": {
  "kernelspec": {
   "display_name": "bo",
   "language": "python",
   "name": "bo"
  },
  "language_info": {
   "codemirror_mode": {
    "name": "ipython",
    "version": 3
   },
   "file_extension": ".py",
   "mimetype": "text/x-python",
   "name": "python",
   "nbconvert_exporter": "python",
   "pygments_lexer": "ipython3",
   "version": "3.11.9"
  }
 },
 "nbformat": 4,
 "nbformat_minor": 5
}
