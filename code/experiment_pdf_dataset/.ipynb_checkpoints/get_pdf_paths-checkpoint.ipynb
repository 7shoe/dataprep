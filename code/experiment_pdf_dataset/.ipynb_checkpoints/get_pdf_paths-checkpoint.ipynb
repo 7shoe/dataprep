{
 "cells": [
  {
   "cell_type": "code",
   "execution_count": 1,
   "id": "dc2e0958-934c-4107-b050-b9c883fc5144",
   "metadata": {},
   "outputs": [],
   "source": [
    "from utils import in_notebook, recursive_lookup_pdf_paths, PDFPaths\n",
    "import random\n",
    "import zipfile\n",
    "import yaml\n",
    "from pathlib import Path\n",
    "\n",
    "from concurrent.futures import ProcessPoolExecutor\n",
    "import os\n",
    "import shutil"
   ]
  },
  {
   "cell_type": "code",
   "execution_count": 2,
   "id": "a6485fd2-026a-474f-97a7-8313929e4024",
   "metadata": {},
   "outputs": [],
   "source": [
    "# get PDFs\n",
    "P = PDFPaths()"
   ]
  },
  {
   "cell_type": "code",
   "execution_count": 3,
   "id": "9b8148f2-306f-4f08-b6a6-f587583918da",
   "metadata": {},
   "outputs": [
    {
     "data": {
      "text/plain": [
       "{'pso2': 0, 'arxiv': 10000, 'bioarxiv': 2279, 'medrxiv': 1647, 'chemrxiv': 0, 'osti': 49516, 'ipmc_oa': 60321, 'manuals': 88, 'asm': 18687}"
      ]
     },
     "execution_count": 3,
     "metadata": {},
     "output_type": "execute_result"
    }
   ],
   "source": [
    "P"
   ]
  },
  {
   "cell_type": "code",
   "execution_count": 6,
   "id": "b28f2ddc-b0ed-4634-9fb3-9b752546f3e5",
   "metadata": {},
   "outputs": [],
   "source": [
    "# sample\n",
    "n_sample = 5000\n",
    "\n",
    "sampled_pdf_path_dict = {}\n",
    "for j,k in enumerate(P.data.keys()):\n",
    "    random.seed(347*j)\n",
    "    random.shuffle(P.data[k])\n",
    "    # add\n",
    "    if len(P.data[k]) > 0:\n",
    "        sampled_pdf_path_dict[k] = P.data[k][:n_sample]"
   ]
  },
  {
   "cell_type": "code",
   "execution_count": 11,
   "id": "8c2fab14-d4ce-44ab-bd0e-4969e47ded1e",
   "metadata": {},
   "outputs": [],
   "source": [
    "# create subset directories\n",
    "dst_root = Path('/eagle/projects/argonne_tpc/siebenschuh/mini_all_pdf_sets')\n",
    "\n",
    "# create directories\n",
    "for k in sampled_pdf_path_dict:\n",
    "    # create\n",
    "    directory_path = dst_root / k\n",
    "    directory_path.mkdir(parents=True, exist_ok=True)"
   ]
  },
  {
   "cell_type": "code",
   "execution_count": 4,
   "id": "412c01ec-781b-4ef1-827b-26a79898faf9",
   "metadata": {},
   "outputs": [],
   "source": [
    "# parallelized \n",
    "def copy_file(src_dst_tuple):\n",
    "    src, dst = src_dst_tuple\n",
    "    shutil.copyfile(src, dst)\n",
    "\n",
    "def parallel_copy_files(sampled_pdf_path_dict, dst_root):\n",
    "    tasks = []\n",
    "    for k in sampled_pdf_path_dict:\n",
    "        dst_path = dst_root / k\n",
    "        for s in sampled_pdf_path_dict[k]:\n",
    "            dst_file_path_loc = dst_path / s.name\n",
    "            tasks.append((s, dst_file_path_loc))\n",
    "\n",
    "    with ProcessPoolExecutor() as executor:\n",
    "        executor.map(copy_file, tasks)"
   ]
  },
  {
   "cell_type": "code",
   "execution_count": null,
   "id": "bee47993-0b37-474b-b6e1-a61b40b87393",
   "metadata": {},
   "outputs": [],
   "source": [
    "# run in parallel\n",
    "parallel_copy_files(sampled_pdf_path_dict, dst_root)"
   ]
  }
 ],
 "metadata": {
  "kernelspec": {
   "display_name": "bo",
   "language": "python",
   "name": "bo"
  },
  "language_info": {
   "codemirror_mode": {
    "name": "ipython",
    "version": 3
   },
   "file_extension": ".py",
   "mimetype": "text/x-python",
   "name": "python",
   "nbconvert_exporter": "python",
   "pygments_lexer": "ipython3",
   "version": "3.11.9"
  }
 },
 "nbformat": 4,
 "nbformat_minor": 5
}
