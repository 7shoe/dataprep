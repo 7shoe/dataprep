{
 "cells": [
  {
   "cell_type": "code",
   "execution_count": 2,
   "id": "10f6498f-5308-4f7c-94f4-60682a2859a9",
   "metadata": {},
   "outputs": [
    {
     "name": "stdout",
     "output_type": "stream",
     "text": [
      "WARNING:paperscraper.load_dumps: No dump found for biorxiv. Skipping entry.\n",
      "WARNING:paperscraper.load_dumps: No dump found for chemrxiv. Skipping entry.\n",
      "WARNING:paperscraper.load_dumps: No dump found for medrxiv. Skipping entry.\n",
      "WARNING:paperscraper.load_dumps: No dumps found for either biorxiv or medrxiv. Consider using paperscraper.get_dumps.* to fetch the dumps.\n"
     ]
    }
   ],
   "source": [
    "from paperscraper.get_dumps import chemrxiv"
   ]
  },
  {
   "cell_type": "code",
   "execution_count": null,
   "id": "d6db110e-774a-4978-adf0-38ff57930bb3",
   "metadata": {},
   "outputs": [
    {
     "name": "stderr",
     "output_type": "stream",
     "text": [
      "9it [00:04,  2.10it/s]\n",
      " 49%|████▉     | 1926/3900 [00:33<00:35, 55.52it/s]"
     ]
    }
   ],
   "source": [
    "chemrxiv(save_path  = '/eagle/projects/argonne_tpc/siebenschuh/PDF/chemrxiv_download/chemrxiv_2024-08-01.jsonl',\n",
    "         begin_date='2020-01-01', end_date='2020-01-03')"
   ]
  },
  {
   "cell_type": "code",
   "execution_count": null,
   "id": "f0ccee95-193a-41a3-aa3e-541633b0d41e",
   "metadata": {},
   "outputs": [],
   "source": []
  }
 ],
 "metadata": {
  "kernelspec": {
   "display_name": "bo",
   "language": "python",
   "name": "bo"
  },
  "language_info": {
   "codemirror_mode": {
    "name": "ipython",
    "version": 3
   },
   "file_extension": ".py",
   "mimetype": "text/x-python",
   "name": "python",
   "nbconvert_exporter": "python",
   "pygments_lexer": "ipython3",
   "version": "3.11.9"
  }
 },
 "nbformat": 4,
 "nbformat_minor": 5
}
