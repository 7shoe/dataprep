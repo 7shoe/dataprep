{
 "cells": [
  {
   "cell_type": "code",
   "execution_count": 1,
   "id": "a818df1a-20b3-4b4e-a7eb-bbd9c01677e9",
   "metadata": {},
   "outputs": [],
   "source": [
    "import pymupdf\n",
    "import os\n",
    "import json\n",
    "import sys\n",
    "import time\n",
    "from pathlib import Path"
   ]
  },
  {
   "cell_type": "code",
   "execution_count": 6,
   "id": "15e00c23-a37b-455c-9654-0267498429b3",
   "metadata": {},
   "outputs": [],
   "source": [
    "# number of threads\n",
    "num_threads = os.cpu_count()\n",
    "num_threads\n",
    "\n",
    "# path\n",
    "p = Path('/lus/eagle/projects/argonne_tpc/siebenschuh/aurora_gpt/joint')\n",
    "pdf_files = list(p.rglob(\"*.pdf\"))"
   ]
  },
  {
   "cell_type": "code",
   "execution_count": 7,
   "id": "c0e032a9-e626-4fec-81c2-bf659aa7e1ea",
   "metadata": {},
   "outputs": [
    {
     "data": {
      "text/plain": [
       "1726698882.1864052"
      ]
     },
     "execution_count": 7,
     "metadata": {},
     "output_type": "execute_result"
    }
   ],
   "source": [
    "time.time()"
   ]
  },
  {
   "cell_type": "code",
   "execution_count": 8,
   "id": "74e08e01-119c-4a7c-9542-ddfbb81cb314",
   "metadata": {},
   "outputs": [],
   "source": [
    "# truncate list\n",
    "pdf_files = pdf_files[:50]"
   ]
  },
  {
   "cell_type": "code",
   "execution_count": 10,
   "id": "05e5ac89-9afc-48cb-ab16-b4f26b6ca405",
   "metadata": {},
   "outputs": [],
   "source": [
    "def extract_text_from_pdf(pdf_file):\n",
    "    try:\n",
    "        # open the PDF\n",
    "        doc = pymupdf.open(pdf_file)\n",
    "        \n",
    "        # Extract text from all pages\n",
    "        text = \"\"\n",
    "        for page_num in range(doc.page_count):\n",
    "            page = doc.load_page(page_num)\n",
    "            text += page.get_text()\n",
    "\n",
    "        # Return the file path and extracted text as a tuple\n",
    "        return str(pdf_file), text\n",
    "    except Exception as e:\n",
    "        print(f\"Error processing {pdf_file}: {e}\")\n",
    "        return str(pdf_file), \"\"\n",
    "\n",
    "# Parallelized version of your code\n",
    "def parallel_parse_pdfs(pdf_files, num_processes=4):\n",
    "    pdf_text_dict = {}\n",
    "\n",
    "    # Use ProcessPoolExecutor to parallelize the parsing\n",
    "    with concurrent.futures.ProcessPoolExecutor(max_workers=num_processes) as executor:\n",
    "        # Submit tasks and collect results\n",
    "        results = list(executor.map(extract_text_from_pdf, pdf_files))\n",
    "\n",
    "    # Store results in the dictionary\n",
    "    pdf_text_dict = dict(results)\n",
    "    \n",
    "    return pdf_text_dict"
   ]
  },
  {
   "cell_type": "code",
   "execution_count": null,
   "id": "6d231153-b5f4-4fb0-bcba-fa819e143c0f",
   "metadata": {},
   "outputs": [],
   "source": [
    "%%time \n",
    "time_dict = {}\n",
    "for num_processes in [1, 4, 8, 16]: # [1,2,4,6,8,10,12,14,16,20,32,50,64]:\n",
    "    t0 = time.time()\n",
    "    # Run the parallelized parsing function\n",
    "    pdf_text_dict = parallel_parse_pdfs(pdf_files, num_processes)\n",
    "    t1 = time.time()\n",
    "    # append\n",
    "    time_dict = {'duration' : t1 - t0, 'num_processes' : num_processes}\n",
    "    \n",
    "    # store locally\n",
    "    # = = = = = = = = = \n",
    "    # sort the dictionary by its keys (file paths) alphabetically\n",
    "    sorted_pdf_text_dict = dict(sorted(pdf_text_dict.items()))\n",
    "    # store the sorted dictionary to a file\n",
    "    output_path = Path(f'./tmp/sorted_pdf_num_processes_{num_processes}.json')\n",
    "    with open(output_path, 'w') as json_file:\n",
    "        json.dump(sorted_pdf_text_dict, json_file)\n",
    "    \n",
    "    print(f\"Sorted dictionary saved to: {output_path}\")"
   ]
  },
  {
   "cell_type": "code",
   "execution_count": null,
   "id": "ee51a1b7-71a3-46af-9c04-f245657f8fd9",
   "metadata": {},
   "outputs": [],
   "source": []
  }
 ],
 "metadata": {
  "kernelspec": {
   "display_name": "bo",
   "language": "python",
   "name": "bo"
  },
  "language_info": {
   "codemirror_mode": {
    "name": "ipython",
    "version": 3
   },
   "file_extension": ".py",
   "mimetype": "text/x-python",
   "name": "python",
   "nbconvert_exporter": "python",
   "pygments_lexer": "ipython3",
   "version": "3.11.9"
  }
 },
 "nbformat": 4,
 "nbformat_minor": 5
}
