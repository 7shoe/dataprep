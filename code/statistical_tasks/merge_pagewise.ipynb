{
 "cells": [
  {
   "cell_type": "code",
   "execution_count": 20,
   "id": "c7f40ba6-168c-4f6f-a226-4e866ead21e6",
   "metadata": {},
   "outputs": [],
   "source": [
    "import pandas as pd\n",
    "import os\n",
    "from pathlib import Path"
   ]
  },
  {
   "cell_type": "markdown",
   "id": "4bd2d73a-750f-473a-99e0-b2eed96e6f2a",
   "metadata": {},
   "source": [
    "## Script that loads the page-wise datatable stored in `/database/pagewise` containing $n=284,471$ valid pages from ~23k PDFs\n",
    "\n",
    "### Goals\n",
    "- validate generated dataset\n",
    "- provide code to load data quickly"
   ]
  },
  {
   "cell_type": "code",
   "execution_count": 23,
   "id": "37fb6817-18df-40e4-93d6-e9e5fb49a7f9",
   "metadata": {},
   "outputs": [
    {
     "name": "stderr",
     "output_type": "stream",
     "text": [
      "/var/tmp/pbs.5115.sophia-pbs-01.lab.alcf.anl.gov/ipykernel_3115411/443682650.py:7: DtypeWarning: Columns (13) have mixed types. Specify dtype option on import or set low_memory=False.\n",
      "  df = pd.read_csv(df_path, sep='|')\n"
     ]
    }
   ],
   "source": [
    "# pagewise\n",
    "p_dir = Path('/lus/eagle/projects/argonne_tpc/siebenschuh/aurora_gpt/database/pagewise')\n",
    "\n",
    "df_list = []\n",
    "for i in range(5):\n",
    "    df_path = p_dir / f'pagewise_parser_output_raw_core{i}_{i}-4.csv'\n",
    "    df = pd.read_csv(df_path, sep='|')\n",
    "    df_list.append(df.copy())"
   ]
  },
  {
   "cell_type": "code",
   "execution_count": 24,
   "id": "4b33c655-c0b8-4b91-9964-b8a3d67d43ac",
   "metadata": {},
   "outputs": [],
   "source": [
    "# concatenate\n",
    "df = pd.concat(df_list, ignore_index=True)"
   ]
  },
  {
   "cell_type": "code",
   "execution_count": 26,
   "id": "64099e70-f06e-4d10-a0f8-129b2a17bd06",
   "metadata": {},
   "outputs": [
    {
     "data": {
      "text/plain": [
       "284471"
      ]
     },
     "execution_count": 26,
     "metadata": {},
     "output_type": "execute_result"
    }
   ],
   "source": [
    "len(df)"
   ]
  },
  {
   "cell_type": "code",
   "execution_count": 15,
   "id": "f70626d8-9c86-4cdc-9e3f-fb1d61721c89",
   "metadata": {},
   "outputs": [],
   "source": [
    "# Define a helper function to count NaNs in a row\n",
    "def count_nans(row):\n",
    "    return row.isna().sum()\n",
    "\n",
    "# Sort rows by 'path' and 'page', and prioritize rows with fewer NaNs\n",
    "df['nan_count'] = df.apply(count_nans, axis=1)\n",
    "df_sorted = df.sort_values(by=['path', 'page', 'nan_count'])\n",
    "\n",
    "# Drop duplicates while keeping the first occurrence (the one with fewer NaNs)\n",
    "df_cleaned = df_sorted.drop_duplicates(subset=['path', 'page'], keep='first')\n",
    "\n",
    "# Drop the auxiliary 'nan_count' column\n",
    "df_cleaned = df_cleaned.drop(columns=['nan_count'])"
   ]
  },
  {
   "cell_type": "code",
   "execution_count": 27,
   "id": "817264bf-3433-4b40-aeb5-993778ec8d20",
   "metadata": {},
   "outputs": [
    {
     "data": {
      "text/plain": [
       "576613"
      ]
     },
     "execution_count": 27,
     "metadata": {},
     "output_type": "execute_result"
    }
   ],
   "source": [
    "len(df_cleaned)"
   ]
  },
  {
   "cell_type": "code",
   "execution_count": 28,
   "id": "e4afa616-9b7a-4409-95e0-e2b4cfec9391",
   "metadata": {},
   "outputs": [],
   "source": [
    "# sort\n",
    "df = df.sort_values(by=['path', 'page'], ascending=[True, True])"
   ]
  },
  {
   "cell_type": "code",
   "execution_count": 29,
   "id": "600d9bc2-adaf-40fe-a380-fa00804c7014",
   "metadata": {},
   "outputs": [],
   "source": [
    "df.to_csv('/lus/eagle/projects/argonne_tpc/siebenschuh/aurora_gpt/database/pagewise/pagewise_parser_output_proc.csv', sep='|', index=None)"
   ]
  },
  {
   "cell_type": "code",
   "execution_count": 19,
   "id": "5f14f7c7-34f3-4752-ba66-3ae5e3fed041",
   "metadata": {},
   "outputs": [
    {
     "data": {
      "text/html": [
       "<div>\n",
       "<style scoped>\n",
       "    .dataframe tbody tr th:only-of-type {\n",
       "        vertical-align: middle;\n",
       "    }\n",
       "\n",
       "    .dataframe tbody tr th {\n",
       "        vertical-align: top;\n",
       "    }\n",
       "\n",
       "    .dataframe thead th {\n",
       "        text-align: right;\n",
       "    }\n",
       "</style>\n",
       "<table border=\"1\" class=\"dataframe\">\n",
       "  <thead>\n",
       "    <tr style=\"text-align: right;\">\n",
       "      <th></th>\n",
       "      <th>path</th>\n",
       "      <th>page</th>\n",
       "      <th>grobid</th>\n",
       "      <th>html</th>\n",
       "      <th>marker</th>\n",
       "      <th>nougat</th>\n",
       "      <th>pymupdf</th>\n",
       "      <th>pypdf</th>\n",
       "    </tr>\n",
       "  </thead>\n",
       "  <tbody>\n",
       "    <tr>\n",
       "      <th>0</th>\n",
       "      <td>arxiv/pdf/1009.1049v1.pdf</td>\n",
       "      <td>0</td>\n",
       "      <td>NaN</td>\n",
       "      <td>NaN</td>\n",
       "      <td># Understanding How Students Use Physical Idea...</td>\n",
       "      <td># Understanding How Students Use Physical Idea...</td>\n",
       "      <td>Understanding How Students Use Physical Ideas ...</td>\n",
       "      <td>Understanding How Students Use Ph...</td>\n",
       "    </tr>\n",
       "    <tr>\n",
       "      <th>1</th>\n",
       "      <td>arxiv/pdf/1009.1049v1.pdf</td>\n",
       "      <td>1</td>\n",
       "      <td>NaN</td>\n",
       "      <td>NaN</td>\n",
       "      <td>nted that student views about physics knowledg...</td>\n",
       "      <td>kinds of knowledge and learning their courses...</td>\n",
       "      <td>In physics education, researchers have documen...</td>\n",
       "      <td>iplines, (2)                    kinds of knowl...</td>\n",
       "    </tr>\n",
       "    <tr>\n",
       "      <th>2</th>\n",
       "      <td>arxiv/pdf/1009.1049v1.pdf</td>\n",
       "      <td>2</td>\n",
       "      <td>NaN</td>\n",
       "      <td>NaN</td>\n",
       "      <td>to the biological system. When the students we...</td>\n",
       "      <td>o remember and call out that \\(J\\) is the diff...</td>\n",
       "      <td>sion when you make a given change to the biolo...</td>\n",
       "      <td>s and facilitate quantitative reasoning for in...</td>\n",
       "    </tr>\n",
       "    <tr>\n",
       "      <th>3</th>\n",
       "      <td>arxiv/pdf/1009.1049v1.pdf</td>\n",
       "      <td>3</td>\n",
       "      <td>NaN</td>\n",
       "      <td>NaN</td>\n",
       "      <td>en 'this is t,' I can't do it. Like, it's just...</td>\n",
       "      <td>ngible, perceivable, and to put that in terms ...</td>\n",
       "      <td>thing through it, the thicker it is, obviously...</td>\n",
       "      <td>oving, underwater. Given these constraints, st...</td>\n",
       "    </tr>\n",
       "    <tr>\n",
       "      <th>4</th>\n",
       "      <td>arxiv/pdf/1011.0510v3.pdf</td>\n",
       "      <td>0</td>\n",
       "      <td>NaN</td>\n",
       "      <td>NaN</td>\n",
       "      <td># Theory Of Cooperation In A Micro-Organismal ...</td>\n",
       "      <td># Theory of cooperation in a micro-organism sn...</td>\n",
       "      <td>Theory of cooperation in a micro-organismal sn...</td>\n",
       "      <td>NaN</td>\n",
       "    </tr>\n",
       "  </tbody>\n",
       "</table>\n",
       "</div>"
      ],
      "text/plain": [
       "                        path  page  grobid html  \\\n",
       "0  arxiv/pdf/1009.1049v1.pdf     0     NaN  NaN   \n",
       "1  arxiv/pdf/1009.1049v1.pdf     1     NaN  NaN   \n",
       "2  arxiv/pdf/1009.1049v1.pdf     2     NaN  NaN   \n",
       "3  arxiv/pdf/1009.1049v1.pdf     3     NaN  NaN   \n",
       "4  arxiv/pdf/1011.0510v3.pdf     0     NaN  NaN   \n",
       "\n",
       "                                              marker  \\\n",
       "0  # Understanding How Students Use Physical Idea...   \n",
       "1  nted that student views about physics knowledg...   \n",
       "2  to the biological system. When the students we...   \n",
       "3  en 'this is t,' I can't do it. Like, it's just...   \n",
       "4  # Theory Of Cooperation In A Micro-Organismal ...   \n",
       "\n",
       "                                              nougat  \\\n",
       "0  # Understanding How Students Use Physical Idea...   \n",
       "1   kinds of knowledge and learning their courses...   \n",
       "2  o remember and call out that \\(J\\) is the diff...   \n",
       "3  ngible, perceivable, and to put that in terms ...   \n",
       "4  # Theory of cooperation in a micro-organism sn...   \n",
       "\n",
       "                                             pymupdf  \\\n",
       "0  Understanding How Students Use Physical Ideas ...   \n",
       "1  In physics education, researchers have documen...   \n",
       "2  sion when you make a given change to the biolo...   \n",
       "3  thing through it, the thicker it is, obviously...   \n",
       "4  Theory of cooperation in a micro-organismal sn...   \n",
       "\n",
       "                                               pypdf  \n",
       "0               Understanding How Students Use Ph...  \n",
       "1  iplines, (2)                    kinds of knowl...  \n",
       "2  s and facilitate quantitative reasoning for in...  \n",
       "3  oving, underwater. Given these constraints, st...  \n",
       "4                                                NaN  "
      ]
     },
     "execution_count": 19,
     "metadata": {},
     "output_type": "execute_result"
    }
   ],
   "source": [
    "df_cleaned.head()"
   ]
  },
  {
   "cell_type": "code",
   "execution_count": null,
   "id": "67de71ec-76e5-40e2-b8d4-0526ae748cac",
   "metadata": {},
   "outputs": [],
   "source": []
  }
 ],
 "metadata": {
  "kernelspec": {
   "display_name": "bo",
   "language": "python",
   "name": "bo"
  },
  "language_info": {
   "codemirror_mode": {
    "name": "ipython",
    "version": 3
   },
   "file_extension": ".py",
   "mimetype": "text/x-python",
   "name": "python",
   "nbconvert_exporter": "python",
   "pygments_lexer": "ipython3",
   "version": "3.11.9"
  }
 },
 "nbformat": 4,
 "nbformat_minor": 5
}
