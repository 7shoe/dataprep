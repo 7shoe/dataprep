{
 "cells": [
  {
   "cell_type": "code",
   "execution_count": 1,
   "id": "5d0b2446-5bde-41f3-a9c5-c0f23a0f92d2",
   "metadata": {},
   "outputs": [],
   "source": [
    "from datatable import TextScoreTable, ParallelTextScoreTable"
   ]
  },
  {
   "cell_type": "markdown",
   "id": "beedcfe1-3bf2-4b5e-934f-8bc7576deeaa",
   "metadata": {},
   "source": [
    "## Script that tests TextScoreTable \n",
    "- renaming of previous `ParallelTextScoreTable` to `TextScoreTable` may have occured"
   ]
  },
  {
   "cell_type": "code",
   "execution_count": 2,
   "id": "57b0b2d5-40e2-408c-be32-329104872a67",
   "metadata": {},
   "outputs": [
    {
     "name": "stdout",
     "output_type": "stream",
     "text": [
      "DF loaded...\n",
      "25398 rows\n",
      "... 25071 after removing NANs\n",
      "n=500 ... Only use first n rows.\n"
     ]
    }
   ],
   "source": [
    "tst = TextScoreTable(n=500, db_dst_filename='test1.csv')"
   ]
  },
  {
   "cell_type": "code",
   "execution_count": 3,
   "id": "094c0c9c-5484-4d63-adbb-7ab99d1e27ae",
   "metadata": {},
   "outputs": [
    {
     "name": "stdout",
     "output_type": "stream",
     "text": [
      "CPU times: user 2min 39s, sys: 30 ms, total: 2min 39s\n",
      "Wall time: 2min 39s\n"
     ]
    }
   ],
   "source": [
    "%%time\n",
    "tst.compute_metrics()"
   ]
  },
  {
   "cell_type": "code",
   "execution_count": 4,
   "id": "57734dec-7e35-4df2-9b6e-d923f8a2cc35",
   "metadata": {},
   "outputs": [
    {
     "name": "stdout",
     "output_type": "stream",
     "text": [
      "DF loaded...\n",
      "25398 rows\n",
      "... 25071 after removing NANs\n",
      "n=500 ... Only use first n rows.\n"
     ]
    }
   ],
   "source": [
    "tst2 = ParallelTextScoreTable(n=500, db_dst_filename='test2.csv')"
   ]
  },
  {
   "cell_type": "code",
   "execution_count": null,
   "id": "eacfdea3-8206-4106-b386-642c753566e5",
   "metadata": {},
   "outputs": [],
   "source": [
    "%%time\n",
    "tst2.compute_metrics()"
   ]
  },
  {
   "cell_type": "code",
   "execution_count": null,
   "id": "593b5138-04f3-457e-9d83-466a330845d3",
   "metadata": {},
   "outputs": [],
   "source": [
    "tst.load_table()"
   ]
  },
  {
   "cell_type": "code",
   "execution_count": null,
   "id": "f9b21b4d-6658-454d-b0fe-df53cb3667bd",
   "metadata": {},
   "outputs": [],
   "source": [
    "# Plotting histograms of BLEU scores\n",
    "plt.figure(figsize=(10, 6))\n",
    "\n",
    "# Histogram for bleu_nougat\n",
    "plt.hist(df_proc['bleu_nougat'], bins=30, alpha=0.5, label='BLEU Nougat', density=True)\n",
    "plt.hist(df_proc['bleu_pymupdf'], bins=30, alpha=0.5, label='BLEU PyMuPDF', density=True)\n",
    "\n",
    "# Adding titles and labels\n",
    "plt.title('Histogram of BLEU Scores for Nougat and PyMuPDF ($n = 5000$)')\n",
    "plt.xlabel('BLEU Score')\n",
    "plt.ylabel('Frequency')\n",
    "plt.legend(loc='upper right')\n",
    "\n",
    "# Show plot\n",
    "plt.show()"
   ]
  },
  {
   "cell_type": "code",
   "execution_count": null,
   "id": "dcc8f071-e6b2-4162-8b5f-929c6eff498d",
   "metadata": {},
   "outputs": [],
   "source": [
    "# Plotting histograms of BLEU scores\n",
    "plt.figure(figsize=(10, 6))\n",
    "\n",
    "# Histogram for bleu_nougat\n",
    "plt.hist(df_proc['bleu_nougat_norm'], bins=30, alpha=0.5, label='BLEU Nougat', density=True)\n",
    "plt.hist(df_proc['bleu_pymupdf'], bins=30, alpha=0.5, label='BLEU PyMuPDF', density=True)\n",
    "\n",
    "# Adding titles and labels\n",
    "plt.title('Histogram of BLEU Scores for Nougat and PyMuPDF ($n = 5000$)')\n",
    "plt.xlabel('BLEU Score')\n",
    "plt.ylabel('Frequency')\n",
    "plt.legend(loc='upper right')\n",
    "\n",
    "# Show plot\n",
    "plt.show()"
   ]
  },
  {
   "cell_type": "code",
   "execution_count": null,
   "id": "dfe6398b-d9bc-4879-b043-6afea14d6523",
   "metadata": {},
   "outputs": [],
   "source": [
    "print(df_proc.loc[210]['nougat'])"
   ]
  },
  {
   "cell_type": "code",
   "execution_count": null,
   "id": "84d71ca7-2eee-464a-9dba-dcd16e90973b",
   "metadata": {},
   "outputs": [],
   "source": []
  }
 ],
 "metadata": {
  "kernelspec": {
   "display_name": "bo",
   "language": "python",
   "name": "bo"
  },
  "language_info": {
   "codemirror_mode": {
    "name": "ipython",
    "version": 3
   },
   "file_extension": ".py",
   "mimetype": "text/x-python",
   "name": "python",
   "nbconvert_exporter": "python",
   "pygments_lexer": "ipython3",
   "version": "3.11.9"
  }
 },
 "nbformat": 4,
 "nbformat_minor": 5
}
