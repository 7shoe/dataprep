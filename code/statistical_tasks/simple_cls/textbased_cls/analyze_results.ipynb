{
 "cells": [
  {
   "cell_type": "code",
   "execution_count": 1,
   "id": "7ca51df0-b46a-420b-a948-02be81afb97b",
   "metadata": {},
   "outputs": [
    {
     "name": "stderr",
     "output_type": "stream",
     "text": [
      "/eagle/projects/tpc/siebenschuh/envs_/dpo/lib/python3.11/site-packages/sentence_transformers/cross_encoder/CrossEncoder.py:13: TqdmExperimentalWarning: Using `tqdm.autonotebook.tqdm` in notebook mode. Use `tqdm.tqdm` instead to force console mode (e.g. in jupyter console)\n",
      "  from tqdm.autonotebook import tqdm, trange\n"
     ]
    }
   ],
   "source": [
    "import pandas as pd\n",
    "from pathlib import Path\n",
    "import os\n",
    "import numpy as np\n",
    "from data import load_data, process_data"
   ]
  },
  {
   "cell_type": "markdown",
   "id": "2c572d98-698b-45dc-ad3d-2002bd65bbbd",
   "metadata": {},
   "source": [
    "### Debug `load_data`"
   ]
  },
  {
   "cell_type": "code",
   "execution_count": 34,
   "id": "f4dece5c-eec1-4026-bdc0-840b3ba59f28",
   "metadata": {},
   "outputs": [],
   "source": [
    "p = Path('./performance/')\n",
    "\n",
    "df_reg_list = [pd.read_csv(p / f, sep='|') for f in os.listdir(p)]\n",
    "\n",
    "df_reg_merged = pd.concat(df_reg_list, ignore_index=True)"
   ]
  },
  {
   "cell_type": "code",
   "execution_count": 35,
   "id": "d3cb9a06-9899-41e7-a3bc-b96bc49b65b2",
   "metadata": {},
   "outputs": [
    {
     "data": {
      "text/plain": [
       "{'knn', 'lasso', nan, 'ridge'}"
      ]
     },
     "execution_count": 35,
     "metadata": {},
     "output_type": "execute_result"
    }
   ],
   "source": [
    "set(df_reg_merged['model'])"
   ]
  },
  {
   "cell_type": "code",
   "execution_count": 40,
   "id": "cf5744c1-b95f-459e-bae4-67fcf0e44624",
   "metadata": {},
   "outputs": [
    {
     "data": {
      "text/plain": [
       "{1.0}"
      ]
     },
     "execution_count": 40,
     "metadata": {},
     "output_type": "execute_result"
    }
   ],
   "source": [
    "set(df_reg_merged[df_reg_merged['model']=='knn']['acc'])"
   ]
  },
  {
   "cell_type": "code",
   "execution_count": 45,
   "id": "31307869-f458-4ad9-847a-80662cfeaa50",
   "metadata": {},
   "outputs": [
    {
     "data": {
      "text/plain": [
       "{1.0, nan, nan}"
      ]
     },
     "execution_count": 45,
     "metadata": {},
     "output_type": "execute_result"
    }
   ],
   "source": [
    "set(df_reg_merged['rir'])"
   ]
  },
  {
   "cell_type": "code",
   "execution_count": 61,
   "id": "0051cf98-6a63-4dec-9013-30f6e75f707b",
   "metadata": {},
   "outputs": [],
   "source": [
    "\n",
    "def goodput(y_gt, y_pred):\n",
    "    \"\"\"\n",
    "    Goodput (1 if best was chosen 0 otherwise)\n",
    "    \"\"\"\n",
    "\n",
    "    # DEBUG\n",
    "    print('type(y_gt)  : ', type(y_gt))\n",
    "    print('type(y_pred): ', type(y_pred))\n",
    "    \n",
    "    # convert\n",
    "    y_gt = np.array(y_gt)\n",
    "    y_pred = np.array(y_pred)\n",
    "    \n",
    "    # compare choices\n",
    "    #pred_choice = y_pred.argmax(axis=1)\n",
    "    #act_score = y_gt[np.arange(len(y_gt)), pred_choice]\n",
    "    #max_values = np.array(y_gt).max(axis=1)\n",
    "    \n",
    "    return float(np.mean(y_pred.argmax(axis=1) == y_gt.argmax(axis=1)))"
   ]
  },
  {
   "cell_type": "code",
   "execution_count": 62,
   "id": "950eb2ad-8d04-4bd9-9ca0-5e5df1af1712",
   "metadata": {},
   "outputs": [],
   "source": [
    "y_gt = np.array([0.2, 0.5, 0.1]).reshape(-1)\n",
    "y_pred = np.array([0.4, 0.1, 0.3]).reshape(-1)"
   ]
  },
  {
   "cell_type": "code",
   "execution_count": 63,
   "id": "95f8b467-5881-4adf-aa8c-8bde9b01f218",
   "metadata": {},
   "outputs": [
    {
     "name": "stdout",
     "output_type": "stream",
     "text": [
      "type(y_gt)  :  <class 'numpy.ndarray'>\n",
      "type(y_pred):  <class 'numpy.ndarray'>\n"
     ]
    },
    {
     "ename": "AxisError",
     "evalue": "axis 1 is out of bounds for array of dimension 1",
     "output_type": "error",
     "traceback": [
      "\u001b[0;31m---------------------------------------------------------------------------\u001b[0m",
      "\u001b[0;31mAxisError\u001b[0m                                 Traceback (most recent call last)",
      "Cell \u001b[0;32mIn[63], line 1\u001b[0m\n\u001b[0;32m----> 1\u001b[0m \u001b[43mgoodput\u001b[49m\u001b[43m(\u001b[49m\u001b[43my_gt\u001b[49m\u001b[43m,\u001b[49m\u001b[43my_pred\u001b[49m\u001b[43m)\u001b[49m\n",
      "Cell \u001b[0;32mIn[61], line 15\u001b[0m, in \u001b[0;36mgoodput\u001b[0;34m(y_gt, y_pred)\u001b[0m\n\u001b[1;32m     12\u001b[0m y_pred \u001b[38;5;241m=\u001b[39m np\u001b[38;5;241m.\u001b[39marray(y_pred)\n\u001b[1;32m     14\u001b[0m \u001b[38;5;66;03m# compare choices\u001b[39;00m\n\u001b[0;32m---> 15\u001b[0m pred_choice \u001b[38;5;241m=\u001b[39m \u001b[43my_pred\u001b[49m\u001b[38;5;241;43m.\u001b[39;49m\u001b[43margmax\u001b[49m\u001b[43m(\u001b[49m\u001b[43maxis\u001b[49m\u001b[38;5;241;43m=\u001b[39;49m\u001b[38;5;241;43m1\u001b[39;49m\u001b[43m)\u001b[49m\n\u001b[1;32m     16\u001b[0m act_score \u001b[38;5;241m=\u001b[39m y_gt[np\u001b[38;5;241m.\u001b[39marange(\u001b[38;5;28mlen\u001b[39m(y_gt)), pred_choice]\n\u001b[1;32m     17\u001b[0m max_values \u001b[38;5;241m=\u001b[39m np\u001b[38;5;241m.\u001b[39marray(y_gt)\u001b[38;5;241m.\u001b[39mmax(axis\u001b[38;5;241m=\u001b[39m\u001b[38;5;241m1\u001b[39m)\n",
      "\u001b[0;31mAxisError\u001b[0m: axis 1 is out of bounds for array of dimension 1"
     ]
    }
   ],
   "source": [
    "goodput(y_gt,y_pred)"
   ]
  },
  {
   "cell_type": "code",
   "execution_count": null,
   "id": "aa5797c7-f55b-4da2-ab44-a4dc45248e0f",
   "metadata": {},
   "outputs": [],
   "source": []
  }
 ],
 "metadata": {
  "kernelspec": {
   "display_name": "dpo",
   "language": "python",
   "name": "dpo"
  },
  "language_info": {
   "codemirror_mode": {
    "name": "ipython",
    "version": 3
   },
   "file_extension": ".py",
   "mimetype": "text/x-python",
   "name": "python",
   "nbconvert_exporter": "python",
   "pygments_lexer": "ipython3",
   "version": "3.11.9"
  }
 },
 "nbformat": 4,
 "nbformat_minor": 5
}
