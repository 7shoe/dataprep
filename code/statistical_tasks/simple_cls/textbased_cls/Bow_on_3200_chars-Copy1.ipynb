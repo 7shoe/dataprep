{
 "cells": [
  {
   "cell_type": "code",
   "execution_count": 1,
   "id": "cb747486-0048-4642-bbef-e3a9d5828081",
   "metadata": {},
   "outputs": [],
   "source": [
    "from pathlib import Path\n",
    "import pandas as pd\n",
    "import sys\n",
    "import os\n",
    "from tqdm import tqdm\n",
    "import time\n",
    "\n",
    "from sklearn.model_selection import train_test_split\n",
    "from sklearn.feature_extraction.text import CountVectorizer\n",
    "from sklearn.multioutput import MultiOutputRegressor\n",
    "from sklearn.ensemble import RandomForestRegressor\n",
    "from sklearn.metrics import mean_squared_error, r2_score\n",
    "\n",
    "# source of data_utils\n",
    "sys.path.append(os.path.join('/home/siebenschuh/Projects/dataprep/code/DPO'))\n",
    "\n",
    "from data_utils import compile_DatasetFrames"
   ]
  },
  {
   "cell_type": "markdown",
   "id": "ba49c0f7-39e9-4ec0-b10b-e056296dde47",
   "metadata": {},
   "source": [
    "## Script: Identify the most simplistic text-based classifier (that doesn't require LLM embeddings)\n",
    "A set of approaches:\n",
    "- *Bag of Words (BoW)*:\n",
    "- *N-gram*:\n",
    "- *fasttext*: embeddings for words\n",
    "\n",
    "#### Important: train and test on the problem at hand (not aux. statistical problems)\n",
    "- nobody has the attention span anymore\n",
    "\n",
    "# Load Data\n",
    "Use subset of `text` as input `[:3200]` and attempt to predict `bleu_pymupdf`, `bleu_nougat`, and `bleu_marker` from it"
   ]
  },
  {
   "cell_type": "code",
   "execution_count": 2,
   "id": "11cc36ca-d65a-49e5-8b5a-4a3a262fd657",
   "metadata": {},
   "outputs": [
    {
     "name": "stdout",
     "output_type": "stream",
     "text": [
      "\n",
      "Load pre-defined split...\n",
      "\n",
      "Train-Val Overlap: 0\n",
      "Train-Test Overlap: 0\n",
      "Val-Test Overlap: 0\n",
      "df_train, df_test, df_val\n"
     ]
    }
   ],
   "source": [
    "# path constants\n",
    "p_embeddings_root_dir = Path('/lus/eagle/projects/argonne_tpc/siebenschuh/aurora_gpt/embeddings/emb_by_model')\n",
    "p_response_csv_path = Path('/lus/eagle/projects/argonne_tpc/siebenschuh/aurora_gpt/database/parser_metrics_without_text_output.csv')\n",
    "parser = 'pymupdf'\n",
    "normalized = False\n",
    "predefined_split = True\n",
    "p_split_yaml_path = Path('/home/siebenschuh/Projects/dataprep/code/DPO/meta_split/pymupdf.yaml')\n",
    "\n",
    "# compile the dataset frames (train/val/test) using `compile_DatasetFrames`\n",
    "df_train, df_test, df_val = compile_DatasetFrames(\n",
    "    p_embeddings=p_embeddings_root_dir,\n",
    "    p_response=p_response_csv_path,\n",
    "    parser=parser,\n",
    "    normalized=normalized,\n",
    "    predefined_split=predefined_split,\n",
    "    p_split_yaml_path=p_split_yaml_path\n",
    ")"
   ]
  },
  {
   "cell_type": "markdown",
   "id": "731993f9-1801-48d9-bb4c-8fd041ecf618",
   "metadata": {},
   "source": [
    "# 1. BoW Approach"
   ]
  },
  {
   "cell_type": "code",
   "execution_count": null,
   "id": "7c72af30-06c3-4bde-a908-24c51891f3fd",
   "metadata": {},
   "outputs": [],
   "source": [
    "%%time\n",
    "\n",
    "# Record start time\n",
    "start_time = time.time()\n",
    "\n",
    "# max number of chars\n",
    "n_max_chars = 600\n",
    "n_rows = 15000\n",
    "\n",
    "# subset\n",
    "df_train = df_train.loc[0:n_rows,:]\n",
    "\n",
    "# format data\n",
    "# - raw X\n",
    "X_train = df_train['text'].str[:n_max_chars]\n",
    "X_val = df_val['text'].str[:n_max_chars]\n",
    "# - process X\n",
    "vectorizer = CountVectorizer(max_features=100)  # Adjust max_features as needed\n",
    "X_train_vec = vectorizer.fit_transform(X_train)\n",
    "X_val_vec = vectorizer.transform(X_val)\n",
    "# - y\n",
    "y_train = df_train[['bleu_marker', 'bleu_nougat', 'bleu_pymupdf']]\n",
    "y_val = df_val[['bleu_marker', 'bleu_nougat', 'bleu_pymupdf']]\n",
    "\n",
    "# init model\n",
    "model = MultiOutputRegressor(RandomForestRegressor(n_estimators=100, random_state=42))\n",
    "\n",
    "# fit the model\n",
    "model.fit(X_train_vec, y_train)\n",
    "\n",
    "# predict on the validation set\n",
    "y_pred = model.predict(X_val_vec)\n",
    "\n",
    "# calculate MSE\n",
    "mse = mean_squared_error(y_val, y_pred, multioutput='raw_values')\n",
    "print(\"MSE:\", mse)\n",
    "\n",
    "# Calculate R²\n",
    "r2 = r2_score(y_val, y_pred, multioutput='raw_values')\n",
    "df_val['R2_pymupdf'], df_val['R2_nougat'], df_val['R2_marker'] = r2\n",
    "print(\"R²:\", r2)\n",
    "\n",
    "# Calculate RMSE\n",
    "rmse = np.sqrt(mse)\n",
    "df_val['rmse_pymupdf'], df_val['rmse_nougat'], df_val['rmse_marker'] = rmse\n",
    "print(\"RMSE:\", rmse)\n",
    "\n",
    "# Record end time and calculate duration\n",
    "end_time = time.time()\n",
    "training_duration = end_time - start_time\n",
    "\n",
    "# Create DataFrame to store metrics\n",
    "df_pred_metrics = pd.DataFrame({\n",
    "    'name': ['bow'],\n",
    "    'n_max_char': [n_max_chars],\n",
    "    'N': [len(X_train)],\n",
    "    'training_duration': [training_duration],\n",
    "    'MSE_pymupdf': [mse[2]],\n",
    "    'MSE_nougat': [mse[1]],\n",
    "    'MSE_marker': [mse[0]],\n",
    "    'R2_pymupdf': [r2[2]],\n",
    "    'R2_nougat': [r2[1]],\n",
    "    'R2_marker': [r2[0]],\n",
    "    'RMSE_pymupdf': [rmse[2]],\n",
    "    'RMSE_nougat': [rmse[1]],\n",
    "    'RMSE_marker': [rmse[0]]\n",
    "})\n",
    "\n",
    "# Print the resulting DataFrame\n",
    "print(df_pred_metrics)"
   ]
  },
  {
   "cell_type": "code",
   "execution_count": null,
   "id": "c0e159bf-d4b1-45d9-9de9-9b55149ad797",
   "metadata": {},
   "outputs": [],
   "source": [
    "y_pred"
   ]
  },
  {
   "cell_type": "code",
   "execution_count": null,
   "id": "12b4b7f2-c774-4f30-9b70-87c05269324e",
   "metadata": {},
   "outputs": [],
   "source": []
  },
  {
   "cell_type": "code",
   "execution_count": null,
   "id": "dde878f4-f16f-4f40-a745-3e91159d48bc",
   "metadata": {},
   "outputs": [],
   "source": []
  }
 ],
 "metadata": {
  "kernelspec": {
   "display_name": "dpo",
   "language": "python",
   "name": "dpo"
  },
  "language_info": {
   "codemirror_mode": {
    "name": "ipython",
    "version": 3
   },
   "file_extension": ".py",
   "mimetype": "text/x-python",
   "name": "python",
   "nbconvert_exporter": "python",
   "pygments_lexer": "ipython3",
   "version": "3.11.9"
  }
 },
 "nbformat": 4,
 "nbformat_minor": 5
}
