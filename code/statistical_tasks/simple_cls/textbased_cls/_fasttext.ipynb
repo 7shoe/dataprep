{
 "cells": [
  {
   "cell_type": "code",
   "execution_count": 41,
   "id": "6b21868e-c16a-4e91-b825-4f9fb4e03587",
   "metadata": {},
   "outputs": [
    {
     "ename": "ModuleNotFoundError",
     "evalue": "No module named 'matplotlib'",
     "output_type": "error",
     "traceback": [
      "\u001b[0;31m---------------------------------------------------------------------------\u001b[0m",
      "\u001b[0;31mModuleNotFoundError\u001b[0m                       Traceback (most recent call last)",
      "Cell \u001b[0;32mIn[41], line 17\u001b[0m\n\u001b[1;32m     14\u001b[0m \u001b[38;5;28;01mfrom\u001b[39;00m \u001b[38;5;21;01mvalidate\u001b[39;00m \u001b[38;5;28;01mimport\u001b[39;00m evaluate\n\u001b[1;32m     16\u001b[0m \u001b[38;5;28;01mfrom\u001b[39;00m \u001b[38;5;21;01mdata\u001b[39;00m \u001b[38;5;28;01mimport\u001b[39;00m load_data, process_data\n\u001b[0;32m---> 17\u001b[0m \u001b[38;5;28;01mfrom\u001b[39;00m \u001b[38;5;21;01mmatplotlib\u001b[39;00m \u001b[38;5;28;01mimport\u001b[39;00m pyplot \u001b[38;5;28;01mas\u001b[39;00m plt\n",
      "\u001b[0;31mModuleNotFoundError\u001b[0m: No module named 'matplotlib'"
     ]
    }
   ],
   "source": [
    "import fasttext\n",
    "\n",
    "import numpy as np\n",
    "from scipy.stats import uniform, randint\n",
    "import pandas as pd\n",
    "from pathlib import Path\n",
    "import json\n",
    "\n",
    "from sklearn.linear_model import Ridge\n",
    "from sklearn.model_selection import RandomizedSearchCV\n",
    "from sklearn.svm import SVC\n",
    "\n",
    "from model import train_model\n",
    "from validate import evaluate\n",
    "\n",
    "from data import load_data, process_data\n",
    "from matplotlib import pyplot as plt"
   ]
  },
  {
   "cell_type": "code",
   "execution_count": 39,
   "id": "9b5fb3e2-29b4-46cf-bb07-b98473049c33",
   "metadata": {},
   "outputs": [
    {
     "name": "stdout",
     "output_type": "stream",
     "text": [
      "Defaulting to user installation because normal site-packages is not writeable\n",
      "Requirement already satisfied: matplotlib in /soft/applications/miniconda3/conda_pytorch/lib/python3.12/site-packages (3.8.4)\n",
      "Requirement already satisfied: contourpy>=1.0.1 in /soft/applications/miniconda3/conda_pytorch/lib/python3.12/site-packages (from matplotlib) (1.2.0)\n",
      "Requirement already satisfied: cycler>=0.10 in /soft/applications/miniconda3/conda_pytorch/lib/python3.12/site-packages (from matplotlib) (0.12.1)\n",
      "Requirement already satisfied: fonttools>=4.22.0 in /soft/applications/miniconda3/conda_pytorch/lib/python3.12/site-packages (from matplotlib) (4.53.1)\n",
      "Requirement already satisfied: kiwisolver>=1.3.1 in /soft/applications/miniconda3/conda_pytorch/lib/python3.12/site-packages (from matplotlib) (1.4.4)\n",
      "Requirement already satisfied: numpy>=1.21 in /soft/applications/miniconda3/conda_pytorch/lib/python3.12/site-packages (from matplotlib) (1.26.4)\n",
      "Requirement already satisfied: packaging>=20.0 in /soft/applications/miniconda3/conda_pytorch/lib/python3.12/site-packages (from matplotlib) (23.2)\n",
      "Requirement already satisfied: pillow>=8 in /soft/applications/miniconda3/conda_pytorch/lib/python3.12/site-packages (from matplotlib) (10.3.0)\n",
      "Requirement already satisfied: pyparsing>=2.3.1 in /soft/applications/miniconda3/conda_pytorch/lib/python3.12/site-packages (from matplotlib) (3.0.9)\n",
      "Requirement already satisfied: python-dateutil>=2.7 in /soft/applications/miniconda3/conda_pytorch/lib/python3.12/site-packages (from matplotlib) (2.9.0)\n",
      "Requirement already satisfied: six>=1.5 in /soft/applications/miniconda3/conda_pytorch/lib/python3.12/site-packages (from python-dateutil>=2.7->matplotlib) (1.16.0)\n"
     ]
    }
   ],
   "source": [
    "!pip install matplotlib"
   ]
  },
  {
   "cell_type": "markdown",
   "id": "aa6a63c0-f0ad-4d37-bb09-4ddfffe30de4",
   "metadata": {},
   "source": [
    "## DATA"
   ]
  },
  {
   "cell_type": "code",
   "execution_count": 20,
   "id": "0dd5f3ae-6fe6-4d4f-a187-dc9c8596eee7",
   "metadata": {},
   "outputs": [
    {
     "data": {
      "text/plain": [
       "5120"
      ]
     },
     "execution_count": 20,
     "metadata": {},
     "output_type": "execute_result"
    }
   ],
   "source": [
    "# load data\n",
    "# exclude these: \n",
    "p = Path('/lus/eagle/projects/argonne_tpc/siebenschuh/aurora_gpt/strong_scaling/data/zip/latest_pdfs_zip_assignments/LATEST_zip_dict_16.json')\n",
    "with open(p, 'r') as f:\n",
    "    assign_dict = json.load(f)\n",
    "\n",
    "# to be excluded\n",
    "l_of_l = [assign_dict[k] for k in assign_dict.keys()]\n",
    "included_files = [f.split('/')[-1] for sub_list in l_of_l for f in sub_list]\n",
    "len(included_files)"
   ]
  },
  {
   "cell_type": "code",
   "execution_count": 21,
   "id": "8475f0f5-89aa-40f4-b706-7a9ddd3cc04b",
   "metadata": {},
   "outputs": [
    {
     "name": "stdout",
     "output_type": "stream",
     "text": [
      "\n",
      "Load pre-defined split...\n",
      "\n",
      "Train-Val Overlap: 0\n",
      "Train-Test Overlap: 0\n",
      "Val-Test Overlap: 0\n",
      "df_train, df_test, df_val\n",
      "Parser: pymupdf\n",
      "  Train rows: 19137\n",
      "  Test rows: 2882\n",
      "  Validation rows: 1376\n",
      "\n",
      "CPU times: user 3.32 s, sys: 2.14 s, total: 5.46 s\n",
      "Wall time: 5.47 s\n"
     ]
    }
   ],
   "source": [
    "%%time \n",
    "\n",
    "# Initialize empty lists to collect DataFrames\n",
    "df_train_list = []\n",
    "df_test_list = []\n",
    "df_val_list = []\n",
    "\n",
    "# List of parsers\n",
    "parsers = ['pymupdf']\n",
    "subsample_percentages = [1.0, 0.2, 0.2]\n",
    "\n",
    "# load data\n",
    "# exclude these: \n",
    "p = Path('/lus/eagle/projects/argonne_tpc/siebenschuh/aurora_gpt/strong_scaling/data/zip/latest_pdfs_zip_assignments/LATEST_zip_dict_16.json')\n",
    "with open(p, 'r') as f:\n",
    "    assign_dict = json.load(f)\n",
    "\n",
    "# to be excluded\n",
    "l_of_l = [assign_dict[k] for k in assign_dict.keys()]\n",
    "to_be_excluded_files = [f.split('/')[-1] for sub_list in l_of_l for f in sub_list]\n",
    "\n",
    "# load data for the current parser\n",
    "df_train, df_test, df_val = load_data(parser)\n",
    "\n",
    "# exclude strong scaling data by extracting 'file_name' from 'path'\n",
    "df_train['file_name'] = df_train['path'].str.split('/').str[-1]\n",
    "df_test['file_name'] = df_test['path'].str.split('/').str[-1]\n",
    "df_val['file_name'] = df_val['path'].str.split('/').str[-1]\n",
    "\n",
    "# print lengths of each of the three\n",
    "print(f'Parser: {parser}')\n",
    "print(f'  Train rows: {len(df_train)}')\n",
    "print(f'  Test rows: {len(df_test)}')\n",
    "print(f'  Validation rows: {len(df_val)}\\n')\n",
    "\n",
    "# Subset the DataFrames to exclude rows where 'file_name' is in 'included_files'\n",
    "df_train = df_train[~df_train['file_name'].isin(to_be_excluded_files)]\n",
    "df_test = df_test[~df_test['file_name'].isin(to_be_excluded_files)]\n",
    "df_val = df_val[~df_val['file_name'].isin(to_be_excluded_files)]"
   ]
  },
  {
   "cell_type": "code",
   "execution_count": 22,
   "id": "913c096e-7e35-4758-9b64-c2e9ee4eb9cb",
   "metadata": {},
   "outputs": [],
   "source": [
    "# MODEL\n",
    "task = 'reg'\n",
    "mode = 'fasttext'\n",
    "model = 'ridge'\n",
    "score = 'bleu'\n"
   ]
  },
  {
   "cell_type": "code",
   "execution_count": 24,
   "id": "d7f6fc00-def5-4369-b9c3-517f3615386e",
   "metadata": {},
   "outputs": [
    {
     "data": {
      "text/plain": [
       "Index(['text', 'path', 'title', 'authors', 'creationdate', 'keywords', 'doi',\n",
       "       'producer', 'format', 'first_page', 'abstract', 'bleu_nougat',\n",
       "       'rouge_nougat', 'car_nougat', 'bleu_nougat_norm', 'rouge_nougat_norm',\n",
       "       'car_nougat_norm', 'bleu_pymupdf', 'rouge_pymupdf', 'car_pymupdf',\n",
       "       'bleu_pymupdf_norm', 'rouge_pymupdf_norm', 'car_pymupdf_norm',\n",
       "       'bleu_grobid', 'rouge_grobid', 'car_grobid', 'bleu_grobid_norm',\n",
       "       'rouge_grobid_norm', 'car_grobid_norm', 'bleu_pypdf', 'rouge_pypdf',\n",
       "       'car_pypdf', 'bleu_pypdf_norm', 'rouge_pypdf_norm', 'car_pypdf_norm',\n",
       "       'bleu_marker', 'rouge_marker', 'car_marker', 'bleu_marker_norm',\n",
       "       'rouge_marker_norm', 'car_marker_norm', 'journal_cls', 'best_bleu_cls',\n",
       "       'best_bleu_norm_cls', 'best_rouge_cls', 'best_rouge_norm_cls',\n",
       "       'best_car_cls', 'best_car_norm_cls', 'file_name'],\n",
       "      dtype='object')"
      ]
     },
     "execution_count": 24,
     "metadata": {},
     "output_type": "execute_result"
    }
   ],
   "source": [
    "df_train.columns"
   ]
  },
  {
   "cell_type": "code",
   "execution_count": 23,
   "id": "f718359c-0fea-4f02-9973-c76d226452e6",
   "metadata": {},
   "outputs": [
    {
     "name": "stderr",
     "output_type": "stream",
     "text": [
      "Read 3M words\n",
      "Number of words:  43467\n",
      "Number of labels: 0\n",
      "Progress: 100.0% words/sec/thread:    1568 lr:  0.000000 avg.loss:  1.872119 ETA:   0h 0m 0s\n"
     ]
    },
    {
     "name": "stdout",
     "output_type": "stream",
     "text": [
      "(X_train_vec, y_train), (X_val_vec, y_val), (X_test_vec, y_test)\n"
     ]
    }
   ],
   "source": [
    "# process data\n",
    "# - X\n",
    "data_list = process_data(df_train, df_test, df_val, n_max_chars=1600, max_features=1500, score=score, mode=mode, parsers=['pymupdf', 'nougat'])\n",
    "(X_train, y_train), (X_val, y_val), (X_test, y_test) = data_list\n",
    "\n",
    "# - y\n",
    "y_score_list = [data_list[i][1] for i in range(len(data_list))]\n",
    "\n",
    "# tasks\n",
    "# - derive cls task\n",
    "y_train_cls = np.array(y_train).argmax(1).reshape(-1, 1)\n",
    "y_val_cls = np.array(y_val).argmax(1).reshape(-1, 1)\n",
    "y_test_cls = np.array(y_test).argmax(1).reshape(-1, 1)"
   ]
  },
  {
   "cell_type": "markdown",
   "id": "63199c33-188c-4fad-8627-1d6478370e4c",
   "metadata": {},
   "source": [
    "## Keep fix"
   ]
  },
  {
   "cell_type": "code",
   "execution_count": 25,
   "id": "45a336e3-5cb8-4895-854e-0393cd940056",
   "metadata": {},
   "outputs": [
    {
     "name": "stderr",
     "output_type": "stream",
     "text": [
      "/eagle/projects/tpc/siebenschuh/envs_/dpo/lib/python3.11/site-packages/sklearn/model_selection/_search.py:320: UserWarning: The total space of parameters 8 is smaller than n_iter=10. Running 8 iterations. For exhaustive searches, use GridSearchCV.\n",
      "  warnings.warn(\n",
      "/eagle/projects/tpc/siebenschuh/envs_/dpo/lib/python3.11/site-packages/sklearn/model_selection/_search.py:320: UserWarning: The total space of parameters 8 is smaller than n_iter=10. Running 8 iterations. For exhaustive searches, use GridSearchCV.\n",
      "  warnings.warn(\n"
     ]
    }
   ],
   "source": [
    "all_df_metrics = []\n",
    "\n",
    "# TRAINING\n",
    "# - train\n",
    "trained_model = train_model(model, X_train, y_train)\n",
    "\n",
    "# INFO\n",
    "info = {'mode': mode, 'model': model, 'score': score, 'parser': parser, 'task': task}\n",
    "\n",
    "# - evaluate\n",
    "out = evaluate(trained_model, data_list, y_score_list, info, parsers)\n",
    "\n",
    "# append\n",
    "all_df_metrics.append({'metrics' : out, 'model' : model})"
   ]
  },
  {
   "cell_type": "markdown",
   "id": "514cb233-d668-4698-978e-64a068300d47",
   "metadata": {},
   "source": [
    "## MODEL"
   ]
  },
  {
   "cell_type": "code",
   "execution_count": 26,
   "id": "92038e48-68bd-434f-87c5-32641e031242",
   "metadata": {},
   "outputs": [
    {
     "data": {
      "text/html": [
       "<div>\n",
       "<style scoped>\n",
       "    .dataframe tbody tr th:only-of-type {\n",
       "        vertical-align: middle;\n",
       "    }\n",
       "\n",
       "    .dataframe tbody tr th {\n",
       "        vertical-align: top;\n",
       "    }\n",
       "\n",
       "    .dataframe thead th {\n",
       "        text-align: right;\n",
       "    }\n",
       "</style>\n",
       "<table border=\"1\" class=\"dataframe\">\n",
       "  <thead>\n",
       "    <tr style=\"text-align: right;\">\n",
       "      <th></th>\n",
       "      <th>mode</th>\n",
       "      <th>model</th>\n",
       "      <th>score</th>\n",
       "      <th>parser</th>\n",
       "      <th>task</th>\n",
       "      <th>subset</th>\n",
       "      <th>r2</th>\n",
       "      <th>rmse</th>\n",
       "      <th>rmae</th>\n",
       "      <th>rir</th>\n",
       "      <th>acc</th>\n",
       "      <th>r2_pymupdf</th>\n",
       "      <th>rmse_pymupdf</th>\n",
       "      <th>rmae_pymupdf</th>\n",
       "      <th>n</th>\n",
       "    </tr>\n",
       "  </thead>\n",
       "  <tbody>\n",
       "    <tr>\n",
       "      <th>0</th>\n",
       "      <td>fasttext</td>\n",
       "      <td>ridge</td>\n",
       "      <td>bleu</td>\n",
       "      <td>pymupdf</td>\n",
       "      <td>reg</td>\n",
       "      <td>train</td>\n",
       "      <td>0.458508</td>\n",
       "      <td>0.139720</td>\n",
       "      <td>0.320708</td>\n",
       "      <td>0.928704</td>\n",
       "      <td>0.569796</td>\n",
       "      <td>0.376680</td>\n",
       "      <td>0.160631</td>\n",
       "      <td>0.344181</td>\n",
       "      <td>16190</td>\n",
       "    </tr>\n",
       "    <tr>\n",
       "      <th>1</th>\n",
       "      <td>fasttext</td>\n",
       "      <td>ridge</td>\n",
       "      <td>bleu</td>\n",
       "      <td>pymupdf</td>\n",
       "      <td>reg</td>\n",
       "      <td>val</td>\n",
       "      <td>0.245811</td>\n",
       "      <td>0.164032</td>\n",
       "      <td>0.355629</td>\n",
       "      <td>0.931030</td>\n",
       "      <td>0.569075</td>\n",
       "      <td>0.308822</td>\n",
       "      <td>0.160061</td>\n",
       "      <td>0.355803</td>\n",
       "      <td>789</td>\n",
       "    </tr>\n",
       "    <tr>\n",
       "      <th>2</th>\n",
       "      <td>fasttext</td>\n",
       "      <td>ridge</td>\n",
       "      <td>bleu</td>\n",
       "      <td>pymupdf</td>\n",
       "      <td>reg</td>\n",
       "      <td>test</td>\n",
       "      <td>-0.034285</td>\n",
       "      <td>0.173638</td>\n",
       "      <td>0.368612</td>\n",
       "      <td>0.935256</td>\n",
       "      <td>0.562500</td>\n",
       "      <td>0.011859</td>\n",
       "      <td>0.156657</td>\n",
       "      <td>0.352913</td>\n",
       "      <td>1296</td>\n",
       "    </tr>\n",
       "  </tbody>\n",
       "</table>\n",
       "</div>"
      ],
      "text/plain": [
       "       mode  model score   parser task subset        r2      rmse      rmae  \\\n",
       "0  fasttext  ridge  bleu  pymupdf  reg  train  0.458508  0.139720  0.320708   \n",
       "1  fasttext  ridge  bleu  pymupdf  reg    val  0.245811  0.164032  0.355629   \n",
       "2  fasttext  ridge  bleu  pymupdf  reg   test -0.034285  0.173638  0.368612   \n",
       "\n",
       "        rir       acc  r2_pymupdf  rmse_pymupdf  rmae_pymupdf      n  \n",
       "0  0.928704  0.569796    0.376680      0.160631      0.344181  16190  \n",
       "1  0.931030  0.569075    0.308822      0.160061      0.355803    789  \n",
       "2  0.935256  0.562500    0.011859      0.156657      0.352913   1296  "
      ]
     },
     "execution_count": 26,
     "metadata": {},
     "output_type": "execute_result"
    }
   ],
   "source": [
    "# load data\n",
    "out"
   ]
  },
  {
   "cell_type": "code",
   "execution_count": 53,
   "id": "2da4ffa6-b7da-4f83-b607-b3a15a1338c0",
   "metadata": {},
   "outputs": [
    {
     "data": {
      "text/plain": [
       "sklearn.multioutput.MultiOutputRegressor"
      ]
     },
     "execution_count": 53,
     "metadata": {},
     "output_type": "execute_result"
    }
   ],
   "source": [
    "# save model\n",
    "type(trained_model)"
   ]
  },
  {
   "cell_type": "code",
   "execution_count": 52,
   "id": "b1f9a203-9c15-4857-86e0-c7ab5028c44d",
   "metadata": {},
   "outputs": [
    {
     "data": {
      "text/plain": [
       "np.float64(0.016244595429277333)"
      ]
     },
     "execution_count": 52,
     "metadata": {},
     "output_type": "execute_result"
    }
   ],
   "source": [
    "predictions = trained_model.predict(X_train)\n",
    "row_wise_differences = predictions[:, 0] - predictions[:, 1]\n",
    "threshold = 0.05\n",
    "exceeding_indices = np.where(row_wise_differences > threshold, 1, 0)\n",
    "\n",
    "np.mean(exceeding_indices)"
   ]
  },
  {
   "cell_type": "code",
   "execution_count": 31,
   "id": "88f2cac4-73d8-47d7-8090-6a85e6fb8b55",
   "metadata": {},
   "outputs": [
    {
     "name": "stdout",
     "output_type": "stream",
     "text": [
      "Indices where threshold is exceeded: 5059\n"
     ]
    }
   ],
   "source": [
    "# Assuming `predictions` is the array returned by `trained_model.predict(X_train)`\n",
    "predictions = trained_model.predict(X_train)\n",
    "threshold = 0.5\n",
    "exceeding_indices = np.where(np.any(row_wise_differences > threshold, axis=1))[0]\n",
    "\n",
    "print(\"Indices where threshold is exceeded:\", len(exceeding_indices))"
   ]
  },
  {
   "cell_type": "code",
   "execution_count": 63,
   "id": "51907b5a-88a7-41e2-85fb-361d3362e982",
   "metadata": {},
   "outputs": [
    {
     "name": "stdout",
     "output_type": "stream",
     "text": [
      "Model saved to /lus/eagle/projects/argonne_tpc/siebenschuh/aurora_gpt/model_weights/scikit_pred/multioutput_model.pkl\n"
     ]
    },
    {
     "data": {
      "text/plain": [
       "array([[0.4504497 , 0.44716   ],\n",
       "       [0.45007408, 0.44793683],\n",
       "       [0.4570262 , 0.4821627 ],\n",
       "       ...,\n",
       "       [0.52012384, 0.50316215],\n",
       "       [0.48782963, 0.48362923],\n",
       "       [0.35260308, 0.39054576]], dtype=float32)"
      ]
     },
     "execution_count": 63,
     "metadata": {},
     "output_type": "execute_result"
    }
   ],
   "source": [
    "import joblib\n",
    "import os\n",
    "\n",
    "def save_model(model, save_path):\n",
    "    \"\"\"Saves a scikit-learn model to the specified path.\"\"\"\n",
    "    os.makedirs(os.path.dirname(save_path), exist_ok=True)  # Ensure the directory exists\n",
    "    joblib.dump(model, save_path)\n",
    "    print(f\"Model saved to {save_path}\")\n",
    "\n",
    "def load_model(load_path):\n",
    "    \"\"\"Loads a scikit-learn model from the specified path.\"\"\"\n",
    "    if not os.path.exists(load_path):\n",
    "        raise FileNotFoundError(f\"No model found at {load_path}\")\n",
    "    return joblib.load(load_path)\n",
    "\n",
    "# Example usage\n",
    "save_path = '/lus/eagle/projects/argonne_tpc/siebenschuh/aurora_gpt/model_weights/scikit_pred/multioutput_model.pkl'\n",
    "save_model(trained_model, save_path)\n",
    "\n",
    "# PREDICTIONS\n",
    "\n",
    "# Later when loading the model\n",
    "loaded_model = load_model(save_path)\n",
    "preds = loaded_model.predict(X_train)\n",
    "\n",
    "preds"
   ]
  },
  {
   "cell_type": "code",
   "execution_count": 72,
   "id": "57a728de-4366-4dfc-a3db-0c2bc0b0971d",
   "metadata": {},
   "outputs": [
    {
     "data": {
      "text/plain": [
       "numpy.ndarray"
      ]
     },
     "execution_count": 72,
     "metadata": {},
     "output_type": "execute_result"
    }
   ],
   "source": [
    "type(X_train)"
   ]
  },
  {
   "cell_type": "code",
   "execution_count": null,
   "id": "b313a265-a6c4-4524-bea5-bb3a9a3c305c",
   "metadata": {},
   "outputs": [],
   "source": [
    "def load_model(load_path):\n",
    "    \"\"\"Loads a scikit-learn model from the specified path.\"\"\"\n",
    "    if not os.path.exists(load_path):\n",
    "        raise FileNotFoundError(f\"No model found at {load_path}\")\n",
    "    return joblib.load(load_path)\n",
    "loaded_model = load_model(save_path)"
   ]
  },
  {
   "cell_type": "code",
   "execution_count": 71,
   "id": "5a23c4d4-35eb-4578-9d13-5dbea576f590",
   "metadata": {},
   "outputs": [
    {
     "data": {
      "text/plain": [
       "array([5525, 5958])"
      ]
     },
     "execution_count": 71,
     "metadata": {},
     "output_type": "execute_result"
    }
   ],
   "source": [
    "preds_diff = preds[:, 0] - preds[:, 1]\n",
    "\n",
    "# Find the indices where the difference is greater than 0.05\n",
    "indices = np.where(preds_diff > 0.1)[0]\n",
    "indices"
   ]
  },
  {
   "cell_type": "code",
   "execution_count": 69,
   "id": "4599cc56-b062-4579-90b5-c37a6d9299a8",
   "metadata": {},
   "outputs": [
    {
     "data": {
      "text/plain": [
       "array([0.41305426, 0.4236159 ], dtype=float32)"
      ]
     },
     "execution_count": 69,
     "metadata": {},
     "output_type": "execute_result"
    }
   ],
   "source": [
    "loaded_model.predict(X_train).mean(axis=0)"
   ]
  },
  {
   "cell_type": "code",
   "execution_count": null,
   "id": "4f4d1e67-67d2-4179-b7b5-fe6ad9320b15",
   "metadata": {},
   "outputs": [],
   "source": [
    "import fasttext\n",
    "import joblib\n",
    "import os\n",
    "import numpy as np\n",
    "from sklearn.linear_model import Ridge\n",
    "\n",
    "\n",
    "from data import load_data, process_data\n",
    "from matplotlib import pyplot as plt"
   ]
  }
 ],
 "metadata": {
  "kernelspec": {
   "display_name": "dpo",
   "language": "python",
   "name": "dpo"
  },
  "language_info": {
   "codemirror_mode": {
    "name": "ipython",
    "version": 3
   },
   "file_extension": ".py",
   "mimetype": "text/x-python",
   "name": "python",
   "nbconvert_exporter": "python",
   "pygments_lexer": "ipython3",
   "version": "3.11.9"
  }
 },
 "nbformat": 4,
 "nbformat_minor": 5
}
