{
 "cells": [
  {
   "cell_type": "code",
   "execution_count": 1,
   "id": "5fef6509-cba7-4279-b9a4-2a3acdeac6f8",
   "metadata": {},
   "outputs": [],
   "source": [
    "from pathlib import Path\n",
    "import pandas as pd\n",
    "\n",
    "from pagewise_utils import get_list_of_pdf_page_lists, read_out_parser_output, end_of_path, assemble_dataframe\n",
    "from pagewise_utils import get_unique_pdf_paths_from_data_list_dict, get_text_by_path, partition_fulltext_by_pagelist"
   ]
  },
  {
   "cell_type": "markdown",
   "id": "237e571a-f646-4a1e-88c9-66f2caf17976",
   "metadata": {},
   "source": [
    "## Script consumed parsed PDFs from parsers (Marker/Nougat) that don't split content by page and manually splits & stores it\n",
    "#### Goal\n",
    "- provide pagewise dataset for statistical tasks (e.g. given a single page, predict accuracy)\n",
    "- \"pumps up\" dataset from $N=23,395$ documents to $n=284,470$ (well-defined) pages\n",
    "- script splits the page-wise text and stores it in `.../database/pagewise` in the same format as documents are stored in `.../database` so that subsequence script for BLEU computation etc. can be appleid!"
   ]
  },
  {
   "cell_type": "code",
   "execution_count": 2,
   "id": "d68af2c2-5aa0-4a2e-b0ad-64f30d7e9d62",
   "metadata": {},
   "outputs": [],
   "source": [
    "def assemble_pagewise_raw_parser_output(i:int,\n",
    "                                        parsers:list[str]=['html','nougat', 'pymupdf', 'pypdf', 'marker', 'grobid'],\n",
    "                                        store_dir:Path=Path('/eagle/projects/argonne_tpc/siebenschuh/aurora_gpt/database/pagewise')):\n",
    "    \"\"\"\n",
    "    Generates page-wise variant of `parser_output_raw.csv` of texts (path, html, ..., nougat)\n",
    "    - i: core (to identify chunk)\n",
    "    \"\"\"\n",
    "\n",
    "    assert i in {-1,0,1,2,3,4}, \"\"\n",
    "    store_dir = Path(store_dir)\n",
    "    assert store_dir.is_dir(), f\"Store_dir does not exist. Invalid path: {store_dir}\"\n",
    "    \n",
    "    # load PDF pagelist chunk (PyMuPDF)\n",
    "    dict_of_page_lists = get_list_of_pdf_page_lists(i=i) # DEBUG -> subset to 20 for testing\n",
    "    \n",
    "    # assemble \n",
    "    data_list_dict = {}\n",
    "    for parser in parsers:\n",
    "        data_list_dict[parser] = read_out_parser_output(paths=dict_of_page_lists.keys(), parser=parser)\n",
    "    \n",
    "    # loop PDF pagelists (for all parsers)\n",
    "    # - assemble DataFrame [path|html|nougat|pymupdf|pypdf|marker|grobid] w/ path in the style of `arxiv/pdf/2207.11282v4.pdf`\n",
    "    all_paths = get_unique_pdf_paths_from_data_list_dict(data_list_dict)\n",
    "    # - \n",
    "    dict_of_page_lists = {end_of_path(k):v for k,v in dict_of_page_lists.items()}\n",
    "\n",
    "    # loop paths\n",
    "    all_rows = []\n",
    "    for p in all_paths:\n",
    "        # parser\n",
    "        for parser in parsers:\n",
    "            # PyMuPDF reference exists\n",
    "            if p in dict_of_page_lists.keys():\n",
    "                # load parser's full text\n",
    "                parser_fulltext = get_text_by_path(p, data_list_dict[parser])\n",
    "    \n",
    "                # if None\n",
    "                if parser_fulltext is None:\n",
    "                    parser_fulltext = ''\n",
    "                \n",
    "                # load page list from PyMuPDF\n",
    "                page_list = dict_of_page_lists[p]\n",
    "                \n",
    "                # split\n",
    "                if len(parser_fulltext) > 0:\n",
    "                    parsed_page_list = partition_fulltext_by_pagelist(parser_fulltext, page_list)\n",
    "                else:\n",
    "                    parsed_page_list = {k : '' for k in range(len(page_list))}\n",
    "    \n",
    "                # assemble\n",
    "                # - grab from source (not the secondary parsing)\n",
    "                if parser=='pymupdf':\n",
    "                    for page_idx, page_text in enumerate(page_list):\n",
    "                        row = {'path' : p, 'page' : page_idx, 'text' : page_text, 'parser' : 'pymupdf'}\n",
    "                        # - append\n",
    "                        all_rows.append(row)\n",
    "                else:\n",
    "                    for page_idx, page_text in parsed_page_list.items():\n",
    "                        row = {'path' : p, 'page' : page_idx, 'text' : page_text, 'parser' : parser}\n",
    "                        # - append\n",
    "                        all_rows.append(row)\n",
    "    # PyMUPDF\n",
    "    df = assemble_dataframe(all_rows, i, store_dir)\n",
    "    \n",
    "    # store\n",
    "    df.to_csv(store_dir / f'pagewise_parser_output_raw_{i}_5.csv', sep='|', index=None)\n",
    "\n",
    "    pass"
   ]
  },
  {
   "cell_type": "code",
   "execution_count": 3,
   "id": "ad2b01fc-1331-498a-86a4-bae812705700",
   "metadata": {},
   "outputs": [
    {
     "name": "stdout",
     "output_type": "stream",
     "text": [
      "MuPDF error: syntax error: could not parse color space (254 0 R)\n",
      "\n",
      "MuPDF error: syntax error: could not parse color space (525 0 R)\n",
      "\n",
      "MuPDF error: syntax error: could not parse color space (215 0 R)\n",
      "\n",
      "MuPDF error: syntax error: cannot find ExtGState resource 'GS10'\n",
      "\n",
      "MuPDF error: unsupported error: cannot create appearance stream for Screen annotations\n",
      "\n",
      "MuPDF error: unsupported error: cannot create appearance stream for Screen annotations\n",
      "\n",
      "MuPDF error: unsupported error: cannot create appearance stream for Screen annotations\n",
      "\n",
      "MuPDF error: unsupported error: cannot create appearance stream for Screen annotations\n",
      "\n",
      "MuPDF error: unsupported error: cannot create appearance stream for Screen annotations\n",
      "\n",
      "MuPDF error: unsupported error: cannot create appearance stream for Screen annotations\n",
      "\n",
      "MuPDF error: unsupported error: cannot create appearance stream for Screen annotations\n",
      "\n",
      "MuPDF error: unsupported error: cannot create appearance stream for Screen annotations\n",
      "\n",
      "MuPDF error: syntax error: could not parse color space (144 0 R)\n",
      "\n",
      "MuPDF error: syntax error: could not parse color space (307 0 R)\n",
      "\n",
      "MuPDF error: syntax error: could not parse color space (407 0 R)\n",
      "\n",
      "MuPDF error: syntax error: could not parse color space (203 0 R)\n",
      "\n",
      "MuPDF error: syntax error: could not parse color space (264 0 R)\n",
      "\n",
      "MuPDF error: syntax error: could not parse color space (532 0 R)\n",
      "\n",
      "parser: html\n",
      "parser: nougat\n",
      "parser: pymupdf\n",
      "parser: pypdf\n",
      "parser: marker\n",
      "parser: grobid\n",
      "CPU times: user 1min 48s, sys: 16.6 s, total: 2min 4s\n",
      "Wall time: 2min 39s\n"
     ]
    }
   ],
   "source": [
    "%%time\n",
    "assemble_pagewise_raw_parser_output(i=0)"
   ]
  },
  {
   "cell_type": "markdown",
   "id": "03acefc6-2536-43d4-b923-5873c0a3431c",
   "metadata": {},
   "source": [
    "### Goal\n",
    "Create table (in parallel) with columns \n",
    "```\n",
    "path, html, pymupdf, pypdf, nougat, grobid, marker\n",
    "```\n",
    "\n",
    "Do so in parallel (be inspired by `get_tables.py`, merge afterwards). Subsequently, run `get_tables.py` on that merged table (also in parallel). \n",
    "\n",
    "Note that `path` is (from now on) `arxiv/pdf/2207.11282v4.pdf` etc. not the entire (actual path) - we call thos `abs_path`"
   ]
  },
  {
   "cell_type": "code",
   "execution_count": 17,
   "id": "c0cc09a7-4047-49af-8688-b46ac1ac6b8e",
   "metadata": {},
   "outputs": [
    {
     "data": {
      "text/plain": [
       "['pagewise_parser_output_raw_0_5.csv']"
      ]
     },
     "execution_count": 17,
     "metadata": {},
     "output_type": "execute_result"
    }
   ],
   "source": [
    "import os\n",
    "\n",
    "os.listdir('/eagle/projects/argonne_tpc/siebenschuh/aurora_gpt/database/pagewise/')"
   ]
  },
  {
   "cell_type": "code",
   "execution_count": 27,
   "id": "168f6ab4-9a09-4472-99ff-438b640528d6",
   "metadata": {},
   "outputs": [
    {
     "name": "stderr",
     "output_type": "stream",
     "text": [
      "<timed exec>:4: DtypeWarning: Columns (7) have mixed types. Specify dtype option on import or set low_memory=False.\n"
     ]
    },
    {
     "name": "stdout",
     "output_type": "stream",
     "text": [
      "CPU times: user 47.5 s, sys: 3.71 s, total: 51.2 s\n",
      "Wall time: 53.7 s\n"
     ]
    }
   ],
   "source": [
    "%%time\n",
    "df0 = pd.read_csv('/eagle/projects/argonne_tpc/siebenschuh/aurora_gpt/database/pagewise/pagewise_parser_output_raw_0_5.csv', sep='|')\n",
    "df1 = pd.read_csv('/eagle/projects/argonne_tpc/siebenschuh/aurora_gpt/database/pagewise/pagewise_parser_output_raw_1_5.csv', sep='|')\n",
    "df2 = pd.read_csv('/eagle/projects/argonne_tpc/siebenschuh/aurora_gpt/database/pagewise/pagewise_parser_output_raw_2_5.csv', sep='|')\n",
    "df3 = pd.read_csv('/eagle/projects/argonne_tpc/siebenschuh/aurora_gpt/database/pagewise/pagewise_parser_output_raw_3_5.csv', sep='|')\n",
    "df4 = pd.read_csv('/eagle/projects/argonne_tpc/siebenschuh/aurora_gpt/database/pagewise/pagewise_parser_output_raw_4_5.csv', sep='|')"
   ]
  },
  {
   "cell_type": "code",
   "execution_count": 54,
   "id": "e24c7f61-bfdc-4d16-a019-5ce68005a0e0",
   "metadata": {},
   "outputs": [],
   "source": [
    "# store\n",
    "df_list = [df0, df1, df2, df3, df4]\n",
    "merged_df = pd.concat(df_list, ignore_index=True)\n",
    "merged_df.to_csv('/eagle/projects/argonne_tpc/siebenschuh/aurora_gpt/database/pagewise/pagewise_parser_output_raw.csv', index=False, sep='|')"
   ]
  },
  {
   "cell_type": "code",
   "execution_count": 55,
   "id": "e5c8db19-a865-4e46-b543-eba500966db7",
   "metadata": {},
   "outputs": [],
   "source": [
    "merged_subset = merged_df[(~merged_df['pymupdf'].isna()) & (~merged_df['nougat'].isna()) & (~merged_df['html'].isna())]"
   ]
  },
  {
   "cell_type": "code",
   "execution_count": null,
   "id": "69959349-55dc-400d-b14d-797219e30a76",
   "metadata": {},
   "outputs": [],
   "source": []
  },
  {
   "cell_type": "code",
   "execution_count": 56,
   "id": "fdd9aa0a-0029-413c-a46b-bb914bb76347",
   "metadata": {},
   "outputs": [],
   "source": [
    "merged_subset.fillna('-').to_csv('/eagle/projects/argonne_tpc/siebenschuh/aurora_gpt/database/pagewise/pagewise_parser_output_raw.csv', index=False, sep='|')"
   ]
  },
  {
   "cell_type": "code",
   "execution_count": 41,
   "id": "d87e0da5-0b46-40eb-950b-80f463a436bd",
   "metadata": {},
   "outputs": [
    {
     "name": "stderr",
     "output_type": "stream",
     "text": [
      "/var/tmp/pbs.5108.sophia-pbs-01.lab.alcf.anl.gov/ipykernel_1457398/2785566193.py:1: DtypeWarning: Columns (7) have mixed types. Specify dtype option on import or set low_memory=False.\n",
      "  loaded_merged_df = pd.read_csv('/eagle/projects/argonne_tpc/siebenschuh/aurora_gpt/database/pagewise/pagewise_parser_output_raw.csv', sep='|')\n"
     ]
    }
   ],
   "source": [
    "loaded_merged_df = pd.read_csv('/eagle/projects/argonne_tpc/siebenschuh/aurora_gpt/database/pagewise/pagewise_parser_output_raw.csv', sep='|')\n",
    "\n"
   ]
  },
  {
   "cell_type": "code",
   "execution_count": 53,
   "id": "8f949425-0d52-4da5-87bf-bf7d8dc8d19d",
   "metadata": {},
   "outputs": [],
   "source": [
    "loaded_merged_df.iloc[:100].fillna('-').to_csv('/eagle/projects/argonne_tpc/siebenschuh/aurora_gpt/database/pagewise/MINI_pagewise_parser_output_raw.csv', index=False, sep='|')"
   ]
  },
  {
   "cell_type": "code",
   "execution_count": 50,
   "id": "a7e4424b-b513-4003-b3f6-a963b2757645",
   "metadata": {},
   "outputs": [
    {
     "data": {
      "text/html": [
       "<div>\n",
       "<style scoped>\n",
       "    .dataframe tbody tr th:only-of-type {\n",
       "        vertical-align: middle;\n",
       "    }\n",
       "\n",
       "    .dataframe tbody tr th {\n",
       "        vertical-align: top;\n",
       "    }\n",
       "\n",
       "    .dataframe thead th {\n",
       "        text-align: right;\n",
       "    }\n",
       "</style>\n",
       "<table border=\"1\" class=\"dataframe\">\n",
       "  <thead>\n",
       "    <tr style=\"text-align: right;\">\n",
       "      <th></th>\n",
       "      <th>path</th>\n",
       "      <th>page</th>\n",
       "      <th>grobid</th>\n",
       "      <th>html</th>\n",
       "      <th>marker</th>\n",
       "      <th>nougat</th>\n",
       "      <th>pymupdf</th>\n",
       "      <th>pypdf</th>\n",
       "    </tr>\n",
       "  </thead>\n",
       "  <tbody>\n",
       "    <tr>\n",
       "      <th>0</th>\n",
       "      <td>arxiv/pdf/1009.1049v1.pdf</td>\n",
       "      <td>0</td>\n",
       "      <td></td>\n",
       "      <td></td>\n",
       "      <td># Understanding How Students Use Physical Idea...</td>\n",
       "      <td># Understanding How Students Use Physical Idea...</td>\n",
       "      <td>Understanding How Students Use Physical Ideas ...</td>\n",
       "      <td>Understanding How Students Use Ph...</td>\n",
       "    </tr>\n",
       "    <tr>\n",
       "      <th>1</th>\n",
       "      <td>arxiv/pdf/1009.1049v1.pdf</td>\n",
       "      <td>1</td>\n",
       "      <td></td>\n",
       "      <td></td>\n",
       "      <td>nted that student views about physics knowledg...</td>\n",
       "      <td>kinds of knowledge and learning their courses...</td>\n",
       "      <td>In physics education, researchers have documen...</td>\n",
       "      <td>iplines, (2)                    kinds of knowl...</td>\n",
       "    </tr>\n",
       "    <tr>\n",
       "      <th>2</th>\n",
       "      <td>arxiv/pdf/1009.1049v1.pdf</td>\n",
       "      <td>2</td>\n",
       "      <td></td>\n",
       "      <td></td>\n",
       "      <td>to the biological system. When the students we...</td>\n",
       "      <td>o remember and call out that \\(J\\) is the diff...</td>\n",
       "      <td>sion when you make a given change to the biolo...</td>\n",
       "      <td>s and facilitate quantitative reasoning for in...</td>\n",
       "    </tr>\n",
       "    <tr>\n",
       "      <th>3</th>\n",
       "      <td>arxiv/pdf/1009.1049v1.pdf</td>\n",
       "      <td>3</td>\n",
       "      <td></td>\n",
       "      <td></td>\n",
       "      <td>en 'this is t,' I can't do it. Like, it's just...</td>\n",
       "      <td>ngible, perceivable, and to put that in terms ...</td>\n",
       "      <td>thing through it, the thicker it is, obviously...</td>\n",
       "      <td>oving, underwater. Given these constraints, st...</td>\n",
       "    </tr>\n",
       "    <tr>\n",
       "      <th>4</th>\n",
       "      <td>arxiv/pdf/1011.0510v3.pdf</td>\n",
       "      <td>0</td>\n",
       "      <td></td>\n",
       "      <td></td>\n",
       "      <td># Theory Of Cooperation In A Micro-Organismal ...</td>\n",
       "      <td># Theory of cooperation in a micro-organism sn...</td>\n",
       "      <td>Theory of cooperation in a micro-organismal sn...</td>\n",
       "      <td></td>\n",
       "    </tr>\n",
       "    <tr>\n",
       "      <th>...</th>\n",
       "      <td>...</td>\n",
       "      <td>...</td>\n",
       "      <td>...</td>\n",
       "      <td>...</td>\n",
       "      <td>...</td>\n",
       "      <td>...</td>\n",
       "      <td>...</td>\n",
       "      <td>...</td>\n",
       "    </tr>\n",
       "    <tr>\n",
       "      <th>95</th>\n",
       "      <td>arxiv/pdf/1103.1791v2.pdf</td>\n",
       "      <td>15</td>\n",
       "      <td></td>\n",
       "      <td></td>\n",
       "      <td>and that have the capacity to observe *their o...</td>\n",
       "      <td>still be elevated even when navigating by mem...</td>\n",
       "      <td>For example, in Fig. 4, the opening-direction ...</td>\n",
       "      <td></td>\n",
       "    </tr>\n",
       "    <tr>\n",
       "      <th>96</th>\n",
       "      <td>arxiv/pdf/1103.1791v2.pdf</td>\n",
       "      <td>16</td>\n",
       "      <td></td>\n",
       "      <td></td>\n",
       "      <td>are encoded within the genes that specify the ...</td>\n",
       "      <td>bit in memory and integrating this informatio...</td>\n",
       "      <td>where g(i)(m) is the ith stochastic realizatio...</td>\n",
       "      <td></td>\n",
       "    </tr>\n",
       "    <tr>\n",
       "      <th>97</th>\n",
       "      <td>arxiv/pdf/1103.1791v2.pdf</td>\n",
       "      <td>17</td>\n",
       "      <td></td>\n",
       "      <td></td>\n",
       "      <td>erated for each run so that the animats would ...</td>\n",
       "      <td>{i=1}^{10}\\frac{g^{(i)}(m)}{g_{\\rm opt}(m)}\\ri...</td>\n",
       "      <td>Motor variables that are not read from are una...</td>\n",
       "      <td></td>\n",
       "    </tr>\n",
       "    <tr>\n",
       "      <th>98</th>\n",
       "      <td>arxiv/pdf/1103.1791v2.pdf</td>\n",
       "      <td>18</td>\n",
       "      <td></td>\n",
       "      <td></td>\n",
       "      <td>ards towards the randomly constructed ancestra...</td>\n",
       "      <td>variables to test their effect on the Markov a...</td>\n",
       "      <td>4. Adami C (2009) Biological complexity and bi...</td>\n",
       "      <td></td>\n",
       "    </tr>\n",
       "    <tr>\n",
       "      <th>99</th>\n",
       "      <td>arxiv/pdf/1103.1791v2.pdf</td>\n",
       "      <td>19</td>\n",
       "      <td></td>\n",
       "      <td></td>\n",
       "      <td>physics, volume 6 of Cambridge Nonlinear Scien...</td>\n",
       "      <td>the more lines coalesce until the last common ...</td>\n",
       "      <td>25. Taylor S, Tishby N, Bialek W (2007). Infor...</td>\n",
       "      <td></td>\n",
       "    </tr>\n",
       "  </tbody>\n",
       "</table>\n",
       "<p>100 rows × 8 columns</p>\n",
       "</div>"
      ],
      "text/plain": [
       "                         path  page grobid html  \\\n",
       "0   arxiv/pdf/1009.1049v1.pdf     0               \n",
       "1   arxiv/pdf/1009.1049v1.pdf     1               \n",
       "2   arxiv/pdf/1009.1049v1.pdf     2               \n",
       "3   arxiv/pdf/1009.1049v1.pdf     3               \n",
       "4   arxiv/pdf/1011.0510v3.pdf     0               \n",
       "..                        ...   ...    ...  ...   \n",
       "95  arxiv/pdf/1103.1791v2.pdf    15               \n",
       "96  arxiv/pdf/1103.1791v2.pdf    16               \n",
       "97  arxiv/pdf/1103.1791v2.pdf    17               \n",
       "98  arxiv/pdf/1103.1791v2.pdf    18               \n",
       "99  arxiv/pdf/1103.1791v2.pdf    19               \n",
       "\n",
       "                                               marker  \\\n",
       "0   # Understanding How Students Use Physical Idea...   \n",
       "1   nted that student views about physics knowledg...   \n",
       "2   to the biological system. When the students we...   \n",
       "3   en 'this is t,' I can't do it. Like, it's just...   \n",
       "4   # Theory Of Cooperation In A Micro-Organismal ...   \n",
       "..                                                ...   \n",
       "95  and that have the capacity to observe *their o...   \n",
       "96  are encoded within the genes that specify the ...   \n",
       "97  erated for each run so that the animats would ...   \n",
       "98  ards towards the randomly constructed ancestra...   \n",
       "99  physics, volume 6 of Cambridge Nonlinear Scien...   \n",
       "\n",
       "                                               nougat  \\\n",
       "0   # Understanding How Students Use Physical Idea...   \n",
       "1    kinds of knowledge and learning their courses...   \n",
       "2   o remember and call out that \\(J\\) is the diff...   \n",
       "3   ngible, perceivable, and to put that in terms ...   \n",
       "4   # Theory of cooperation in a micro-organism sn...   \n",
       "..                                                ...   \n",
       "95   still be elevated even when navigating by mem...   \n",
       "96   bit in memory and integrating this informatio...   \n",
       "97  {i=1}^{10}\\frac{g^{(i)}(m)}{g_{\\rm opt}(m)}\\ri...   \n",
       "98  variables to test their effect on the Markov a...   \n",
       "99  the more lines coalesce until the last common ...   \n",
       "\n",
       "                                              pymupdf  \\\n",
       "0   Understanding How Students Use Physical Ideas ...   \n",
       "1   In physics education, researchers have documen...   \n",
       "2   sion when you make a given change to the biolo...   \n",
       "3   thing through it, the thicker it is, obviously...   \n",
       "4   Theory of cooperation in a micro-organismal sn...   \n",
       "..                                                ...   \n",
       "95  For example, in Fig. 4, the opening-direction ...   \n",
       "96  where g(i)(m) is the ith stochastic realizatio...   \n",
       "97  Motor variables that are not read from are una...   \n",
       "98  4. Adami C (2009) Biological complexity and bi...   \n",
       "99  25. Taylor S, Tishby N, Bialek W (2007). Infor...   \n",
       "\n",
       "                                                pypdf  \n",
       "0                Understanding How Students Use Ph...  \n",
       "1   iplines, (2)                    kinds of knowl...  \n",
       "2   s and facilitate quantitative reasoning for in...  \n",
       "3   oving, underwater. Given these constraints, st...  \n",
       "4                                                      \n",
       "..                                                ...  \n",
       "95                                                     \n",
       "96                                                     \n",
       "97                                                     \n",
       "98                                                     \n",
       "99                                                     \n",
       "\n",
       "[100 rows x 8 columns]"
      ]
     },
     "execution_count": 50,
     "metadata": {},
     "output_type": "execute_result"
    }
   ],
   "source": [
    "loaded_merged_df.iloc[:100].fillna('')"
   ]
  },
  {
   "cell_type": "code",
   "execution_count": null,
   "id": "64e60ea3-2ae8-47e6-9bb6-a1ba791fec0b",
   "metadata": {},
   "outputs": [],
   "source": [
    "%%time \n",
    "\n",
    "# df_filled = df.fillna('')\n",
    "/eagle/projects/argonne_tpc/siebenschuh/aurora_gpt/database/pagewise/MINI_pagewise_parser_output_raw.csv\n",
    "\n",
    "# Nougat, Marker etc.\n",
    "# - open jsonl (if exists)\n",
    "# - fuzzy-match PyMuPDF-piece over text\n",
    "# - split"
   ]
  },
  {
   "cell_type": "code",
   "execution_count": null,
   "id": "dd0d5a67-d926-41a6-b102-8b846f98a6e6",
   "metadata": {},
   "outputs": [],
   "source": [
    "len(parser_data_list), len(paths)"
   ]
  },
  {
   "cell_type": "code",
   "execution_count": null,
   "id": "be986f6e-d53c-456b-ae26-22a046cffc6c",
   "metadata": {},
   "outputs": [],
   "source": []
  },
  {
   "cell_type": "code",
   "execution_count": null,
   "id": "d5940f7a-c9f1-4072-bc04-d61779124386",
   "metadata": {},
   "outputs": [],
   "source": [
    "# Function to find and copy the text efficiently using binary search\n"
   ]
  },
  {
   "cell_type": "markdown",
   "id": "168cec92-4e37-4828-8304-d2fac75a9111",
   "metadata": {},
   "source": [
    "## Experimental Code startes here .."
   ]
  },
  {
   "cell_type": "code",
   "execution_count": null,
   "id": "99b52756-0f2e-4cde-82ca-40245f9ae428",
   "metadata": {},
   "outputs": [],
   "source": [
    "pdf_abs_path = parser_data_list[14]['path']"
   ]
  },
  {
   "cell_type": "code",
   "execution_count": null,
   "id": "5a8b3f8c-b43a-491a-8470-eae4458b3792",
   "metadata": {},
   "outputs": [],
   "source": [
    "# search resp. fulltext\n",
    "parser_fulltext = get_text_by_path(pdf_abs_path, parser_data_list)\n",
    "\n",
    "# split\n",
    "P = partition_fulltext_by_pagelist(parser_fulltext, page_list)"
   ]
  },
  {
   "cell_type": "code",
   "execution_count": null,
   "id": "719bc771-95e0-491a-a8f9-10c17918f041",
   "metadata": {},
   "outputs": [],
   "source": [
    "P.keys()"
   ]
  },
  {
   "cell_type": "code",
   "execution_count": null,
   "id": "6868121e-712a-44bc-9734-3df43a2aabc5",
   "metadata": {},
   "outputs": [],
   "source": [
    "P[15]"
   ]
  },
  {
   "cell_type": "code",
   "execution_count": null,
   "id": "0fe14152-b193-4bb3-997e-8724d1310d13",
   "metadata": {},
   "outputs": [],
   "source": [
    "!cp /lus/eagle/projects/argonne_tpc/siebenschuh/aurora_gpt/joint/arxiv/pdf/1411.0940v1.pdf 1411.0940v1.pdf"
   ]
  },
  {
   "cell_type": "code",
   "execution_count": null,
   "id": "7d503c9b-a58e-4417-b790-e5827945723c",
   "metadata": {},
   "outputs": [],
   "source": [
    "parser_data_list[5]['text'][:50]"
   ]
  },
  {
   "cell_type": "code",
   "execution_count": 2,
   "id": "5439a283-7aba-4bcf-ad68-598165375013",
   "metadata": {},
   "outputs": [],
   "source": [
    "import pandas as pd\n",
    "dfff = pd.read_csv('/eagle/projects/argonne_tpc/siebenschuh/aurora_gpt/database/pagewise/pagewise_parser_output_raw.csv', sep='|')"
   ]
  },
  {
   "cell_type": "code",
   "execution_count": 3,
   "id": "b37bc11b-5ed8-4391-8a38-4711968557af",
   "metadata": {},
   "outputs": [
    {
     "data": {
      "text/plain": [
       "284470"
      ]
     },
     "execution_count": 3,
     "metadata": {},
     "output_type": "execute_result"
    }
   ],
   "source": [
    "len(dfff)"
   ]
  },
  {
   "cell_type": "code",
   "execution_count": null,
   "id": "5032158c-b848-4006-a477-5f9d1a42ab3e",
   "metadata": {},
   "outputs": [],
   "source": []
  }
 ],
 "metadata": {
  "kernelspec": {
   "display_name": "bo",
   "language": "python",
   "name": "bo"
  },
  "language_info": {
   "codemirror_mode": {
    "name": "ipython",
    "version": 3
   },
   "file_extension": ".py",
   "mimetype": "text/x-python",
   "name": "python",
   "nbconvert_exporter": "python",
   "pygments_lexer": "ipython3",
   "version": "3.11.9"
  }
 },
 "nbformat": 4,
 "nbformat_minor": 5
}
