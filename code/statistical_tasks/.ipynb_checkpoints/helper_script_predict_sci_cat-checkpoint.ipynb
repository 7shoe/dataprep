{
 "cells": [
  {
   "cell_type": "code",
   "execution_count": 2,
   "id": "0f8452c8-8492-4e12-881e-5075f7a1253f",
   "metadata": {},
   "outputs": [],
   "source": [
    "import pandas as pd"
   ]
  },
  {
   "cell_type": "markdown",
   "id": "96a085f5-3547-4a29-a73f-6b4c1acf9cd1",
   "metadata": {},
   "source": [
    "## Quick assessment of what columns are contained in `./database/meta_raw_table.csv`\n",
    "- not too relevant as most metadata stems from documents belonging to `ArXiV` (as it exposes meta data through its API)... empty for MedRXiv, BioRXiV, MDPI, etc. "
   ]
  },
  {
   "cell_type": "code",
   "execution_count": 3,
   "id": "d0b41e1c-b7f7-4511-afbb-cf243eb28e6f",
   "metadata": {},
   "outputs": [],
   "source": [
    "df = pd.read_csv('/lus/eagle/projects/argonne_tpc/siebenschuh/aurora_gpt/database/meta_raw_table.csv', sep='|')"
   ]
  },
  {
   "cell_type": "code",
   "execution_count": 4,
   "id": "85b459eb-5348-4885-a899-c1ff3a5266c0",
   "metadata": {},
   "outputs": [
    {
     "data": {
      "text/plain": [
       "Index(['path', 'prim_cat', 'title', 'pdf_url', 'html_url', 'summary',\n",
       "       'comment', 'id', 'date_published', 'date_updated', 'doi', 'categories',\n",
       "       'journal_ref', 'pdf_path'],\n",
       "      dtype='object')"
      ]
     },
     "execution_count": 4,
     "metadata": {},
     "output_type": "execute_result"
    }
   ],
   "source": [
    "df.columns"
   ]
  },
  {
   "cell_type": "code",
   "execution_count": 5,
   "id": "7186c018-bf08-4840-916a-d52c975f482c",
   "metadata": {},
   "outputs": [
    {
     "data": {
      "text/plain": [
       "0         arxiv\n",
       "1         arxiv\n",
       "2         arxiv\n",
       "3         arxiv\n",
       "4         arxiv\n",
       "          ...  \n",
       "23392    nature\n",
       "23393    nature\n",
       "23394    nature\n",
       "23395    nature\n",
       "23396    nature\n",
       "Name: path, Length: 23397, dtype: object"
      ]
     },
     "execution_count": 5,
     "metadata": {},
     "output_type": "execute_result"
    }
   ],
   "source": [
    "df['path'].str.split('/').str[0]"
   ]
  },
  {
   "cell_type": "code",
   "execution_count": null,
   "id": "f9d1bb54-3ec0-47da-8c15-91b408413ff8",
   "metadata": {},
   "outputs": [],
   "source": []
  }
 ],
 "metadata": {
  "kernelspec": {
   "display_name": "bo",
   "language": "python",
   "name": "bo"
  },
  "language_info": {
   "codemirror_mode": {
    "name": "ipython",
    "version": 3
   },
   "file_extension": ".py",
   "mimetype": "text/x-python",
   "name": "python",
   "nbconvert_exporter": "python",
   "pygments_lexer": "ipython3",
   "version": "3.11.9"
  }
 },
 "nbformat": 4,
 "nbformat_minor": 5
}
