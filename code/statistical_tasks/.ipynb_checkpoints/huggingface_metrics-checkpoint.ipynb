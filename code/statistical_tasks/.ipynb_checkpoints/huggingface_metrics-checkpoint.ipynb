{
 "cells": [
  {
   "cell_type": "code",
   "execution_count": 7,
   "id": "6b9f1bf4-ca56-4967-9bd9-8f1298b09825",
   "metadata": {},
   "outputs": [],
   "source": [
    "import evaluate\n",
    "import pandas as pd\n",
    "from pathlib import Path"
   ]
  },
  {
   "cell_type": "markdown",
   "id": "b58c97c5-75e8-47f7-8234-62aa32942ebe",
   "metadata": {},
   "source": [
    "## Exploratory script that uses Huggingface to compute bleu, rouge etc.\n",
    "- lesson learned: not faster but harder to parallelize than `pandas`/`dask` --> stay with `pandas`"
   ]
  },
  {
   "cell_type": "code",
   "execution_count": 8,
   "id": "7871504b-702d-443e-bf5e-9189d87c6371",
   "metadata": {},
   "outputs": [
    {
     "name": "stderr",
     "output_type": "stream",
     "text": [
      "[nltk_data] Downloading package wordnet to\n",
      "[nltk_data]     /eagle/projects/tpc/siebenschuh/envs_/bo/nltk_data...\n",
      "[nltk_data]   Package wordnet is already up-to-date!\n",
      "[nltk_data] Downloading package punkt to\n",
      "[nltk_data]     /eagle/projects/tpc/siebenschuh/envs_/bo/nltk_data...\n",
      "[nltk_data]   Package punkt is already up-to-date!\n",
      "[nltk_data] Downloading package omw-1.4 to\n",
      "[nltk_data]     /eagle/projects/tpc/siebenschuh/envs_/bo/nltk_data...\n",
      "[nltk_data]   Package omw-1.4 is already up-to-date!\n"
     ]
    }
   ],
   "source": [
    "meteor  = evaluate.load('meteor')\n",
    "bleu    = evaluate.load('bleu')\n",
    "rouge   = evaluate.load('rouge')\n",
    "cer     = evaluate.load('cer')"
   ]
  },
  {
   "cell_type": "code",
   "execution_count": 9,
   "id": "63eef940-6ee9-4fcc-beec-9380f2f55ddd",
   "metadata": {},
   "outputs": [
    {
     "data": {
      "text/plain": [
       "Index(['path', 'html', 'nougat', 'pymupdf', 'grobid'], dtype='object')"
      ]
     },
     "execution_count": 9,
     "metadata": {},
     "output_type": "execute_result"
    }
   ],
   "source": [
    "# Load data\n",
    "p_csv = '/lus/eagle/projects/argonne_tpc/siebenschuh/aurora_gpt/database/outraw_0.csv'\n",
    "df = pd.read_csv(p_csv, sep='|').iloc[:100]\n",
    "\n",
    "df.columns"
   ]
  },
  {
   "cell_type": "code",
   "execution_count": 19,
   "id": "a77a3f63-f2bc-4bc5-baa7-fe7cc247e828",
   "metadata": {},
   "outputs": [],
   "source": [
    "html_list = [df['html'].iloc[0]]\n",
    "nougat_list = [df['nougat'].iloc[0]]"
   ]
  },
  {
   "cell_type": "code",
   "execution_count": 20,
   "id": "f8f403e7-b733-4639-9c4f-559aac01e450",
   "metadata": {},
   "outputs": [],
   "source": [
    "results_m = meteor.compute(predictions=nougat_list, references=html_list)\n",
    "results_b = bleu.compute(predictions=nougat_list, references=html_list)\n",
    "results_r = rouge.compute(predictions=nougat_list, references=html_list)\n",
    "results_c = cer.compute(predictions=nougat_list, references=html_list)"
   ]
  },
  {
   "cell_type": "code",
   "execution_count": 21,
   "id": "4448ed42-c4f1-4a41-a95f-93a38f8fcf41",
   "metadata": {},
   "outputs": [
    {
     "data": {
      "text/plain": [
       "({'meteor': np.float64(0.64097273196036)},\n",
       " {'bleu': 0.605965017144103,\n",
       "  'precisions': [0.7001326008713772,\n",
       "   0.6180853750947208,\n",
       "   0.5749289548468582,\n",
       "   0.541935076417835],\n",
       "  'brevity_penalty': 1.0,\n",
       "  'length_ratio': 1.3263819095477387,\n",
       "  'translation_length': 15837,\n",
       "  'reference_length': 11940},\n",
       " {'rouge1': np.float64(0.9033182143709717),\n",
       "  'rouge2': np.float64(0.8540323735854463),\n",
       "  'rougeL': np.float64(0.8506087371687755),\n",
       "  'rougeLsum': np.float64(0.8325614705180234)},\n",
       " 0.31479075437499)"
      ]
     },
     "execution_count": 21,
     "metadata": {},
     "output_type": "execute_result"
    }
   ],
   "source": [
    "results_m, results_b, results_r, results_c"
   ]
  },
  {
   "cell_type": "code",
   "execution_count": null,
   "id": "98af3acb-49ed-44aa-a42c-c55e7f8caf27",
   "metadata": {},
   "outputs": [],
   "source": [
    "%%time \n",
    "\n",
    "# Example lists of predictions and references\n",
    "predictions = [\n",
    "    \"It is a guide to action which ensures that the military always obeys the commands of the party\",\n",
    "    \"The cat sat on the mat\"\n",
    "]\n",
    "\n",
    "references = [\n",
    "    \"It is a guide to action that ensures that the military will forever heed Party commands\",\n",
    "    \"The cat is sitting on the mat\"\n",
    "]\n",
    "\n",
    "# Compute METEOR scores for the lists of predictions and references\n",
    "for i in range(5000):\n",
    "    results = meteor.compute(predictions=predictions, references=references)"
   ]
  },
  {
   "cell_type": "code",
   "execution_count": null,
   "id": "89f3e4a2-f7fe-4f2c-bd77-4b4ca21d1fbf",
   "metadata": {},
   "outputs": [],
   "source": [
    "results"
   ]
  },
  {
   "cell_type": "code",
   "execution_count": null,
   "id": "b8e6dceb-7fe3-4525-90e6-4f13883688a8",
   "metadata": {},
   "outputs": [],
   "source": [
    "# Compute METEOR scores for the lists of predictions and references\n",
    "for i in range(5000):\n",
    "    results = bleu.compute(predictions=predictions, references=references)"
   ]
  }
 ],
 "metadata": {
  "kernelspec": {
   "display_name": "bo",
   "language": "python",
   "name": "bo"
  },
  "language_info": {
   "codemirror_mode": {
    "name": "ipython",
    "version": 3
   },
   "file_extension": ".py",
   "mimetype": "text/x-python",
   "name": "python",
   "nbconvert_exporter": "python",
   "pygments_lexer": "ipython3",
   "version": "3.11.9"
  }
 },
 "nbformat": 4,
 "nbformat_minor": 5
}
