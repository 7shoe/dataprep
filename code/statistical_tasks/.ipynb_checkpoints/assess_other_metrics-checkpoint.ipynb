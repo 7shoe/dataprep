{
 "cells": [
  {
   "cell_type": "code",
   "execution_count": 19,
   "id": "dbcc67d0-d229-40d2-a658-8dfed2bfcc01",
   "metadata": {},
   "outputs": [],
   "source": [
    "from nltk import translate\n",
    "from rapidfuzz import fuzz\n",
    "\n",
    "# BLEU, ROUGE, METEOR, CER, Edit distance (as fast as possible)\n",
    "\n"
   ]
  },
  {
   "cell_type": "markdown",
   "id": "b328f768-b7af-4418-87c5-65b8bcda0b4a",
   "metadata": {},
   "source": [
    "## Simple script playing around with the metrics"
   ]
  },
  {
   "cell_type": "code",
   "execution_count": 15,
   "id": "c56f8c53-f023-4877-acf6-407343a2d4fa",
   "metadata": {},
   "outputs": [],
   "source": [
    "# BLEU\n",
    "#translate.bleu_score.sentence_bleu\n",
    "\n",
    "# METEOR \n",
    "#translate.meteor_score.meteor_score\n",
    "\n",
    "# (Fuzzy) Edit\n",
    "# fuzz.ration\n",
    "\n",
    "# "
   ]
  },
  {
   "cell_type": "code",
   "execution_count": 34,
   "id": "c9daeb5b-db6b-4a0a-96d5-00780491c05c",
   "metadata": {},
   "outputs": [
    {
     "name": "stdout",
     "output_type": "stream",
     "text": [
      "CPU times: user 4 μs, sys: 0 ns, total: 4 μs\n",
      "Wall time: 7.39 μs\n"
     ]
    }
   ],
   "source": [
    "%%time\n",
    "s1, s2 = \"Hello World\", \"Hello World\""
   ]
  },
  {
   "cell_type": "code",
   "execution_count": 35,
   "id": "30f9e93f-de52-452f-8123-d7a8626723a9",
   "metadata": {},
   "outputs": [
    {
     "name": "stdout",
     "output_type": "stream",
     "text": [
      "CPU times: user 14.8 ms, sys: 2.51 ms, total: 17.3 ms\n",
      "Wall time: 16.8 ms\n"
     ]
    },
    {
     "data": {
      "text/plain": [
       "1.0"
      ]
     },
     "execution_count": 35,
     "metadata": {},
     "output_type": "execute_result"
    }
   ],
   "source": [
    "%%time\n",
    "\n",
    "for i in range(25_000):\n",
    "    d = fuzz.ratio(s1,s2) / 100.\n",
    "d"
   ]
  },
  {
   "cell_type": "code",
   "execution_count": 38,
   "id": "86d8638d-fd89-46c6-9092-6385a1f9591f",
   "metadata": {},
   "outputs": [
    {
     "name": "stdout",
     "output_type": "stream",
     "text": [
      "{'rouge1': Score(precision=1.0, recall=1.0, fmeasure=1.0), 'rouge2': Score(precision=0.625, recall=0.625, fmeasure=0.625), 'rougeL': Score(precision=0.7777777777777778, recall=0.7777777777777778, fmeasure=0.7777777777777778)}\n",
      "CPU times: user 1.6 s, sys: 2.2 ms, total: 1.6 s\n",
      "Wall time: 25.8 s\n"
     ]
    }
   ],
   "source": [
    "%%time\n",
    "\n",
    "from rouge_score import rouge_scorer\n",
    "\n",
    "# Initialize the scorer with the desired ROUGE types\n",
    "scorer = rouge_scorer.RougeScorer(['rouge1', 'rouge2', 'rougeL'], use_stemmer=True)\n",
    "\n",
    "# Example reference and candidate texts\n",
    "reference = \"The quick brown fox jumps over the lazy dog.\"\n",
    "candidate = \"The quick brown dog jumps over the lazy fox.\"\n",
    "\n",
    "# Compute the ROUGE scores\n",
    "for i in range(5000):\n",
    "    scores = scorer.score(reference, candidate)\n",
    "\n",
    "# Print the results\n",
    "print(scores)"
   ]
  },
  {
   "cell_type": "code",
   "execution_count": null,
   "id": "ed988ff2-b00e-4b24-98a0-86afeb51d9c1",
   "metadata": {},
   "outputs": [],
   "source": []
  }
 ],
 "metadata": {
  "kernelspec": {
   "display_name": "bo",
   "language": "python",
   "name": "bo"
  },
  "language_info": {
   "codemirror_mode": {
    "name": "ipython",
    "version": 3
   },
   "file_extension": ".py",
   "mimetype": "text/x-python",
   "name": "python",
   "nbconvert_exporter": "python",
   "pygments_lexer": "ipython3",
   "version": "3.11.9"
  }
 },
 "nbformat": 4,
 "nbformat_minor": 5
}
