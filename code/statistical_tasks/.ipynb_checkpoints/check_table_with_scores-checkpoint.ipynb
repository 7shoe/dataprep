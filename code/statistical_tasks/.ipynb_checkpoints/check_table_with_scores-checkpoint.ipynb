{
 "cells": [
  {
   "cell_type": "code",
   "execution_count": 1,
   "id": "20db6387-4e41-40fd-b7b3-9f525f8be92f",
   "metadata": {},
   "outputs": [],
   "source": [
    "from pathlib import Path\n",
    "import numpy as np\n",
    "import pandas as pd\n",
    "from matplotlib import pyplot as plt"
   ]
  },
  {
   "cell_type": "code",
   "execution_count": 2,
   "id": "ef85f65b-90f2-4a7b-8d11-e0d678ae14bd",
   "metadata": {},
   "outputs": [],
   "source": [
    "p = Path('/lus/eagle/projects/argonne_tpc/siebenschuh/aurora_gpt/database/parser_output_reduced_proc_10-233.csv')\n",
    "df = pd.read_csv(p, sep='|')"
   ]
  },
  {
   "cell_type": "code",
   "execution_count": null,
   "id": "4186cc99-0edb-4b1c-9e90-828482654753",
   "metadata": {},
   "outputs": [],
   "source": [
    "# Properly match/format the dataframe entries --> include modification in `generate_database_of_raw_text.py`"
   ]
  },
  {
   "cell_type": "code",
   "execution_count": null,
   "id": "adafb520-66b2-446b-b859-d59849f72170",
   "metadata": {},
   "outputs": [],
   "source": [
    "paths[:15]"
   ]
  },
  {
   "cell_type": "code",
   "execution_count": null,
   "id": "0f78c70a-e4aa-42ed-b1ac-ebbe4e2ec161",
   "metadata": {},
   "outputs": [],
   "source": [
    "len(paths)"
   ]
  },
  {
   "cell_type": "code",
   "execution_count": null,
   "id": "14dba323-31d5-46de-8349-bbb629923154",
   "metadata": {},
   "outputs": [],
   "source": [
    "len([f for f in paths if 'ipynb_checkpoints' not in f])"
   ]
  },
  {
   "cell_type": "code",
   "execution_count": null,
   "id": "1b9032d7-0234-4b4d-98de-74e00a7f20bb",
   "metadata": {},
   "outputs": [],
   "source": [
    "# remove ipynb_checkpoints\n",
    "#df[df['path']=='bmc/pdf/10.1186_2041-1480-4-39.pdf']\n",
    "\n",
    "# Remove duplicates\n",
    "df['nan_count'] = df.isna().sum(axis=1)\n",
    "df_sorted = df.sort_values(by=['path', 'nan_count'])\n",
    "df_unique = df_sorted.drop_duplicates(subset='path', keep='first')\n",
    "df_unique = df_unique.drop(columns=['nan_count'])\n",
    "\n",
    "# Resulting DataFrame\n",
    "#len(df_unique)\n",
    "\n",
    "# re-assign\n",
    "df = pd.DataFrame(df_unique)\n",
    "\n",
    "len(df)"
   ]
  },
  {
   "cell_type": "code",
   "execution_count": null,
   "id": "214e6062-88c7-4a7b-a5c8-48917381257c",
   "metadata": {},
   "outputs": [],
   "source": [
    "df[df['path']=='arxiv/pdf/2407.20572v1.pdf']['nougat'].iloc[0][:3000]"
   ]
  },
  {
   "cell_type": "code",
   "execution_count": null,
   "id": "bbe8803b-20fd-48ea-8816-972dab08f68e",
   "metadata": {},
   "outputs": [],
   "source": []
  }
 ],
 "metadata": {
  "kernelspec": {
   "display_name": "bo",
   "language": "python",
   "name": "bo"
  },
  "language_info": {
   "codemirror_mode": {
    "name": "ipython",
    "version": 3
   },
   "file_extension": ".py",
   "mimetype": "text/x-python",
   "name": "python",
   "nbconvert_exporter": "python",
   "pygments_lexer": "ipython3",
   "version": "3.11.9"
  }
 },
 "nbformat": 4,
 "nbformat_minor": 5
}
