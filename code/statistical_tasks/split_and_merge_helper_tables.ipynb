{
 "cells": [
  {
   "cell_type": "code",
   "execution_count": 1,
   "id": "aca1566b-8efd-413f-9036-d82bd718a3cc",
   "metadata": {},
   "outputs": [],
   "source": [
    "import pandas as pd\n",
    "from pathlib import Path\n",
    "import numpy as np\n",
    "import os, json\n",
    "from matplotlib import pyplot as plt"
   ]
  },
  {
   "cell_type": "markdown",
   "id": "cf5fd668-c5d0-4810-bb9d-553aa7ce854d",
   "metadata": {},
   "source": [
    "## Crucial script to manage dataframes\n",
    "- including parser output (and computed BLEU scores)\n",
    "- merging inferred categories\n",
    "- subset and store `parser_output` and `meta_and_metrics_only` dataframes"
   ]
  },
  {
   "cell_type": "code",
   "execution_count": 2,
   "id": "6f8de2c6-6774-418e-a928-4a03200abf91",
   "metadata": {},
   "outputs": [
    {
     "name": "stderr",
     "output_type": "stream",
     "text": [
      "/home/siebenschuh/.local/lib/python3.11/site-packages/numpy/_core/fromnumeric.py:57: FutureWarning: 'DataFrame.swapaxes' is deprecated and will be removed in a future version. Please use 'DataFrame.transpose' instead.\n",
      "  return bound(*args, **kwds)\n"
     ]
    }
   ],
   "source": [
    "# Define the path to the CSV file\n",
    "csv_path = Path('/lus/eagle/projects/argonne_tpc/siebenschuh/aurora_gpt/database/db_pypdf_last_run.csv')\n",
    "\n",
    "# Load the CSV file\n",
    "df = pd.read_csv(csv_path, sep='|')\n",
    "\n",
    "# Define the number of splits\n",
    "num_splits = 5\n",
    "\n",
    "# Split the dataframe into 5 pieces\n",
    "split_dfs = np.array_split(df, num_splits)\n",
    "\n",
    "# Save each split to a separate CSV file with headers\n",
    "output_base = '/lus/eagle/projects/argonne_tpc/siebenschuh/aurora_gpt/database/db_pypdf_last_run'\n",
    "for i, split_df in enumerate(split_dfs):\n",
    "    split_df.to_csv(f\"{output_base}{i}.csv\", sep='|', index=False)  # Save with the split number in the file name"
   ]
  },
  {
   "cell_type": "markdown",
   "id": "47d47b24-853f-4145-8265-3ba8513fc125",
   "metadata": {},
   "source": [
    "# 2. Merge processed subframes (with `text` and care etc.) DFs back into one"
   ]
  },
  {
   "cell_type": "code",
   "execution_count": 2,
   "id": "1e76ac6c-8602-49a2-8b5c-5699b6cd8fc1",
   "metadata": {},
   "outputs": [],
   "source": [
    "# Save each split to a separate CSV file with headers (stupid error: ended up in pagewise)\n",
    "output_base = '/lus/eagle/projects/argonne_tpc/siebenschuh/aurora_gpt/database/db_pypdf_last_run_processed_'\n",
    "df_list = []\n",
    "\n",
    "num_splits = 5\n",
    "for i in range(num_splits):\n",
    "    df_loc = pd.read_csv(f\"{output_base}{i}.csv\", sep='|')  # Save with the split number in the file name\n",
    "    df_list.append(df_loc)"
   ]
  },
  {
   "cell_type": "code",
   "execution_count": 3,
   "id": "e82aff1a-7e80-490b-b288-35d66416de73",
   "metadata": {},
   "outputs": [],
   "source": [
    "# merge into one\n",
    "df_merged = pd.concat(df_list, axis=0, ignore_index=True)"
   ]
  },
  {
   "cell_type": "code",
   "execution_count": 4,
   "id": "a8de673d-7a23-4145-93fc-a2bfb882d016",
   "metadata": {},
   "outputs": [
    {
     "data": {
      "text/plain": [
       "24968"
      ]
     },
     "execution_count": 4,
     "metadata": {},
     "output_type": "execute_result"
    }
   ],
   "source": [
    "len(df_merged)"
   ]
  },
  {
   "cell_type": "code",
   "execution_count": 5,
   "id": "bbfa77eb-ab8e-4613-a3b9-f68640d4daf7",
   "metadata": {},
   "outputs": [],
   "source": [
    "# store \n",
    "df_merged.to_csv('/lus/eagle/projects/argonne_tpc/siebenschuh/aurora_gpt/database/db_pypdf_last_run_processed.csv', sep='|', index=None)"
   ]
  },
  {
   "cell_type": "markdown",
   "id": "7c541e29-b0b5-4abd-9ab8-7d720b210776",
   "metadata": {},
   "source": [
    "## 3. Merge this df onto the previous one"
   ]
  },
  {
   "cell_type": "code",
   "execution_count": 6,
   "id": "b113e0ca-5e41-4973-9589-2cd1719a746d",
   "metadata": {},
   "outputs": [
    {
     "name": "stdout",
     "output_type": "stream",
     "text": [
      "CPU times: user 1min 53s, sys: 19.8 s, total: 2min 13s\n",
      "Wall time: 2min 14s\n"
     ]
    }
   ],
   "source": [
    "%%time\n",
    "\n",
    "p_output_and_metrics = Path('/eagle/projects/argonne_tpc/siebenschuh/aurora_gpt/database/FINAL_TABLES/parser_output_with_metrics.csv')\n",
    "\n",
    "df_om = pd.read_csv(p_output_and_metrics, sep='|')"
   ]
  },
  {
   "cell_type": "code",
   "execution_count": 7,
   "id": "920964c5-01c0-416d-8d75-ee6e1d4645fb",
   "metadata": {},
   "outputs": [
    {
     "data": {
      "text/plain": [
       "23398"
      ]
     },
     "execution_count": 7,
     "metadata": {},
     "output_type": "execute_result"
    }
   ],
   "source": [
    "len(df_om)"
   ]
  },
  {
   "cell_type": "markdown",
   "id": "0362de01-0d03-42e1-837c-b08746965b45",
   "metadata": {},
   "source": [
    "## 4. `FINAL_parser_output_and_metrics.csv`\n",
    "- corrected `pypdf` (that may be false) and includes new addition `tesseract`"
   ]
  },
  {
   "cell_type": "code",
   "execution_count": 2,
   "id": "9fab3ee7-6163-4ac1-ae67-5ef3d958b198",
   "metadata": {},
   "outputs": [],
   "source": [
    "# load tesseract/pypdf proc frame\n",
    "# drop columns : ['Unnamed: 0', 'html'] from df_merged\n",
    "\n",
    "# UNCOMMENT if `df_merged not computed a few cells up\n",
    "#df_merged = pd.read_csv('/lus/eagle/projects/argonne_tpc/siebenschuh/aurora_gpt/database/tesseract_and_pypdf_processed.csv', sep='|')\n",
    "#df_merged = df_merged.drop(columns=['Unnamed: 0', 'html'])"
   ]
  },
  {
   "cell_type": "code",
   "execution_count": 6,
   "id": "624f37f6-40cb-44e3-abab-03944d21a91e",
   "metadata": {},
   "outputs": [],
   "source": [
    "# UNCOMMENT if df_om not loaded a few cells up\n",
    "\n",
    "# load\n",
    "#p_output_and_metrics = Path('/lus/eagle/projects/argonne_tpc/siebenschuh/aurora_gpt/database/parser_output_with_metrics.csv')\n",
    "#df_om = pd.read_csv(p_output_and_metrics, sep='|')\n",
    "#df_om = df_om.drop(columns=[c for c in df_om.columns if ('pypdf' in c) or ('html' in c)])"
   ]
  },
  {
   "cell_type": "code",
   "execution_count": 31,
   "id": "9172a579-40b0-4f59-990e-e61093fc8a51",
   "metadata": {},
   "outputs": [
    {
     "data": {
      "text/plain": [
       "Index(['Unnamed: 0', 'path', 'html', 'pypdf', 'html_norm', 'pypdf_norm',\n",
       "       'bleu_pypdf', 'rouge_pypdf', 'car_pypdf', 'bleu_pypdf_norm',\n",
       "       'rouge_pypdf_norm', 'car_pypdf_norm'],\n",
       "      dtype='object')"
      ]
     },
     "execution_count": 31,
     "metadata": {},
     "output_type": "execute_result"
    }
   ],
   "source": [
    "df_merged.columns"
   ]
  },
  {
   "cell_type": "code",
   "execution_count": null,
   "id": "8d4faaaa-0802-489d-a5c9-c424f4c48bbf",
   "metadata": {},
   "outputs": [],
   "source": [
    "# may drop everything `pypdf`"
   ]
  },
  {
   "cell_type": "code",
   "execution_count": 32,
   "id": "53cd1ee2-5253-4365-9814-14d0d6fc2136",
   "metadata": {},
   "outputs": [],
   "source": [
    "# merge the two\n",
    "df_combined = pd.merge(left=df_om[[c for c in df_om.columns if ('pypdf' not in c)]], \n",
    "                       right=df_merged[[c for c in df_merged.columns if ('html' not in c) and ('Unnamed' not in c)]], \n",
    "                       on='path', \n",
    "                       how='left')"
   ]
  },
  {
   "cell_type": "code",
   "execution_count": 33,
   "id": "606f51c6-76b9-4751-a458-139e0a4efb30",
   "metadata": {},
   "outputs": [
    {
     "data": {
      "text/plain": [
       "Index(['path', 'html', 'nougat', 'pymupdf', 'marker', 'grobid', 'tesseract',\n",
       "       'html_norm', 'nougat_norm', 'pymupdf_norm', 'grobid_norm',\n",
       "       'marker_norm', 'tesseract_norm', 'bleu_nougat', 'rouge_nougat',\n",
       "       'car_nougat', 'bleu_nougat_norm', 'rouge_nougat_norm',\n",
       "       'car_nougat_norm', 'bleu_pymupdf', 'rouge_pymupdf', 'car_pymupdf',\n",
       "       'bleu_pymupdf_norm', 'rouge_pymupdf_norm', 'car_pymupdf_norm',\n",
       "       'bleu_grobid', 'rouge_grobid', 'car_grobid', 'bleu_grobid_norm',\n",
       "       'rouge_grobid_norm', 'car_grobid_norm', 'bleu_marker', 'rouge_marker',\n",
       "       'car_marker', 'bleu_marker_norm', 'rouge_marker_norm',\n",
       "       'car_marker_norm', 'bleu_tesseract', 'rouge_tesseract', 'car_tesseract',\n",
       "       'bleu_tesseract_norm', 'rouge_tesseract_norm', 'car_tesseract_norm',\n",
       "       'category', 'subcategory', 'pypdf', 'pypdf_norm', 'bleu_pypdf',\n",
       "       'rouge_pypdf', 'car_pypdf', 'bleu_pypdf_norm', 'rouge_pypdf_norm',\n",
       "       'car_pypdf_norm'],\n",
       "      dtype='object')"
      ]
     },
     "execution_count": 33,
     "metadata": {},
     "output_type": "execute_result"
    }
   ],
   "source": [
    "df_combined.columns"
   ]
  },
  {
   "cell_type": "code",
   "execution_count": 36,
   "id": "23187804-bac0-4886-832b-09501248ddaa",
   "metadata": {},
   "outputs": [],
   "source": [
    "# sort columns by order\n",
    "df_combined = df_combined[['path', 'html', 'nougat', 'pymupdf', 'pypdf', 'marker', 'grobid', 'tesseract',\n",
    "       'html_norm', 'nougat_norm', 'pymupdf_norm', 'pypdf_norm', 'grobid_norm',\n",
    "       'marker_norm', 'tesseract_norm', 'bleu_nougat', 'rouge_nougat',\n",
    "       'car_nougat', 'bleu_nougat_norm', 'rouge_nougat_norm',\n",
    "       'car_nougat_norm', 'bleu_pymupdf', 'rouge_pymupdf', 'car_pymupdf',\n",
    "       'bleu_pymupdf_norm', 'rouge_pymupdf_norm', 'car_pymupdf_norm',\n",
    "       'bleu_grobid', 'rouge_grobid', 'car_grobid', 'bleu_grobid_norm',\n",
    "       'rouge_grobid_norm', 'car_grobid_norm', 'bleu_marker', 'rouge_marker',\n",
    "       'car_marker', 'bleu_marker_norm', 'rouge_marker_norm',\n",
    "       'car_marker_norm', 'bleu_tesseract', 'rouge_tesseract', 'car_tesseract',\n",
    "       'bleu_tesseract_norm', 'rouge_tesseract_norm', 'car_tesseract_norm', 'bleu_pypdf',\n",
    "       'rouge_pypdf', 'car_pypdf', 'bleu_pypdf_norm', 'rouge_pypdf_norm',\n",
    "       'car_pypdf_norm', 'category', 'subcategory']]"
   ]
  },
  {
   "cell_type": "code",
   "execution_count": 37,
   "id": "01c7980c-05f0-4017-ae0f-2fe4c8f17a51",
   "metadata": {},
   "outputs": [
    {
     "data": {
      "text/plain": [
       "Index(['path', 'html', 'nougat', 'pymupdf', 'pypdf', 'marker', 'grobid',\n",
       "       'tesseract', 'html_norm', 'nougat_norm', 'pymupdf_norm', 'pypdf_norm',\n",
       "       'grobid_norm', 'marker_norm', 'tesseract_norm', 'bleu_nougat',\n",
       "       'rouge_nougat', 'car_nougat', 'bleu_nougat_norm', 'rouge_nougat_norm',\n",
       "       'car_nougat_norm', 'bleu_pymupdf', 'rouge_pymupdf', 'car_pymupdf',\n",
       "       'bleu_pymupdf_norm', 'rouge_pymupdf_norm', 'car_pymupdf_norm',\n",
       "       'bleu_grobid', 'rouge_grobid', 'car_grobid', 'bleu_grobid_norm',\n",
       "       'rouge_grobid_norm', 'car_grobid_norm', 'bleu_marker', 'rouge_marker',\n",
       "       'car_marker', 'bleu_marker_norm', 'rouge_marker_norm',\n",
       "       'car_marker_norm', 'bleu_tesseract', 'rouge_tesseract', 'car_tesseract',\n",
       "       'bleu_tesseract_norm', 'rouge_tesseract_norm', 'car_tesseract_norm',\n",
       "       'bleu_pypdf', 'rouge_pypdf', 'car_pypdf', 'bleu_pypdf_norm',\n",
       "       'rouge_pypdf_norm', 'car_pypdf_norm', 'category', 'subcategory'],\n",
       "      dtype='object')"
      ]
     },
     "execution_count": 37,
     "metadata": {},
     "output_type": "execute_result"
    }
   ],
   "source": [
    "df_combined.columns"
   ]
  },
  {
   "cell_type": "code",
   "execution_count": 39,
   "id": "1bc9799e-890f-4b74-bd45-4c035eda4b35",
   "metadata": {},
   "outputs": [
    {
     "data": {
      "text/plain": [
       "23398"
      ]
     },
     "execution_count": 39,
     "metadata": {},
     "output_type": "execute_result"
    }
   ],
   "source": [
    "len(df_combined)"
   ]
  },
  {
   "cell_type": "code",
   "execution_count": 40,
   "id": "52d4984b-7767-45c7-b575-d5f0a4b2759b",
   "metadata": {},
   "outputs": [
    {
     "name": "stdout",
     "output_type": "stream",
     "text": [
      "CPU times: user 5min 42s, sys: 38.7 s, total: 6min 20s\n",
      "Wall time: 6min 25s\n"
     ]
    }
   ],
   "source": [
    "%%time\n",
    "\n",
    "# store this new DF: Will take 8min 19s (and produce a dataframe with the size of )\n",
    "df_combined.to_csv('/lus/eagle/projects/argonne_tpc/siebenschuh/aurora_gpt/database/FINAL_FINAL_parser_output_and_metrics.csv', sep='|', index=None)\n"
   ]
  },
  {
   "cell_type": "code",
   "execution_count": 44,
   "id": "2c0fcdd5-d67e-4cfd-9b4a-5b7f6bdb6d2c",
   "metadata": {},
   "outputs": [],
   "source": [
    "# Metrics and Meta only\n",
    "df_metrics_n_meta = df_combined[['path', 'bleu_nougat', 'rouge_nougat', 'car_nougat', \n",
    "                                 'bleu_nougat_norm', 'rouge_nougat_norm', 'car_nougat_norm', \n",
    "                                 'bleu_pymupdf', 'rouge_pymupdf', 'car_pymupdf',\n",
    "                                 'bleu_pymupdf_norm', 'rouge_pymupdf_norm', 'car_pymupdf_norm',\n",
    "                                 'bleu_grobid', 'rouge_grobid', 'car_grobid', \n",
    "                                 'bleu_grobid_norm', 'rouge_grobid_norm', 'car_grobid_norm', \n",
    "                                 'bleu_marker', 'rouge_marker', 'car_marker', \n",
    "                                 'bleu_marker_norm', 'rouge_marker_norm', 'car_marker_norm', \n",
    "                                 'bleu_tesseract', 'rouge_tesseract', 'car_tesseract',\n",
    "                                 'bleu_tesseract_norm', 'rouge_tesseract_norm', 'car_tesseract_norm', \n",
    "                                 'bleu_pypdf', 'rouge_pypdf', 'car_pypdf', \n",
    "                                 'bleu_pypdf_norm', 'rouge_pypdf_norm', 'car_pypdf_norm', \n",
    "                                 'category', 'subcategory']]"
   ]
  },
  {
   "cell_type": "code",
   "execution_count": 45,
   "id": "417af07a-96da-4675-b5b7-52f7f5ec0cd3",
   "metadata": {},
   "outputs": [],
   "source": [
    "df_metrics_n_meta.to_csv('/lus/eagle/projects/argonne_tpc/siebenschuh/aurora_gpt/database/FINAL_FINAL_meta_and_metrics_only.csv', sep='|', index=None)"
   ]
  },
  {
   "cell_type": "markdown",
   "id": "13c49df4-b69e-4709-ac02-f9af9466d1d3",
   "metadata": {},
   "source": [
    "## 4. Load inferred categories, merge them onto `metric_only` table"
   ]
  },
  {
   "cell_type": "code",
   "execution_count": null,
   "id": "e993877d-58f4-4a30-8f11-fca2e8dc2359",
   "metadata": {},
   "outputs": [],
   "source": [
    "import sys\n",
    "\n",
    "# Add the directory containing utils.py to the system path\n",
    "sys.path.append(str(Path('../data_assembly/category_inference').resolve()))\n",
    "\n",
    "# Import the methods from utils.py\n",
    "from utils import get_HF_frame, get_GPT4_frame, get_frame"
   ]
  },
  {
   "cell_type": "code",
   "execution_count": null,
   "id": "8df90d63-422a-4f3a-8df8-3a20b4c24e0d",
   "metadata": {},
   "outputs": [],
   "source": [
    "df_meta = get_frame()"
   ]
  },
  {
   "cell_type": "code",
   "execution_count": null,
   "id": "b051e186-b2f3-4bc2-bc7f-47dafd53d80e",
   "metadata": {},
   "outputs": [],
   "source": [
    "# show columns\n",
    "df_meta.columns"
   ]
  },
  {
   "cell_type": "code",
   "execution_count": null,
   "id": "3de1670e-fb4d-4efe-ab2e-e55b3d2b874e",
   "metadata": {},
   "outputs": [],
   "source": [
    "# merge meta onto df_combined\n",
    "df_m = pd.merge(left=df_combined, \n",
    "                right=df_meta, \n",
    "                on='path', \n",
    "                how='left')"
   ]
  },
  {
   "cell_type": "code",
   "execution_count": null,
   "id": "32072b1f-faf6-41c0-9dbd-9008481fd38a",
   "metadata": {},
   "outputs": [],
   "source": [
    "df_m.columns"
   ]
  },
  {
   "cell_type": "code",
   "execution_count": 28,
   "id": "4fa65155-d61e-4f7e-8b90-ca48995b71c8",
   "metadata": {},
   "outputs": [],
   "source": [
    "# o\n",
    "df_m.to_csv('/eagle/projects/argonne_tpc/siebenschuh/aurora_gpt/database/FINAL_TABLES/FINAL_FINAL_parser_output_with_metrics.csv', sep='|', index=None)"
   ]
  },
  {
   "cell_type": "code",
   "execution_count": 29,
   "id": "05d448c9-c5c1-4701-8540-2b830cd651eb",
   "metadata": {},
   "outputs": [],
   "source": [
    "# store meta & metrics only table\n",
    "df_meta_metrics_only = df_m[['path', \n",
    "                             'bleu_nougat', 'rouge_nougat', 'car_nougat', 'bleu_nougat_norm', 'rouge_nougat_norm', 'car_nougat_norm',\n",
    "                             'bleu_pymupdf', 'rouge_pymupdf', 'car_pymupdf', 'bleu_pymupdf_norm', 'rouge_pymupdf_norm', 'car_pymupdf_norm', \n",
    "                             'bleu_grobid', 'rouge_grobid', 'car_grobid', 'bleu_grobid_norm', 'rouge_grobid_norm', 'car_grobid_norm', \n",
    "                             'bleu_marker', 'rouge_marker', 'car_marker', 'bleu_marker_norm', 'rouge_marker_norm', 'car_marker_norm', \n",
    "                             'bleu_tesseract', 'rouge_tesseract', 'car_tesseract', 'bleu_tesseract_norm', 'rouge_tesseract_norm', 'car_tesseract_norm', \n",
    "                             'category', 'subcategory']]\n",
    "\n",
    "# store\n",
    "df_meta_metrics_only.to_csv('/eagle/projects/argonne_tpc/siebenschuh/aurora_gpt/database/FINAL_TABLES/FINAL_FINAL_meta_and_metrics_only.csv', sep='|', index=None)"
   ]
  },
  {
   "cell_type": "markdown",
   "id": "1c6c0dde-08ee-45ce-8ed9-f62779c67e99",
   "metadata": {},
   "source": [
    "## 5. Load `df_10240` and `df_1536`\n",
    "\n",
    "Create a modified version of `df_1536` called `df_mod_1536` that replaced text with either \"\", the tesseract, or the grobid parsed text.\n",
    "\n",
    "Also, store the respective BLEU score (of `0`, `bleu_tesseract`, or `bleu_grobid`) if needed."
   ]
  },
  {
   "cell_type": "code",
   "execution_count": 49,
   "id": "0e0b5936-52c5-460f-908e-56e90c3dd4b8",
   "metadata": {},
   "outputs": [],
   "source": [
    "# paths to dfs\n",
    "p_1536 = Path('/home/siebenschuh/Projects/dataprep/code/data_assembly/testset_1536/df_1536.csv')\n",
    "p_10240 = Path('/home/siebenschuh/Projects/dataprep/code/data_assembly/testset_10240/df_10240.csv')\n",
    "\n",
    "# laod DFs\n",
    "df_1536  = pd.read_csv(p_1536, sep='|')\n",
    "df_10240 = pd.read_csv(p_10240, sep='|')\n",
    "\n",
    "# store in new location\n",
    "df_1536.to_csv('/lus/eagle/projects/argonne_tpc/siebenschuh/aurora_gpt/database/scaling_data/frames/df_orig_1536.csv', index=None, sep='|')\n",
    "df_10240.to_csv('/lus/eagle/projects/argonne_tpc/siebenschuh/aurora_gpt/database/scaling_data/frames/df_orig_10240.csv', index=None, sep='|')"
   ]
  },
  {
   "cell_type": "code",
   "execution_count": 13,
   "id": "4578d76c-654d-4c3b-a8ce-12c92d6ebbcb",
   "metadata": {},
   "outputs": [
    {
     "data": {
      "text/html": [
       "<div>\n",
       "<style scoped>\n",
       "    .dataframe tbody tr th:only-of-type {\n",
       "        vertical-align: middle;\n",
       "    }\n",
       "\n",
       "    .dataframe tbody tr th {\n",
       "        vertical-align: top;\n",
       "    }\n",
       "\n",
       "    .dataframe thead th {\n",
       "        text-align: right;\n",
       "    }\n",
       "</style>\n",
       "<table border=\"1\" class=\"dataframe\">\n",
       "  <thead>\n",
       "    <tr style=\"text-align: right;\">\n",
       "      <th></th>\n",
       "      <th>path</th>\n",
       "      <th>publisher</th>\n",
       "      <th>class</th>\n",
       "      <th>subclass</th>\n",
       "      <th>class_src</th>\n",
       "      <th>subclass_src</th>\n",
       "      <th>subset</th>\n",
       "      <th>manipulated</th>\n",
       "      <th>text_layer</th>\n",
       "      <th>emb_txt_src</th>\n",
       "      <th>text</th>\n",
       "      <th>text_bleu</th>\n",
       "    </tr>\n",
       "  </thead>\n",
       "  <tbody>\n",
       "    <tr>\n",
       "      <th>0</th>\n",
       "      <td>nature/pdf/n_a_t_u_r_e_2_5_5_1_1.pdf</td>\n",
       "      <td>Nature</td>\n",
       "      <td>Nature</td>\n",
       "      <td>-</td>\n",
       "      <td>-</td>\n",
       "      <td>-</td>\n",
       "      <td>test</td>\n",
       "      <td>1</td>\n",
       "      <td>0</td>\n",
       "      <td>-</td>\n",
       "      <td>-</td>\n",
       "      <td>0.000000</td>\n",
       "    </tr>\n",
       "    <tr>\n",
       "      <th>1</th>\n",
       "      <td>nature/pdf/s_4_1_5_8_6_-_0_2_4_-_0_7_7_0_2_-_8...</td>\n",
       "      <td>Nature</td>\n",
       "      <td>Nature</td>\n",
       "      <td>-</td>\n",
       "      <td>-</td>\n",
       "      <td>-</td>\n",
       "      <td>test</td>\n",
       "      <td>1</td>\n",
       "      <td>1</td>\n",
       "      <td>grobid</td>\n",
       "      <td>Groundwater is the most ubiquitous source of l...</td>\n",
       "      <td>0.183942</td>\n",
       "    </tr>\n",
       "    <tr>\n",
       "      <th>2</th>\n",
       "      <td>nature/pdf/n_a_t_u_r_e_2_6_0_0_2.pdf</td>\n",
       "      <td>Nature</td>\n",
       "      <td>Nature</td>\n",
       "      <td>-</td>\n",
       "      <td>-</td>\n",
       "      <td>-</td>\n",
       "      <td>test</td>\n",
       "      <td>1</td>\n",
       "      <td>1</td>\n",
       "      <td>tesseract</td>\n",
       "      <td>ARTICLE\\n\\n1doi:10.1038/nature26002\\n\\nPlacent...</td>\n",
       "      <td>0.434241</td>\n",
       "    </tr>\n",
       "    <tr>\n",
       "      <th>3</th>\n",
       "      <td>nature/pdf/n_a_t_u_r_e_1_3_8_1_2.pdf</td>\n",
       "      <td>Nature</td>\n",
       "      <td>Nature</td>\n",
       "      <td>-</td>\n",
       "      <td>-</td>\n",
       "      <td>-</td>\n",
       "      <td>test</td>\n",
       "      <td>1</td>\n",
       "      <td>1</td>\n",
       "      <td>grobid</td>\n",
       "      <td>The monarch butterfly, Danaus plexippus, is fa...</td>\n",
       "      <td>0.041296</td>\n",
       "    </tr>\n",
       "    <tr>\n",
       "      <th>4</th>\n",
       "      <td>nature/pdf/n_a_t_u_r_e_1_3_5_6_8.pdf</td>\n",
       "      <td>Nature</td>\n",
       "      <td>Nature</td>\n",
       "      <td>-</td>\n",
       "      <td>-</td>\n",
       "      <td>-</td>\n",
       "      <td>test</td>\n",
       "      <td>1</td>\n",
       "      <td>0</td>\n",
       "      <td>-</td>\n",
       "      <td>-</td>\n",
       "      <td>0.000000</td>\n",
       "    </tr>\n",
       "  </tbody>\n",
       "</table>\n",
       "</div>"
      ],
      "text/plain": [
       "                                                path publisher   class  \\\n",
       "0               nature/pdf/n_a_t_u_r_e_2_5_5_1_1.pdf    Nature  Nature   \n",
       "1  nature/pdf/s_4_1_5_8_6_-_0_2_4_-_0_7_7_0_2_-_8...    Nature  Nature   \n",
       "2               nature/pdf/n_a_t_u_r_e_2_6_0_0_2.pdf    Nature  Nature   \n",
       "3               nature/pdf/n_a_t_u_r_e_1_3_8_1_2.pdf    Nature  Nature   \n",
       "4               nature/pdf/n_a_t_u_r_e_1_3_5_6_8.pdf    Nature  Nature   \n",
       "\n",
       "  subclass class_src subclass_src subset  manipulated  text_layer emb_txt_src  \\\n",
       "0        -         -            -   test            1           0           -   \n",
       "1        -         -            -   test            1           1      grobid   \n",
       "2        -         -            -   test            1           1   tesseract   \n",
       "3        -         -            -   test            1           1      grobid   \n",
       "4        -         -            -   test            1           0           -   \n",
       "\n",
       "                                                text  text_bleu  \n",
       "0                                                  -   0.000000  \n",
       "1  Groundwater is the most ubiquitous source of l...   0.183942  \n",
       "2  ARTICLE\\n\\n1doi:10.1038/nature26002\\n\\nPlacent...   0.434241  \n",
       "3  The monarch butterfly, Danaus plexippus, is fa...   0.041296  \n",
       "4                                                  -   0.000000  "
      ]
     },
     "execution_count": 13,
     "metadata": {},
     "output_type": "execute_result"
    }
   ],
   "source": [
    "# Set random seed for reproducibility\n",
    "np.random.seed(42)\n",
    "\n",
    "# Assume 'df_1536' and 'df_combined' DataFrames are defined\n",
    "# by def, all entries in df_1536 are \"manipulated\"\n",
    "df_1536['manipulated'] = 1\n",
    "\n",
    "# Step 1: Create 'text_layer' column\n",
    "df_1536['text_layer'] = np.where(\n",
    "    df_1536['manipulated'] == 1,\n",
    "    np.random.choice([0, 1], size=len(df_1536), p=[0.5, 0.5]),\n",
    "    1  # Set to 1 when manipulated == 0\n",
    ")\n",
    "\n",
    "# Step 2: Create 'emb_txt_src' column\n",
    "df_1536['emb_txt_src'] = np.where(\n",
    "    df_1536['text_layer'] == 1,\n",
    "    np.random.choice(['tesseract', 'grobid'], size=len(df_1536), p=[0.5, 0.5]),\n",
    "    \"-\"  # No source when 'text_layer' is not 1\n",
    ")\n",
    "\n",
    "# Step 3: Create 'text' and 'text_bleu' columns with conditional assignments\n",
    "def assign_text_and_bleu(row):\n",
    "    # Case where 'manipulated' == 0\n",
    "    if row['manipulated'] == 0:\n",
    "        return row['html'], 0.0  # Default BLEU score as 0 for unmanipulated rows\n",
    "    \n",
    "    # Case where 'manipulated' == 1 and we need lookup in 'df_combined'\n",
    "    elif row['manipulated'] == 1:\n",
    "        # Find the corresponding row in df_combined with the same 'path'\n",
    "        matching_row = df_combined[df_combined['path'] == row['path']]\n",
    "        \n",
    "        # Assign text and text_bleu based on 'emb_txt_src'\n",
    "        if row['emb_txt_src'] == 'tesseract' and not matching_row.empty:\n",
    "            return matching_row.iloc[0]['tesseract'], matching_row.iloc[0]['bleu_tesseract']\n",
    "        elif row['emb_txt_src'] == 'grobid' and not matching_row.empty:\n",
    "            return matching_row.iloc[0]['grobid'], matching_row.iloc[0]['bleu_grobid']\n",
    "    \n",
    "    # Default return if no conditions match\n",
    "    return \"-\", 0.0\n",
    "\n",
    "# Apply the function to each row, expanding into 'text' and 'text_bleu' columns\n",
    "df_1536[['text', 'text_bleu']] = df_1536.apply(assign_text_and_bleu, axis=1, result_type=\"expand\")\n",
    "\n",
    "# Display the updated DataFrame\n",
    "df_1536.head()\n"
   ]
  },
  {
   "cell_type": "code",
   "execution_count": 48,
   "id": "0b5133f2-2e15-4869-887e-4e977f9ff7d0",
   "metadata": {},
   "outputs": [],
   "source": [
    "# store\n",
    "df_1536.to_csv('/lus/eagle/projects/argonne_tpc/siebenschuh/aurora_gpt/database/scaling_data/frames/df_mod_1536.csv', sep='|', index=None)"
   ]
  },
  {
   "cell_type": "code",
   "execution_count": 17,
   "id": "be09dd46-c621-42b7-87d4-3bac443a138e",
   "metadata": {},
   "outputs": [
    {
     "data": {
      "text/plain": [
       "(array(['Nature', 'arxiv', 'biorxiv', 'bmc', 'mdpi', 'medrxiv'],\n",
       "       dtype=object),\n",
       " array([256, 256, 256, 256, 256, 256]))"
      ]
     },
     "execution_count": 17,
     "metadata": {},
     "output_type": "execute_result"
    }
   ],
   "source": [
    "np.unique(df_1536['publisher'], return_counts=True)"
   ]
  },
  {
   "cell_type": "code",
   "execution_count": 20,
   "id": "9350c15e-dddc-4229-82ed-1887fb154954",
   "metadata": {},
   "outputs": [
    {
     "data": {
      "text/plain": [
       "Index(['path', 'publisher', 'class', 'subclass', 'class_src', 'subclass_src',\n",
       "       'subset'],\n",
       "      dtype='object')"
      ]
     },
     "execution_count": 20,
     "metadata": {},
     "output_type": "execute_result"
    }
   ],
   "source": [
    "df_10240.columns"
   ]
  },
  {
   "cell_type": "code",
   "execution_count": 23,
   "id": "895de2cb-f605-4ecc-a276-99a5091f12f3",
   "metadata": {},
   "outputs": [
    {
     "data": {
      "text/html": [
       "<div>\n",
       "<style scoped>\n",
       "    .dataframe tbody tr th:only-of-type {\n",
       "        vertical-align: middle;\n",
       "    }\n",
       "\n",
       "    .dataframe tbody tr th {\n",
       "        vertical-align: top;\n",
       "    }\n",
       "\n",
       "    .dataframe thead th {\n",
       "        text-align: right;\n",
       "    }\n",
       "</style>\n",
       "<table border=\"1\" class=\"dataframe\">\n",
       "  <thead>\n",
       "    <tr style=\"text-align: right;\">\n",
       "      <th></th>\n",
       "      <th>path</th>\n",
       "      <th>publisher</th>\n",
       "      <th>class</th>\n",
       "      <th>subclass</th>\n",
       "      <th>class_src</th>\n",
       "      <th>subclass_src</th>\n",
       "      <th>subset</th>\n",
       "      <th>manipulated</th>\n",
       "      <th>text_layer</th>\n",
       "      <th>emb_txt_src</th>\n",
       "      <th>text</th>\n",
       "      <th>text_bleu</th>\n",
       "    </tr>\n",
       "  </thead>\n",
       "  <tbody>\n",
       "    <tr>\n",
       "      <th>0</th>\n",
       "      <td>nature/pdf/n_a_t_u_r_e_0_9_4_2_8.pdf</td>\n",
       "      <td>Nature</td>\n",
       "      <td>Nature</td>\n",
       "      <td>-</td>\n",
       "      <td>-</td>\n",
       "      <td>-</td>\n",
       "      <td>val</td>\n",
       "      <td>0</td>\n",
       "      <td>1</td>\n",
       "      <td>pymupdf</td>\n",
       "      <td>ARTICLE\\ndoi:10.1038/nature09428\\nAn unprecede...</td>\n",
       "      <td>0.492119</td>\n",
       "    </tr>\n",
       "    <tr>\n",
       "      <th>1</th>\n",
       "      <td>nature/pdf/s_4_1_5_8_6_-_0_2_2_-_0_5_3_1_3_-_9...</td>\n",
       "      <td>Nature</td>\n",
       "      <td>Nature</td>\n",
       "      <td>-</td>\n",
       "      <td>-</td>\n",
       "      <td>-</td>\n",
       "      <td>test</td>\n",
       "      <td>0</td>\n",
       "      <td>1</td>\n",
       "      <td>pymupdf</td>\n",
       "      <td>260    Nature    Vol 611    10 November 2022\\n...</td>\n",
       "      <td>0.490592</td>\n",
       "    </tr>\n",
       "    <tr>\n",
       "      <th>2</th>\n",
       "      <td>nature/pdf/s_4_1_5_8_6_-_0_2_2_-_0_5_3_9_1_-_9...</td>\n",
       "      <td>Nature</td>\n",
       "      <td>Nature</td>\n",
       "      <td>-</td>\n",
       "      <td>-</td>\n",
       "      <td>-</td>\n",
       "      <td>val</td>\n",
       "      <td>0</td>\n",
       "      <td>1</td>\n",
       "      <td>pymupdf</td>\n",
       "      <td>Nature    Vol 611    17 November 2022    507\\n...</td>\n",
       "      <td>0.616820</td>\n",
       "    </tr>\n",
       "    <tr>\n",
       "      <th>3</th>\n",
       "      <td>nature/pdf/s_4_1_5_8_6_-_0_2_2_-_0_5_4_8_2_-_7...</td>\n",
       "      <td>Nature</td>\n",
       "      <td>Nature</td>\n",
       "      <td>-</td>\n",
       "      <td>-</td>\n",
       "      <td>-</td>\n",
       "      <td>test</td>\n",
       "      <td>0</td>\n",
       "      <td>1</td>\n",
       "      <td>pymupdf</td>\n",
       "      <td>540    Nature    Vol 612    15 December 2022\\n...</td>\n",
       "      <td>0.550893</td>\n",
       "    </tr>\n",
       "    <tr>\n",
       "      <th>4</th>\n",
       "      <td>nature/pdf/n_a_t_u_r_e_0_4_1_7_7.pdf</td>\n",
       "      <td>Nature</td>\n",
       "      <td>Nature</td>\n",
       "      <td>-</td>\n",
       "      <td>-</td>\n",
       "      <td>-</td>\n",
       "      <td>test</td>\n",
       "      <td>0</td>\n",
       "      <td>1</td>\n",
       "      <td>pymupdf</td>\n",
       "      <td>© 2006 Nature Publishing Group \\nA quantitativ...</td>\n",
       "      <td>0.637462</td>\n",
       "    </tr>\n",
       "  </tbody>\n",
       "</table>\n",
       "</div>"
      ],
      "text/plain": [
       "                                                path publisher   class  \\\n",
       "0               nature/pdf/n_a_t_u_r_e_0_9_4_2_8.pdf    Nature  Nature   \n",
       "1  nature/pdf/s_4_1_5_8_6_-_0_2_2_-_0_5_3_1_3_-_9...    Nature  Nature   \n",
       "2  nature/pdf/s_4_1_5_8_6_-_0_2_2_-_0_5_3_9_1_-_9...    Nature  Nature   \n",
       "3  nature/pdf/s_4_1_5_8_6_-_0_2_2_-_0_5_4_8_2_-_7...    Nature  Nature   \n",
       "4               nature/pdf/n_a_t_u_r_e_0_4_1_7_7.pdf    Nature  Nature   \n",
       "\n",
       "  subclass class_src subclass_src subset  manipulated  text_layer emb_txt_src  \\\n",
       "0        -         -            -    val            0           1     pymupdf   \n",
       "1        -         -            -   test            0           1     pymupdf   \n",
       "2        -         -            -    val            0           1     pymupdf   \n",
       "3        -         -            -   test            0           1     pymupdf   \n",
       "4        -         -            -   test            0           1     pymupdf   \n",
       "\n",
       "                                                text  text_bleu  \n",
       "0  ARTICLE\\ndoi:10.1038/nature09428\\nAn unprecede...   0.492119  \n",
       "1  260    Nature    Vol 611    10 November 2022\\n...   0.490592  \n",
       "2  Nature    Vol 611    17 November 2022    507\\n...   0.616820  \n",
       "3  540    Nature    Vol 612    15 December 2022\\n...   0.550893  \n",
       "4  © 2006 Nature Publishing Group \\nA quantitativ...   0.637462  "
      ]
     },
     "execution_count": 23,
     "metadata": {},
     "output_type": "execute_result"
    }
   ],
   "source": [
    "# never manipulated (except the rows that will be replaced by 1536)\n",
    "df_10240['manipulated'] = 0\n",
    "df_10240['text_layer'] = 1\n",
    "df_10240['emb_txt_src'] = 'pymupdf'\n",
    "\n",
    "# Merge df_10240 with df_om based on 'path' to get 'text' and 'text_bleu' columns\n",
    "df_10240 = df_10240.merge(df_om[['path', 'pymupdf', 'bleu_pymupdf']], on='path', how='left')\n",
    "\n",
    "# Rename the columns after the merge\n",
    "df_10240 = df_10240.rename(columns={'pymupdf': 'text', 'bleu_pymupdf': 'text_bleu'})\n",
    "\n",
    "# Display the updated df_10240\n",
    "df_10240.head()"
   ]
  },
  {
   "cell_type": "code",
   "execution_count": 41,
   "id": "48837547-0a0f-4e2e-ad68-d7c2104e970e",
   "metadata": {},
   "outputs": [
    {
     "data": {
      "text/html": [
       "<div>\n",
       "<style scoped>\n",
       "    .dataframe tbody tr th:only-of-type {\n",
       "        vertical-align: middle;\n",
       "    }\n",
       "\n",
       "    .dataframe tbody tr th {\n",
       "        vertical-align: top;\n",
       "    }\n",
       "\n",
       "    .dataframe thead th {\n",
       "        text-align: right;\n",
       "    }\n",
       "</style>\n",
       "<table border=\"1\" class=\"dataframe\">\n",
       "  <thead>\n",
       "    <tr style=\"text-align: right;\">\n",
       "      <th></th>\n",
       "      <th>path</th>\n",
       "      <th>publisher</th>\n",
       "      <th>class</th>\n",
       "      <th>subclass</th>\n",
       "      <th>class_src</th>\n",
       "      <th>subclass_src</th>\n",
       "      <th>subset</th>\n",
       "      <th>manipulated</th>\n",
       "      <th>text_layer</th>\n",
       "      <th>emb_txt_src</th>\n",
       "      <th>text</th>\n",
       "      <th>text_bleu</th>\n",
       "    </tr>\n",
       "  </thead>\n",
       "  <tbody>\n",
       "    <tr>\n",
       "      <th>0</th>\n",
       "      <td>nature/pdf/s_4_1_5_8_6_-_0_2_2_-_0_5_3_9_1_-_9...</td>\n",
       "      <td>Nature</td>\n",
       "      <td>Nature</td>\n",
       "      <td>-</td>\n",
       "      <td>-</td>\n",
       "      <td>-</td>\n",
       "      <td>val</td>\n",
       "      <td>0</td>\n",
       "      <td>1</td>\n",
       "      <td>pymupdf</td>\n",
       "      <td>Nature    Vol 611    17 November 2022    507\\n...</td>\n",
       "      <td>0.616820</td>\n",
       "    </tr>\n",
       "    <tr>\n",
       "      <th>1</th>\n",
       "      <td>nature/pdf/s_4_1_5_8_6_-_0_2_2_-_0_5_4_8_2_-_7...</td>\n",
       "      <td>Nature</td>\n",
       "      <td>Nature</td>\n",
       "      <td>-</td>\n",
       "      <td>-</td>\n",
       "      <td>-</td>\n",
       "      <td>test</td>\n",
       "      <td>0</td>\n",
       "      <td>1</td>\n",
       "      <td>pymupdf</td>\n",
       "      <td>540    Nature    Vol 612    15 December 2022\\n...</td>\n",
       "      <td>0.550893</td>\n",
       "    </tr>\n",
       "    <tr>\n",
       "      <th>2</th>\n",
       "      <td>nature/pdf/n_a_t_u_r_e_0_4_1_7_7.pdf</td>\n",
       "      <td>Nature</td>\n",
       "      <td>Nature</td>\n",
       "      <td>-</td>\n",
       "      <td>-</td>\n",
       "      <td>-</td>\n",
       "      <td>test</td>\n",
       "      <td>0</td>\n",
       "      <td>1</td>\n",
       "      <td>pymupdf</td>\n",
       "      <td>© 2006 Nature Publishing Group \\nA quantitativ...</td>\n",
       "      <td>0.637462</td>\n",
       "    </tr>\n",
       "    <tr>\n",
       "      <th>3</th>\n",
       "      <td>nature/pdf/s_4_1_5_8_6_-_0_2_2_-_0_5_5_3_4_-_y...</td>\n",
       "      <td>Nature</td>\n",
       "      <td>Nature</td>\n",
       "      <td>-</td>\n",
       "      <td>-</td>\n",
       "      <td>-</td>\n",
       "      <td>test</td>\n",
       "      <td>0</td>\n",
       "      <td>1</td>\n",
       "      <td>pymupdf</td>\n",
       "      <td>120    Nature    Vol 613    5 January 2023\\nAr...</td>\n",
       "      <td>0.588498</td>\n",
       "    </tr>\n",
       "    <tr>\n",
       "      <th>4</th>\n",
       "      <td>nature/pdf/s_4_1_5_8_6_-_0_1_8_-_0_3_8_2_-_x.pdf</td>\n",
       "      <td>Nature</td>\n",
       "      <td>Nature</td>\n",
       "      <td>-</td>\n",
       "      <td>-</td>\n",
       "      <td>-</td>\n",
       "      <td>val</td>\n",
       "      <td>0</td>\n",
       "      <td>1</td>\n",
       "      <td>pymupdf</td>\n",
       "      <td>Article\\nhttps://doi.org/10.1038/s41586-018-03...</td>\n",
       "      <td>0.530235</td>\n",
       "    </tr>\n",
       "  </tbody>\n",
       "</table>\n",
       "</div>"
      ],
      "text/plain": [
       "                                                path publisher   class  \\\n",
       "0  nature/pdf/s_4_1_5_8_6_-_0_2_2_-_0_5_3_9_1_-_9...    Nature  Nature   \n",
       "1  nature/pdf/s_4_1_5_8_6_-_0_2_2_-_0_5_4_8_2_-_7...    Nature  Nature   \n",
       "2               nature/pdf/n_a_t_u_r_e_0_4_1_7_7.pdf    Nature  Nature   \n",
       "3  nature/pdf/s_4_1_5_8_6_-_0_2_2_-_0_5_5_3_4_-_y...    Nature  Nature   \n",
       "4   nature/pdf/s_4_1_5_8_6_-_0_1_8_-_0_3_8_2_-_x.pdf    Nature  Nature   \n",
       "\n",
       "  subclass class_src subclass_src subset  manipulated  text_layer emb_txt_src  \\\n",
       "0        -         -            -    val            0           1     pymupdf   \n",
       "1        -         -            -   test            0           1     pymupdf   \n",
       "2        -         -            -   test            0           1     pymupdf   \n",
       "3        -         -            -   test            0           1     pymupdf   \n",
       "4        -         -            -    val            0           1     pymupdf   \n",
       "\n",
       "                                                text  text_bleu  \n",
       "0  Nature    Vol 611    17 November 2022    507\\n...   0.616820  \n",
       "1  540    Nature    Vol 612    15 December 2022\\n...   0.550893  \n",
       "2  © 2006 Nature Publishing Group \\nA quantitativ...   0.637462  \n",
       "3  120    Nature    Vol 613    5 January 2023\\nAr...   0.588498  \n",
       "4  Article\\nhttps://doi.org/10.1038/s41586-018-03...   0.530235  "
      ]
     },
     "execution_count": 41,
     "metadata": {},
     "output_type": "execute_result"
    }
   ],
   "source": [
    "common_paths = df_10240['path'].isin(df_1536['path'])\n",
    "\n",
    "# Remove matching rows in df_10240\n",
    "df_mod_10240 = df_10240[~common_paths]\n",
    "\n",
    "# Concatenate df_10240 with df_1536 to replace the removed rows\n",
    "df_mod_10240 = pd.concat([df_mod_10240, df_1536], ignore_index=True)\n",
    "\n",
    "# Display the updated DataFrame\n",
    "df_mod_10240.head()\n"
   ]
  },
  {
   "cell_type": "code",
   "execution_count": 47,
   "id": "e0655e9f-8ab9-4d71-b498-3d566d9674b2",
   "metadata": {},
   "outputs": [],
   "source": [
    "df_mod_10240.to_csv('/lus/eagle/projects/argonne_tpc/siebenschuh/aurora_gpt/database/scaling_data/frames/df_mod_10240.csv', index=None, sep='|')"
   ]
  },
  {
   "cell_type": "code",
   "execution_count": 42,
   "id": "809ea4ca-25d2-4581-a053-c64fae31e433",
   "metadata": {},
   "outputs": [
    {
     "data": {
      "text/plain": [
       "(10240, 10240)"
      ]
     },
     "execution_count": 42,
     "metadata": {},
     "output_type": "execute_result"
    }
   ],
   "source": [
    "len(df_mod_10240), len(df_mod_10240)"
   ]
  },
  {
   "cell_type": "code",
   "execution_count": 46,
   "id": "c4c0e6cf-8b41-40fe-b3c9-3f2e4d2baa8b",
   "metadata": {},
   "outputs": [
    {
     "data": {
      "text/plain": [
       "np.float64(0.3901893397203056)"
      ]
     },
     "execution_count": 46,
     "metadata": {},
     "output_type": "execute_result"
    }
   ],
   "source": [
    "df_mod_10240['text_bleu'].mean()"
   ]
  },
  {
   "cell_type": "code",
   "execution_count": 45,
   "id": "12388c2b-101b-4e5e-87d5-0970933d908d",
   "metadata": {},
   "outputs": [
    {
     "data": {
      "text/plain": [
       "np.int64(1536)"
      ]
     },
     "execution_count": 45,
     "metadata": {},
     "output_type": "execute_result"
    }
   ],
   "source": [
    "np.unique(df_mod_)"
   ]
  },
  {
   "cell_type": "code",
   "execution_count": 28,
   "id": "fd6af9cd-1d3c-4900-b6ee-b3dd0ba062ee",
   "metadata": {},
   "outputs": [
    {
     "data": {
      "text/plain": [
       "np.float64(0.43186784416856616)"
      ]
     },
     "execution_count": 28,
     "metadata": {},
     "output_type": "execute_result"
    }
   ],
   "source": [
    "df_10240['text_bleu'].mean()"
   ]
  },
  {
   "cell_type": "code",
   "execution_count": 29,
   "id": "b9cd6d6e-e938-4a66-9474-ec8e6507deb3",
   "metadata": {},
   "outputs": [
    {
     "data": {
      "text/plain": [
       "Index(['path', 'publisher', 'class', 'subclass', 'class_src', 'subclass_src',\n",
       "       'subset', 'manipulated', 'text_layer', 'emb_txt_src', 'text',\n",
       "       'text_bleu'],\n",
       "      dtype='object')"
      ]
     },
     "execution_count": 29,
     "metadata": {},
     "output_type": "execute_result"
    }
   ],
   "source": [
    "df_1536.columns"
   ]
  },
  {
   "cell_type": "code",
   "execution_count": 30,
   "id": "339bfd73-1c3a-4bda-8358-e84201eadd7e",
   "metadata": {},
   "outputs": [
    {
     "data": {
      "text/plain": [
       "Index(['path', 'nougat', 'pymupdf', 'marker', 'grobid', 'nougat_norm',\n",
       "       'pymupdf_norm', 'grobid_norm', 'marker_norm', 'bleu_nougat',\n",
       "       'rouge_nougat', 'car_nougat', 'bleu_nougat_norm', 'rouge_nougat_norm',\n",
       "       'car_nougat_norm', 'bleu_pymupdf', 'rouge_pymupdf', 'car_pymupdf',\n",
       "       'bleu_pymupdf_norm', 'rouge_pymupdf_norm', 'car_pymupdf_norm',\n",
       "       'bleu_grobid', 'rouge_grobid', 'car_grobid', 'bleu_grobid_norm',\n",
       "       'rouge_grobid_norm', 'car_grobid_norm', 'bleu_marker', 'rouge_marker',\n",
       "       'car_marker', 'bleu_marker_norm', 'rouge_marker_norm',\n",
       "       'car_marker_norm'],\n",
       "      dtype='object')"
      ]
     },
     "execution_count": 30,
     "metadata": {},
     "output_type": "execute_result"
    }
   ],
   "source": [
    "df_om.columns"
   ]
  },
  {
   "cell_type": "code",
   "execution_count": null,
   "id": "f27628ac-ad8c-4e95-be77-694ef08312bb",
   "metadata": {},
   "outputs": [],
   "source": []
  }
 ],
 "metadata": {
  "kernelspec": {
   "display_name": "bo",
   "language": "python",
   "name": "bo"
  },
  "language_info": {
   "codemirror_mode": {
    "name": "ipython",
    "version": 3
   },
   "file_extension": ".py",
   "mimetype": "text/x-python",
   "name": "python",
   "nbconvert_exporter": "python",
   "pygments_lexer": "ipython3",
   "version": "3.11.9"
  }
 },
 "nbformat": 4,
 "nbformat_minor": 5
}
