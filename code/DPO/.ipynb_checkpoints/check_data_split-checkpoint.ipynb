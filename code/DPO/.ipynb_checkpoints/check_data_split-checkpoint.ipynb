{
 "cells": [
  {
   "cell_type": "code",
   "execution_count": 1,
   "id": "04d69a8b-7fd2-447e-86db-4d8958329680",
   "metadata": {},
   "outputs": [],
   "source": [
    "import yaml\n",
    "import pandas as pd\n",
    "import numpy as np\n",
    "from pathlib import Path\n",
    "from data_utils import compile_DatasetFrames"
   ]
  },
  {
   "cell_type": "markdown",
   "id": "b94fa8a8-6eec-41c0-9322-7e0022bc182a",
   "metadata": {},
   "source": [
    "## Works for both singular & pagewise"
   ]
  },
  {
   "cell_type": "code",
   "execution_count": 2,
   "id": "8a05e613-cbc2-4003-aea2-0b34319499e2",
   "metadata": {},
   "outputs": [
    {
     "name": "stderr",
     "output_type": "stream",
     "text": [
      "/home/siebenschuh/Projects/dataprep/code/DPO/data_utils.py:83: DtypeWarning: Columns (13) have mixed types. Specify dtype option on import or set low_memory=False.\n",
      "  df_resp = pd.read_csv(p_response, sep='|')\n"
     ]
    },
    {
     "name": "stdout",
     "output_type": "stream",
     "text": [
      "\n",
      "Load pre-defined split...\n",
      "\n",
      "Train-Val Overlap: 0\n",
      "Train-Test Overlap: 0\n",
      "Val-Test Overlap: 0\n",
      "df_train, df_test, df_val\n"
     ]
    }
   ],
   "source": [
    "# load condig file\n",
    "with open('./configs/journal_cls.yaml', 'r') as f:\n",
    "    config_dict = yaml.safe_load(f)\n",
    "    \n",
    "# Default paths to data\n",
    "p_embeddings_root_dir = '/lus/eagle/projects/argonne_tpc/siebenschuh/aurora_gpt/embeddings/emb_by_model'\n",
    "#p_response_csv_path = '/lus/eagle/projects/argonne_tpc/siebenschuh/aurora_gpt/database/parser_metrics_without_text_output.csv'\n",
    "p_response_csv_path = '/lus/eagle/projects/argonne_tpc/siebenschuh/aurora_gpt/database/pagewise/pagewise_parser_output_proc.csv'\n",
    "p_split_yaml_path = Path('/home/siebenschuh/Projects/dataprep/code/DPO/meta_split/pymupdf.yaml')\n",
    "\n",
    "# parser name\n",
    "parser = 'pymupdf'\n",
    "\n",
    "# extract values from the YAML config and pass to compile_DatasetFrames\n",
    "df_train, df_test, df_val = compile_DatasetFrames(\n",
    "    p_embeddings=Path(p_embeddings_root_dir),\n",
    "    parser=parser,\n",
    "    p_response=Path(p_response_csv_path),\n",
    "    f_train=float(0.92),\n",
    "    seed_val=int(727),\n",
    "    normalized=False,\n",
    "    p_split_yaml_path=p_split_yaml_path,\n",
    "    predefined_split=True)"
   ]
  },
  {
   "cell_type": "code",
   "execution_count": null,
   "id": "8da07a32-a6d8-4c01-b796-0050b353857b",
   "metadata": {},
   "outputs": [],
   "source": [
    "# load condig file\n",
    "with open('./configs/journal_cls.yaml', 'r') as f:\n",
    "    config_dict = yaml.safe_load(f)\n",
    "    \n",
    "# Default paths to data\n",
    "p_embeddings_root_dir = '/lus/eagle/projects/argonne_tpc/siebenschuh/aurora_gpt/embeddings/emb_by_model'\n",
    "p_response_csv_path = '/lus/eagle/projects/argonne_tpc/siebenschuh/aurora_gpt/database/parser_metrics_without_text_output.csv'\n",
    "p_split_yaml_path = Path('/home/siebenschuh/Projects/dataprep/code/DPO/meta_split/pymupdf.yaml')\n",
    "\n",
    "# parser name\n",
    "parser = 'pymupdf'\n",
    "\n",
    "df = compile_DatasetFrames(p_embeddings=Path(p_embeddings_root_dir),\n",
    "    parser=parser,\n",
    "    p_response=Path(p_response_csv_path),\n",
    "    f_train=float(0.92),\n",
    "    seed_val=int(727),\n",
    "    normalized=False,\n",
    "    p_split_yaml_path=p_split_yaml_path,\n",
    "    predefined_split=True)"
   ]
  }
 ],
 "metadata": {
  "kernelspec": {
   "display_name": "bo",
   "language": "python",
   "name": "bo"
  },
  "language_info": {
   "codemirror_mode": {
    "name": "ipython",
    "version": 3
   },
   "file_extension": ".py",
   "mimetype": "text/x-python",
   "name": "python",
   "nbconvert_exporter": "python",
   "pygments_lexer": "ipython3",
   "version": "3.11.9"
  }
 },
 "nbformat": 4,
 "nbformat_minor": 5
}
