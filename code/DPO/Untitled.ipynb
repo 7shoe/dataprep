{
 "cells": [
  {
   "cell_type": "code",
   "execution_count": 1,
   "id": "13b56228-7e47-46a0-bd76-8ea4f6a4cdb9",
   "metadata": {},
   "outputs": [],
   "source": [
    "from peft import LoraConfig, TaskType, get_peft_model"
   ]
  },
  {
   "cell_type": "code",
   "execution_count": 2,
   "id": "e268c385-7e70-4d1e-85ff-9d7b92d39aa4",
   "metadata": {},
   "outputs": [
    {
     "data": {
      "text/plain": [
       "\u001b[0;31mSignature:\u001b[0m\n",
       "\u001b[0mget_peft_model\u001b[0m\u001b[0;34m(\u001b[0m\u001b[0;34m\u001b[0m\n",
       "\u001b[0;34m\u001b[0m    \u001b[0mmodel\u001b[0m\u001b[0;34m:\u001b[0m \u001b[0;34m'PreTrainedModel'\u001b[0m\u001b[0;34m,\u001b[0m\u001b[0;34m\u001b[0m\n",
       "\u001b[0;34m\u001b[0m    \u001b[0mpeft_config\u001b[0m\u001b[0;34m:\u001b[0m \u001b[0;34m'PeftConfig'\u001b[0m\u001b[0;34m,\u001b[0m\u001b[0;34m\u001b[0m\n",
       "\u001b[0;34m\u001b[0m    \u001b[0madapter_name\u001b[0m\u001b[0;34m:\u001b[0m \u001b[0;34m'str'\u001b[0m \u001b[0;34m=\u001b[0m \u001b[0;34m'default'\u001b[0m\u001b[0;34m,\u001b[0m\u001b[0;34m\u001b[0m\n",
       "\u001b[0;34m\u001b[0m    \u001b[0mmixed\u001b[0m\u001b[0;34m:\u001b[0m \u001b[0;34m'bool'\u001b[0m \u001b[0;34m=\u001b[0m \u001b[0;32mFalse\u001b[0m\u001b[0;34m,\u001b[0m\u001b[0;34m\u001b[0m\n",
       "\u001b[0;34m\u001b[0m    \u001b[0mautocast_adapter_dtype\u001b[0m\u001b[0;34m:\u001b[0m \u001b[0;34m'bool'\u001b[0m \u001b[0;34m=\u001b[0m \u001b[0;32mTrue\u001b[0m\u001b[0;34m,\u001b[0m\u001b[0;34m\u001b[0m\n",
       "\u001b[0;34m\u001b[0m    \u001b[0mrevision\u001b[0m\u001b[0;34m:\u001b[0m \u001b[0;34m'Optional[str]'\u001b[0m \u001b[0;34m=\u001b[0m \u001b[0;32mNone\u001b[0m\u001b[0;34m,\u001b[0m\u001b[0;34m\u001b[0m\n",
       "\u001b[0;34m\u001b[0m\u001b[0;34m)\u001b[0m \u001b[0;34m->\u001b[0m \u001b[0;34m'PeftModel | PeftMixedModel'\u001b[0m\u001b[0;34m\u001b[0m\u001b[0;34m\u001b[0m\u001b[0m\n",
       "\u001b[0;31mDocstring:\u001b[0m\n",
       "Returns a Peft model object from a model and a config.\n",
       "\n",
       "Args:\n",
       "    model ([`transformers.PreTrainedModel`]):\n",
       "        Model to be wrapped.\n",
       "    peft_config ([`PeftConfig`]):\n",
       "        Configuration object containing the parameters of the Peft model.\n",
       "    adapter_name (`str`, `optional`, defaults to `\"default\"`):\n",
       "        The name of the adapter to be injected, if not provided, the default adapter name is used (\"default\").\n",
       "    mixed (`bool`, `optional`, defaults to `False`):\n",
       "        Whether to allow mixing different (compatible) adapter types.\n",
       "    autocast_adapter_dtype (`bool`, *optional*):\n",
       "        Whether to autocast the adapter dtype. Defaults to `True`. Right now, this will only cast adapter weights\n",
       "        using float16 or bfloat16 to float32, as this is typically required for stable training, and only affect\n",
       "        select PEFT tuners.\n",
       "    revision (`str`, `optional`, defaults to `main`):\n",
       "        The revision of the base model. If this isn't set, the saved peft model will load the `main` revision for\n",
       "        the base model\n",
       "\u001b[0;31mFile:\u001b[0m      /eagle/projects/tpc/siebenschuh/envs_/dpo/lib/python3.11/site-packages/peft/mapping.py\n",
       "\u001b[0;31mType:\u001b[0m      function"
      ]
     },
     "metadata": {},
     "output_type": "display_data"
    }
   ],
   "source": [
    "?get_peft_model"
   ]
  },
  {
   "cell_type": "code",
   "execution_count": null,
   "id": "be8eca25-8290-4ed9-843b-e160591747ee",
   "metadata": {},
   "outputs": [],
   "source": []
  }
 ],
 "metadata": {
  "kernelspec": {
   "display_name": "dpo",
   "language": "python",
   "name": "dpo"
  },
  "language_info": {
   "codemirror_mode": {
    "name": "ipython",
    "version": 3
   },
   "file_extension": ".py",
   "mimetype": "text/x-python",
   "name": "python",
   "nbconvert_exporter": "python",
   "pygments_lexer": "ipython3",
   "version": "3.11.9"
  }
 },
 "nbformat": 4,
 "nbformat_minor": 5
}
