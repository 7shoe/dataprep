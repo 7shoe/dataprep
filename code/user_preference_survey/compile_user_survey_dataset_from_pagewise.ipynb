{
 "cells": [
  {
   "cell_type": "code",
   "execution_count": 1,
   "id": "6e9fe75e-185f-4190-8b95-23ded3793a90",
   "metadata": {},
   "outputs": [],
   "source": [
    "import pandas as pd\n",
    "from pathlib import Path\n",
    "import yaml\n",
    "import numpy as np\n",
    "\n",
    "from table_utils import get_frames_of_choices_raw\n",
    "from table_utils import get_sampled_choices"
   ]
  },
  {
   "cell_type": "markdown",
   "id": "6b76872e-a39d-496b-b124-65d06494a5c9",
   "metadata": {},
   "source": [
    "## The pagewise dataset serves as the foundation for user preferences\n",
    "\n",
    "# 1. Sample pages \n",
    "- stratified by `train`, `test`, `val`\n",
    "- pages 0,1,2 only (to ensure alignment as pages are assigned in a data-driven fashion - potentially errorneous - for marker/nougat/grobid)\n",
    "\n",
    "# 2. Sample & sort binary pairings \n",
    "\n",
    "## 2.1 Comparison variants\n",
    "Two groups seeing `300` binary comparisons per user (in two variants).\n",
    "- first pairing most effort (new image, 2 new texts)\n",
    "- second pairing (same image, one option similar) -> less effort, easier to compare\n",
    "- Group $A$: `5` pairings per image (--> $5 \\cdot 60$) (identified by even user id)\n",
    "- Group $B$: `3` pairings per image (--> $3 \\cdot 100$) (identified by odd user id)\n",
    "- assume 12 users (but calculate with worst-case 6 completing it)\n",
    "   --> `n_train=1000`, `n_val=n_test=600`\n",
    "- stratified by `mean_bleu` as many pages have very low score (indicates wrong split of pages I'd say)\n",
    "- --> 50% high mean_bleu (>0.6) and 50% high mean_bleu (0.6> bleu >0.4)\n",
    "  \n",
    "### 2.2 `train`, `val` and `test`\n",
    "- split: 60%, 20%, 20% (since `val` is over-represented, that data could be merged into `train` yielding 80%/20%, respectively)\n",
    "- --> sample 1500 for train, 1000 val, 1000 test (+ quality control), \n",
    "- add `GPT-4o` occasionally to get idea of how much people like SOTA (but closed-source parsing)\n",
    "\n",
    "### 2.3 Sample \n",
    "- randomly assign `group` letter to each row (indicating how many to sample)\n",
    "\n",
    "## 3. Identification of File\n",
    "Image ID: identifies each image uniquely (to assign to PDF, it's page and what subset the PDF initially belonged to when pulled).\n",
    "Subset id may appear reduntant but split could change in future.\n",
    "```\n",
    "IMAGE_ID: {pdf_path_id:6}{page_id:2}{subset_id:1}\n",
    "```\n",
    "Basically a mapping from (`path`,`page`) $\\mapsto$ `IMAGE_ID`.\n",
    "Once an image is assigned to a user, text etc. additional metadata is needed. Choice id does that.\n",
    "It identifies each binary pairing of texts (& position) as well as the displayed image uniquely in 6+2+1+2+4+1+1=17 digits).\n",
    "The image ID can (and will occure) multiple times (same page image but different parsers) or the same choice is shown to different users etc.\n",
    "```\n",
    "CHOICE_ID: {pdf_path_id:6}{page_id:2}{subset_id:1}{user_group_id:2}{occurence_id:4}{left_text_id:1}{right_text_id:1}\n",
    "```"
   ]
  },
  {
   "cell_type": "code",
   "execution_count": 2,
   "id": "8d32d94f-a054-4eb5-8f2c-441ac3d08f69",
   "metadata": {},
   "outputs": [
    {
     "name": "stderr",
     "output_type": "stream",
     "text": [
      "/home/siebenschuh/Projects/dataprep/code/user_preference_survey/table_utils.py:149: DtypeWarning: Columns (13) have mixed types. Specify dtype option on import or set low_memory=False.\n",
      "  df = pd.read_csv(p_df, sep='|')\n"
     ]
    },
    {
     "name": "stdout",
     "output_type": "stream",
     "text": [
      "CPU times: user 58.6 s, sys: 6.39 s, total: 1min 4s\n",
      "Wall time: 1min 5s\n"
     ]
    }
   ],
   "source": [
    "%%time\n",
    "\n",
    "# get raw\n",
    "df_train, df_test, df_val = get_frames_of_choices_raw()\n",
    "\n",
    "# - const\n",
    "#df_train_out = get_sampled_choices(df_train, 'train')\n",
    "#df_test_out = get_sampled_choices(df_train, 'test')\n",
    "#df_val_out = get_sampled_choices(df_train, 'val')"
   ]
  },
  {
   "cell_type": "code",
   "execution_count": 3,
   "id": "674948d7-84f4-494c-9fdb-ccba9c850ae1",
   "metadata": {},
   "outputs": [
    {
     "name": "stdout",
     "output_type": "stream",
     "text": [
      "len(df)=1500, len(train_5_tuples): 15000, len(train_3_tuples)=15000\n",
      "len(df)=1500, len(train_5_tuples): 15000, len(train_3_tuples)=15000\n"
     ]
    }
   ],
   "source": [
    "df_train_out = get_sampled_choices(df_train, 'train')\n",
    "df_val_out = get_sampled_choices(df_train, 'val')"
   ]
  },
  {
   "cell_type": "code",
   "execution_count": null,
   "id": "e06fd92a-2b4b-4aeb-85c9-9a3d2065b237",
   "metadata": {},
   "outputs": [],
   "source": [
    "len(set(df_train['path']))"
   ]
  },
  {
   "cell_type": "markdown",
   "id": "9833b715-5756-46ae-915e-c89766f53b60",
   "metadata": {},
   "source": [
    "```\n",
    "IMAGE_ID: {pdf_path_id:6}{page_id:2}{subset_id:1}\n",
    "CHOICE_ID: {pdf_path_id:6}{page_id:2}{subset_id:1}{user_group_id:2}{occurence_id:4}{left_text_id:1}{right_text_id:1}\n",
    "```"
   ]
  },
  {
   "cell_type": "code",
   "execution_count": null,
   "id": "3032aff8-c774-4893-914a-d79eabad24ea",
   "metadata": {},
   "outputs": [],
   "source": [
    "df_train_out = get_sampled_choices(df_train, 'train')"
   ]
  },
  {
   "cell_type": "code",
   "execution_count": null,
   "id": "351c7a61-a5b4-4bb5-b5f8-cf67e27e7e0e",
   "metadata": {},
   "outputs": [],
   "source": [
    "df_train_out"
   ]
  },
  {
   "cell_type": "code",
   "execution_count": null,
   "id": "d684279c-fd44-4b1f-83cc-02bed303b7cb",
   "metadata": {},
   "outputs": [],
   "source": [
    "image"
   ]
  },
  {
   "cell_type": "code",
   "execution_count": null,
   "id": "e0d65a4d-d5e4-4c58-93a7-70975b7e5b31",
   "metadata": {},
   "outputs": [],
   "source": [
    "print(DF.iloc[100]['left'])"
   ]
  },
  {
   "cell_type": "code",
   "execution_count": null,
   "id": "fd0a98f0-f97a-4152-9b6f-1090cbdb37a5",
   "metadata": {},
   "outputs": [],
   "source": []
  }
 ],
 "metadata": {
  "kernelspec": {
   "display_name": "bo",
   "language": "python",
   "name": "bo"
  },
  "language_info": {
   "codemirror_mode": {
    "name": "ipython",
    "version": 3
   },
   "file_extension": ".py",
   "mimetype": "text/x-python",
   "name": "python",
   "nbconvert_exporter": "python",
   "pygments_lexer": "ipython3",
   "version": "3.11.9"
  }
 },
 "nbformat": 4,
 "nbformat_minor": 5
}
