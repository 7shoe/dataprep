{
 "cells": [
  {
   "cell_type": "code",
   "execution_count": 1,
   "id": "6658b37e-5e99-49cc-8268-bbe37c164a69",
   "metadata": {},
   "outputs": [],
   "source": [
    "from PIL import Image\n",
    "import pytesseract\n",
    "import pymupdf\n",
    "from PIL import Image\n",
    "import io\n",
    "import os\n",
    "import sys\n",
    "from pathlib import Path\n",
    "import random\n",
    "import pandas as pd\n",
    "from matplotlib import pyplot as plt\n",
    "\n",
    "# add path\n",
    "sys.path.append(str(Path('..').resolve()))\n",
    "\n",
    "from table_utils import get_frames_of_choices_raw\n",
    "from score_utils import calculate_bleu, calculate_rouge, calculate_car, calculate_meteor"
   ]
  },
  {
   "cell_type": "code",
   "execution_count": 2,
   "id": "dc1dc454-9866-4039-b971-54a4d5eb8021",
   "metadata": {},
   "outputs": [
    {
     "name": "stderr",
     "output_type": "stream",
     "text": [
      "/home/siebenschuh/Projects/dataprep/code/user_preference_survey/table_utils.py:154: DtypeWarning: Columns (13) have mixed types. Specify dtype option on import or set low_memory=False.\n",
      "  df = pd.read_csv(p_df, sep='|')\n"
     ]
    }
   ],
   "source": [
    "# get test\n",
    "_, df_test, _ = get_frames_of_choices_raw()\n",
    "\n",
    "p_root=Path('/lus/eagle/projects/argonne_tpc/siebenschuh/aurora_gpt/joint')\n",
    "p_img_dst = Path('./images')"
   ]
  },
  {
   "cell_type": "code",
   "execution_count": 3,
   "id": "d02db966-cd8a-428c-a9c4-32d702ea6d26",
   "metadata": {},
   "outputs": [
    {
     "ename": "KeyboardInterrupt",
     "evalue": "",
     "output_type": "error",
     "traceback": [
      "\u001b[0;31m---------------------------------------------------------------------------\u001b[0m",
      "\u001b[0;31mKeyboardInterrupt\u001b[0m                         Traceback (most recent call last)",
      "\u001b[0;32m<timed exec>\u001b[0m in \u001b[0;36m?\u001b[0;34m()\u001b[0m\n",
      "\u001b[0;32m~/.local/lib/python3.11/site-packages/pymupdf/__init__.py\u001b[0m in \u001b[0;36m?\u001b[0;34m(self, output, jpg_quality)\u001b[0m\n\u001b[1;32m  10367\u001b[0m         \u001b[0;32mif\u001b[0m \u001b[0mself\u001b[0m\u001b[0;34m.\u001b[0m\u001b[0mcolorspace\u001b[0m \u001b[0;32mand\u001b[0m \u001b[0mself\u001b[0m\u001b[0;34m.\u001b[0m\u001b[0mcolorspace\u001b[0m\u001b[0;34m.\u001b[0m\u001b[0mn\u001b[0m \u001b[0;34m>\u001b[0m \u001b[0;36m3\u001b[0m \u001b[0;32mand\u001b[0m \u001b[0midx\u001b[0m \u001b[0;32min\u001b[0m \u001b[0;34m(\u001b[0m\u001b[0;36m1\u001b[0m\u001b[0;34m,\u001b[0m \u001b[0;36m2\u001b[0m\u001b[0;34m,\u001b[0m \u001b[0;36m4\u001b[0m\u001b[0;34m)\u001b[0m\u001b[0;34m:\u001b[0m\u001b[0;34m\u001b[0m\u001b[0;34m\u001b[0m\u001b[0m\n\u001b[1;32m  10368\u001b[0m             \u001b[0;32mraise\u001b[0m \u001b[0mValueError\u001b[0m\u001b[0;34m(\u001b[0m\u001b[0;34m\"unsupported colorspace for '{output}'\"\u001b[0m\u001b[0;34m)\u001b[0m\u001b[0;34m\u001b[0m\u001b[0;34m\u001b[0m\u001b[0m\n\u001b[1;32m  10369\u001b[0m         \u001b[0;32mif\u001b[0m \u001b[0midx\u001b[0m \u001b[0;34m==\u001b[0m \u001b[0;36m7\u001b[0m\u001b[0;34m:\u001b[0m\u001b[0;34m\u001b[0m\u001b[0;34m\u001b[0m\u001b[0m\n\u001b[1;32m  10370\u001b[0m             \u001b[0mself\u001b[0m\u001b[0;34m.\u001b[0m\u001b[0mset_dpi\u001b[0m\u001b[0;34m(\u001b[0m\u001b[0mself\u001b[0m\u001b[0;34m.\u001b[0m\u001b[0mxres\u001b[0m\u001b[0;34m,\u001b[0m \u001b[0mself\u001b[0m\u001b[0;34m.\u001b[0m\u001b[0myres\u001b[0m\u001b[0;34m)\u001b[0m\u001b[0;34m\u001b[0m\u001b[0;34m\u001b[0m\u001b[0m\n\u001b[0;32m> 10371\u001b[0;31m         \u001b[0mbarray\u001b[0m \u001b[0;34m=\u001b[0m \u001b[0mself\u001b[0m\u001b[0;34m.\u001b[0m\u001b[0m_tobytes\u001b[0m\u001b[0;34m(\u001b[0m\u001b[0midx\u001b[0m\u001b[0;34m,\u001b[0m \u001b[0mjpg_quality\u001b[0m\u001b[0;34m)\u001b[0m\u001b[0;34m\u001b[0m\u001b[0;34m\u001b[0m\u001b[0m\n\u001b[0m\u001b[1;32m  10372\u001b[0m         \u001b[0;32mreturn\u001b[0m \u001b[0mbarray\u001b[0m\u001b[0;34m\u001b[0m\u001b[0;34m\u001b[0m\u001b[0m\n",
      "\u001b[0;32m~/.local/lib/python3.11/site-packages/pymupdf/__init__.py\u001b[0m in \u001b[0;36m?\u001b[0;34m(self, format_, jpg_quality)\u001b[0m\n\u001b[1;32m   9933\u001b[0m         \u001b[0mpm\u001b[0m \u001b[0;34m=\u001b[0m \u001b[0mself\u001b[0m\u001b[0;34m.\u001b[0m\u001b[0mthis\u001b[0m\u001b[0;34m\u001b[0m\u001b[0;34m\u001b[0m\u001b[0m\n\u001b[1;32m   9934\u001b[0m         \u001b[0msize\u001b[0m \u001b[0;34m=\u001b[0m \u001b[0mmupdf\u001b[0m\u001b[0;34m.\u001b[0m\u001b[0mfz_pixmap_stride\u001b[0m\u001b[0;34m(\u001b[0m\u001b[0mpm\u001b[0m\u001b[0;34m)\u001b[0m \u001b[0;34m*\u001b[0m \u001b[0mpm\u001b[0m\u001b[0;34m.\u001b[0m\u001b[0mh\u001b[0m\u001b[0;34m(\u001b[0m\u001b[0;34m)\u001b[0m\u001b[0;34m\u001b[0m\u001b[0;34m\u001b[0m\u001b[0m\n\u001b[1;32m   9935\u001b[0m         \u001b[0mres\u001b[0m \u001b[0;34m=\u001b[0m \u001b[0mmupdf\u001b[0m\u001b[0;34m.\u001b[0m\u001b[0mfz_new_buffer\u001b[0m\u001b[0;34m(\u001b[0m\u001b[0msize\u001b[0m\u001b[0;34m)\u001b[0m\u001b[0;34m\u001b[0m\u001b[0;34m\u001b[0m\u001b[0m\n\u001b[1;32m   9936\u001b[0m         \u001b[0mout\u001b[0m \u001b[0;34m=\u001b[0m \u001b[0mmupdf\u001b[0m\u001b[0;34m.\u001b[0m\u001b[0mFzOutput\u001b[0m\u001b[0;34m(\u001b[0m\u001b[0mres\u001b[0m\u001b[0;34m)\u001b[0m\u001b[0;34m\u001b[0m\u001b[0;34m\u001b[0m\u001b[0m\n\u001b[0;32m-> 9937\u001b[0;31m         \u001b[0;32mif\u001b[0m   \u001b[0mformat_\u001b[0m \u001b[0;34m==\u001b[0m \u001b[0;36m1\u001b[0m\u001b[0;34m:\u001b[0m  \u001b[0mmupdf\u001b[0m\u001b[0;34m.\u001b[0m\u001b[0mfz_write_pixmap_as_png\u001b[0m\u001b[0;34m(\u001b[0m\u001b[0mout\u001b[0m\u001b[0;34m,\u001b[0m \u001b[0mpm\u001b[0m\u001b[0;34m)\u001b[0m\u001b[0;34m\u001b[0m\u001b[0;34m\u001b[0m\u001b[0m\n\u001b[0m\u001b[1;32m   9938\u001b[0m         \u001b[0;32melif\u001b[0m \u001b[0mformat_\u001b[0m \u001b[0;34m==\u001b[0m \u001b[0;36m2\u001b[0m\u001b[0;34m:\u001b[0m  \u001b[0mmupdf\u001b[0m\u001b[0;34m.\u001b[0m\u001b[0mfz_write_pixmap_as_pnm\u001b[0m\u001b[0;34m(\u001b[0m\u001b[0mout\u001b[0m\u001b[0;34m,\u001b[0m \u001b[0mpm\u001b[0m\u001b[0;34m)\u001b[0m\u001b[0;34m\u001b[0m\u001b[0;34m\u001b[0m\u001b[0m\n\u001b[1;32m   9939\u001b[0m         \u001b[0;32melif\u001b[0m \u001b[0mformat_\u001b[0m \u001b[0;34m==\u001b[0m \u001b[0;36m3\u001b[0m\u001b[0;34m:\u001b[0m  \u001b[0mmupdf\u001b[0m\u001b[0;34m.\u001b[0m\u001b[0mfz_write_pixmap_as_pam\u001b[0m\u001b[0;34m(\u001b[0m\u001b[0mout\u001b[0m\u001b[0;34m,\u001b[0m \u001b[0mpm\u001b[0m\u001b[0;34m)\u001b[0m\u001b[0;34m\u001b[0m\u001b[0;34m\u001b[0m\u001b[0m\n\u001b[1;32m   9940\u001b[0m         \u001b[0;32melif\u001b[0m \u001b[0mformat_\u001b[0m \u001b[0;34m==\u001b[0m \u001b[0;36m5\u001b[0m\u001b[0;34m:\u001b[0m  \u001b[0mmupdf\u001b[0m\u001b[0;34m.\u001b[0m\u001b[0mfz_write_pixmap_as_psd\u001b[0m\u001b[0;34m(\u001b[0m\u001b[0mout\u001b[0m\u001b[0;34m,\u001b[0m \u001b[0mpm\u001b[0m\u001b[0;34m)\u001b[0m\u001b[0;34m\u001b[0m\u001b[0;34m\u001b[0m\u001b[0m\n",
      "\u001b[0;32m~/.local/lib/python3.11/site-packages/pymupdf/mupdf.py\u001b[0m in \u001b[0;36m?\u001b[0;34m(out, pixmap)\u001b[0m\n\u001b[1;32m  47818\u001b[0m     r\"\"\"\n\u001b[1;32m  47819\u001b[0m     \u001b[0mClass\u001b[0m\u001b[0;34m-\u001b[0m\u001b[0maware\u001b[0m \u001b[0mwrapper\u001b[0m \u001b[0;32mfor\u001b[0m\u001b[0;31m \u001b[0m\u001b[0;31m`\u001b[0m\u001b[0;34m:\u001b[0m\u001b[0;34m:\u001b[0m\u001b[0mfz_write_pixmap_as_png\u001b[0m\u001b[0;34m(\u001b[0m\u001b[0;34m)\u001b[0m\u001b[0;31m`\u001b[0m\u001b[0;34m.\u001b[0m\u001b[0;34m\u001b[0m\u001b[0;34m\u001b[0m\u001b[0m\n\u001b[1;32m  47820\u001b[0m         \u001b[0mWrite\u001b[0m \u001b[0ma\u001b[0m \u001b[0;34m(\u001b[0m\u001b[0mGreyscale\u001b[0m \u001b[0;32mor\u001b[0m \u001b[0mRGB\u001b[0m\u001b[0;34m)\u001b[0m \u001b[0mpixmap\u001b[0m \u001b[0;32mas\u001b[0m \u001b[0ma\u001b[0m \u001b[0mpng\u001b[0m\u001b[0;34m.\u001b[0m\u001b[0;34m\u001b[0m\u001b[0;34m\u001b[0m\u001b[0m\n\u001b[1;32m  47821\u001b[0m     \"\"\"\n\u001b[0;32m> 47822\u001b[0;31m     \u001b[0;32mreturn\u001b[0m \u001b[0m_mupdf\u001b[0m\u001b[0;34m.\u001b[0m\u001b[0mfz_write_pixmap_as_png\u001b[0m\u001b[0;34m(\u001b[0m\u001b[0mout\u001b[0m\u001b[0;34m,\u001b[0m \u001b[0mpixmap\u001b[0m\u001b[0;34m)\u001b[0m\u001b[0;34m\u001b[0m\u001b[0;34m\u001b[0m\u001b[0m\n\u001b[0m",
      "\u001b[0;31mKeyboardInterrupt\u001b[0m: "
     ]
    }
   ],
   "source": [
    "%%time \n",
    "\n",
    "# PDFs\n",
    "pdf_path_list = list(df_test['path'])\n",
    "pdf_page_list = list(df_test['page'])\n",
    "html_groundtruth_list = list(df_test['html'])\n",
    "\n",
    "# tesseract OCR\n",
    "effective_html_text_list = []\n",
    "effective_page_list = []\n",
    "image_file_name_list = []\n",
    "tesseract_list = []\n",
    "dpi_sizes = []\n",
    "\n",
    "# loop elements\n",
    "for pdf_file_name, page_idx, html_text in zip(pdf_path_list, pdf_page_list, html_groundtruth_list):\n",
    "    # path\n",
    "    pdf_path = p_root / pdf_file_name\n",
    "    if pdf_path.is_file():\n",
    "        doc = pymupdf.open(pdf_path) # open the PDF\n",
    "        rnd_dpi = random.choice([70, 90, 110, 130, 150])\n",
    "        \n",
    "        pixmap = doc[page_idx].get_pixmap(dpi=rnd_dpi)\n",
    "        page_img = pixmap.tobytes()\n",
    "        image = Image.open(io.BytesIO(page_img))\n",
    "\n",
    "        # image name\n",
    "        img_path = str(p_img_dst / f\"{Path(pdf_file_name).stem}_{page_idx}.png\")\n",
    "        \n",
    "        # store\n",
    "        image.save(img_path)\n",
    "\n",
    "        # load tesseract image\n",
    "        # does not work on Unix\n",
    "        #text = pytesseract.image_to_string(image)\n",
    "        #tesseract_list.append(text)\n",
    "\n",
    "        # append lists\n",
    "        image_file_name_list.append(img_path)\n",
    "        effective_html_text_list.append(html_text)\n",
    "        effective_page_list.append(page_idx)\n",
    "        dpi_sizes.append(rnd_dpi)\n",
    "\n",
    "        #break\n",
    "\n",
    "# store \n",
    "df = pd.DataFrame({'image' : image_file_name_list, \n",
    "                   'html' : effective_html_text_list, \n",
    "                   'page' : effective_page_list,\n",
    "                   'dpi' : dpi_sizes})"
   ]
  },
  {
   "cell_type": "code",
   "execution_count": null,
   "id": "bb4b74f0-b9aa-40f6-95ff-217089d53317",
   "metadata": {},
   "outputs": [],
   "source": [
    "df.to_csv('input_single_images_dpi_70_to_150.csv', sep='|')"
   ]
  },
  {
   "cell_type": "code",
   "execution_count": 4,
   "id": "22c3eab7-1616-4033-a2cf-c596d8c567be",
   "metadata": {},
   "outputs": [
    {
     "ename": "FileNotFoundError",
     "evalue": "[Errno 2] No such file or directory: 'input_single_images_dpi_70_to_150.csv'",
     "output_type": "error",
     "traceback": [
      "\u001b[0;31m---------------------------------------------------------------------------\u001b[0m",
      "\u001b[0;31mFileNotFoundError\u001b[0m                         Traceback (most recent call last)",
      "Cell \u001b[0;32mIn[4], line 2\u001b[0m\n\u001b[1;32m      1\u001b[0m \u001b[38;5;66;03m# df.head()\u001b[39;00m\n\u001b[0;32m----> 2\u001b[0m df_in \u001b[38;5;241m=\u001b[39m \u001b[43mpd\u001b[49m\u001b[38;5;241;43m.\u001b[39;49m\u001b[43mread_csv\u001b[49m\u001b[43m(\u001b[49m\u001b[38;5;124;43m'\u001b[39;49m\u001b[38;5;124;43minput_single_images_dpi_70_to_150.csv\u001b[39;49m\u001b[38;5;124;43m'\u001b[39;49m\u001b[43m,\u001b[49m\u001b[43m \u001b[49m\u001b[43msep\u001b[49m\u001b[38;5;241;43m=\u001b[39;49m\u001b[38;5;124;43m'\u001b[39;49m\u001b[38;5;124;43m|\u001b[39;49m\u001b[38;5;124;43m'\u001b[39;49m\u001b[43m)\u001b[49m\n",
      "File \u001b[0;32m~/.local/lib/python3.11/site-packages/pandas/io/parsers/readers.py:1026\u001b[0m, in \u001b[0;36mread_csv\u001b[0;34m(filepath_or_buffer, sep, delimiter, header, names, index_col, usecols, dtype, engine, converters, true_values, false_values, skipinitialspace, skiprows, skipfooter, nrows, na_values, keep_default_na, na_filter, verbose, skip_blank_lines, parse_dates, infer_datetime_format, keep_date_col, date_parser, date_format, dayfirst, cache_dates, iterator, chunksize, compression, thousands, decimal, lineterminator, quotechar, quoting, doublequote, escapechar, comment, encoding, encoding_errors, dialect, on_bad_lines, delim_whitespace, low_memory, memory_map, float_precision, storage_options, dtype_backend)\u001b[0m\n\u001b[1;32m   1013\u001b[0m kwds_defaults \u001b[38;5;241m=\u001b[39m _refine_defaults_read(\n\u001b[1;32m   1014\u001b[0m     dialect,\n\u001b[1;32m   1015\u001b[0m     delimiter,\n\u001b[0;32m   (...)\u001b[0m\n\u001b[1;32m   1022\u001b[0m     dtype_backend\u001b[38;5;241m=\u001b[39mdtype_backend,\n\u001b[1;32m   1023\u001b[0m )\n\u001b[1;32m   1024\u001b[0m kwds\u001b[38;5;241m.\u001b[39mupdate(kwds_defaults)\n\u001b[0;32m-> 1026\u001b[0m \u001b[38;5;28;01mreturn\u001b[39;00m \u001b[43m_read\u001b[49m\u001b[43m(\u001b[49m\u001b[43mfilepath_or_buffer\u001b[49m\u001b[43m,\u001b[49m\u001b[43m \u001b[49m\u001b[43mkwds\u001b[49m\u001b[43m)\u001b[49m\n",
      "File \u001b[0;32m~/.local/lib/python3.11/site-packages/pandas/io/parsers/readers.py:620\u001b[0m, in \u001b[0;36m_read\u001b[0;34m(filepath_or_buffer, kwds)\u001b[0m\n\u001b[1;32m    617\u001b[0m _validate_names(kwds\u001b[38;5;241m.\u001b[39mget(\u001b[38;5;124m\"\u001b[39m\u001b[38;5;124mnames\u001b[39m\u001b[38;5;124m\"\u001b[39m, \u001b[38;5;28;01mNone\u001b[39;00m))\n\u001b[1;32m    619\u001b[0m \u001b[38;5;66;03m# Create the parser.\u001b[39;00m\n\u001b[0;32m--> 620\u001b[0m parser \u001b[38;5;241m=\u001b[39m \u001b[43mTextFileReader\u001b[49m\u001b[43m(\u001b[49m\u001b[43mfilepath_or_buffer\u001b[49m\u001b[43m,\u001b[49m\u001b[43m \u001b[49m\u001b[38;5;241;43m*\u001b[39;49m\u001b[38;5;241;43m*\u001b[39;49m\u001b[43mkwds\u001b[49m\u001b[43m)\u001b[49m\n\u001b[1;32m    622\u001b[0m \u001b[38;5;28;01mif\u001b[39;00m chunksize \u001b[38;5;129;01mor\u001b[39;00m iterator:\n\u001b[1;32m    623\u001b[0m     \u001b[38;5;28;01mreturn\u001b[39;00m parser\n",
      "File \u001b[0;32m~/.local/lib/python3.11/site-packages/pandas/io/parsers/readers.py:1620\u001b[0m, in \u001b[0;36mTextFileReader.__init__\u001b[0;34m(self, f, engine, **kwds)\u001b[0m\n\u001b[1;32m   1617\u001b[0m     \u001b[38;5;28mself\u001b[39m\u001b[38;5;241m.\u001b[39moptions[\u001b[38;5;124m\"\u001b[39m\u001b[38;5;124mhas_index_names\u001b[39m\u001b[38;5;124m\"\u001b[39m] \u001b[38;5;241m=\u001b[39m kwds[\u001b[38;5;124m\"\u001b[39m\u001b[38;5;124mhas_index_names\u001b[39m\u001b[38;5;124m\"\u001b[39m]\n\u001b[1;32m   1619\u001b[0m \u001b[38;5;28mself\u001b[39m\u001b[38;5;241m.\u001b[39mhandles: IOHandles \u001b[38;5;241m|\u001b[39m \u001b[38;5;28;01mNone\u001b[39;00m \u001b[38;5;241m=\u001b[39m \u001b[38;5;28;01mNone\u001b[39;00m\n\u001b[0;32m-> 1620\u001b[0m \u001b[38;5;28mself\u001b[39m\u001b[38;5;241m.\u001b[39m_engine \u001b[38;5;241m=\u001b[39m \u001b[38;5;28;43mself\u001b[39;49m\u001b[38;5;241;43m.\u001b[39;49m\u001b[43m_make_engine\u001b[49m\u001b[43m(\u001b[49m\u001b[43mf\u001b[49m\u001b[43m,\u001b[49m\u001b[43m \u001b[49m\u001b[38;5;28;43mself\u001b[39;49m\u001b[38;5;241;43m.\u001b[39;49m\u001b[43mengine\u001b[49m\u001b[43m)\u001b[49m\n",
      "File \u001b[0;32m~/.local/lib/python3.11/site-packages/pandas/io/parsers/readers.py:1880\u001b[0m, in \u001b[0;36mTextFileReader._make_engine\u001b[0;34m(self, f, engine)\u001b[0m\n\u001b[1;32m   1878\u001b[0m     \u001b[38;5;28;01mif\u001b[39;00m \u001b[38;5;124m\"\u001b[39m\u001b[38;5;124mb\u001b[39m\u001b[38;5;124m\"\u001b[39m \u001b[38;5;129;01mnot\u001b[39;00m \u001b[38;5;129;01min\u001b[39;00m mode:\n\u001b[1;32m   1879\u001b[0m         mode \u001b[38;5;241m+\u001b[39m\u001b[38;5;241m=\u001b[39m \u001b[38;5;124m\"\u001b[39m\u001b[38;5;124mb\u001b[39m\u001b[38;5;124m\"\u001b[39m\n\u001b[0;32m-> 1880\u001b[0m \u001b[38;5;28mself\u001b[39m\u001b[38;5;241m.\u001b[39mhandles \u001b[38;5;241m=\u001b[39m \u001b[43mget_handle\u001b[49m\u001b[43m(\u001b[49m\n\u001b[1;32m   1881\u001b[0m \u001b[43m    \u001b[49m\u001b[43mf\u001b[49m\u001b[43m,\u001b[49m\n\u001b[1;32m   1882\u001b[0m \u001b[43m    \u001b[49m\u001b[43mmode\u001b[49m\u001b[43m,\u001b[49m\n\u001b[1;32m   1883\u001b[0m \u001b[43m    \u001b[49m\u001b[43mencoding\u001b[49m\u001b[38;5;241;43m=\u001b[39;49m\u001b[38;5;28;43mself\u001b[39;49m\u001b[38;5;241;43m.\u001b[39;49m\u001b[43moptions\u001b[49m\u001b[38;5;241;43m.\u001b[39;49m\u001b[43mget\u001b[49m\u001b[43m(\u001b[49m\u001b[38;5;124;43m\"\u001b[39;49m\u001b[38;5;124;43mencoding\u001b[39;49m\u001b[38;5;124;43m\"\u001b[39;49m\u001b[43m,\u001b[49m\u001b[43m \u001b[49m\u001b[38;5;28;43;01mNone\u001b[39;49;00m\u001b[43m)\u001b[49m\u001b[43m,\u001b[49m\n\u001b[1;32m   1884\u001b[0m \u001b[43m    \u001b[49m\u001b[43mcompression\u001b[49m\u001b[38;5;241;43m=\u001b[39;49m\u001b[38;5;28;43mself\u001b[39;49m\u001b[38;5;241;43m.\u001b[39;49m\u001b[43moptions\u001b[49m\u001b[38;5;241;43m.\u001b[39;49m\u001b[43mget\u001b[49m\u001b[43m(\u001b[49m\u001b[38;5;124;43m\"\u001b[39;49m\u001b[38;5;124;43mcompression\u001b[39;49m\u001b[38;5;124;43m\"\u001b[39;49m\u001b[43m,\u001b[49m\u001b[43m \u001b[49m\u001b[38;5;28;43;01mNone\u001b[39;49;00m\u001b[43m)\u001b[49m\u001b[43m,\u001b[49m\n\u001b[1;32m   1885\u001b[0m \u001b[43m    \u001b[49m\u001b[43mmemory_map\u001b[49m\u001b[38;5;241;43m=\u001b[39;49m\u001b[38;5;28;43mself\u001b[39;49m\u001b[38;5;241;43m.\u001b[39;49m\u001b[43moptions\u001b[49m\u001b[38;5;241;43m.\u001b[39;49m\u001b[43mget\u001b[49m\u001b[43m(\u001b[49m\u001b[38;5;124;43m\"\u001b[39;49m\u001b[38;5;124;43mmemory_map\u001b[39;49m\u001b[38;5;124;43m\"\u001b[39;49m\u001b[43m,\u001b[49m\u001b[43m \u001b[49m\u001b[38;5;28;43;01mFalse\u001b[39;49;00m\u001b[43m)\u001b[49m\u001b[43m,\u001b[49m\n\u001b[1;32m   1886\u001b[0m \u001b[43m    \u001b[49m\u001b[43mis_text\u001b[49m\u001b[38;5;241;43m=\u001b[39;49m\u001b[43mis_text\u001b[49m\u001b[43m,\u001b[49m\n\u001b[1;32m   1887\u001b[0m \u001b[43m    \u001b[49m\u001b[43merrors\u001b[49m\u001b[38;5;241;43m=\u001b[39;49m\u001b[38;5;28;43mself\u001b[39;49m\u001b[38;5;241;43m.\u001b[39;49m\u001b[43moptions\u001b[49m\u001b[38;5;241;43m.\u001b[39;49m\u001b[43mget\u001b[49m\u001b[43m(\u001b[49m\u001b[38;5;124;43m\"\u001b[39;49m\u001b[38;5;124;43mencoding_errors\u001b[39;49m\u001b[38;5;124;43m\"\u001b[39;49m\u001b[43m,\u001b[49m\u001b[43m \u001b[49m\u001b[38;5;124;43m\"\u001b[39;49m\u001b[38;5;124;43mstrict\u001b[39;49m\u001b[38;5;124;43m\"\u001b[39;49m\u001b[43m)\u001b[49m\u001b[43m,\u001b[49m\n\u001b[1;32m   1888\u001b[0m \u001b[43m    \u001b[49m\u001b[43mstorage_options\u001b[49m\u001b[38;5;241;43m=\u001b[39;49m\u001b[38;5;28;43mself\u001b[39;49m\u001b[38;5;241;43m.\u001b[39;49m\u001b[43moptions\u001b[49m\u001b[38;5;241;43m.\u001b[39;49m\u001b[43mget\u001b[49m\u001b[43m(\u001b[49m\u001b[38;5;124;43m\"\u001b[39;49m\u001b[38;5;124;43mstorage_options\u001b[39;49m\u001b[38;5;124;43m\"\u001b[39;49m\u001b[43m,\u001b[49m\u001b[43m \u001b[49m\u001b[38;5;28;43;01mNone\u001b[39;49;00m\u001b[43m)\u001b[49m\u001b[43m,\u001b[49m\n\u001b[1;32m   1889\u001b[0m \u001b[43m\u001b[49m\u001b[43m)\u001b[49m\n\u001b[1;32m   1890\u001b[0m \u001b[38;5;28;01massert\u001b[39;00m \u001b[38;5;28mself\u001b[39m\u001b[38;5;241m.\u001b[39mhandles \u001b[38;5;129;01mis\u001b[39;00m \u001b[38;5;129;01mnot\u001b[39;00m \u001b[38;5;28;01mNone\u001b[39;00m\n\u001b[1;32m   1891\u001b[0m f \u001b[38;5;241m=\u001b[39m \u001b[38;5;28mself\u001b[39m\u001b[38;5;241m.\u001b[39mhandles\u001b[38;5;241m.\u001b[39mhandle\n",
      "File \u001b[0;32m~/.local/lib/python3.11/site-packages/pandas/io/common.py:873\u001b[0m, in \u001b[0;36mget_handle\u001b[0;34m(path_or_buf, mode, encoding, compression, memory_map, is_text, errors, storage_options)\u001b[0m\n\u001b[1;32m    868\u001b[0m \u001b[38;5;28;01melif\u001b[39;00m \u001b[38;5;28misinstance\u001b[39m(handle, \u001b[38;5;28mstr\u001b[39m):\n\u001b[1;32m    869\u001b[0m     \u001b[38;5;66;03m# Check whether the filename is to be opened in binary mode.\u001b[39;00m\n\u001b[1;32m    870\u001b[0m     \u001b[38;5;66;03m# Binary mode does not support 'encoding' and 'newline'.\u001b[39;00m\n\u001b[1;32m    871\u001b[0m     \u001b[38;5;28;01mif\u001b[39;00m ioargs\u001b[38;5;241m.\u001b[39mencoding \u001b[38;5;129;01mand\u001b[39;00m \u001b[38;5;124m\"\u001b[39m\u001b[38;5;124mb\u001b[39m\u001b[38;5;124m\"\u001b[39m \u001b[38;5;129;01mnot\u001b[39;00m \u001b[38;5;129;01min\u001b[39;00m ioargs\u001b[38;5;241m.\u001b[39mmode:\n\u001b[1;32m    872\u001b[0m         \u001b[38;5;66;03m# Encoding\u001b[39;00m\n\u001b[0;32m--> 873\u001b[0m         handle \u001b[38;5;241m=\u001b[39m \u001b[38;5;28;43mopen\u001b[39;49m\u001b[43m(\u001b[49m\n\u001b[1;32m    874\u001b[0m \u001b[43m            \u001b[49m\u001b[43mhandle\u001b[49m\u001b[43m,\u001b[49m\n\u001b[1;32m    875\u001b[0m \u001b[43m            \u001b[49m\u001b[43mioargs\u001b[49m\u001b[38;5;241;43m.\u001b[39;49m\u001b[43mmode\u001b[49m\u001b[43m,\u001b[49m\n\u001b[1;32m    876\u001b[0m \u001b[43m            \u001b[49m\u001b[43mencoding\u001b[49m\u001b[38;5;241;43m=\u001b[39;49m\u001b[43mioargs\u001b[49m\u001b[38;5;241;43m.\u001b[39;49m\u001b[43mencoding\u001b[49m\u001b[43m,\u001b[49m\n\u001b[1;32m    877\u001b[0m \u001b[43m            \u001b[49m\u001b[43merrors\u001b[49m\u001b[38;5;241;43m=\u001b[39;49m\u001b[43merrors\u001b[49m\u001b[43m,\u001b[49m\n\u001b[1;32m    878\u001b[0m \u001b[43m            \u001b[49m\u001b[43mnewline\u001b[49m\u001b[38;5;241;43m=\u001b[39;49m\u001b[38;5;124;43m\"\u001b[39;49m\u001b[38;5;124;43m\"\u001b[39;49m\u001b[43m,\u001b[49m\n\u001b[1;32m    879\u001b[0m \u001b[43m        \u001b[49m\u001b[43m)\u001b[49m\n\u001b[1;32m    880\u001b[0m     \u001b[38;5;28;01melse\u001b[39;00m:\n\u001b[1;32m    881\u001b[0m         \u001b[38;5;66;03m# Binary mode\u001b[39;00m\n\u001b[1;32m    882\u001b[0m         handle \u001b[38;5;241m=\u001b[39m \u001b[38;5;28mopen\u001b[39m(handle, ioargs\u001b[38;5;241m.\u001b[39mmode)\n",
      "\u001b[0;31mFileNotFoundError\u001b[0m: [Errno 2] No such file or directory: 'input_single_images_dpi_70_to_150.csv'"
     ]
    }
   ],
   "source": [
    "# df.head()\n",
    "df_in = pd.read_csv('input_single_images_dpi_70_to_150.csv', sep='|')"
   ]
  },
  {
   "cell_type": "code",
   "execution_count": null,
   "id": "db7c7877-f956-4bb3-a0af-9398dc0f327e",
   "metadata": {},
   "outputs": [],
   "source": []
  },
  {
   "cell_type": "code",
   "execution_count": null,
   "id": "9f46c303-f4ab-4540-82e5-3598b06d4572",
   "metadata": {},
   "outputs": [],
   "source": [
    "df_in = pd.read_csv('input_single_images.csv', sep='|')\n",
    "\n",
    "outputtext_list = []\n",
    "for _,row in df_in.iterrows():\n",
    "    try:\n",
    "        image = Image.open(row['image'])\n",
    "        outputtext = pytesseract.image_to_string(image)\n",
    "    except:\n",
    "        outputtext = '-'\n",
    "    # append\n",
    "    outputtext_list.append(outputtext)\n",
    "df_in['tesseract'] = outputtext_list\n",
    "df_out = df_in.copy()\n",
    "#df_out.to_csv('output_single_images.csv')"
   ]
  },
  {
   "cell_type": "markdown",
   "id": "4c75a62c-f8f7-4706-94fa-799c7efc75f7",
   "metadata": {},
   "source": [
    "## Load Table w `tesseract` text, process it \n",
    "\n",
    "Load scoring methods similar to `../statistical_tasks/datatable.py` for apples-to-apples comparison with BLEU score, lateron.\n",
    "\n",
    "Compute and append `bleu` to table that is later merged back onto `df_test`."
   ]
  },
  {
   "cell_type": "code",
   "execution_count": 22,
   "id": "8e187d67-d781-4e3b-bc50-60250f8b6e04",
   "metadata": {},
   "outputs": [],
   "source": [
    "# output table\n",
    "df_out = pd.read_csv('output_single_images.csv')\n",
    "df_out = df_out[['image', 'html', 'page', 'dpi', 'tesseract']]"
   ]
  },
  {
   "cell_type": "code",
   "execution_count": 23,
   "id": "c914cd1d-00fa-40c5-a457-a9c1d00581f5",
   "metadata": {},
   "outputs": [
    {
     "data": {
      "text/html": [
       "<div>\n",
       "<style scoped>\n",
       "    .dataframe tbody tr th:only-of-type {\n",
       "        vertical-align: middle;\n",
       "    }\n",
       "\n",
       "    .dataframe tbody tr th {\n",
       "        vertical-align: top;\n",
       "    }\n",
       "\n",
       "    .dataframe thead th {\n",
       "        text-align: right;\n",
       "    }\n",
       "</style>\n",
       "<table border=\"1\" class=\"dataframe\">\n",
       "  <thead>\n",
       "    <tr style=\"text-align: right;\">\n",
       "      <th></th>\n",
       "      <th>image</th>\n",
       "      <th>html</th>\n",
       "      <th>page</th>\n",
       "      <th>dpi</th>\n",
       "      <th>tesseract</th>\n",
       "    </tr>\n",
       "  </thead>\n",
       "  <tbody>\n",
       "    <tr>\n",
       "      <th>0</th>\n",
       "      <td>images/10.1186_s13705-019-0220-5_1.png</td>\n",
       "      <td>and consider the involvement of multiple stak...</td>\n",
       "      <td>1</td>\n",
       "      <td>60</td>\n",
       "      <td>Sy ial nage cn gurl ack eel fe eon\\nrid (he te...</td>\n",
       "    </tr>\n",
       "    <tr>\n",
       "      <th>1</th>\n",
       "      <td>images/10.1186_s13326-016-0054-4_1.png</td>\n",
       "      <td>ipher from detailed model annotations. For bot...</td>\n",
       "      <td>1</td>\n",
       "      <td>60</td>\n",
       "      <td>reyone), need be cnpuaonaly exe fom\\n‘onleraia...</td>\n",
       "    </tr>\n",
       "    <tr>\n",
       "      <th>2</th>\n",
       "      <td>images/10.1186_s13326-016-0062-4_1.png</td>\n",
       "      <td>accination informed consent forms before vacci...</td>\n",
       "      <td>1</td>\n",
       "      <td>60</td>\n",
       "      <td>Dieses ad as\\n\\nto ccatt re tg» Sn\\n‘ecaten mn...</td>\n",
       "    </tr>\n",
       "    <tr>\n",
       "      <th>3</th>\n",
       "      <td>images/10.1186_s13036-019-0211-2_1.png</td>\n",
       "      <td>, increasing the information capacity over the...</td>\n",
       "      <td>1</td>\n",
       "      <td>60</td>\n",
       "      <td>og al elagelnney me\\n\\nsoca [7-0 promoting te ...</td>\n",
       "    </tr>\n",
       "    <tr>\n",
       "      <th>4</th>\n",
       "      <td>images/10.1186_s13705-018-0146-3_0.png</td>\n",
       "      <td>This article reviews the use of carbon capture...</td>\n",
       "      <td>0</td>\n",
       "      <td>60</td>\n",
       "      <td>anna oy eset BH Energy, Sustainability\\n‘and S...</td>\n",
       "    </tr>\n",
       "  </tbody>\n",
       "</table>\n",
       "</div>"
      ],
      "text/plain": [
       "                                    image  \\\n",
       "0  images/10.1186_s13705-019-0220-5_1.png   \n",
       "1  images/10.1186_s13326-016-0054-4_1.png   \n",
       "2  images/10.1186_s13326-016-0062-4_1.png   \n",
       "3  images/10.1186_s13036-019-0211-2_1.png   \n",
       "4  images/10.1186_s13705-018-0146-3_0.png   \n",
       "\n",
       "                                                html  page  dpi  \\\n",
       "0   and consider the involvement of multiple stak...     1   60   \n",
       "1  ipher from detailed model annotations. For bot...     1   60   \n",
       "2  accination informed consent forms before vacci...     1   60   \n",
       "3  , increasing the information capacity over the...     1   60   \n",
       "4  This article reviews the use of carbon capture...     0   60   \n",
       "\n",
       "                                           tesseract  \n",
       "0  Sy ial nage cn gurl ack eel fe eon\\nrid (he te...  \n",
       "1  reyone), need be cnpuaonaly exe fom\\n‘onleraia...  \n",
       "2  Dieses ad as\\n\\nto ccatt re tg» Sn\\n‘ecaten mn...  \n",
       "3  og al elagelnney me\\n\\nsoca [7-0 promoting te ...  \n",
       "4  anna oy eset BH Energy, Sustainability\\n‘and S...  "
      ]
     },
     "execution_count": 23,
     "metadata": {},
     "output_type": "execute_result"
    }
   ],
   "source": [
    "# tesseract output\n",
    "df_out.head()"
   ]
  },
  {
   "cell_type": "code",
   "execution_count": 24,
   "id": "16136368-ed5e-49ce-9257-b836b1198d58",
   "metadata": {},
   "outputs": [
    {
     "name": "stdout",
     "output_type": "stream",
     "text": [
      "CPU times: user 59 s, sys: 227 ms, total: 59.2 s\n",
      "Wall time: 59.6 s\n"
     ]
    }
   ],
   "source": [
    "%%time \n",
    "\n",
    "# compute BLEU, METEOR, ROUGE, and CAR scores and store them in new columns\n",
    "df_out['bleu_tesseract'] = df_out.apply(lambda row: calculate_bleu(str(row['html']), str(row['tesseract'])), axis=1)\n",
    "df_out['meteor_tesseract'] = df_out.apply(lambda row: calculate_meteor(str(row['html']), str(row['tesseract'])), axis=1)\n",
    "df_out['rouge_tesseract'] = df_out.apply(lambda row: calculate_rouge(str(row['html']), str(row['tesseract'])), axis=1)\n",
    "df_out['car_tesseract'] = df_out.apply(lambda row: calculate_car(str(row['html']), str(row['tesseract'])), axis=1)\n"
   ]
  },
  {
   "cell_type": "code",
   "execution_count": 25,
   "id": "bfadd23d-9b09-4fef-a7e6-a4a7a09d777d",
   "metadata": {},
   "outputs": [
    {
     "data": {
      "text/html": [
       "<div>\n",
       "<style scoped>\n",
       "    .dataframe tbody tr th:only-of-type {\n",
       "        vertical-align: middle;\n",
       "    }\n",
       "\n",
       "    .dataframe tbody tr th {\n",
       "        vertical-align: top;\n",
       "    }\n",
       "\n",
       "    .dataframe thead th {\n",
       "        text-align: right;\n",
       "    }\n",
       "</style>\n",
       "<table border=\"1\" class=\"dataframe\">\n",
       "  <thead>\n",
       "    <tr style=\"text-align: right;\">\n",
       "      <th></th>\n",
       "      <th>image</th>\n",
       "      <th>html</th>\n",
       "      <th>page</th>\n",
       "      <th>dpi</th>\n",
       "      <th>tesseract</th>\n",
       "      <th>bleu_tesseract</th>\n",
       "      <th>meteor_tesseract</th>\n",
       "      <th>rouge_tesseract</th>\n",
       "      <th>car_tesseract</th>\n",
       "    </tr>\n",
       "  </thead>\n",
       "  <tbody>\n",
       "    <tr>\n",
       "      <th>0</th>\n",
       "      <td>images/10.1186_s13705-019-0220-5_1.png</td>\n",
       "      <td>and consider the involvement of multiple stak...</td>\n",
       "      <td>1</td>\n",
       "      <td>60</td>\n",
       "      <td>Sy ial nage cn gurl ack eel fe eon\\nrid (he te...</td>\n",
       "      <td>0.003425</td>\n",
       "      <td>0.065668</td>\n",
       "      <td>0.010920</td>\n",
       "      <td>0.343420</td>\n",
       "    </tr>\n",
       "    <tr>\n",
       "      <th>1</th>\n",
       "      <td>images/10.1186_s13326-016-0054-4_1.png</td>\n",
       "      <td>ipher from detailed model annotations. For bot...</td>\n",
       "      <td>1</td>\n",
       "      <td>60</td>\n",
       "      <td>reyone), need be cnpuaonaly exe fom\\n‘onleraia...</td>\n",
       "      <td>0.000994</td>\n",
       "      <td>0.055675</td>\n",
       "      <td>0.004773</td>\n",
       "      <td>0.294970</td>\n",
       "    </tr>\n",
       "    <tr>\n",
       "      <th>2</th>\n",
       "      <td>images/10.1186_s13326-016-0062-4_1.png</td>\n",
       "      <td>accination informed consent forms before vacci...</td>\n",
       "      <td>1</td>\n",
       "      <td>60</td>\n",
       "      <td>Dieses ad as\\n\\nto ccatt re tg» Sn\\n‘ecaten mn...</td>\n",
       "      <td>0.000902</td>\n",
       "      <td>0.037552</td>\n",
       "      <td>0.000000</td>\n",
       "      <td>0.246326</td>\n",
       "    </tr>\n",
       "    <tr>\n",
       "      <th>3</th>\n",
       "      <td>images/10.1186_s13036-019-0211-2_1.png</td>\n",
       "      <td>, increasing the information capacity over the...</td>\n",
       "      <td>1</td>\n",
       "      <td>60</td>\n",
       "      <td>og al elagelnney me\\n\\nsoca [7-0 promoting te ...</td>\n",
       "      <td>0.004140</td>\n",
       "      <td>0.056885</td>\n",
       "      <td>0.024427</td>\n",
       "      <td>0.351302</td>\n",
       "    </tr>\n",
       "    <tr>\n",
       "      <th>4</th>\n",
       "      <td>images/10.1186_s13705-018-0146-3_0.png</td>\n",
       "      <td>This article reviews the use of carbon capture...</td>\n",
       "      <td>0</td>\n",
       "      <td>60</td>\n",
       "      <td>anna oy eset BH Energy, Sustainability\\n‘and S...</td>\n",
       "      <td>0.002973</td>\n",
       "      <td>0.065323</td>\n",
       "      <td>0.016032</td>\n",
       "      <td>0.368890</td>\n",
       "    </tr>\n",
       "  </tbody>\n",
       "</table>\n",
       "</div>"
      ],
      "text/plain": [
       "                                    image  \\\n",
       "0  images/10.1186_s13705-019-0220-5_1.png   \n",
       "1  images/10.1186_s13326-016-0054-4_1.png   \n",
       "2  images/10.1186_s13326-016-0062-4_1.png   \n",
       "3  images/10.1186_s13036-019-0211-2_1.png   \n",
       "4  images/10.1186_s13705-018-0146-3_0.png   \n",
       "\n",
       "                                                html  page  dpi  \\\n",
       "0   and consider the involvement of multiple stak...     1   60   \n",
       "1  ipher from detailed model annotations. For bot...     1   60   \n",
       "2  accination informed consent forms before vacci...     1   60   \n",
       "3  , increasing the information capacity over the...     1   60   \n",
       "4  This article reviews the use of carbon capture...     0   60   \n",
       "\n",
       "                                           tesseract  bleu_tesseract  \\\n",
       "0  Sy ial nage cn gurl ack eel fe eon\\nrid (he te...        0.003425   \n",
       "1  reyone), need be cnpuaonaly exe fom\\n‘onleraia...        0.000994   \n",
       "2  Dieses ad as\\n\\nto ccatt re tg» Sn\\n‘ecaten mn...        0.000902   \n",
       "3  og al elagelnney me\\n\\nsoca [7-0 promoting te ...        0.004140   \n",
       "4  anna oy eset BH Energy, Sustainability\\n‘and S...        0.002973   \n",
       "\n",
       "   meteor_tesseract  rouge_tesseract  car_tesseract  \n",
       "0          0.065668         0.010920       0.343420  \n",
       "1          0.055675         0.004773       0.294970  \n",
       "2          0.037552         0.000000       0.246326  \n",
       "3          0.056885         0.024427       0.351302  \n",
       "4          0.065323         0.016032       0.368890  "
      ]
     },
     "execution_count": 25,
     "metadata": {},
     "output_type": "execute_result"
    }
   ],
   "source": [
    "df_out.head()"
   ]
  },
  {
   "cell_type": "code",
   "execution_count": 27,
   "id": "50475b6d-106f-4680-802e-e4213e42b00c",
   "metadata": {},
   "outputs": [
    {
     "name": "stderr",
     "output_type": "stream",
     "text": [
      "/home/siebenschuh/Projects/dataprep/code/user_preference_survey/table_utils.py:149: DtypeWarning: Columns (13) have mixed types. Specify dtype option on import or set low_memory=False.\n",
      "  meta_split = yaml.safe_load(file)\n"
     ]
    }
   ],
   "source": [
    "# reload `df_test` and merge onto it \n",
    "_, df_test, _ = get_frames_of_choices_raw()"
   ]
  },
  {
   "cell_type": "code",
   "execution_count": 29,
   "id": "4895c559-9b64-4394-a4f7-fe4d285fc757",
   "metadata": {},
   "outputs": [
    {
     "data": {
      "text/plain": [
       "177038     bmc/pdf/10.1186_s13705-019-0220-5.pdf\n",
       "173657     bmc/pdf/10.1186_s13326-016-0054-4.pdf\n",
       "173695     bmc/pdf/10.1186_s13326-016-0062-4.pdf\n",
       "168519     bmc/pdf/10.1186_s13036-019-0211-2.pdf\n",
       "176520     bmc/pdf/10.1186_s13705-018-0146-3.pdf\n",
       "                           ...                  \n",
       "174208     bmc/pdf/10.1186_s13326-017-0133-1.pdf\n",
       "32143                 arxiv/pdf/2407.21187v1.pdf\n",
       "178223    bmc/pdf/10.1186_s13705-022-00357-1.pdf\n",
       "176915     bmc/pdf/10.1186_s13705-019-0198-z.pdf\n",
       "176326     bmc/pdf/10.1186_s13705-017-0113-4.pdf\n",
       "Name: path, Length: 1000, dtype: object"
      ]
     },
     "execution_count": 29,
     "metadata": {},
     "output_type": "execute_result"
    }
   ],
   "source": [
    "set(df_test['path']).intersection()"
   ]
  },
  {
   "cell_type": "code",
   "execution_count": 91,
   "id": "a735849f-685f-4fc2-a27b-9d7e32ada790",
   "metadata": {},
   "outputs": [],
   "source": [
    "# homogenize paths (vary slightly as df_out entails page)\n",
    "df_out['pdf_file_name'] = df_out['image'].str.split('/').str[-1].str.replace('.png', '').str[:-2]\n",
    "df_test['pdf_file_name'] =  df_test['path'].str.split('/').str[-1].str.replace('.pdf', '')\n",
    "\n",
    "df_new_test = df_test.merge(df_out.drop(columns=['html', 'image']), how='left', on=['pdf_file_name', 'page'])\n",
    "\n",
    "# store merged frame\n",
    "#df_new_test.to_csv('./tables/df_test_w_tesseract.csv', sep='|', index=None)"
   ]
  },
  {
   "cell_type": "code",
   "execution_count": 99,
   "id": "1511adc0-58d0-4497-a8f2-cdc5de8664f9",
   "metadata": {},
   "outputs": [
    {
     "data": {
      "text/html": [
       "<div>\n",
       "<style scoped>\n",
       "    .dataframe tbody tr th:only-of-type {\n",
       "        vertical-align: middle;\n",
       "    }\n",
       "\n",
       "    .dataframe tbody tr th {\n",
       "        vertical-align: top;\n",
       "    }\n",
       "\n",
       "    .dataframe thead th {\n",
       "        text-align: right;\n",
       "    }\n",
       "</style>\n",
       "<table border=\"1\" class=\"dataframe\">\n",
       "  <thead>\n",
       "    <tr style=\"text-align: right;\">\n",
       "      <th></th>\n",
       "      <th>dpi</th>\n",
       "      <th>bleu_tesseract</th>\n",
       "    </tr>\n",
       "  </thead>\n",
       "  <tbody>\n",
       "    <tr>\n",
       "      <th>dpi</th>\n",
       "      <td>1.000000</td>\n",
       "      <td>0.950727</td>\n",
       "    </tr>\n",
       "    <tr>\n",
       "      <th>bleu_tesseract</th>\n",
       "      <td>0.950727</td>\n",
       "      <td>1.000000</td>\n",
       "    </tr>\n",
       "  </tbody>\n",
       "</table>\n",
       "</div>"
      ],
      "text/plain": [
       "                     dpi  bleu_tesseract\n",
       "dpi             1.000000        0.950727\n",
       "bleu_tesseract  0.950727        1.000000"
      ]
     },
     "execution_count": 99,
     "metadata": {},
     "output_type": "execute_result"
    }
   ],
   "source": [
    "df_new_test[['dpi', 'bleu_tesseract']].corr()"
   ]
  },
  {
   "cell_type": "code",
   "execution_count": null,
   "id": "8bc5482b-2455-4c87-9eb8-c217255850ab",
   "metadata": {},
   "outputs": [],
   "source": []
  }
 ],
 "metadata": {
  "kernelspec": {
   "display_name": "bo",
   "language": "python",
   "name": "bo"
  },
  "language_info": {
   "codemirror_mode": {
    "name": "ipython",
    "version": 3
   },
   "file_extension": ".py",
   "mimetype": "text/x-python",
   "name": "python",
   "nbconvert_exporter": "python",
   "pygments_lexer": "ipython3",
   "version": "3.11.9"
  }
 },
 "nbformat": 4,
 "nbformat_minor": 5
}
