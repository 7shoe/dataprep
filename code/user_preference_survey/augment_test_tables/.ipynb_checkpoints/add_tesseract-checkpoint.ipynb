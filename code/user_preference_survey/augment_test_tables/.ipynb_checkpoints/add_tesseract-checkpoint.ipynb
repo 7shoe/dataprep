{
 "cells": [
  {
   "cell_type": "code",
   "execution_count": null,
   "id": "6658b37e-5e99-49cc-8268-bbe37c164a69",
   "metadata": {},
   "outputs": [],
   "source": [
    "from PIL import Image\n",
    "import pytesseract\n",
    "import pymupdf\n",
    "from PIL import Image\n",
    "import io\n",
    "import os\n",
    "import sys\n",
    "from pathlib import Path\n",
    "import random\n",
    "import pandas as pd\n",
    "from matplotlib import pyplot as plt\n",
    "\n",
    "# add path\n",
    "sys.path.append(str(Path('..').resolve()))\n",
    "\n",
    "from table_utils import get_frames_of_choices_raw\n",
    "from score_utils import calculate_bleu, calculate_rouge, calculate_car, calculate_meteor"
   ]
  },
  {
   "cell_type": "code",
   "execution_count": null,
   "id": "dc1dc454-9866-4039-b971-54a4d5eb8021",
   "metadata": {},
   "outputs": [],
   "source": [
    "# get test\n",
    "_, df_test, _ = get_frames_of_choices_raw()\n",
    "\n",
    "p_root=Path('/lus/eagle/projects/argonne_tpc/siebenschuh/aurora_gpt/joint')\n",
    "p_img_dst = Path('./images')"
   ]
  },
  {
   "cell_type": "code",
   "execution_count": null,
   "id": "d02db966-cd8a-428c-a9c4-32d702ea6d26",
   "metadata": {},
   "outputs": [],
   "source": [
    "%%time \n",
    "\n",
    "# PDFs\n",
    "pdf_path_list = list(df_test['path'])\n",
    "pdf_page_list = list(df_test['page'])\n",
    "html_groundtruth_list = list(df_test['html'])\n",
    "\n",
    "# tesseract OCR\n",
    "effective_html_text_list = []\n",
    "effective_page_list = []\n",
    "image_file_name_list = []\n",
    "tesseract_list = []\n",
    "dpi_sizes = []\n",
    "\n",
    "# loop elements\n",
    "for pdf_file_name, page_idx, html_text in zip(pdf_path_list, pdf_page_list, html_groundtruth_list):\n",
    "    # path\n",
    "    pdf_path = p_root / pdf_file_name\n",
    "    if pdf_path.is_file():\n",
    "        doc = pymupdf.open(pdf_path) # open the PDF\n",
    "        rnd_dpi = random.choice([70, 90, 110, 130, 150])\n",
    "        \n",
    "        pixmap = doc[page_idx].get_pixmap(dpi=rnd_dpi)\n",
    "        page_img = pixmap.tobytes()\n",
    "        image = Image.open(io.BytesIO(page_img))\n",
    "\n",
    "        # image name\n",
    "        img_path = str(p_img_dst / f\"{Path(pdf_file_name).stem}_{page_idx}.png\")\n",
    "        \n",
    "        # store\n",
    "        image.save(img_path)\n",
    "\n",
    "        # load tesseract image\n",
    "        # does not work on Unix\n",
    "        #text = pytesseract.image_to_string(image)\n",
    "        #tesseract_list.append(text)\n",
    "\n",
    "        # append lists\n",
    "        image_file_name_list.append(img_path)\n",
    "        effective_html_text_list.append(html_text)\n",
    "        effective_page_list.append(page_idx)\n",
    "        dpi_sizes.append(rnd_dpi)\n",
    "\n",
    "        #break\n",
    "\n",
    "# store \n",
    "df = pd.DataFrame({'image' : image_file_name_list, \n",
    "                   'html' : effective_html_text_list, \n",
    "                   'page' : effective_page_list,\n",
    "                   'dpi' : dpi_sizes})"
   ]
  },
  {
   "cell_type": "code",
   "execution_count": null,
   "id": "22c3eab7-1616-4033-a2cf-c596d8c567be",
   "metadata": {},
   "outputs": [],
   "source": [
    "# df.head()\n",
    "df_in = pd.read_csv('input_single_images_dpi_70_to_150.csv', sep='|')"
   ]
  },
  {
   "cell_type": "code",
   "execution_count": null,
   "id": "9f46c303-f4ab-4540-82e5-3598b06d4572",
   "metadata": {},
   "outputs": [],
   "source": [
    "df_in = pd.read_csv('input_single_images.csv', sep='|')\n",
    "\n",
    "outputtext_list = []\n",
    "for _,row in df_in.iterrows():\n",
    "    try:\n",
    "        image = Image.open(row['image'])\n",
    "        outputtext = pytesseract.image_to_string(image)\n",
    "    except:\n",
    "        outputtext = '-'\n",
    "    # append\n",
    "    outputtext_list.append(outputtext)\n",
    "df_in['tesseract'] = outputtext_list\n",
    "df_out = df_in.copy()\n",
    "#df_out.to_csv('output_single_images.csv')"
   ]
  },
  {
   "cell_type": "markdown",
   "id": "4c75a62c-f8f7-4706-94fa-799c7efc75f7",
   "metadata": {},
   "source": [
    "## Load Table w `tesseract` text, process it \n",
    "\n",
    "Load scoring methods similar to `../statistical_tasks/datatable.py` for apples-to-apples comparison with BLEU score, lateron.\n",
    "\n",
    "Compute and append `bleu` to table that is later merged back onto `df_test`."
   ]
  },
  {
   "cell_type": "code",
   "execution_count": 22,
   "id": "8e187d67-d781-4e3b-bc50-60250f8b6e04",
   "metadata": {},
   "outputs": [],
   "source": [
    "# output table\n",
    "df_out = pd.read_csv('output_single_images.csv')\n",
    "df_out = df_out[['image', 'html', 'page', 'dpi', 'tesseract']]"
   ]
  },
  {
   "cell_type": "code",
   "execution_count": 23,
   "id": "c914cd1d-00fa-40c5-a457-a9c1d00581f5",
   "metadata": {},
   "outputs": [
    {
     "data": {
      "text/html": [
       "<div>\n",
       "<style scoped>\n",
       "    .dataframe tbody tr th:only-of-type {\n",
       "        vertical-align: middle;\n",
       "    }\n",
       "\n",
       "    .dataframe tbody tr th {\n",
       "        vertical-align: top;\n",
       "    }\n",
       "\n",
       "    .dataframe thead th {\n",
       "        text-align: right;\n",
       "    }\n",
       "</style>\n",
       "<table border=\"1\" class=\"dataframe\">\n",
       "  <thead>\n",
       "    <tr style=\"text-align: right;\">\n",
       "      <th></th>\n",
       "      <th>image</th>\n",
       "      <th>html</th>\n",
       "      <th>page</th>\n",
       "      <th>dpi</th>\n",
       "      <th>tesseract</th>\n",
       "    </tr>\n",
       "  </thead>\n",
       "  <tbody>\n",
       "    <tr>\n",
       "      <th>0</th>\n",
       "      <td>images/10.1186_s13705-019-0220-5_1.png</td>\n",
       "      <td>and consider the involvement of multiple stak...</td>\n",
       "      <td>1</td>\n",
       "      <td>60</td>\n",
       "      <td>Sy ial nage cn gurl ack eel fe eon\\nrid (he te...</td>\n",
       "    </tr>\n",
       "    <tr>\n",
       "      <th>1</th>\n",
       "      <td>images/10.1186_s13326-016-0054-4_1.png</td>\n",
       "      <td>ipher from detailed model annotations. For bot...</td>\n",
       "      <td>1</td>\n",
       "      <td>60</td>\n",
       "      <td>reyone), need be cnpuaonaly exe fom\\n‘onleraia...</td>\n",
       "    </tr>\n",
       "    <tr>\n",
       "      <th>2</th>\n",
       "      <td>images/10.1186_s13326-016-0062-4_1.png</td>\n",
       "      <td>accination informed consent forms before vacci...</td>\n",
       "      <td>1</td>\n",
       "      <td>60</td>\n",
       "      <td>Dieses ad as\\n\\nto ccatt re tg» Sn\\n‘ecaten mn...</td>\n",
       "    </tr>\n",
       "    <tr>\n",
       "      <th>3</th>\n",
       "      <td>images/10.1186_s13036-019-0211-2_1.png</td>\n",
       "      <td>, increasing the information capacity over the...</td>\n",
       "      <td>1</td>\n",
       "      <td>60</td>\n",
       "      <td>og al elagelnney me\\n\\nsoca [7-0 promoting te ...</td>\n",
       "    </tr>\n",
       "    <tr>\n",
       "      <th>4</th>\n",
       "      <td>images/10.1186_s13705-018-0146-3_0.png</td>\n",
       "      <td>This article reviews the use of carbon capture...</td>\n",
       "      <td>0</td>\n",
       "      <td>60</td>\n",
       "      <td>anna oy eset BH Energy, Sustainability\\n‘and S...</td>\n",
       "    </tr>\n",
       "  </tbody>\n",
       "</table>\n",
       "</div>"
      ],
      "text/plain": [
       "                                    image  \\\n",
       "0  images/10.1186_s13705-019-0220-5_1.png   \n",
       "1  images/10.1186_s13326-016-0054-4_1.png   \n",
       "2  images/10.1186_s13326-016-0062-4_1.png   \n",
       "3  images/10.1186_s13036-019-0211-2_1.png   \n",
       "4  images/10.1186_s13705-018-0146-3_0.png   \n",
       "\n",
       "                                                html  page  dpi  \\\n",
       "0   and consider the involvement of multiple stak...     1   60   \n",
       "1  ipher from detailed model annotations. For bot...     1   60   \n",
       "2  accination informed consent forms before vacci...     1   60   \n",
       "3  , increasing the information capacity over the...     1   60   \n",
       "4  This article reviews the use of carbon capture...     0   60   \n",
       "\n",
       "                                           tesseract  \n",
       "0  Sy ial nage cn gurl ack eel fe eon\\nrid (he te...  \n",
       "1  reyone), need be cnpuaonaly exe fom\\n‘onleraia...  \n",
       "2  Dieses ad as\\n\\nto ccatt re tg» Sn\\n‘ecaten mn...  \n",
       "3  og al elagelnney me\\n\\nsoca [7-0 promoting te ...  \n",
       "4  anna oy eset BH Energy, Sustainability\\n‘and S...  "
      ]
     },
     "execution_count": 23,
     "metadata": {},
     "output_type": "execute_result"
    }
   ],
   "source": [
    "# tesseract output\n",
    "df_out.head()"
   ]
  },
  {
   "cell_type": "code",
   "execution_count": 24,
   "id": "16136368-ed5e-49ce-9257-b836b1198d58",
   "metadata": {},
   "outputs": [
    {
     "name": "stdout",
     "output_type": "stream",
     "text": [
      "CPU times: user 59 s, sys: 227 ms, total: 59.2 s\n",
      "Wall time: 59.6 s\n"
     ]
    }
   ],
   "source": [
    "%%time \n",
    "\n",
    "# compute BLEU, METEOR, ROUGE, and CAR scores and store them in new columns\n",
    "df_out['bleu_tesseract'] = df_out.apply(lambda row: calculate_bleu(str(row['html']), str(row['tesseract'])), axis=1)\n",
    "df_out['meteor_tesseract'] = df_out.apply(lambda row: calculate_meteor(str(row['html']), str(row['tesseract'])), axis=1)\n",
    "df_out['rouge_tesseract'] = df_out.apply(lambda row: calculate_rouge(str(row['html']), str(row['tesseract'])), axis=1)\n",
    "df_out['car_tesseract'] = df_out.apply(lambda row: calculate_car(str(row['html']), str(row['tesseract'])), axis=1)\n"
   ]
  },
  {
   "cell_type": "code",
   "execution_count": 25,
   "id": "bfadd23d-9b09-4fef-a7e6-a4a7a09d777d",
   "metadata": {},
   "outputs": [
    {
     "data": {
      "text/html": [
       "<div>\n",
       "<style scoped>\n",
       "    .dataframe tbody tr th:only-of-type {\n",
       "        vertical-align: middle;\n",
       "    }\n",
       "\n",
       "    .dataframe tbody tr th {\n",
       "        vertical-align: top;\n",
       "    }\n",
       "\n",
       "    .dataframe thead th {\n",
       "        text-align: right;\n",
       "    }\n",
       "</style>\n",
       "<table border=\"1\" class=\"dataframe\">\n",
       "  <thead>\n",
       "    <tr style=\"text-align: right;\">\n",
       "      <th></th>\n",
       "      <th>image</th>\n",
       "      <th>html</th>\n",
       "      <th>page</th>\n",
       "      <th>dpi</th>\n",
       "      <th>tesseract</th>\n",
       "      <th>bleu_tesseract</th>\n",
       "      <th>meteor_tesseract</th>\n",
       "      <th>rouge_tesseract</th>\n",
       "      <th>car_tesseract</th>\n",
       "    </tr>\n",
       "  </thead>\n",
       "  <tbody>\n",
       "    <tr>\n",
       "      <th>0</th>\n",
       "      <td>images/10.1186_s13705-019-0220-5_1.png</td>\n",
       "      <td>and consider the involvement of multiple stak...</td>\n",
       "      <td>1</td>\n",
       "      <td>60</td>\n",
       "      <td>Sy ial nage cn gurl ack eel fe eon\\nrid (he te...</td>\n",
       "      <td>0.003425</td>\n",
       "      <td>0.065668</td>\n",
       "      <td>0.010920</td>\n",
       "      <td>0.343420</td>\n",
       "    </tr>\n",
       "    <tr>\n",
       "      <th>1</th>\n",
       "      <td>images/10.1186_s13326-016-0054-4_1.png</td>\n",
       "      <td>ipher from detailed model annotations. For bot...</td>\n",
       "      <td>1</td>\n",
       "      <td>60</td>\n",
       "      <td>reyone), need be cnpuaonaly exe fom\\n‘onleraia...</td>\n",
       "      <td>0.000994</td>\n",
       "      <td>0.055675</td>\n",
       "      <td>0.004773</td>\n",
       "      <td>0.294970</td>\n",
       "    </tr>\n",
       "    <tr>\n",
       "      <th>2</th>\n",
       "      <td>images/10.1186_s13326-016-0062-4_1.png</td>\n",
       "      <td>accination informed consent forms before vacci...</td>\n",
       "      <td>1</td>\n",
       "      <td>60</td>\n",
       "      <td>Dieses ad as\\n\\nto ccatt re tg» Sn\\n‘ecaten mn...</td>\n",
       "      <td>0.000902</td>\n",
       "      <td>0.037552</td>\n",
       "      <td>0.000000</td>\n",
       "      <td>0.246326</td>\n",
       "    </tr>\n",
       "    <tr>\n",
       "      <th>3</th>\n",
       "      <td>images/10.1186_s13036-019-0211-2_1.png</td>\n",
       "      <td>, increasing the information capacity over the...</td>\n",
       "      <td>1</td>\n",
       "      <td>60</td>\n",
       "      <td>og al elagelnney me\\n\\nsoca [7-0 promoting te ...</td>\n",
       "      <td>0.004140</td>\n",
       "      <td>0.056885</td>\n",
       "      <td>0.024427</td>\n",
       "      <td>0.351302</td>\n",
       "    </tr>\n",
       "    <tr>\n",
       "      <th>4</th>\n",
       "      <td>images/10.1186_s13705-018-0146-3_0.png</td>\n",
       "      <td>This article reviews the use of carbon capture...</td>\n",
       "      <td>0</td>\n",
       "      <td>60</td>\n",
       "      <td>anna oy eset BH Energy, Sustainability\\n‘and S...</td>\n",
       "      <td>0.002973</td>\n",
       "      <td>0.065323</td>\n",
       "      <td>0.016032</td>\n",
       "      <td>0.368890</td>\n",
       "    </tr>\n",
       "  </tbody>\n",
       "</table>\n",
       "</div>"
      ],
      "text/plain": [
       "                                    image  \\\n",
       "0  images/10.1186_s13705-019-0220-5_1.png   \n",
       "1  images/10.1186_s13326-016-0054-4_1.png   \n",
       "2  images/10.1186_s13326-016-0062-4_1.png   \n",
       "3  images/10.1186_s13036-019-0211-2_1.png   \n",
       "4  images/10.1186_s13705-018-0146-3_0.png   \n",
       "\n",
       "                                                html  page  dpi  \\\n",
       "0   and consider the involvement of multiple stak...     1   60   \n",
       "1  ipher from detailed model annotations. For bot...     1   60   \n",
       "2  accination informed consent forms before vacci...     1   60   \n",
       "3  , increasing the information capacity over the...     1   60   \n",
       "4  This article reviews the use of carbon capture...     0   60   \n",
       "\n",
       "                                           tesseract  bleu_tesseract  \\\n",
       "0  Sy ial nage cn gurl ack eel fe eon\\nrid (he te...        0.003425   \n",
       "1  reyone), need be cnpuaonaly exe fom\\n‘onleraia...        0.000994   \n",
       "2  Dieses ad as\\n\\nto ccatt re tg» Sn\\n‘ecaten mn...        0.000902   \n",
       "3  og al elagelnney me\\n\\nsoca [7-0 promoting te ...        0.004140   \n",
       "4  anna oy eset BH Energy, Sustainability\\n‘and S...        0.002973   \n",
       "\n",
       "   meteor_tesseract  rouge_tesseract  car_tesseract  \n",
       "0          0.065668         0.010920       0.343420  \n",
       "1          0.055675         0.004773       0.294970  \n",
       "2          0.037552         0.000000       0.246326  \n",
       "3          0.056885         0.024427       0.351302  \n",
       "4          0.065323         0.016032       0.368890  "
      ]
     },
     "execution_count": 25,
     "metadata": {},
     "output_type": "execute_result"
    }
   ],
   "source": [
    "df_out.head()"
   ]
  },
  {
   "cell_type": "code",
   "execution_count": 27,
   "id": "50475b6d-106f-4680-802e-e4213e42b00c",
   "metadata": {},
   "outputs": [
    {
     "name": "stderr",
     "output_type": "stream",
     "text": [
      "/home/siebenschuh/Projects/dataprep/code/user_preference_survey/table_utils.py:149: DtypeWarning: Columns (13) have mixed types. Specify dtype option on import or set low_memory=False.\n",
      "  meta_split = yaml.safe_load(file)\n"
     ]
    }
   ],
   "source": [
    "# reload `df_test` and merge onto it \n",
    "_, df_test, _ = get_frames_of_choices_raw()"
   ]
  },
  {
   "cell_type": "code",
   "execution_count": 29,
   "id": "4895c559-9b64-4394-a4f7-fe4d285fc757",
   "metadata": {},
   "outputs": [
    {
     "data": {
      "text/plain": [
       "177038     bmc/pdf/10.1186_s13705-019-0220-5.pdf\n",
       "173657     bmc/pdf/10.1186_s13326-016-0054-4.pdf\n",
       "173695     bmc/pdf/10.1186_s13326-016-0062-4.pdf\n",
       "168519     bmc/pdf/10.1186_s13036-019-0211-2.pdf\n",
       "176520     bmc/pdf/10.1186_s13705-018-0146-3.pdf\n",
       "                           ...                  \n",
       "174208     bmc/pdf/10.1186_s13326-017-0133-1.pdf\n",
       "32143                 arxiv/pdf/2407.21187v1.pdf\n",
       "178223    bmc/pdf/10.1186_s13705-022-00357-1.pdf\n",
       "176915     bmc/pdf/10.1186_s13705-019-0198-z.pdf\n",
       "176326     bmc/pdf/10.1186_s13705-017-0113-4.pdf\n",
       "Name: path, Length: 1000, dtype: object"
      ]
     },
     "execution_count": 29,
     "metadata": {},
     "output_type": "execute_result"
    }
   ],
   "source": [
    "set(df_test['path']).intersection()"
   ]
  },
  {
   "cell_type": "code",
   "execution_count": 91,
   "id": "a735849f-685f-4fc2-a27b-9d7e32ada790",
   "metadata": {},
   "outputs": [],
   "source": [
    "# homogenize paths (vary slightly as df_out entails page)\n",
    "df_out['pdf_file_name'] = df_out['image'].str.split('/').str[-1].str.replace('.png', '').str[:-2]\n",
    "df_test['pdf_file_name'] =  df_test['path'].str.split('/').str[-1].str.replace('.pdf', '')\n",
    "\n",
    "df_new_test = df_test.merge(df_out.drop(columns=['html', 'image']), how='left', on=['pdf_file_name', 'page'])\n",
    "\n",
    "# store merged frame\n",
    "#df_new_test.to_csv('./tables/df_test_w_tesseract.csv', sep='|', index=None)"
   ]
  },
  {
   "cell_type": "code",
   "execution_count": 99,
   "id": "1511adc0-58d0-4497-a8f2-cdc5de8664f9",
   "metadata": {},
   "outputs": [
    {
     "data": {
      "text/html": [
       "<div>\n",
       "<style scoped>\n",
       "    .dataframe tbody tr th:only-of-type {\n",
       "        vertical-align: middle;\n",
       "    }\n",
       "\n",
       "    .dataframe tbody tr th {\n",
       "        vertical-align: top;\n",
       "    }\n",
       "\n",
       "    .dataframe thead th {\n",
       "        text-align: right;\n",
       "    }\n",
       "</style>\n",
       "<table border=\"1\" class=\"dataframe\">\n",
       "  <thead>\n",
       "    <tr style=\"text-align: right;\">\n",
       "      <th></th>\n",
       "      <th>dpi</th>\n",
       "      <th>bleu_tesseract</th>\n",
       "    </tr>\n",
       "  </thead>\n",
       "  <tbody>\n",
       "    <tr>\n",
       "      <th>dpi</th>\n",
       "      <td>1.000000</td>\n",
       "      <td>0.950727</td>\n",
       "    </tr>\n",
       "    <tr>\n",
       "      <th>bleu_tesseract</th>\n",
       "      <td>0.950727</td>\n",
       "      <td>1.000000</td>\n",
       "    </tr>\n",
       "  </tbody>\n",
       "</table>\n",
       "</div>"
      ],
      "text/plain": [
       "                     dpi  bleu_tesseract\n",
       "dpi             1.000000        0.950727\n",
       "bleu_tesseract  0.950727        1.000000"
      ]
     },
     "execution_count": 99,
     "metadata": {},
     "output_type": "execute_result"
    }
   ],
   "source": [
    "df_new_test[['dpi', 'bleu_tesseract']].corr()"
   ]
  },
  {
   "cell_type": "code",
   "execution_count": null,
   "id": "8bc5482b-2455-4c87-9eb8-c217255850ab",
   "metadata": {},
   "outputs": [],
   "source": []
  }
 ],
 "metadata": {
  "kernelspec": {
   "display_name": "bo",
   "language": "python",
   "name": "bo"
  },
  "language_info": {
   "codemirror_mode": {
    "name": "ipython",
    "version": 3
   },
   "file_extension": ".py",
   "mimetype": "text/x-python",
   "name": "python",
   "nbconvert_exporter": "python",
   "pygments_lexer": "ipython3",
   "version": "3.11.9"
  }
 },
 "nbformat": 4,
 "nbformat_minor": 5
}
