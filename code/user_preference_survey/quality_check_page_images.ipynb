{
 "cells": [
  {
   "cell_type": "code",
   "execution_count": 1,
   "id": "b37b3c37-294e-451e-a076-5d1f487673d7",
   "metadata": {},
   "outputs": [],
   "source": [
    "import pandas as pd\n",
    "from pathlib import Path\n",
    "import yaml\n",
    "import numpy as np\n",
    "\n",
    "from table_utils import get_frames_of_choices_raw\n",
    "from table_utils import get_sampled_choices"
   ]
  },
  {
   "cell_type": "markdown",
   "id": "69f52004-eb71-4a43-ad80-6d9e074d3df6",
   "metadata": {},
   "source": [
    "## Quality check of page images AND text\n",
    "~Before~ Only after sampling text, check if the page images **and the texts* are proper. Requires joint eye to see that the pages are not \"off\"."
   ]
  },
  {
   "cell_type": "code",
   "execution_count": 2,
   "id": "aff77fec-b1a2-45b1-8bda-c506db7aa38e",
   "metadata": {},
   "outputs": [],
   "source": [
    "p_root=Path('/lus/eagle/projects/argonne_tpc/siebenschuh/aurora_gpt/joint')"
   ]
  },
  {
   "cell_type": "code",
   "execution_count": null,
   "id": "4f51355e-ad5d-4bbf-b84e-88c41c3306e3",
   "metadata": {},
   "outputs": [],
   "source": [
    "df_train, df_test, df_val = get_frames_of_choices_raw()\n",
    "\n",
    "unique_df = df_train[['path', 'page']].drop_duplicates()\n",
    "sorted_df = unique_df.sort_values(by='page')"
   ]
  },
  {
   "cell_type": "code",
   "execution_count": null,
   "id": "f3bbeec9-a4b3-4315-a2c9-0f2883fa05a8",
   "metadata": {},
   "outputs": [],
   "source": [
    "df_train[['path', 'page']]"
   ]
  },
  {
   "cell_type": "code",
   "execution_count": null,
   "id": "8743f783-7291-4ba4-b2f9-e9d015789c7c",
   "metadata": {},
   "outputs": [],
   "source": []
  }
 ],
 "metadata": {
  "kernelspec": {
   "display_name": "bo",
   "language": "python",
   "name": "bo"
  },
  "language_info": {
   "codemirror_mode": {
    "name": "ipython",
    "version": 3
   },
   "file_extension": ".py",
   "mimetype": "text/x-python",
   "name": "python",
   "nbconvert_exporter": "python",
   "pygments_lexer": "ipython3",
   "version": "3.11.9"
  }
 },
 "nbformat": 4,
 "nbformat_minor": 5
}
