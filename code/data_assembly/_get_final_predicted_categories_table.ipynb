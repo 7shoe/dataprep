{
 "cells": [
  {
   "cell_type": "code",
   "execution_count": 1,
   "id": "feeec895-0c80-4342-a79d-bee5f783ac01",
   "metadata": {},
   "outputs": [],
   "source": [
    "import pandas as pd\n",
    "import os\n",
    "import numpy as np\n",
    "from pathlib import Path\n",
    "\n",
    "from category_inference.utils import get_HF_frame, get_GPT4_frame, get_frame"
   ]
  },
  {
   "cell_type": "markdown",
   "id": "5912ab4a-b75e-46f4-9a6e-83ceffbb6c82",
   "metadata": {},
   "source": [
    "## 1. Combine Legacy Frames (HF-inferred, ensemble)\n",
    "\n",
    "Parser output with text (and metrics incl. inferred category)\n",
    "```\n",
    "/eagle/projects/argonne_tpc/siebenschuh/aurora_gpt/database/FINAL_TABLES/parser_output_with_metrics.csv\n",
    "```\n",
    "\n",
    "Parser output __without__ text (and metrics incl. inferred category)\n",
    "```\n",
    "/eagle/projects/argonne_tpc/siebenschuh/aurora_gpt/database/FINAL_TABLES/parser_metrics_only.csv\n",
    "```\n"
   ]
  },
  {
   "cell_type": "code",
   "execution_count": 39,
   "id": "92414f92-e7e7-4626-a8fd-1e03ced673f3",
   "metadata": {},
   "outputs": [
    {
     "name": "stdout",
     "output_type": "stream",
     "text": [
      "Modes of GPT4 predictions\n",
      "Modes of HF predictions\n"
     ]
    }
   ],
   "source": [
    "df_meta = get_frame()"
   ]
  },
  {
   "cell_type": "markdown",
   "id": "d1406794-852a-44d8-a4f5-f7a98144c639",
   "metadata": {},
   "source": [
    "## 2. Add `tesseract` and `pypdf` back on\n",
    "\n",
    "#### 2.1 Parser text + BLEU/ROUGE/CAR\n",
    "```\n",
    "/eagle/projects/argonne_tpc/siebenschuh/aurora_gpt/database/FINAL_TABLES/parser_output.csv\n",
    "```\n",
    "\n",
    "#### 2.2 Parser text + BLEU/ROUGE/CAR + inferred categories\n",
    "```\n",
    "/eagle/projects/argonne_tpc/siebenschuh/aurora_gpt/database/FINAL_TABLES/parser_output_with_metrics.csv\n",
    "```\n",
    "\n",
    "#### 2.3 ~Parser text +~ BLEU/ROUGE/CAR + inferred categories\n",
    "```\n",
    "/eagle/projects/argonne_tpc/siebenschuh/aurora_gpt/database/FINAL_TABLES/parser_metrics_only.csv\n",
    "```"
   ]
  },
  {
   "cell_type": "code",
   "execution_count": 16,
   "id": "38d33817-bcb2-45bd-a2b1-79c4a743714c",
   "metadata": {},
   "outputs": [],
   "source": [
    "# tesseract & pypdf\n",
    "df_tr_n_pp = pd.read_csv('/eagle/projects/argonne_tpc/siebenschuh/aurora_gpt/database/tesseract_and_pypdf_processed.csv', sep='|')"
   ]
  },
  {
   "cell_type": "code",
   "execution_count": 18,
   "id": "a907d8a9-0f90-41bc-aeb0-63644f27f188",
   "metadata": {},
   "outputs": [
    {
     "data": {
      "text/plain": [
       "(24845,\n",
       " Index(['Unnamed: 0', 'path', 'html', 'tesseract', 'pypdf', 'html_norm',\n",
       "        'tesseract_norm', 'bleu_tesseract', 'rouge_tesseract', 'car_tesseract',\n",
       "        'bleu_tesseract_norm', 'rouge_tesseract_norm', 'car_tesseract_norm'],\n",
       "       dtype='object'))"
      ]
     },
     "execution_count": 18,
     "metadata": {},
     "output_type": "execute_result"
    }
   ],
   "source": [
    "len(df_tr_n_pp), df_tr_n_pp.columns"
   ]
  },
  {
   "cell_type": "code",
   "execution_count": 19,
   "id": "f38e6242-47a4-47a0-a274-e75e323bf4b0",
   "metadata": {},
   "outputs": [],
   "source": [
    "# all others (incl. LEGACY pypdf)\n",
    "df_parser_txt_n_metrics = pd.read_csv('/eagle/projects/argonne_tpc/siebenschuh/aurora_gpt/database/parser_output_with_metrics.csv', sep='|')"
   ]
  },
  {
   "cell_type": "code",
   "execution_count": 20,
   "id": "f4a0441c-a52f-4a05-9480-9c2356cda04f",
   "metadata": {},
   "outputs": [
    {
     "data": {
      "text/plain": [
       "(23398,\n",
       " Index(['path', 'html', 'nougat', 'pymupdf', 'pypdf', 'marker', 'grobid',\n",
       "        'html_norm', 'nougat_norm', 'pymupdf_norm', 'grobid_norm', 'pypdf_norm',\n",
       "        'marker_norm', 'bleu_nougat', 'rouge_nougat', 'car_nougat',\n",
       "        'bleu_nougat_norm', 'rouge_nougat_norm', 'car_nougat_norm',\n",
       "        'bleu_pymupdf', 'rouge_pymupdf', 'car_pymupdf', 'bleu_pymupdf_norm',\n",
       "        'rouge_pymupdf_norm', 'car_pymupdf_norm', 'bleu_grobid', 'rouge_grobid',\n",
       "        'car_grobid', 'bleu_grobid_norm', 'rouge_grobid_norm',\n",
       "        'car_grobid_norm', 'bleu_pypdf', 'rouge_pypdf', 'car_pypdf',\n",
       "        'bleu_pypdf_norm', 'rouge_pypdf_norm', 'car_pypdf_norm', 'bleu_marker',\n",
       "        'rouge_marker', 'car_marker', 'bleu_marker_norm', 'rouge_marker_norm',\n",
       "        'car_marker_norm'],\n",
       "       dtype='object'))"
      ]
     },
     "execution_count": 20,
     "metadata": {},
     "output_type": "execute_result"
    }
   ],
   "source": [
    "len(df_parser_txt_n_metrics), df_parser_txt_n_metrics.columns"
   ]
  },
  {
   "cell_type": "code",
   "execution_count": 21,
   "id": "ea0ebb3e-c341-4485-9680-84e35da71c25",
   "metadata": {},
   "outputs": [
    {
     "name": "stdout",
     "output_type": "stream",
     "text": [
      "Modes of GPT4 predictions\n",
      "Modes of HF predictions\n"
     ]
    }
   ],
   "source": [
    "# load frame of inferred categories (again)\n",
    "df_categories = get_frame()"
   ]
  },
  {
   "cell_type": "code",
   "execution_count": 22,
   "id": "3271b610-b4f5-4d46-949b-8668b4631e74",
   "metadata": {},
   "outputs": [
    {
     "data": {
      "text/plain": [
       "(22596, Index(['path', 'category', 'subcategory'], dtype='object'))"
      ]
     },
     "execution_count": 22,
     "metadata": {},
     "output_type": "execute_result"
    }
   ],
   "source": [
    "len(df_categories), df_categories.columns"
   ]
  },
  {
   "cell_type": "code",
   "execution_count": 30,
   "id": "f71a35db-0eca-47c9-9afa-a16822d11a40",
   "metadata": {},
   "outputs": [],
   "source": [
    "# Parser output\n",
    "new_parser_output_left = df_parser_txt_n_metrics[['path', 'html', 'nougat', 'pymupdf', 'pypdf', 'marker', 'grobid',\n",
    "        'html_norm', 'nougat_norm', 'pymupdf_norm', 'grobid_norm', 'pypdf_norm',\n",
    "        'marker_norm', 'bleu_nougat', 'rouge_nougat', 'car_nougat',\n",
    "        'bleu_nougat_norm', 'rouge_nougat_norm', 'car_nougat_norm',\n",
    "        'bleu_pymupdf', 'rouge_pymupdf', 'car_pymupdf', 'bleu_pymupdf_norm',\n",
    "        'rouge_pymupdf_norm', 'car_pymupdf_norm', 'bleu_grobid', 'rouge_grobid',\n",
    "        'car_grobid', 'bleu_grobid_norm', 'rouge_grobid_norm',\n",
    "        'car_grobid_norm', 'bleu_pypdf', 'rouge_pypdf', 'car_pypdf',\n",
    "        'bleu_pypdf_norm', 'rouge_pypdf_norm', 'car_pypdf_norm', 'bleu_marker',\n",
    "        'rouge_marker', 'car_marker', 'bleu_marker_norm', 'rouge_marker_norm',\n",
    "        'car_marker_norm']]"
   ]
  },
  {
   "cell_type": "code",
   "execution_count": 31,
   "id": "eabfae58-9482-4229-ada5-239b2955757b",
   "metadata": {},
   "outputs": [
    {
     "data": {
      "text/plain": [
       "(23398, 23397)"
      ]
     },
     "execution_count": 31,
     "metadata": {},
     "output_type": "execute_result"
    }
   ],
   "source": [
    "len(new_parser_output_left), len(set(new_parser_output_left['path']))"
   ]
  },
  {
   "cell_type": "code",
   "execution_count": 28,
   "id": "253586d5-57b0-410f-989f-3d9f3ee56c32",
   "metadata": {},
   "outputs": [],
   "source": [
    "new_parser_output_right = df_tr_n_pp[['path', 'tesseract', \n",
    "        'tesseract_norm', 'bleu_tesseract', 'rouge_tesseract', 'car_tesseract',\n",
    "        'bleu_tesseract_norm', 'rouge_tesseract_norm', 'car_tesseract_norm']]"
   ]
  },
  {
   "cell_type": "code",
   "execution_count": 32,
   "id": "da989d9b-4bd2-472f-b16b-b94c7213c6e9",
   "metadata": {},
   "outputs": [
    {
     "data": {
      "text/plain": [
       "(24845, 24845)"
      ]
     },
     "execution_count": 32,
     "metadata": {},
     "output_type": "execute_result"
    }
   ],
   "source": [
    "len(new_parser_output_right), len(set(new_parser_output_right['path']))"
   ]
  },
  {
   "cell_type": "code",
   "execution_count": 33,
   "id": "85a60aca-1b65-48be-9edf-fe710717134a",
   "metadata": {},
   "outputs": [],
   "source": [
    "df = pd.merge(left=new_parser_output_left,\n",
    "         right=new_parser_output_right,\n",
    "         on='path',\n",
    "         how='inner')"
   ]
  },
  {
   "cell_type": "code",
   "execution_count": 36,
   "id": "1d566d85-7d24-410d-8374-76ff1cf35da3",
   "metadata": {},
   "outputs": [
    {
     "data": {
      "text/plain": [
       "Index(['path', 'html', 'nougat', 'pymupdf', 'pypdf', 'marker', 'grobid',\n",
       "       'html_norm', 'nougat_norm', 'pymupdf_norm', 'grobid_norm', 'pypdf_norm',\n",
       "       'marker_norm', 'bleu_nougat', 'rouge_nougat', 'car_nougat',\n",
       "       'bleu_nougat_norm', 'rouge_nougat_norm', 'car_nougat_norm',\n",
       "       'bleu_pymupdf', 'rouge_pymupdf', 'car_pymupdf', 'bleu_pymupdf_norm',\n",
       "       'rouge_pymupdf_norm', 'car_pymupdf_norm', 'bleu_grobid', 'rouge_grobid',\n",
       "       'car_grobid', 'bleu_grobid_norm', 'rouge_grobid_norm',\n",
       "       'car_grobid_norm', 'bleu_pypdf', 'rouge_pypdf', 'car_pypdf',\n",
       "       'bleu_pypdf_norm', 'rouge_pypdf_norm', 'car_pypdf_norm', 'bleu_marker',\n",
       "       'rouge_marker', 'car_marker', 'bleu_marker_norm', 'rouge_marker_norm',\n",
       "       'car_marker_norm', 'tesseract', 'tesseract_norm', 'bleu_tesseract',\n",
       "       'rouge_tesseract', 'car_tesseract', 'bleu_tesseract_norm',\n",
       "       'rouge_tesseract_norm', 'car_tesseract_norm'],\n",
       "      dtype='object')"
      ]
     },
     "execution_count": 36,
     "metadata": {},
     "output_type": "execute_result"
    }
   ],
   "source": [
    "df.columns"
   ]
  },
  {
   "cell_type": "code",
   "execution_count": 38,
   "id": "e2ee51b4-6cca-40f6-b9c5-d77b11a70fcc",
   "metadata": {},
   "outputs": [],
   "source": [
    "df = df[['path', 'html', 'nougat', 'pymupdf', 'pypdf', 'marker', 'grobid', 'tesseract',\n",
    "       'html_norm', 'nougat_norm', 'pymupdf_norm', 'grobid_norm', 'pypdf_norm',\n",
    "       'marker_norm', 'tesseract_norm', 'bleu_nougat', 'rouge_nougat', 'car_nougat',\n",
    "       'bleu_nougat_norm', 'rouge_nougat_norm', 'car_nougat_norm',\n",
    "       'bleu_pymupdf', 'rouge_pymupdf', 'car_pymupdf', 'bleu_pymupdf_norm',\n",
    "       'rouge_pymupdf_norm', 'car_pymupdf_norm', 'bleu_grobid', 'rouge_grobid',\n",
    "       'car_grobid', 'bleu_grobid_norm', 'rouge_grobid_norm',\n",
    "       'car_grobid_norm', 'bleu_pypdf', 'rouge_pypdf', 'car_pypdf',\n",
    "       'bleu_pypdf_norm', 'rouge_pypdf_norm', 'car_pypdf_norm', 'bleu_marker',\n",
    "       'rouge_marker', 'car_marker', 'bleu_marker_norm', 'rouge_marker_norm',\n",
    "       'car_marker_norm', 'bleu_tesseract',\n",
    "       'rouge_tesseract', 'car_tesseract', 'bleu_tesseract_norm',\n",
    "       'rouge_tesseract_norm', 'car_tesseract_norm']]"
   ]
  },
  {
   "cell_type": "code",
   "execution_count": 40,
   "id": "08deb290-5fe4-403c-8f72-4b792d782bfc",
   "metadata": {},
   "outputs": [
    {
     "data": {
      "text/plain": [
       "Index(['path', 'category', 'subcategory'], dtype='object')"
      ]
     },
     "execution_count": 40,
     "metadata": {},
     "output_type": "execute_result"
    }
   ],
   "source": [
    "df_meta.columns"
   ]
  },
  {
   "cell_type": "code",
   "execution_count": 41,
   "id": "6dcfc089-9d92-4732-801e-ecab30f29571",
   "metadata": {},
   "outputs": [],
   "source": [
    "df_m = pd.merge(left=df, right=df_meta, on='path', how='left')"
   ]
  },
  {
   "cell_type": "code",
   "execution_count": 44,
   "id": "8e66838a-693b-4f46-9d4d-81dad17866b2",
   "metadata": {},
   "outputs": [
    {
     "data": {
      "text/plain": [
       "(Index(['path', 'html', 'nougat', 'pymupdf', 'pypdf', 'marker', 'grobid',\n",
       "        'tesseract', 'html_norm', 'nougat_norm', 'pymupdf_norm', 'grobid_norm',\n",
       "        'pypdf_norm', 'marker_norm', 'tesseract_norm', 'bleu_nougat',\n",
       "        'rouge_nougat', 'car_nougat', 'bleu_nougat_norm', 'rouge_nougat_norm',\n",
       "        'car_nougat_norm', 'bleu_pymupdf', 'rouge_pymupdf', 'car_pymupdf',\n",
       "        'bleu_pymupdf_norm', 'rouge_pymupdf_norm', 'car_pymupdf_norm',\n",
       "        'bleu_grobid', 'rouge_grobid', 'car_grobid', 'bleu_grobid_norm',\n",
       "        'rouge_grobid_norm', 'car_grobid_norm', 'bleu_pypdf', 'rouge_pypdf',\n",
       "        'car_pypdf', 'bleu_pypdf_norm', 'rouge_pypdf_norm', 'car_pypdf_norm',\n",
       "        'bleu_marker', 'rouge_marker', 'car_marker', 'bleu_marker_norm',\n",
       "        'rouge_marker_norm', 'car_marker_norm', 'bleu_tesseract',\n",
       "        'rouge_tesseract', 'car_tesseract', 'bleu_tesseract_norm',\n",
       "        'rouge_tesseract_norm', 'car_tesseract_norm', 'category',\n",
       "        'subcategory'],\n",
       "       dtype='object'),\n",
       " 23398)"
      ]
     },
     "execution_count": 44,
     "metadata": {},
     "output_type": "execute_result"
    }
   ],
   "source": [
    "df_m.columns, len(df_m)"
   ]
  },
  {
   "cell_type": "code",
   "execution_count": 45,
   "id": "fe405319-1468-4140-baa0-d68271b5b8d3",
   "metadata": {},
   "outputs": [],
   "source": [
    "df_m.to_csv('/eagle/projects/argonne_tpc/siebenschuh/aurora_gpt/database/FINAL_TABLES/parser_output_with_metrics.csv', sep='|', index=None)"
   ]
  },
  {
   "cell_type": "code",
   "execution_count": 46,
   "id": "0777744d-1019-48f5-a058-73481b1fe151",
   "metadata": {},
   "outputs": [],
   "source": [
    "df_reduced = df_m[['path', 'bleu_nougat',\n",
    "        'rouge_nougat', 'car_nougat', 'bleu_nougat_norm', 'rouge_nougat_norm',\n",
    "        'car_nougat_norm', 'bleu_pymupdf', 'rouge_pymupdf', 'car_pymupdf',\n",
    "        'bleu_pymupdf_norm', 'rouge_pymupdf_norm', 'car_pymupdf_norm',\n",
    "        'bleu_grobid', 'rouge_grobid', 'car_grobid', 'bleu_grobid_norm',\n",
    "        'rouge_grobid_norm', 'car_grobid_norm', 'bleu_pypdf', 'rouge_pypdf',\n",
    "        'car_pypdf', 'bleu_pypdf_norm', 'rouge_pypdf_norm', 'car_pypdf_norm',\n",
    "        'bleu_marker', 'rouge_marker', 'car_marker', 'bleu_marker_norm',\n",
    "        'rouge_marker_norm', 'car_marker_norm', 'bleu_tesseract',\n",
    "        'rouge_tesseract', 'car_tesseract', 'bleu_tesseract_norm',\n",
    "        'rouge_tesseract_norm', 'car_tesseract_norm', 'category',\n",
    "        'subcategory']]"
   ]
  },
  {
   "cell_type": "code",
   "execution_count": 47,
   "id": "e813284a-f3f3-47c0-acfe-925f57047049",
   "metadata": {},
   "outputs": [
    {
     "name": "stdout",
     "output_type": "stream",
     "text": [
      "CPU times: user 1.1 s, sys: 28.9 ms, total: 1.13 s\n",
      "Wall time: 1.14 s\n"
     ]
    }
   ],
   "source": [
    "%%time\n",
    "df_reduced.to_csv('/eagle/projects/argonne_tpc/siebenschuh/aurora_gpt/database/FINAL_TABLES/parser_metrics_only.csv', sep='|', index=None)"
   ]
  },
  {
   "cell_type": "code",
   "execution_count": 48,
   "id": "9d30c727-4e8a-48c0-9c77-990fffdf85b1",
   "metadata": {},
   "outputs": [
    {
     "data": {
      "text/html": [
       "<div>\n",
       "<style scoped>\n",
       "    .dataframe tbody tr th:only-of-type {\n",
       "        vertical-align: middle;\n",
       "    }\n",
       "\n",
       "    .dataframe tbody tr th {\n",
       "        vertical-align: top;\n",
       "    }\n",
       "\n",
       "    .dataframe thead th {\n",
       "        text-align: right;\n",
       "    }\n",
       "</style>\n",
       "<table border=\"1\" class=\"dataframe\">\n",
       "  <thead>\n",
       "    <tr style=\"text-align: right;\">\n",
       "      <th></th>\n",
       "      <th>path</th>\n",
       "      <th>bleu_nougat</th>\n",
       "      <th>rouge_nougat</th>\n",
       "      <th>car_nougat</th>\n",
       "      <th>bleu_nougat_norm</th>\n",
       "      <th>rouge_nougat_norm</th>\n",
       "      <th>car_nougat_norm</th>\n",
       "      <th>bleu_pymupdf</th>\n",
       "      <th>rouge_pymupdf</th>\n",
       "      <th>car_pymupdf</th>\n",
       "      <th>...</th>\n",
       "      <th>rouge_marker_norm</th>\n",
       "      <th>car_marker_norm</th>\n",
       "      <th>bleu_tesseract</th>\n",
       "      <th>rouge_tesseract</th>\n",
       "      <th>car_tesseract</th>\n",
       "      <th>bleu_tesseract_norm</th>\n",
       "      <th>rouge_tesseract_norm</th>\n",
       "      <th>car_tesseract_norm</th>\n",
       "      <th>category</th>\n",
       "      <th>subcategory</th>\n",
       "    </tr>\n",
       "  </thead>\n",
       "  <tbody>\n",
       "    <tr>\n",
       "      <th>0</th>\n",
       "      <td>arxiv/pdf/2207.11282v4.pdf</td>\n",
       "      <td>0.636972</td>\n",
       "      <td>0.854319</td>\n",
       "      <td>0.832541</td>\n",
       "      <td>0.809642</td>\n",
       "      <td>0.844739</td>\n",
       "      <td>0.862099</td>\n",
       "      <td>0.664585</td>\n",
       "      <td>0.825875</td>\n",
       "      <td>0.808554</td>\n",
       "      <td>...</td>\n",
       "      <td>0.844431</td>\n",
       "      <td>0.855809</td>\n",
       "      <td>0.690081</td>\n",
       "      <td>0.815461</td>\n",
       "      <td>0.824984</td>\n",
       "      <td>0.736467</td>\n",
       "      <td>0.813274</td>\n",
       "      <td>0.846667</td>\n",
       "      <td>Biology</td>\n",
       "      <td>Neuroscience</td>\n",
       "    </tr>\n",
       "    <tr>\n",
       "      <th>1</th>\n",
       "      <td>arxiv/pdf/2303.02697v2.pdf</td>\n",
       "      <td>0.615916</td>\n",
       "      <td>0.837914</td>\n",
       "      <td>0.770100</td>\n",
       "      <td>0.765567</td>\n",
       "      <td>0.864219</td>\n",
       "      <td>0.805766</td>\n",
       "      <td>0.668787</td>\n",
       "      <td>0.823477</td>\n",
       "      <td>0.832109</td>\n",
       "      <td>...</td>\n",
       "      <td>0.871955</td>\n",
       "      <td>0.859662</td>\n",
       "      <td>0.587919</td>\n",
       "      <td>0.758316</td>\n",
       "      <td>0.803632</td>\n",
       "      <td>0.633538</td>\n",
       "      <td>0.752983</td>\n",
       "      <td>0.836068</td>\n",
       "      <td>Biology</td>\n",
       "      <td>Cell Biology</td>\n",
       "    </tr>\n",
       "    <tr>\n",
       "      <th>2</th>\n",
       "      <td>arxiv/pdf/2306.11599v2.pdf</td>\n",
       "      <td>0.227068</td>\n",
       "      <td>0.689448</td>\n",
       "      <td>0.629003</td>\n",
       "      <td>0.253761</td>\n",
       "      <td>0.565642</td>\n",
       "      <td>0.834706</td>\n",
       "      <td>0.047291</td>\n",
       "      <td>0.392906</td>\n",
       "      <td>0.466585</td>\n",
       "      <td>...</td>\n",
       "      <td>0.662088</td>\n",
       "      <td>0.884416</td>\n",
       "      <td>0.373645</td>\n",
       "      <td>0.605593</td>\n",
       "      <td>0.757298</td>\n",
       "      <td>0.321643</td>\n",
       "      <td>0.579352</td>\n",
       "      <td>0.811447</td>\n",
       "      <td>Economics</td>\n",
       "      <td>Econometrics</td>\n",
       "    </tr>\n",
       "    <tr>\n",
       "      <th>3</th>\n",
       "      <td>arxiv/pdf/2306.11872v2.pdf</td>\n",
       "      <td>0.469480</td>\n",
       "      <td>0.696923</td>\n",
       "      <td>0.706822</td>\n",
       "      <td>0.520154</td>\n",
       "      <td>0.722590</td>\n",
       "      <td>0.784791</td>\n",
       "      <td>0.310934</td>\n",
       "      <td>0.597425</td>\n",
       "      <td>0.622906</td>\n",
       "      <td>...</td>\n",
       "      <td>0.745756</td>\n",
       "      <td>0.788628</td>\n",
       "      <td>0.542368</td>\n",
       "      <td>0.686400</td>\n",
       "      <td>0.730570</td>\n",
       "      <td>0.588421</td>\n",
       "      <td>0.679326</td>\n",
       "      <td>0.771728</td>\n",
       "      <td>Economics</td>\n",
       "      <td>Environmental Engineering</td>\n",
       "    </tr>\n",
       "    <tr>\n",
       "      <th>4</th>\n",
       "      <td>arxiv/pdf/2307.00277v1.pdf</td>\n",
       "      <td>0.456127</td>\n",
       "      <td>0.709995</td>\n",
       "      <td>0.697306</td>\n",
       "      <td>0.616335</td>\n",
       "      <td>0.691617</td>\n",
       "      <td>0.762646</td>\n",
       "      <td>0.147958</td>\n",
       "      <td>0.472825</td>\n",
       "      <td>0.517323</td>\n",
       "      <td>...</td>\n",
       "      <td>0.765158</td>\n",
       "      <td>0.831693</td>\n",
       "      <td>0.600944</td>\n",
       "      <td>0.700503</td>\n",
       "      <td>0.774227</td>\n",
       "      <td>0.641645</td>\n",
       "      <td>0.699796</td>\n",
       "      <td>0.810549</td>\n",
       "      <td>Engineering</td>\n",
       "      <td>Chemical Engineering</td>\n",
       "    </tr>\n",
       "    <tr>\n",
       "      <th>...</th>\n",
       "      <td>...</td>\n",
       "      <td>...</td>\n",
       "      <td>...</td>\n",
       "      <td>...</td>\n",
       "      <td>...</td>\n",
       "      <td>...</td>\n",
       "      <td>...</td>\n",
       "      <td>...</td>\n",
       "      <td>...</td>\n",
       "      <td>...</td>\n",
       "      <td>...</td>\n",
       "      <td>...</td>\n",
       "      <td>...</td>\n",
       "      <td>...</td>\n",
       "      <td>...</td>\n",
       "      <td>...</td>\n",
       "      <td>...</td>\n",
       "      <td>...</td>\n",
       "      <td>...</td>\n",
       "      <td>...</td>\n",
       "      <td>...</td>\n",
       "    </tr>\n",
       "    <tr>\n",
       "      <th>23393</th>\n",
       "      <td>nature/pdf/s_4_1_5_8_6_-_0_2_4_-_0_7_8_2_9_-_8...</td>\n",
       "      <td>0.000017</td>\n",
       "      <td>0.000395</td>\n",
       "      <td>0.001336</td>\n",
       "      <td>0.000025</td>\n",
       "      <td>0.000000</td>\n",
       "      <td>0.001408</td>\n",
       "      <td>0.000016</td>\n",
       "      <td>0.000298</td>\n",
       "      <td>0.001025</td>\n",
       "      <td>...</td>\n",
       "      <td>0.000000</td>\n",
       "      <td>0.001080</td>\n",
       "      <td>0.000017</td>\n",
       "      <td>0.000309</td>\n",
       "      <td>0.001069</td>\n",
       "      <td>0.000022</td>\n",
       "      <td>0.000164</td>\n",
       "      <td>0.001085</td>\n",
       "      <td>NaN</td>\n",
       "      <td>NaN</td>\n",
       "    </tr>\n",
       "    <tr>\n",
       "      <th>23394</th>\n",
       "      <td>nature/pdf/s_4_1_5_8_6_-_0_2_4_-_0_7_8_3_7_-_8...</td>\n",
       "      <td>0.000000</td>\n",
       "      <td>0.000000</td>\n",
       "      <td>0.000000</td>\n",
       "      <td>0.000000</td>\n",
       "      <td>0.000000</td>\n",
       "      <td>0.000000</td>\n",
       "      <td>0.000000</td>\n",
       "      <td>0.000000</td>\n",
       "      <td>0.000000</td>\n",
       "      <td>...</td>\n",
       "      <td>0.000000</td>\n",
       "      <td>1.000000</td>\n",
       "      <td>0.000000</td>\n",
       "      <td>0.000000</td>\n",
       "      <td>0.000000</td>\n",
       "      <td>0.000000</td>\n",
       "      <td>0.000000</td>\n",
       "      <td>0.000000</td>\n",
       "      <td>NaN</td>\n",
       "      <td>NaN</td>\n",
       "    </tr>\n",
       "    <tr>\n",
       "      <th>23395</th>\n",
       "      <td>nature/pdf/s_4_1_5_8_6_-_0_2_4_-_0_7_8_4_9_-_4...</td>\n",
       "      <td>0.003677</td>\n",
       "      <td>0.014717</td>\n",
       "      <td>0.036544</td>\n",
       "      <td>0.004048</td>\n",
       "      <td>0.015212</td>\n",
       "      <td>0.039450</td>\n",
       "      <td>0.003165</td>\n",
       "      <td>0.011316</td>\n",
       "      <td>0.027598</td>\n",
       "      <td>...</td>\n",
       "      <td>0.011543</td>\n",
       "      <td>0.029316</td>\n",
       "      <td>0.002714</td>\n",
       "      <td>0.010468</td>\n",
       "      <td>0.026787</td>\n",
       "      <td>0.002511</td>\n",
       "      <td>0.010559</td>\n",
       "      <td>0.027892</td>\n",
       "      <td>NaN</td>\n",
       "      <td>NaN</td>\n",
       "    </tr>\n",
       "    <tr>\n",
       "      <th>23396</th>\n",
       "      <td>nature/pdf/s_4_1_5_8_6_-_0_2_4_-_0_7_8_6_0_-_9...</td>\n",
       "      <td>0.000000</td>\n",
       "      <td>0.000000</td>\n",
       "      <td>0.000000</td>\n",
       "      <td>0.000000</td>\n",
       "      <td>0.000000</td>\n",
       "      <td>0.000000</td>\n",
       "      <td>0.000000</td>\n",
       "      <td>0.000000</td>\n",
       "      <td>0.000000</td>\n",
       "      <td>...</td>\n",
       "      <td>0.000000</td>\n",
       "      <td>0.000000</td>\n",
       "      <td>0.000000</td>\n",
       "      <td>0.000000</td>\n",
       "      <td>0.000000</td>\n",
       "      <td>0.000000</td>\n",
       "      <td>0.000000</td>\n",
       "      <td>0.000000</td>\n",
       "      <td>NaN</td>\n",
       "      <td>NaN</td>\n",
       "    </tr>\n",
       "    <tr>\n",
       "      <th>23397</th>\n",
       "      <td>nature/pdf/s_4_1_5_8_6_-_0_2_4_-_0_7_8_7_4_-_3...</td>\n",
       "      <td>0.002507</td>\n",
       "      <td>0.013351</td>\n",
       "      <td>0.024011</td>\n",
       "      <td>0.003158</td>\n",
       "      <td>0.013140</td>\n",
       "      <td>0.026031</td>\n",
       "      <td>0.002186</td>\n",
       "      <td>0.008208</td>\n",
       "      <td>0.014589</td>\n",
       "      <td>...</td>\n",
       "      <td>0.008421</td>\n",
       "      <td>0.016164</td>\n",
       "      <td>0.002455</td>\n",
       "      <td>0.009114</td>\n",
       "      <td>0.016202</td>\n",
       "      <td>0.002308</td>\n",
       "      <td>0.008629</td>\n",
       "      <td>0.016627</td>\n",
       "      <td>NaN</td>\n",
       "      <td>NaN</td>\n",
       "    </tr>\n",
       "  </tbody>\n",
       "</table>\n",
       "<p>23398 rows × 39 columns</p>\n",
       "</div>"
      ],
      "text/plain": [
       "                                                    path  bleu_nougat  \\\n",
       "0                             arxiv/pdf/2207.11282v4.pdf     0.636972   \n",
       "1                             arxiv/pdf/2303.02697v2.pdf     0.615916   \n",
       "2                             arxiv/pdf/2306.11599v2.pdf     0.227068   \n",
       "3                             arxiv/pdf/2306.11872v2.pdf     0.469480   \n",
       "4                             arxiv/pdf/2307.00277v1.pdf     0.456127   \n",
       "...                                                  ...          ...   \n",
       "23393  nature/pdf/s_4_1_5_8_6_-_0_2_4_-_0_7_8_2_9_-_8...     0.000017   \n",
       "23394  nature/pdf/s_4_1_5_8_6_-_0_2_4_-_0_7_8_3_7_-_8...     0.000000   \n",
       "23395  nature/pdf/s_4_1_5_8_6_-_0_2_4_-_0_7_8_4_9_-_4...     0.003677   \n",
       "23396  nature/pdf/s_4_1_5_8_6_-_0_2_4_-_0_7_8_6_0_-_9...     0.000000   \n",
       "23397  nature/pdf/s_4_1_5_8_6_-_0_2_4_-_0_7_8_7_4_-_3...     0.002507   \n",
       "\n",
       "       rouge_nougat  car_nougat  bleu_nougat_norm  rouge_nougat_norm  \\\n",
       "0          0.854319    0.832541          0.809642           0.844739   \n",
       "1          0.837914    0.770100          0.765567           0.864219   \n",
       "2          0.689448    0.629003          0.253761           0.565642   \n",
       "3          0.696923    0.706822          0.520154           0.722590   \n",
       "4          0.709995    0.697306          0.616335           0.691617   \n",
       "...             ...         ...               ...                ...   \n",
       "23393      0.000395    0.001336          0.000025           0.000000   \n",
       "23394      0.000000    0.000000          0.000000           0.000000   \n",
       "23395      0.014717    0.036544          0.004048           0.015212   \n",
       "23396      0.000000    0.000000          0.000000           0.000000   \n",
       "23397      0.013351    0.024011          0.003158           0.013140   \n",
       "\n",
       "       car_nougat_norm  bleu_pymupdf  rouge_pymupdf  car_pymupdf  ...  \\\n",
       "0             0.862099      0.664585       0.825875     0.808554  ...   \n",
       "1             0.805766      0.668787       0.823477     0.832109  ...   \n",
       "2             0.834706      0.047291       0.392906     0.466585  ...   \n",
       "3             0.784791      0.310934       0.597425     0.622906  ...   \n",
       "4             0.762646      0.147958       0.472825     0.517323  ...   \n",
       "...                ...           ...            ...          ...  ...   \n",
       "23393         0.001408      0.000016       0.000298     0.001025  ...   \n",
       "23394         0.000000      0.000000       0.000000     0.000000  ...   \n",
       "23395         0.039450      0.003165       0.011316     0.027598  ...   \n",
       "23396         0.000000      0.000000       0.000000     0.000000  ...   \n",
       "23397         0.026031      0.002186       0.008208     0.014589  ...   \n",
       "\n",
       "       rouge_marker_norm  car_marker_norm  bleu_tesseract  rouge_tesseract  \\\n",
       "0               0.844431         0.855809        0.690081         0.815461   \n",
       "1               0.871955         0.859662        0.587919         0.758316   \n",
       "2               0.662088         0.884416        0.373645         0.605593   \n",
       "3               0.745756         0.788628        0.542368         0.686400   \n",
       "4               0.765158         0.831693        0.600944         0.700503   \n",
       "...                  ...              ...             ...              ...   \n",
       "23393           0.000000         0.001080        0.000017         0.000309   \n",
       "23394           0.000000         1.000000        0.000000         0.000000   \n",
       "23395           0.011543         0.029316        0.002714         0.010468   \n",
       "23396           0.000000         0.000000        0.000000         0.000000   \n",
       "23397           0.008421         0.016164        0.002455         0.009114   \n",
       "\n",
       "       car_tesseract  bleu_tesseract_norm  rouge_tesseract_norm  \\\n",
       "0           0.824984             0.736467              0.813274   \n",
       "1           0.803632             0.633538              0.752983   \n",
       "2           0.757298             0.321643              0.579352   \n",
       "3           0.730570             0.588421              0.679326   \n",
       "4           0.774227             0.641645              0.699796   \n",
       "...              ...                  ...                   ...   \n",
       "23393       0.001069             0.000022              0.000164   \n",
       "23394       0.000000             0.000000              0.000000   \n",
       "23395       0.026787             0.002511              0.010559   \n",
       "23396       0.000000             0.000000              0.000000   \n",
       "23397       0.016202             0.002308              0.008629   \n",
       "\n",
       "       car_tesseract_norm     category                subcategory  \n",
       "0                0.846667      Biology               Neuroscience  \n",
       "1                0.836068      Biology               Cell Biology  \n",
       "2                0.811447    Economics               Econometrics  \n",
       "3                0.771728    Economics  Environmental Engineering  \n",
       "4                0.810549  Engineering       Chemical Engineering  \n",
       "...                   ...          ...                        ...  \n",
       "23393            0.001085          NaN                        NaN  \n",
       "23394            0.000000          NaN                        NaN  \n",
       "23395            0.027892          NaN                        NaN  \n",
       "23396            0.000000          NaN                        NaN  \n",
       "23397            0.016627          NaN                        NaN  \n",
       "\n",
       "[23398 rows x 39 columns]"
      ]
     },
     "execution_count": 48,
     "metadata": {},
     "output_type": "execute_result"
    }
   ],
   "source": [
    "df_reduced"
   ]
  },
  {
   "cell_type": "code",
   "execution_count": 50,
   "id": "fd7969ef-6453-4854-ab9d-2586ea3e9287",
   "metadata": {},
   "outputs": [
    {
     "data": {
      "text/plain": [
       "path                    medrxiv/pdf/10.1101_2024.01.18.24301434.pdf\n",
       "bleu_nougat                                                0.472665\n",
       "rouge_nougat                                               0.661425\n",
       "car_nougat                                                 0.734049\n",
       "bleu_nougat_norm                                           0.606234\n",
       "rouge_nougat_norm                                          0.661212\n",
       "car_nougat_norm                                            0.766668\n",
       "bleu_pymupdf                                               0.487486\n",
       "rouge_pymupdf                                              0.684468\n",
       "car_pymupdf                                                0.677448\n",
       "bleu_pymupdf_norm                                          0.516943\n",
       "rouge_pymupdf_norm                                         0.681184\n",
       "car_pymupdf_norm                                           0.700492\n",
       "bleu_grobid                                                0.113127\n",
       "rouge_grobid                                               0.448058\n",
       "car_grobid                                                 0.474814\n",
       "bleu_grobid_norm                                             0.1201\n",
       "rouge_grobid_norm                                          0.441455\n",
       "car_grobid_norm                                            0.481247\n",
       "bleu_pypdf                                                 0.000076\n",
       "rouge_pypdf                                                0.029191\n",
       "car_pypdf                                                  0.053294\n",
       "bleu_pypdf_norm                                            0.000067\n",
       "rouge_pypdf_norm                                           0.027443\n",
       "car_pypdf_norm                                             0.171441\n",
       "bleu_marker                                                     0.0\n",
       "rouge_marker                                                    0.0\n",
       "car_marker                                                      0.0\n",
       "bleu_marker_norm                                                0.0\n",
       "rouge_marker_norm                                               0.0\n",
       "car_marker_norm                                                 0.0\n",
       "bleu_tesseract                                             0.464515\n",
       "rouge_tesseract                                            0.670459\n",
       "car_tesseract                                              0.673705\n",
       "bleu_tesseract_norm                                        0.501611\n",
       "rouge_tesseract_norm                                       0.667639\n",
       "car_tesseract_norm                                         0.692428\n",
       "category                                                Engineering\n",
       "subcategory                                     Financial Economics\n",
       "Name: 21396, dtype: object"
      ]
     },
     "execution_count": 50,
     "metadata": {},
     "output_type": "execute_result"
    }
   ],
   "source": [
    "df_reduced.iloc[21396]"
   ]
  },
  {
   "cell_type": "code",
   "execution_count": null,
   "id": "afe356b0-2554-49ac-80b6-079e7cabd9ff",
   "metadata": {},
   "outputs": [],
   "source": []
  }
 ],
 "metadata": {
  "kernelspec": {
   "display_name": "bo",
   "language": "python",
   "name": "bo"
  },
  "language_info": {
   "codemirror_mode": {
    "name": "ipython",
    "version": 3
   },
   "file_extension": ".py",
   "mimetype": "text/x-python",
   "name": "python",
   "nbconvert_exporter": "python",
   "pygments_lexer": "ipython3",
   "version": "3.11.9"
  }
 },
 "nbformat": 4,
 "nbformat_minor": 5
}
