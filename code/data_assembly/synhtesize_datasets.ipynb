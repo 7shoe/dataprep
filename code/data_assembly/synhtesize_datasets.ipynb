{
 "cells": [
  {
   "cell_type": "code",
   "execution_count": null,
   "id": "d41408a5-348f-4c34-bda3-5c3e8001fe10",
   "metadata": {},
   "outputs": [],
   "source": [
    "import pandas as pd\n",
    "import zipfile\n",
    "import os\n",
    "import shutil\n",
    "from pathlib import Path\n",
    "from concurrent.futures import ProcessPoolExecutor\n",
    "\n",
    "from utils import zip_files, remove_text_layer, simulated_scanned_effect"
   ]
  },
  {
   "cell_type": "code",
   "execution_count": 1,
   "id": "ba9d8a03-72e7-4829-8ac7-1c1ca96d124d",
   "metadata": {},
   "outputs": [],
   "source": [
    "!scp 1536_compressed/10.1101_2023.04.07.536049.pdf test.pdf"
   ]
  },
  {
   "cell_type": "markdown",
   "id": "2a63cbae-351c-492f-a50c-77c2e7bbaee5",
   "metadata": {},
   "source": [
    "# Create dataset of clean and \"dirty\" PDFs\n",
    "\n",
    "## 1. Transfer clean PDFs"
   ]
  },
  {
   "cell_type": "code",
   "execution_count": null,
   "id": "2e704d71-fd22-438a-8cc4-fa29ec111fa1",
   "metadata": {},
   "outputs": [],
   "source": [
    "%%time\n",
    "\n",
    "# source\n",
    "p_joint = Path('/lus/eagle/projects/argonne_tpc/siebenschuh/aurora_gpt/joint/')\n",
    "\n",
    "# load 1,536 (small)\n",
    "df_1536 = pd.read_csv('./testset_1536/df_1536.csv', sep='|')\n",
    "\n",
    "# load 10,240 (big)\n",
    "df_10240 = pd.read_csv('./testset_10240/df_10240.csv', sep='|')\n",
    "\n",
    "# p_destination\n",
    "p_pdf_dsets = Path('/eagle/projects/argonne_tpc/siebenschuh/aurora_gpt/parsing_datasets')\n",
    "\n",
    "# Function to copy a single file\n",
    "def copy_file(src, dest_dir):\n",
    "    dest_path = dest_dir / src.name  # Create the destination path\n",
    "    shutil.copy2(src, dest_path)     # Copy the file (with metadata)\n",
    "    return dest_path\n",
    "\n",
    "# Loop over both datasets and directories\n",
    "for df_, subDir in zip([df_1536, df_10240], ['n_1536', 'n_10_240']):\n",
    "    # Load files\n",
    "    pdf_files = [p_joint / f for f in df_['path']]\n",
    "    \n",
    "    # Ensure the destination directory exists\n",
    "    dest_dir = p_pdf_dsets / subDir\n",
    "    dest_dir.mkdir(parents=True, exist_ok=True)\n",
    "    \n",
    "    # Parallel file transfer with 8 workers\n",
    "    with ProcessPoolExecutor(max_workers=8) as executor:\n",
    "        # Submit tasks to copy each file in parallel\n",
    "        results = list(executor.map(copy_file, pdf_files, [dest_dir]*len(pdf_files)))\n",
    "\n",
    "    # Optionally print or log the results (paths of copied files)\n",
    "    print(f\"Copied {len(results)} files to {dest_dir}\")"
   ]
  },
  {
   "cell_type": "code",
   "execution_count": null,
   "id": "c644096b-be25-4433-9210-0b8180d6ece6",
   "metadata": {},
   "outputs": [],
   "source": [
    "len(df_1536), len(df_10240)"
   ]
  },
  {
   "cell_type": "markdown",
   "id": "9737ec5e-0bea-4caf-9bc5-b86dbe5b50cc",
   "metadata": {},
   "source": [
    "## Put (clean) PDFs into ZIPs"
   ]
  },
  {
   "cell_type": "code",
   "execution_count": null,
   "id": "1376ad81-44e5-4785-92bb-f7ea014fc864",
   "metadata": {},
   "outputs": [],
   "source": [
    "# p_destination\n",
    "p_pdf_dsets = Path('/eagle/projects/argonne_tpc/siebenschuh/aurora_gpt/parsing_datasets/pdf')\n",
    "p_zip_destination = Path('/eagle/projects/argonne_tpc/siebenschuh/aurora_gpt/parsing_datasets/zip')\n",
    "\n",
    "# Process subdirectories and PDFs\n",
    "for subDir in ['n_1536', 'n_10_240']:\n",
    "    # Create the destination subdirectory in the zip destination path\n",
    "    dest_dir = p_zip_destination / subDir\n",
    "    dest_dir.mkdir(parents=True, exist_ok=True)\n",
    "\n",
    "    # All paths to the PDFs in the current subdirectory\n",
    "    pdf_file_paths = [p_pdf_dsets / subDir / f for f in os.listdir(p_pdf_dsets / subDir) if f.endswith('.pdf')]\n",
    "\n",
    "    # Group PDFs into batches of 256\n",
    "    batch_size = 256\n",
    "    for i in range(0, len(pdf_file_paths), batch_size):\n",
    "        batch_files = pdf_file_paths[i:i + batch_size]\n",
    "\n",
    "        # Create a zip file for each batch\n",
    "        zip_filename = f'b{i//batch_size + 1:06}.zip'  # Zip file name, e.g., b000001.zip\n",
    "        zip_path = dest_dir / zip_filename\n",
    "\n",
    "        # Writing files to the zip\n",
    "        with zipfile.ZipFile(zip_path, 'w', zipfile.ZIP_DEFLATED) as zipf:\n",
    "            for pdf_file in batch_files:\n",
    "                zipf.write(pdf_file, arcname=pdf_file.name)  # Add each file to the zip\n",
    "\n",
    "        print(f\"Created zip: {zip_path} with {len(batch_files)} files\")"
   ]
  },
  {
   "cell_type": "markdown",
   "id": "4be7b683-ff22-4151-993e-d12a992063f4",
   "metadata": {},
   "source": [
    "# Manipulate PDFs\n",
    "\n",
    "Source (original PDFs):\n",
    "```\n",
    "/eagle/projects/argonne_tpc/siebenschuh/aurora_gpt/parsing_datasets/pdf_orig/n_1536\n",
    "/eagle/projects/argonne_tpc/siebenschuh/aurora_gpt/parsing_datasets/pdf_orig/n_10_240\n",
    "```\n",
    "\n",
    "Keep track of manipulation via table.\n",
    "\n",
    "Destination\n",
    "```\n",
    "/eagle/projects/argonne_tpc/siebenschuh/aurora_gpt/parsing_datasets/pdf_orig/n_1536\n",
    "/eagle/projects/argonne_tpc/siebenschuh/aurora_gpt/parsing_datasets/pdf_orig/n_10_240\n",
    "```\n",
    "\n",
    "\n",
    "\n",
    "## 2. Put (manipulated) PDFs into ZIPs"
   ]
  },
  {
   "cell_type": "code",
   "execution_count": null,
   "id": "81de7107-3d34-44f2-80ab-524d6aa5da92",
   "metadata": {},
   "outputs": [],
   "source": [
    "# source\n",
    "p_joint = Path('/lus/eagle/projects/argonne_tpc/siebenschuh/aurora_gpt/joint/')\n",
    "\n",
    "# load 1,536 (small)\n",
    "df_1536 = pd.read_csv('./testset_1536/df_1536.csv', sep='|')\n",
    "\n",
    "# load 10,240 (big)\n",
    "df_10240 = pd.read_csv('./testset_10240/df_10240.csv', sep='|')\n"
   ]
  },
  {
   "cell_type": "code",
   "execution_count": null,
   "id": "aeae230a-1d97-4f24-aa44-101d9c9b8595",
   "metadata": {},
   "outputs": [],
   "source": [
    "df_1536['transformed']"
   ]
  },
  {
   "cell_type": "code",
   "execution_count": null,
   "id": "fd11b2cf-62cb-43c6-aca7-e67763e20b48",
   "metadata": {},
   "outputs": [],
   "source": [
    "# p_destination\n",
    "p_pdf_dsets = Path('/eagle/projects/argonne_tpc/siebenschuh/aurora_gpt/parsing_datasets/pdf')"
   ]
  }
 ],
 "metadata": {
  "kernelspec": {
   "display_name": "bo",
   "language": "python",
   "name": "bo"
  },
  "language_info": {
   "codemirror_mode": {
    "name": "ipython",
    "version": 3
   },
   "file_extension": ".py",
   "mimetype": "text/x-python",
   "name": "python",
   "nbconvert_exporter": "python",
   "pygments_lexer": "ipython3",
   "version": "3.11.9"
  }
 },
 "nbformat": 4,
 "nbformat_minor": 5
}
