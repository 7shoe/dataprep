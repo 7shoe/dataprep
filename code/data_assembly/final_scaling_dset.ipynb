{
 "cells": [
  {
   "cell_type": "code",
   "execution_count": null,
   "id": "5a200c27-bf9b-4e26-a683-fec687d67028",
   "metadata": {},
   "outputs": [],
   "source": [
    "import pandas as pd\n",
    "import zipfile\n",
    "import os\n",
    "import shutil\n",
    "from pathlib import Path\n",
    "\n",
    "from utils import zip_files, remove_text_layer, simulated_scanned_effect"
   ]
  },
  {
   "cell_type": "code",
   "execution_count": null,
   "id": "d48f3c14-1655-4024-aba9-2416e342929c",
   "metadata": {},
   "outputs": [],
   "source": [
    "# source\n",
    "p_joint = Path('/lus/eagle/projects/argonne_tpc/siebenschuh/aurora_gpt/joint/')\n",
    "\n",
    "# load 1,536 (small) - \"train\"\n",
    "df_1536 = pd.read_csv('./testset_1536/df_1536.csv', sep='|')\n",
    "\n",
    "# load 10,240 (big)\n",
    "df_10240 = pd.read_csv('./testset_10240/df_10240.csv', sep='|')\n",
    "\n",
    "# p_destination\n",
    "p_pdf_dsets = Path('/eagle/projects/argonne_tpc/siebenschuh/aurora_gpt/parsing_datasets')"
   ]
  },
  {
   "cell_type": "markdown",
   "id": "1aa5c9fb-984a-4348-a164-bc269331679e",
   "metadata": {},
   "source": [
    "## 1. **CURRENT**\n",
    "## Note: A sampling step (last minute), before the (first) reseravtion reduced the dataset by 50% to 5120\n",
    "- all manipulated entries remained (1536, i.e. 30%) of which 768 where without text (15%) or with tesseract/Grobid text (jointly 15%)\n",
    "- \n",
    "\n",
    "\n",
    "## 2. **LEGACY**\n",
    "### 1. Pick `15%` of 10_240 PDFs to be \"scanned\" -> extacly `df_1536`\n",
    "- Assume `df_1536` is scanned (corrupt each page in each PDF, track average degree of corruption)\n",
    "- `768` : assign empty string as text\n",
    "- other `768` assign tesseract (historical Google digitization projects) or GROBID (emulates `S2ORC`) "
   ]
  },
  {
   "cell_type": "code",
   "execution_count": null,
   "id": "bf4fb6aa-1ccc-4656-846a-c49975531dac",
   "metadata": {},
   "outputs": [],
   "source": [
    "# LOAD Faux-OCRed text\n",
    "# - tesseract\n",
    "p_tesseract = Path('/lus/eagle/projects/argonne_tpc/siebenschuh/aurora_gpt/joint_to_tesseract/parsed_pdfs/')\n",
    "# - grobid\n",
    "p_grobid = Path('/lus/eagle/projects/argonne_tpc/siebenschuh/aurora_gpt/joint_to_grobid/parsed_pdfs/')"
   ]
  }
 ],
 "metadata": {
  "kernelspec": {
   "display_name": "bo",
   "language": "python",
   "name": "bo"
  },
  "language_info": {
   "codemirror_mode": {
    "name": "ipython",
    "version": 3
   },
   "file_extension": ".py",
   "mimetype": "text/x-python",
   "name": "python",
   "nbconvert_exporter": "python",
   "pygments_lexer": "ipython3",
   "version": "3.11.9"
  }
 },
 "nbformat": 4,
 "nbformat_minor": 5
}
