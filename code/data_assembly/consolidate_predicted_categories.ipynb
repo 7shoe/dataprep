{
 "cells": [
  {
   "cell_type": "code",
   "execution_count": 1,
   "id": "2531f0b4-09f2-4959-9f83-c08137860292",
   "metadata": {},
   "outputs": [],
   "source": [
    "import os\n",
    "import pandas as pd\n",
    "import json\n",
    "from pathlib import Path\n",
    "import pymupdf\n",
    "import numpy as np\n",
    "\n",
    "from utils import mode, simulated_scanned_effect, remove_text_layer\n",
    "\n",
    "# HyperPara\n",
    "categories = ['ComputerScience', 'Engineering', 'Physics', 'Chemistry', 'Mathematics', 'Economics', 'Biology', 'Medicine']\n",
    "p_joint = Path('/lus/eagle/projects/argonne_tpc/siebenschuh/aurora_gpt/joint/')\n",
    "\n",
    "# SAVE?\n",
    "save_flag = False # stored on Oct 2nd, already"
   ]
  },
  {
   "cell_type": "markdown",
   "id": "f4aa35d0-06b9-4714-b305-a2282945bb5b",
   "metadata": {},
   "source": [
    "## Two runs to predict categories\n",
    "\n",
    "### 1. GPT-4 ()\n",
    "See\n",
    "```\n",
    "../statistical_tasks/gpt4_category_inference/category_frames/gpt4_v1.csv\n",
    "```\n",
    "\n",
    "### 2. HuggingFace\n",
    "Various runs stored in here\n",
    "```\n",
    "/lus/eagle/projects/argonne_tpc/siebenschuh/aurora_gpt/database/predicted_categories\n",
    "```"
   ]
  },
  {
   "cell_type": "code",
   "execution_count": 2,
   "id": "dc3920ed-7cac-4bc8-be1f-704ed09707bf",
   "metadata": {},
   "outputs": [],
   "source": [
    "# = = = = =\n",
    "# 1. GPT-4\n",
    "# = = = = =\n",
    "# path\n",
    "p_root = Path('/lus/eagle/projects/argonne_tpc/siebenschuh/aurora_gpt/joint/')\n",
    "# destination\n",
    "p_dst_shaved = Path('/home/siebenschuh/Projects/dataprep/code/data_assembly/')\n",
    "\n",
    "# load \n",
    "p_categories = Path('../statistical_tasks/gpt4_category_inference/category_frames/gpt4_v1.csv')\n",
    "\n",
    "# read\n",
    "df_gpt4 = pd.read_csv(p_categories, sep='|')\n",
    "\n",
    "# assign publisher\n",
    "df_gpt4['publisher'] = df_gpt4['path'].str.split('/').str[0]\n",
    "\n",
    "# - class\n",
    "df_gpt4['class'] = df_gpt4['class'].str.replace(' ', '')\n",
    "df_gpt4 = df_gpt4[df_gpt4['class'].isin(categories)]\n"
   ]
  },
  {
   "cell_type": "code",
   "execution_count": 8,
   "id": "f4ce84a2-a63f-4eed-ac31-c2b34ed1f17a",
   "metadata": {},
   "outputs": [
    {
     "data": {
      "text/plain": [
       "Index(['path', 'class', 'subclass'], dtype='object')"
      ]
     },
     "execution_count": 8,
     "metadata": {},
     "output_type": "execute_result"
    }
   ],
   "source": [
    "p = Path('/home/siebenschuh/Projects/dataprep/code/statistical_tasks/gpt4_category_inference/safecopy/super_and_sup_classes_v2_SECOND_RUN_2901.csv', sep='|')\n",
    "\n",
    "df_gpt4_2 = pd.read_csv(p, sep='|')\n",
    "df.columns"
   ]
  },
  {
   "cell_type": "code",
   "execution_count": 19,
   "id": "ebe66c11-298c-42a6-bff8-a08b5bd38566",
   "metadata": {},
   "outputs": [
    {
     "data": {
      "text/plain": [
       "0       Based on the provided text, which contains onl...\n",
       "1                                 Broad Category: Biology\n",
       "2       Based on the provided text, which contains onl...\n",
       "3       Based on the provided text, which consists of ...\n",
       "4       Based on the provided text, which contains onl...\n",
       "                              ...                        \n",
       "2896    Based on the provided text, which consists of ...\n",
       "2897    Based on the provided text, which contains onl...\n",
       "2898                              Broad Category: Biology\n",
       "2899                              Broad Category: Biology\n",
       "2900                              Broad Category: Biology\n",
       "Name: class, Length: 2901, dtype: object"
      ]
     },
     "execution_count": 19,
     "metadata": {},
     "output_type": "execute_result"
    }
   ],
   "source": [
    "df_gpt4_2['class']"
   ]
  },
  {
   "cell_type": "code",
   "execution_count": 9,
   "id": "64389b45-b795-495d-bb07-89810f160d70",
   "metadata": {},
   "outputs": [],
   "source": [
    "df_gpt4_1 = df_gpt4[['path', 'class', 'subclass']]"
   ]
  },
  {
   "cell_type": "code",
   "execution_count": 14,
   "id": "6ea186a6-2651-421a-be2d-92a4f65da548",
   "metadata": {},
   "outputs": [],
   "source": [
    "df_gpt4 = pd.concat([df_gpt4_1, df_gpt4_2], ignore_index=True)"
   ]
  },
  {
   "cell_type": "code",
   "execution_count": 18,
   "id": "a7df5d1f-2a58-4076-a83e-6d1b9ca7afe8",
   "metadata": {},
   "outputs": [],
   "source": [
    "df_gpt4.to_csv('../statistical_tasks/gpt4_category_inference/category_frames/gpt4_v2_reduced.csv', sep='|', index=None)"
   ]
  },
  {
   "cell_type": "code",
   "execution_count": 3,
   "id": "5e141bd7-f9c7-44ee-ace4-c7b11b40234e",
   "metadata": {},
   "outputs": [],
   "source": [
    "# = = = = = = = = = = = = = = =\n",
    "# 2. Various HF Models\n",
    "# = = = = = = = = = = = = = = =\n",
    "\n",
    "# path\n",
    "p_LLM_frames = Path('/lus/eagle/projects/argonne_tpc/siebenschuh/aurora_gpt/database/predicted_categories')\n",
    "# list of file paths for CSVs\n",
    "csv_files = [p_LLM_frames / f for f in os.listdir(p_LLM_frames) if f.endswith('.csv')]\n",
    "# read each CSV file into a DataFrame and store them in a list\n",
    "df_list = [pd.read_csv(f) for f in csv_files]\n",
    "# concatenate the DataFrames row-wise\n",
    "df_combined = pd.concat(df_list, axis=0, ignore_index=True)\n",
    "# handle absolute paths --> bring back to `arxiv/pdf/3748.35.pdf` etc.\n",
    "split_paths = df_combined[df_combined['path'].str.startswith('/lus')]['path'].str.split('/').str[-3:]\n",
    "df_combined['path'] = split_paths.str.join('/')\n",
    "\n",
    "# all entries\n",
    "df_combined['publisher'] = df_combined['path'].str.split('/').str[0]\n",
    "df_combined = df_combined[~((df_combined['predicted_category']!='Mathematics') & (df_combined['predicted_subcategory']=='Probability'))]\n",
    "df_combined[df_combined['publisher']=='nature']['class'] = 'Nature'\n",
    "\n",
    "# unqiue\n",
    "df_unique = df_combined.groupby('path').agg({\n",
    "    'publisher': mode,\n",
    "    'predicted_category': mode,\n",
    "    'predicted_subcategory': mode\n",
    "}).reset_index()\n",
    "\n",
    "\n",
    "# filter steps (\"weak human supervision\")\n",
    "df_unique = df_unique[~((df_unique['predicted_category']!='Mathematics') & (df_unique['predicted_subcategory']=='Probability'))]\n",
    "\n",
    "# assign class\n",
    "df_unique['class'] = df_unique['predicted_category'].str.replace(' ', '')\n",
    "df_unique = df_unique[df_unique['class'].isin(categories)]\n",
    "\n",
    "# merge\n",
    "df = pd.merge(left=df_gpt4,right=df_unique,on='path',how='outer')\n",
    "\n",
    "# consolidate\n",
    "# - clss\n",
    "df['class'] = np.where(df['class_x'].notna(), df['class_x'], df['class_y'])\n",
    "df['class_src'] = np.where(df['class_x'].notna(), 'gpt4', 'hf_ensemble')\n",
    "# - subclass\n",
    "df['subclass'] = np.where(df['subclass'].notna(), df['subclass'], df['predicted_subcategory'])\n",
    "df['subclass_src'] = np.where(df['subclass'].notna(), 'gpt4', 'hf_ensemble')\n",
    "\n",
    "# subset to non-NaN\n",
    "df = df[~df['class'].isna()]\n",
    "\n",
    "# attach publisher info\n",
    "df['publisher'] = df['path'].str.split('/').str[0]\n",
    "\n",
    "# subset to `path`, `class`, `subclass`\n",
    "df = df[['path', 'publisher', 'class', 'subclass', 'class_src', 'subclass_src']]\n",
    "\n",
    "# = = = = = = = = = = = = = = =\n",
    "# 3. Manual Handling of `Nature`\n",
    "# = = = = = = = = = = = = = = =\n",
    "nature_dir = p_joint / 'nature'\n",
    "nature_paths = [\"/\".join(str(p).split('/')[-3:]) for p in list(nature_dir.rglob('*.pdf'))]\n",
    "\n",
    "df_nature = pd.DataFrame({'path' : nature_paths, \n",
    "                          'publisher' : ['Nature'] * len(nature_paths), \n",
    "                          'class' : ['Nature'] * len(nature_paths), \n",
    "                          'subclass': ['-'] * len(nature_paths),\n",
    "                          'class_src': ['-'] * len(nature_paths),\n",
    "                          'subclass_src': ['-'] * len(nature_paths)}, index=None)\n",
    "\n",
    "# append\n",
    "df = pd.concat([df, df_nature], axis=0, ignore_index=True)\n",
    "\n",
    "# save\n",
    "if save_flag:\n",
    "    df.to_csv('./final_predicted_meta/predicted_categories_final.csv', sep='|', index=None)"
   ]
  }
 ],
 "metadata": {
  "kernelspec": {
   "display_name": "bo",
   "language": "python",
   "name": "bo"
  },
  "language_info": {
   "codemirror_mode": {
    "name": "ipython",
    "version": 3
   },
   "file_extension": ".py",
   "mimetype": "text/x-python",
   "name": "python",
   "nbconvert_exporter": "python",
   "pygments_lexer": "ipython3",
   "version": "3.11.9"
  }
 },
 "nbformat": 4,
 "nbformat_minor": 5
}
