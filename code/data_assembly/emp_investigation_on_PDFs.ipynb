{
 "cells": [
  {
   "cell_type": "code",
   "execution_count": 2,
   "id": "864887a0-769b-4b2b-b3a9-05fc0a0ca8ba",
   "metadata": {},
   "outputs": [],
   "source": [
    "from pathlib import Path\n",
    "import os\n",
    "import numpy as np\n",
    "import pandas as pd\n",
    "import pymupdf"
   ]
  },
  {
   "cell_type": "markdown",
   "id": "275ab296-ceca-4c87-a0e6-dafdfad3ed9e",
   "metadata": {},
   "source": [
    "## Other dataset (from ther wild)\n",
    "Good proxy for random sample of PDFs. `n=318`"
   ]
  },
  {
   "cell_type": "code",
   "execution_count": 10,
   "id": "4939bcfc-7dbb-4e32-a7e5-f25ccb4257db",
   "metadata": {},
   "outputs": [],
   "source": [
    "# source path\n",
    "p_acc_pdf = Path('/eagle/projects/argonne_tpc/siebenschuh/aurora_gpt/parsing_datasets/extern_dstet_318/pdf_acc_bench')\n",
    "\n",
    "# all pdfs\n",
    "pdf_all_paths = list(p_acc_pdf.rglob('*.pdf'))\n",
    "\n",
    "# Initialize a counter for empty text PDFs\n",
    "emptyString = 0\n",
    "num_files = 0\n",
    "# Loop through each PDF file\n",
    "for pdf_path in pdf_all_paths:\n",
    "    # open the PDF document\n",
    "    try:\n",
    "        doc = pymupdf.open(pdf_path)\n",
    "        \n",
    "        # Initialize a variable to store the extracted text\n",
    "        full_text = ''\n",
    "        \n",
    "        # Extract text from all pages\n",
    "        for page_num in range(len(doc)):\n",
    "            page = doc.load_page(page_num)  # Load each page\n",
    "            full_text += page.get_text('text')  # Extract text from the page\n",
    "        \n",
    "        # Check if the full text is empty\n",
    "        if full_text.strip() == '':  # Strip any whitespace\n",
    "            emptyString += 1\n",
    "        # count up\n",
    "        num_files+=1\n",
    "    except:\n",
    "        continue\n",
    "        "
   ]
  },
  {
   "cell_type": "code",
   "execution_count": 11,
   "id": "45380262-8fcd-4b38-bb28-eb8ae3e4f864",
   "metadata": {},
   "outputs": [
    {
     "data": {
      "text/plain": [
       "318"
      ]
     },
     "execution_count": 11,
     "metadata": {},
     "output_type": "execute_result"
    }
   ],
   "source": [
    "num_files"
   ]
  },
  {
   "cell_type": "code",
   "execution_count": 12,
   "id": "3389e06d-7aea-4418-9a08-5114bd329efa",
   "metadata": {},
   "outputs": [
    {
     "data": {
      "text/plain": [
       "316"
      ]
     },
     "execution_count": 12,
     "metadata": {},
     "output_type": "execute_result"
    }
   ],
   "source": [
    "emptyString"
   ]
  },
  {
   "cell_type": "code",
   "execution_count": null,
   "id": "89ae0463-aeed-476c-8527-bbbea3775275",
   "metadata": {},
   "outputs": [],
   "source": []
  }
 ],
 "metadata": {
  "kernelspec": {
   "display_name": "bo",
   "language": "python",
   "name": "bo"
  },
  "language_info": {
   "codemirror_mode": {
    "name": "ipython",
    "version": 3
   },
   "file_extension": ".py",
   "mimetype": "text/x-python",
   "name": "python",
   "nbconvert_exporter": "python",
   "pygments_lexer": "ipython3",
   "version": "3.11.9"
  }
 },
 "nbformat": 4,
 "nbformat_minor": 5
}
