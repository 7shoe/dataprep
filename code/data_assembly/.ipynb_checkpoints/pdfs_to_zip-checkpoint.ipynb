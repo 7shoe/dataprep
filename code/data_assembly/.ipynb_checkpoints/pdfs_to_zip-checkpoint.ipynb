{
 "cells": [
  {
   "cell_type": "code",
   "execution_count": 3,
   "id": "8260193e-25da-42f5-8025-5e01f8f59b3e",
   "metadata": {},
   "outputs": [],
   "source": [
    "from pathlib import Path\n",
    "import os\n",
    "import yaml\n",
    "import shutil\n",
    "import uuid\n",
    "import concurrent.futures\n",
    "import zipfile\n",
    "import random\n",
    "import string"
   ]
  },
  {
   "cell_type": "markdown",
   "id": "4e9e70d4-f7b6-4369-866c-b7f366be29b4",
   "metadata": {},
   "source": [
    "## Script scans for all PDFs in `p_data_root_src`, puts them into ZIPs of `block size=batch size` and stores them - grouped by `train`/`test`/`val`\n",
    "\n",
    "### Goals:\n",
    "- enables experiments to tune throughput (initially, for `PyMuPDF`)\n",
    "- generated datasets all contain the $N=23,395$ PDFs but split across different block sizes/batch sizes ($k$)\n",
    "    - $k=100 \\rightarrow m=235$ zips\n",
    "    - $k=256 \\rightarrow m=93$ zips\n",
    "    - $k=512 \\rightarrow m=47$ zips\n",
    "    - $k=1000 \\rightarrow m=24$ zips "
   ]
  },
  {
   "cell_type": "code",
   "execution_count": 4,
   "id": "3f71d5a1-f55a-4667-b3de-438051a0f27e",
   "metadata": {},
   "outputs": [],
   "source": [
    "p = Path('/home/siebenschuh/Projects/dataprep/code/DPO/meta_split/pymupdf.yaml')\n",
    "p_data_root_src = Path('/lus/eagle/projects/argonne_tpc/siebenschuh/aurora_gpt/joint')\n",
    "p_data_root_dst = Path('/lus/eagle/projects/argonne_tpc/siebenschuh/aurora_gpt/benchmark_data/block_100')"
   ]
  },
  {
   "cell_type": "code",
   "execution_count": 9,
   "id": "9ff5d6c9-941d-4cb5-ad96-3ec6d49465d7",
   "metadata": {},
   "outputs": [],
   "source": [
    "# function to generate a unique zip file name using uuid\n",
    "def generate_unique_name(suffix=''):\n",
    "    assert suffix!='', \"cannot be empty string: ``\"\n",
    "    s = str(uuid.uuid4())\n",
    "    \n",
    "    # return the UUID with the suffix appended\n",
    "    return f\"{str(s[:-(len(suffix)+1)])}-{suffix}.zip\"\n",
    "\n",
    "# function to zip a batch of files\n",
    "def zip_files(batch, batch_index,suffix):\n",
    "    try:\n",
    "        # Generate a unique zip file name\n",
    "        zip_name = generate_unique_name(suffix)\n",
    "        zip_path = p_data_root_dst / zip_name\n",
    "\n",
    "        # Create a zip file and add the files to it\n",
    "        with zipfile.ZipFile(zip_path, 'w') as zipf:\n",
    "            for file_path in batch:\n",
    "                zipf.write(file_path, arcname=file_path.name)\n",
    "\n",
    "        return f\"Created zip file: {zip_path} with {len(batch)} files\"\n",
    "    except Exception as e:\n",
    "        return f\"Failed to create zip file for batch {batch_index}: {e}\"\n",
    "\n",
    "# function to copy and zip files in parallel\n",
    "def copy_and_zip_files(train_paths, batch_size, num_processes=4, suffix=''):\n",
    "    # Create batches of files\n",
    "    batches = [train_paths[i:i + batch_size] for i in range(0, len(train_paths), batch_size)]\n",
    "\n",
    "    # Use ProcessPoolExecutor for parallel processing\n",
    "    with concurrent.futures.ProcessPoolExecutor(max_workers=num_processes) as executor:\n",
    "        # Map the list of batches to the zip function\n",
    "        results = list(executor.map(zip_files, batches, range(len(batches)), [suffix]*len(batches)))\n",
    "\n",
    "    # Output results\n",
    "    for result in results:\n",
    "        print(result)"
   ]
  },
  {
   "cell_type": "code",
   "execution_count": 10,
   "id": "19e5fe00-3e5e-4770-a0f1-7972a0d49e7a",
   "metadata": {},
   "outputs": [
    {
     "name": "stdout",
     "output_type": "stream",
     "text": [
      "CPU times: user 925 ms, sys: 256 ms, total: 1.18 s\n",
      "Wall time: 2.64 s\n"
     ]
    }
   ],
   "source": [
    "%%time\n",
    "\n",
    "suffix = 'test'\n",
    "\n",
    "# load\n",
    "with open(p, 'r') as f:\n",
    "    d = yaml.safe_load(f)\n",
    "    \n",
    "# collect\n",
    "file_paths = []\n",
    "for f_path in d[suffix]:\n",
    "    if os.path.isfile(p_data_root_src / f_path):\n",
    "        file_paths.append(p_data_root_src / f_path)"
   ]
  },
  {
   "cell_type": "code",
   "execution_count": 11,
   "id": "40daa2ed-ab3e-43f4-bf57-a35cfb2c871e",
   "metadata": {},
   "outputs": [
    {
     "data": {
      "text/plain": [
       "2882"
      ]
     },
     "execution_count": 11,
     "metadata": {},
     "output_type": "execute_result"
    }
   ],
   "source": [
    "len(file_paths)"
   ]
  },
  {
   "cell_type": "code",
   "execution_count": 12,
   "id": "f9021b22-5835-49ac-bf68-f4f83fc8b124",
   "metadata": {},
   "outputs": [
    {
     "name": "stdout",
     "output_type": "stream",
     "text": [
      "Created zip file: /lus/eagle/projects/argonne_tpc/siebenschuh/aurora_gpt/benchmark_data/block_100/ae4a1878-9b9d-49ee-8350-f16d466-test.zip with 100 files\n",
      "Created zip file: /lus/eagle/projects/argonne_tpc/siebenschuh/aurora_gpt/benchmark_data/block_100/e0635156-4e4e-45f7-bdcd-d0060ca-test.zip with 100 files\n",
      "Created zip file: /lus/eagle/projects/argonne_tpc/siebenschuh/aurora_gpt/benchmark_data/block_100/72023ac9-f673-4c3f-a498-151dc22-test.zip with 100 files\n",
      "Created zip file: /lus/eagle/projects/argonne_tpc/siebenschuh/aurora_gpt/benchmark_data/block_100/0b3aeefa-9340-49ef-92d9-a56f4bd-test.zip with 100 files\n",
      "Created zip file: /lus/eagle/projects/argonne_tpc/siebenschuh/aurora_gpt/benchmark_data/block_100/35ae1924-aac9-4abc-adc5-6143b8c-test.zip with 100 files\n",
      "Created zip file: /lus/eagle/projects/argonne_tpc/siebenschuh/aurora_gpt/benchmark_data/block_100/f22b87fe-2607-4bde-abda-d21c3e2-test.zip with 100 files\n",
      "Created zip file: /lus/eagle/projects/argonne_tpc/siebenschuh/aurora_gpt/benchmark_data/block_100/c31d7ce0-9a09-4224-9526-f68aaf3-test.zip with 100 files\n",
      "Created zip file: /lus/eagle/projects/argonne_tpc/siebenschuh/aurora_gpt/benchmark_data/block_100/348c9e68-6a19-45f4-9d1b-acb3b34-test.zip with 100 files\n",
      "Created zip file: /lus/eagle/projects/argonne_tpc/siebenschuh/aurora_gpt/benchmark_data/block_100/596fab36-0418-43c7-87e5-c2319e2-test.zip with 100 files\n",
      "Created zip file: /lus/eagle/projects/argonne_tpc/siebenschuh/aurora_gpt/benchmark_data/block_100/8da807a5-31e1-4373-9fe1-4eadd05-test.zip with 100 files\n",
      "Created zip file: /lus/eagle/projects/argonne_tpc/siebenschuh/aurora_gpt/benchmark_data/block_100/7dd25633-d4c7-472f-a7e4-d008630-test.zip with 100 files\n",
      "Created zip file: /lus/eagle/projects/argonne_tpc/siebenschuh/aurora_gpt/benchmark_data/block_100/6d070bc1-b394-47f3-ab79-b6a0c28-test.zip with 100 files\n",
      "Created zip file: /lus/eagle/projects/argonne_tpc/siebenschuh/aurora_gpt/benchmark_data/block_100/e7c6d92d-2793-4a79-a17d-f3c904d-test.zip with 100 files\n",
      "Created zip file: /lus/eagle/projects/argonne_tpc/siebenschuh/aurora_gpt/benchmark_data/block_100/20759edb-2da6-4d6c-b877-67eb5fc-test.zip with 100 files\n",
      "Created zip file: /lus/eagle/projects/argonne_tpc/siebenschuh/aurora_gpt/benchmark_data/block_100/798b13ef-3815-4428-9e08-531fe15-test.zip with 100 files\n",
      "Created zip file: /lus/eagle/projects/argonne_tpc/siebenschuh/aurora_gpt/benchmark_data/block_100/a08bf1d0-9ae8-4208-96ef-afa0f25-test.zip with 100 files\n",
      "Created zip file: /lus/eagle/projects/argonne_tpc/siebenschuh/aurora_gpt/benchmark_data/block_100/029edac9-6525-4b4f-9853-9e3506f-test.zip with 100 files\n",
      "Created zip file: /lus/eagle/projects/argonne_tpc/siebenschuh/aurora_gpt/benchmark_data/block_100/5266dec4-676b-42bd-9606-6d56ccc-test.zip with 100 files\n",
      "Created zip file: /lus/eagle/projects/argonne_tpc/siebenschuh/aurora_gpt/benchmark_data/block_100/dd5368dd-67f3-43c0-a537-7dc754d-test.zip with 100 files\n",
      "Created zip file: /lus/eagle/projects/argonne_tpc/siebenschuh/aurora_gpt/benchmark_data/block_100/f8d9d451-b664-4ce0-beca-fb9861c-test.zip with 100 files\n",
      "Created zip file: /lus/eagle/projects/argonne_tpc/siebenschuh/aurora_gpt/benchmark_data/block_100/55378b8b-376c-414f-bd5c-53b8d99-test.zip with 100 files\n",
      "Created zip file: /lus/eagle/projects/argonne_tpc/siebenschuh/aurora_gpt/benchmark_data/block_100/ad67d814-ae5e-44fe-941f-b65fb4b-test.zip with 100 files\n",
      "Created zip file: /lus/eagle/projects/argonne_tpc/siebenschuh/aurora_gpt/benchmark_data/block_100/088ba004-651d-4e45-87ec-e93abc2-test.zip with 100 files\n",
      "Created zip file: /lus/eagle/projects/argonne_tpc/siebenschuh/aurora_gpt/benchmark_data/block_100/5606f03d-566c-42ac-86c9-ce868f9-test.zip with 100 files\n",
      "Created zip file: /lus/eagle/projects/argonne_tpc/siebenschuh/aurora_gpt/benchmark_data/block_100/c07ce3d3-8db9-409e-8bca-94d5343-test.zip with 100 files\n",
      "Created zip file: /lus/eagle/projects/argonne_tpc/siebenschuh/aurora_gpt/benchmark_data/block_100/51f21851-7ab9-40ac-927c-276c86e-test.zip with 100 files\n",
      "Created zip file: /lus/eagle/projects/argonne_tpc/siebenschuh/aurora_gpt/benchmark_data/block_100/55259e87-656b-4b1e-adeb-1b2c1b5-test.zip with 100 files\n",
      "Created zip file: /lus/eagle/projects/argonne_tpc/siebenschuh/aurora_gpt/benchmark_data/block_100/4e6b8065-3719-4814-b206-5630c2b-test.zip with 100 files\n",
      "Created zip file: /lus/eagle/projects/argonne_tpc/siebenschuh/aurora_gpt/benchmark_data/block_100/c4b26da0-dc0d-401f-9d24-868a2e6-test.zip with 82 files\n"
     ]
    }
   ],
   "source": [
    "# call the function to copy and zip files\n",
    "copy_and_zip_files(file_paths, batch_size=100, num_processes=4, suffix=suffix)"
   ]
  }
 ],
 "metadata": {
  "kernelspec": {
   "display_name": "bo",
   "language": "python",
   "name": "bo"
  },
  "language_info": {
   "codemirror_mode": {
    "name": "ipython",
    "version": 3
   },
   "file_extension": ".py",
   "mimetype": "text/x-python",
   "name": "python",
   "nbconvert_exporter": "python",
   "pygments_lexer": "ipython3",
   "version": "3.11.9"
  }
 },
 "nbformat": 4,
 "nbformat_minor": 5
}
