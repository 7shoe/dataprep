{
 "cells": [
  {
   "cell_type": "code",
   "execution_count": null,
   "id": "b74281ca-70d9-40af-ae4b-dca69bcd0ca6",
   "metadata": {},
   "outputs": [],
   "source": [
    "import json\n",
    "import os\n",
    "from pathlib import Path"
   ]
  },
  {
   "cell_type": "code",
   "execution_count": null,
   "id": "f0189261-36a0-42f3-8ec8-9495f1a292ec",
   "metadata": {},
   "outputs": [],
   "source": [
    "import json\n",
    "import os\n",
    "from pathlib import Path\n",
    "\n",
    "%%time \n",
    "\n",
    "src_dir = Path('/eagle/projects/argonne_tpc/siebenschuh/aurora_gpt/')\n",
    "dst_dir = Path('/eagle/projects/argonne_tpc/siebenschuh/aurora_gpt/embeddings/jsonls')\n",
    "parsers  = ['html', 'marker', 'nougat', 'pymupdf', 'pypdf', 'grobid']\n",
    "sizes    = [1600, 3200, 6400, 9600, 12_800]\n",
    "\n",
    "# create directory\n",
    "os.makedirs(dst_dir, exist_ok=True)\n",
    "\n",
    "# 1st loop : parsers + ['html']\n",
    "for parser in parsers:\n",
    "    src_json_dir = src_dir / f'joint_to_{parser}/parsed_pdfs' \n",
    "    jsonl_files = [src_json_dir / f for f in os.listdir(src_json_dir) if f.endswith('.jsonl')]\n",
    "    \n",
    "    # 2nd loop : maximum number of characters\n",
    "    for size in sizes:\n",
    "        jsonl_file_path = dst_dir / f'{parser}_{size}.jsonl'\n",
    "        # DEBUG\n",
    "        print(jsonl_file_path)\n",
    "        # content of jsonl to be written\n",
    "        content_list = []\n",
    "        \n",
    "        # open jsonl\n",
    "        for jsonl_file in jsonl_files:\n",
    "            with open(jsonl_file, 'r') as doc:\n",
    "                for line in doc:\n",
    "                    data = json.loads(line)\n",
    "    \n",
    "                    # extract\n",
    "                    pdf_path = data['path']\n",
    "                    full_text = '' if data['text'] is None else data['text'][:size]\n",
    "                    loc_dict = {'path' : pdf_path, 'text' : full_text}\n",
    "                    abstract_text = None\n",
    "                    first_page_text = None\n",
    "                    if 'metadata' in data.keys():\n",
    "                        if 'abstract' in data['metadata'].keys():\n",
    "                            abstract_text = data['metadata']['abstract']\n",
    "                        if 'first_page' in data['metadata'].keys():\n",
    "                            first_page_text = data['metadata']['first_page']\n",
    "                    # abstract/firstpage\n",
    "                    if abstract_text is not None:\n",
    "                        loc_dict['abstract'] = abstract_text\n",
    "                    if first_page_text is not None:\n",
    "                        loc_dict['firstpage'] = first_page_text\n",
    "    \n",
    "                    # compile\n",
    "                    content_list.append(loc_dict)\n",
    "\n",
    "        \n",
    "        # store as one jsonl\n",
    "        # Writing to the jsonl file\n",
    "        with open(jsonl_file_path, 'w') as jsonl_file:\n",
    "            for item in content_list:\n",
    "                jsonl_file.write(json.dumps(item) + '\\n')\n",
    "        content_list = None"
   ]
  },
  {
   "cell_type": "code",
   "execution_count": null,
   "id": "c2458065-0395-4029-8edc-7a59e3bcf974",
   "metadata": {},
   "outputs": [],
   "source": [
    "len(content_list[6677]['text'])"
   ]
  },
  {
   "cell_type": "code",
   "execution_count": null,
   "id": "0017234e-655b-4920-9a49-2baca2a96efd",
   "metadata": {},
   "outputs": [],
   "source": [
    "data.keys()"
   ]
  },
  {
   "cell_type": "code",
   "execution_count": null,
   "id": "7a6c475b-89a4-4088-88ab-2d584676d95d",
   "metadata": {},
   "outputs": [],
   "source": [
    "json_files"
   ]
  },
  {
   "cell_type": "code",
   "execution_count": null,
   "id": "fc568389-3427-4c4e-a34e-e92b50143fd1",
   "metadata": {},
   "outputs": [],
   "source": [
    "data"
   ]
  },
  {
   "cell_type": "code",
   "execution_count": null,
   "id": "38d7233a-7898-46df-94ec-edffd63f7aa7",
   "metadata": {},
   "outputs": [],
   "source": []
  }
 ],
 "metadata": {
  "kernelspec": {
   "display_name": "bo",
   "language": "python",
   "name": "bo"
  },
  "language_info": {
   "codemirror_mode": {
    "name": "ipython",
    "version": 3
   },
   "file_extension": ".py",
   "mimetype": "text/x-python",
   "name": "python",
   "nbconvert_exporter": "python",
   "pygments_lexer": "ipython3",
   "version": "3.11.9"
  }
 },
 "nbformat": 4,
 "nbformat_minor": 5
}
