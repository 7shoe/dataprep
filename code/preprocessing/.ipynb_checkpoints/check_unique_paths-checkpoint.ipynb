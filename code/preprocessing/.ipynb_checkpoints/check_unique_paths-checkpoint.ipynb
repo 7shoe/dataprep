{
 "cells": [
  {
   "cell_type": "code",
   "execution_count": 1,
   "id": "a9d4f65d-7f0f-4986-a6ac-89203e516cb4",
   "metadata": {},
   "outputs": [],
   "source": [
    "from pathlib import Path\n",
    "import json\n",
    "import os\n",
    "import numpy as np\n",
    "import shutil"
   ]
  },
  {
   "cell_type": "markdown",
   "id": "a678ab58-5335-4396-b2c1-a6d86b85a6a3",
   "metadata": {},
   "source": [
    "## 1. Marker\n",
    "Check progress of parsing job with Marker. Source directory (holdin PDFs and others) is \n",
    "```\n",
    "/lus/eagle/projects/argonne_tpc/siebenschuh/aurora_gpt/joint\n",
    "```"
   ]
  },
  {
   "cell_type": "code",
   "execution_count": 4,
   "id": "67f53db4-dfd3-49e5-9759-e0cf8219ebf2",
   "metadata": {},
   "outputs": [
    {
     "name": "stdout",
     "output_type": "stream",
     "text": [
      "Number of PDFs not yet parsed w/ Marker: 1155\n",
      "CPU times: user 12.5 s, sys: 1min, total: 1min 13s\n",
      "Wall time: 2min 27s\n"
     ]
    }
   ],
   "source": [
    "%%time \n",
    "\n",
    "p_marker_prod = Path('/lus/eagle/projects/argonne_tpc/siebenschuh/aurora_gpt/joint_to_marker_prod/parsed_pdfs')\n",
    "f_jsons = [p_marker_prod / f for f in os.listdir(p_marker_prod) if f.endswith('.jsonl')]\n",
    "\n",
    "path_list = []\n",
    "for f_json in f_jsons:\n",
    "    with open(f_json, 'r+') as j:\n",
    "        for j_i in j:\n",
    "            d = json.loads(j_i)\n",
    "            if 'path' in d.keys():\n",
    "                path_list.append(d['path'])\n",
    "\n",
    "# PDF source root\n",
    "p_root = Path('/lus/eagle/projects/argonne_tpc/siebenschuh/aurora_gpt/joint')\n",
    "p_dst_dir = Path('/lus/eagle/projects/argonne_tpc/siebenschuh/aurora_gpt/joint_marker_pdf_residual')\n",
    "\n",
    "# pdfs\n",
    "pdf_files = list(p_root.rglob('*.pdf'))\n",
    "\n",
    "# Convert Path objects to strings (optional)\n",
    "pdf_file_paths = [str(file) for file in pdf_files]\n",
    "\n",
    "# not_parsed\n",
    "not_marker_parsed = [f for f in pdf_file_paths if f not in path_list]\n",
    "\n",
    "# copy un-parsed PDFs into `joint_marker_pdf_residual`\n",
    "for not_parsed_path in not_marker_parsed:\n",
    "    src_path = not_parsed_path\n",
    "    dst_path = p_dst_dir / Path(src_path).name\n",
    "    # copy file\n",
    "    #shutil.copyfile(src_path, dst_path) # already done\n",
    "\n",
    "print(f\"Number of PDFs not yet parsed w/ Marker: {len(not_marker_parsed)}\")"
   ]
  },
  {
   "cell_type": "code",
   "execution_count": 6,
   "id": "f997e42d-5ad6-4098-9e3b-f512ae18084e",
   "metadata": {},
   "outputs": [
    {
     "data": {
      "text/plain": [
       "24627"
      ]
     },
     "execution_count": 6,
     "metadata": {},
     "output_type": "execute_result"
    }
   ],
   "source": [
    "len(set(path_list))"
   ]
  },
  {
   "cell_type": "markdown",
   "id": "6fc71cc1-bf0b-4de0-8979-80c1a29d5ea5",
   "metadata": {},
   "source": [
    "## 2. `pypdf`"
   ]
  },
  {
   "cell_type": "code",
   "execution_count": 7,
   "id": "d181661b-fe2e-419b-a84a-97122d2b777f",
   "metadata": {},
   "outputs": [],
   "source": [
    "# pypdf source\n",
    "p_pypdf = Path('/lus/eagle/projects/argonne_tpc/siebenschuh/aurora_gpt/joint_to_pypdf2/parsed_pdfs')\n",
    "f_jsons = [p_pypdf / f for f in os.listdir(p_pypdf) if f.endswith('.jsonl')]\n",
    "\n",
    "# loop for parsed PDFs\n",
    "pypdf_path_list = []\n",
    "for f_json in f_jsons:\n",
    "    with open(f_json, 'r+') as j:\n",
    "        for j_i in j:\n",
    "            d = json.loads(j_i)\n",
    "            if 'path' in d.keys():\n",
    "                pypdf_path_list.append(d['path'])"
   ]
  },
  {
   "cell_type": "code",
   "execution_count": 8,
   "id": "88ab5098-d856-4651-b3a0-3f63d572d49e",
   "metadata": {},
   "outputs": [
    {
     "data": {
      "text/plain": [
       "24895"
      ]
     },
     "execution_count": 8,
     "metadata": {},
     "output_type": "execute_result"
    }
   ],
   "source": [
    "len(set(pypdf_path_list))"
   ]
  },
  {
   "cell_type": "code",
   "execution_count": null,
   "id": "10a01920-78c6-46f0-8aba-728ac730746b",
   "metadata": {},
   "outputs": [],
   "source": [
    "# all PDFs\n",
    "p_root = Path('/lus/eagle/projects/argonne_tpc/siebenschuh/aurora_gpt/joint')\n",
    "pdf_files = list(p_root.rglob('*.pdf'))\n",
    "pdf_file_paths = [str(file) for file in pdf_files]\n",
    "\n",
    "# not_parsed\n",
    "not_pypdf_parsed = [f for f in pdf_file_paths if f.replace('/lus/eagle/', '/eagle/') not in pypdf_path_list]"
   ]
  },
  {
   "cell_type": "code",
   "execution_count": null,
   "id": "fb46353c-c832-4c7e-82a5-d51100505105",
   "metadata": {},
   "outputs": [],
   "source": [
    "len(pypdf_path_list), len(not_pypdf_parsed)"
   ]
  },
  {
   "cell_type": "code",
   "execution_count": null,
   "id": "b57ae9c5-fad9-4d04-bf5e-4dc1d40650df",
   "metadata": {},
   "outputs": [],
   "source": [
    "%%time\n",
    "p_dst_dir = Path('/lus/eagle/projects/argonne_tpc/siebenschuh/aurora_gpt/joint_pypdf_pdf_residual')\n",
    "\n",
    "# copy un-parsed PDFs into `joint_marker_pdf_residual`\n",
    "for not_parsed_path in not_pypdf_parsed:\n",
    "    src_path = not_parsed_path\n",
    "    dst_path = p_dst_dir / Path(src_path).name\n",
    "    # copy file\n",
    "    shutil.copyfile(src_path, dst_path) # already done"
   ]
  },
  {
   "cell_type": "code",
   "execution_count": null,
   "id": "182b30c2-35fa-4eaa-80ba-4ee8da1abf92",
   "metadata": {},
   "outputs": [],
   "source": [
    "# quick check in \n",
    "# pypdf source\n",
    "p_pypdf = Path('/eagle/projects/argonne_tpc/siebenschuh/aurora_gpt/joint_to_pypdf2/parsed_pdfs')\n",
    "f_jsons = [p_pypdf / f for f in os.listdir(p_pypdf) if f.endswith('.jsonl')]\n",
    "\n",
    "# loop for parsed PDFs\n",
    "pypdf_path_list = []\n",
    "for f_json in f_jsons:\n",
    "    with open(f_json, 'r+') as j:\n",
    "        for j_i in j:\n",
    "            d = json.loads(j_i)\n",
    "            if 'path' in d.keys():\n",
    "                pypdf_path_list.append(d['path'])"
   ]
  },
  {
   "cell_type": "code",
   "execution_count": null,
   "id": "28d825f5-7f96-49ce-a578-491006168417",
   "metadata": {},
   "outputs": [],
   "source": [
    "len(pypdf_path_list), len(set(pypdf_path_list))"
   ]
  }
 ],
 "metadata": {
  "kernelspec": {
   "display_name": "bo",
   "language": "python",
   "name": "bo"
  },
  "language_info": {
   "codemirror_mode": {
    "name": "ipython",
    "version": 3
   },
   "file_extension": ".py",
   "mimetype": "text/x-python",
   "name": "python",
   "nbconvert_exporter": "python",
   "pygments_lexer": "ipython3",
   "version": "3.11.9"
  }
 },
 "nbformat": 4,
 "nbformat_minor": 5
}
