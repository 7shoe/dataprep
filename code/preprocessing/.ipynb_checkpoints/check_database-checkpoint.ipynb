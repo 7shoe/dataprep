{
 "cells": [
  {
   "cell_type": "code",
   "execution_count": 1,
   "id": "86e4ba2b-63ef-46da-864e-add69c4b3141",
   "metadata": {},
   "outputs": [],
   "source": [
    "from pathlib import Path\n",
    "import pandas as pd"
   ]
  },
  {
   "cell_type": "code",
   "execution_count": 2,
   "id": "8b4af608-9c29-4ea6-9810-45c49c3112dd",
   "metadata": {},
   "outputs": [],
   "source": [
    "# Raw data\n",
    "p_db_raw = Path('/lus/eagle/projects/argonne_tpc/siebenschuh/aurora_gpt/database/parser_output_raw.csv')\n",
    "df_raw = pd.read_csv(p_db_raw, sep='|')\n",
    "\n",
    "# fill NaNs\n",
    "df_raw['pymupdf'] = df_raw['pymupdf'].fillna('')\n",
    "df_raw['pypdf'] = df_raw['pypdf'].fillna('')\n",
    "df_raw['nougat'] = df_raw['nougat'].fillna('')\n",
    "df_raw['grobid'] = df_raw['grobid'].fillna('') # grobid\n",
    "df_raw['marker'] = df_raw['marker'].fillna('') # grobid\n",
    "\n",
    "# delete `html`s NaN\n",
    "df_proc = df_raw.dropna()"
   ]
  },
  {
   "cell_type": "code",
   "execution_count": 3,
   "id": "165a4f05-32f0-40a0-bfb5-1580817978d8",
   "metadata": {},
   "outputs": [
    {
     "data": {
      "text/plain": [
       "(23397, 23322)"
      ]
     },
     "execution_count": 3,
     "metadata": {},
     "output_type": "execute_result"
    }
   ],
   "source": [
    "len(df_raw), len(df_proc)"
   ]
  },
  {
   "cell_type": "code",
   "execution_count": 5,
   "id": "0682e0a4-b618-4754-8879-355d99b7a905",
   "metadata": {},
   "outputs": [
    {
     "data": {
      "text/plain": [
       "Index(['path', 'html', 'nougat', 'pymupdf', 'pypdf', 'marker', 'grobid'], dtype='object')"
      ]
     },
     "execution_count": 5,
     "metadata": {},
     "output_type": "execute_result"
    }
   ],
   "source": [
    "df_raw.columns"
   ]
  },
  {
   "cell_type": "code",
   "execution_count": null,
   "id": "c2cc9a50-d35e-43d8-af73-900f9486180d",
   "metadata": {},
   "outputs": [],
   "source": [
    "#len(df_raw[df_raw['pymupdf'].isna()])"
   ]
  },
  {
   "cell_type": "code",
   "execution_count": null,
   "id": "9277adbe-3043-4a8a-bce1-f408e228c985",
   "metadata": {},
   "outputs": [],
   "source": [
    "df_raw.head()"
   ]
  },
  {
   "cell_type": "code",
   "execution_count": null,
   "id": "3d7b05f6-ac21-41d0-bd53-bf3b0efacf60",
   "metadata": {},
   "outputs": [],
   "source": [
    "# Check coverage\n",
    "df_proc.head()"
   ]
  },
  {
   "cell_type": "code",
   "execution_count": null,
   "id": "671881eb-7a77-4dbe-b11a-4705a1f7f739",
   "metadata": {},
   "outputs": [],
   "source": []
  }
 ],
 "metadata": {
  "kernelspec": {
   "display_name": "bo",
   "language": "python",
   "name": "bo"
  },
  "language_info": {
   "codemirror_mode": {
    "name": "ipython",
    "version": 3
   },
   "file_extension": ".py",
   "mimetype": "text/x-python",
   "name": "python",
   "nbconvert_exporter": "python",
   "pygments_lexer": "ipython3",
   "version": "3.11.9"
  }
 },
 "nbformat": 4,
 "nbformat_minor": 5
}
