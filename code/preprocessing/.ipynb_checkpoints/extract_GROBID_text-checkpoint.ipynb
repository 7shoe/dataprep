{
 "cells": [
  {
   "cell_type": "code",
   "execution_count": 6,
   "id": "bb6b1aad-454e-4af0-83cd-b494381617c3",
   "metadata": {},
   "outputs": [],
   "source": [
    "from pathlib import Path\n",
    "import os\n",
    "from lxml import etree"
   ]
  },
  {
   "cell_type": "code",
   "execution_count": 2,
   "id": "b8094924-7d96-4360-a49f-70eaddbfc808",
   "metadata": {},
   "outputs": [],
   "source": [
    "p = Path('/eagle/projects/argonne_tpc/ogokdemir/GrobidParse')"
   ]
  },
  {
   "cell_type": "code",
   "execution_count": 3,
   "id": "e70e1de2-9c44-4f5c-88d9-94d048303878",
   "metadata": {},
   "outputs": [
    {
     "data": {
      "text/plain": [
       "['arxiv_grobid_wapiti_out',\n",
       " 'medrxiv_grobid_wapiti_out',\n",
       " 'bmc_grobid_wapiti_out',\n",
       " 'biorxiv_grobid_wapiti_out',\n",
       " 'nature_grobid_wapiti_out',\n",
       " 'mdpi_grobid_wapiti_out']"
      ]
     },
     "execution_count": 3,
     "metadata": {},
     "output_type": "execute_result"
    }
   ],
   "source": [
    "os.listdir(p)"
   ]
  },
  {
   "cell_type": "code",
   "execution_count": 4,
   "id": "e8d6db7c-82ad-4e98-9e46-d54590b9d72f",
   "metadata": {},
   "outputs": [
    {
     "data": {
      "text/plain": [
       "PosixPath('/eagle/projects/argonne_tpc/ogokdemir/GrobidParse/arxiv_grobid_wapiti_out')"
      ]
     },
     "execution_count": 4,
     "metadata": {},
     "output_type": "execute_result"
    }
   ],
   "source": [
    "p / 'arxiv_grobid_wapiti_out'"
   ]
  },
  {
   "cell_type": "code",
   "execution_count": 5,
   "id": "0a9af351-0899-412c-82ae-743ba7ceb564",
   "metadata": {},
   "outputs": [],
   "source": [
    "xml_path = '/eagle/projects/argonne_tpc/ogokdemir/GrobidParse/arxiv_grobid_wapiti_out/2408.04555v1.grobid.tei.xml'"
   ]
  },
  {
   "cell_type": "code",
   "execution_count": 7,
   "id": "7797991d-9de0-4a3c-9aed-04ee18ee319f",
   "metadata": {},
   "outputs": [
    {
     "name": "stdout",
     "output_type": "stream",
     "text": [
      "{http://www.tei-c.org/ns/1.0}TEI\n"
     ]
    }
   ],
   "source": [
    "tree = etree.parse(xml_path)\n",
    "\n",
    "# Get the root element\n",
    "root = tree.getroot()\n",
    "\n",
    "# Now you can work with the XML data\n",
    "# For example, print the root tag\n",
    "print(root.tag)"
   ]
  },
  {
   "cell_type": "code",
   "execution_count": 8,
   "id": "194129df-d4aa-453d-9e7c-11483fe609b7",
   "metadata": {},
   "outputs": [
    {
     "data": {
      "text/plain": [
       "<Element {http://www.tei-c.org/ns/1.0}TEI at 0x150f56106640>"
      ]
     },
     "execution_count": 8,
     "metadata": {},
     "output_type": "execute_result"
    }
   ],
   "source": [
    "root"
   ]
  },
  {
   "cell_type": "code",
   "execution_count": null,
   "id": "6b1f2682-5ed6-4a68-a9de-16e0d02ab603",
   "metadata": {},
   "outputs": [],
   "source": [
    "'/eagle/projects/argonne_tpc/ogokdemir/GrobidParse'"
   ]
  }
 ],
 "metadata": {
  "kernelspec": {
   "display_name": "bo",
   "language": "python",
   "name": "bo"
  },
  "language_info": {
   "codemirror_mode": {
    "name": "ipython",
    "version": 3
   },
   "file_extension": ".py",
   "mimetype": "text/x-python",
   "name": "python",
   "nbconvert_exporter": "python",
   "pygments_lexer": "ipython3",
   "version": "3.11.9"
  }
 },
 "nbformat": 4,
 "nbformat_minor": 5
}
