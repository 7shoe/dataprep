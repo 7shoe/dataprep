{
 "cells": [
  {
   "cell_type": "code",
   "execution_count": 1,
   "id": "1ce3fcea-b621-4ea8-bff5-6d7cc6a521d7",
   "metadata": {},
   "outputs": [],
   "source": [
    "from utils import ConvertParserOutput\n",
    "from pathlib import Path\n",
    "import os\n",
    "import json"
   ]
  },
  {
   "cell_type": "code",
   "execution_count": 2,
   "id": "a5401488-dac2-47df-8028-5320e0ce8e86",
   "metadata": {},
   "outputs": [
    {
     "name": "stdout",
     "output_type": "stream",
     "text": [
      "self.parser_name_list :  ['html', 'nougat', 'pymupdf', 'grobid']\n",
      "Parser: html w/ 6 jsonl files.\n",
      "Parser: nougat w/ 388 jsonl files.\n",
      "Parser: pymupdf w/ 4 jsonl files.\n",
      "Parser: grobid w/ 5 jsonl files.\n"
     ]
    }
   ],
   "source": [
    "# instance\n",
    "preproc = ConvertParserOutput(jsonl_root=Path('/eagle/projects/argonne_tpc/siebenschuh/aurora_gpt'),\n",
    "                              store_path=Path('/lus/eagle/projects/argonne_tpc/siebenschuh/aurora_gpt/database'),\n",
    "                              parser_name_list=['html', 'nougat', 'pymupdf', 'grobid']) # exclude Marker due to empty\n",
    "\n",
    "# create and store\n",
    "all_dict = preproc.create_text_database(file_name='parser_text_output_raw_new.csv', overwrite=True)"
   ]
  },
  {
   "cell_type": "code",
   "execution_count": 3,
   "id": "d05a9c25-3f1a-489f-9c78-783b9051eb9d",
   "metadata": {},
   "outputs": [
    {
     "data": {
      "text/plain": [
       "dict_keys(['html', 'nougat', 'pymupdf', 'grobid'])"
      ]
     },
     "execution_count": 3,
     "metadata": {},
     "output_type": "execute_result"
    }
   ],
   "source": [
    "all_dict.keys()"
   ]
  },
  {
   "cell_type": "code",
   "execution_count": 4,
   "id": "1ab6e0de-95cb-4a16-9327-f0038afeaa4c",
   "metadata": {},
   "outputs": [
    {
     "name": "stdout",
     "output_type": "stream",
     "text": [
      "\n",
      "= = = = = = = = Parser:  nougat\n",
      "# Understanding How Students Use Physical Ideas in Introductory Biology Courses\n",
      "\n",
      "Jessica Watkins\n",
      "\n",
      "Department of Physics, \\({}^{2}\\)Department of Curriculum and Instruction,\n",
      "\n",
      "\\({}^{3}\\)Department of Cell Biology & Molecular Genetics\n",
      "\n",
      "University of Maryland, College Park, MD 20742, USA\n",
      "\n",
      "Kristi Hall\n",
      "\n",
      "Department of Curriculum and Instruction,\n",
      "\n",
      "\\({}^{3}\\)Department of Cell Biology & Molecular Genetics\n",
      "\n",
      "University of Maryland, College Park, MD 20742, USA\n",
      "\n",
      "Edward F. Redish\n",
      "\n",
      "Department of Physics, \\({}^{2}\\)Department of Curriculum and Instruction,\n",
      "\n",
      "\\({}^{3}\\)Department of Cell Biology & Molecular Genetics\n",
      "\n",
      "University of Maryland, College Park, MD 20742, USA\n",
      "\n",
      "Todd J. Cooke\n",
      "\n",
      "###### Abstract\n",
      "\n",
      "The University of Maryland (UMD) Biology Education and Physics Education Research Groups are investigating students' views on the role of physics in introductory biology courses. This paper presents data from an introductory course that addresses the fundamental principles of organismal biology and that inc\n",
      "\n",
      "= = = = = = = = Parser:  pymupdf\n",
      "Understanding How Students Use Physical Ideas in       \n",
      "Introductory Biology Courses \n",
      "Jessica Watkins1, Kristi Hall2, Edward F. Redish1, and Todd J. Cooke3 \n",
      "1Department of Physics, 2Department of Curriculum and Instruction, \n",
      " 3Department of Cell Biology & Molecular Genetics  \n",
      "University of Maryland, College Park, MD 20742, USA \n",
      "Abstract.  The University of Maryland (UMD) Biology Education and Physics Education Research Groups are in-\n",
      "vestigating students’ views on the role of physics in introductory biology courses. This paper presents data from an in-\n",
      "troductory course that addresses the fundamental principles of organismal biology and that incorporates several topics \n",
      "directly related to physics, including thermodynamics, diffusion, and fluid flow. We examine how the instructors use \n",
      "mathematics and physics in this introductory biology course and look at two students’ responses to this use. Our prelim-\n",
      "inary observations are intended to start a discussion about the epistemological is\n",
      "\n",
      "= = = = = = = = Parser:  grobid\n",
      "The University of Maryland (UMD) Biology Education and Physics Education Research Groups are investigating students' views on the role of physics in introductory biology courses. This paper presents data from an introductory course that addresses the fundamental principles of organismal biology and that incorporates several topics directly related to physics, including thermodynamics, diffusion, and fluid flow. We examine how the instructors use mathematics and physics in this introductory biology course and look at two students' responses to this use. Our preliminary observations are intended to start a discussion about the epistemological issues resulting from the integration of the science disciplines and to motivate the need for further research.INTRODUCTIONFor over a decade, researchers, policy-makers, and educators have advocated for the reform of life science education In light of these calls for reform, more research needs to be conducted to understand the implications of the i\n"
     ]
    }
   ],
   "source": [
    "target_path = '1009.1049v1'\n",
    "\n",
    "for k_prim in ['html', 'nougat', 'pymupdf', 'grobid']:\n",
    "    for i,f in enumerate(all_dict[k_prim]['path']):\n",
    "        if target_path in f:\n",
    "            print('\\n= = = = = = = = Parser: ', k_prim)\n",
    "            print(all_dict[k_prim]['text'][i][:1000])\n",
    "            #print()"
   ]
  },
  {
   "cell_type": "code",
   "execution_count": null,
   "id": "8e071371-34f8-47ab-8e74-fb8ffcd4780e",
   "metadata": {},
   "outputs": [],
   "source": []
  }
 ],
 "metadata": {
  "kernelspec": {
   "display_name": "bo",
   "language": "python",
   "name": "bo"
  },
  "language_info": {
   "codemirror_mode": {
    "name": "ipython",
    "version": 3
   },
   "file_extension": ".py",
   "mimetype": "text/x-python",
   "name": "python",
   "nbconvert_exporter": "python",
   "pygments_lexer": "ipython3",
   "version": "3.11.9"
  }
 },
 "nbformat": 4,
 "nbformat_minor": 5
}
