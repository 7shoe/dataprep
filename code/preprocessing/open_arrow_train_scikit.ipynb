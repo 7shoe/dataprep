{
 "cells": [
  {
   "cell_type": "code",
   "execution_count": null,
   "id": "af48b234-d133-45b8-ba5f-dc0f3a9e7bb7",
   "metadata": {},
   "outputs": [],
   "source": [
    "from datasets import load_from_disk\n",
    "from pathlib import Path\n",
    "import numpy as np\n",
    "\n",
    "from sklearn.ensemble import RandomForestClassifier\n",
    "from sklearn.metrics import accuracy_score, classification_report"
   ]
  },
  {
   "cell_type": "code",
   "execution_count": null,
   "id": "ee3a4865-698f-43bb-b337-af3fceece050",
   "metadata": {},
   "outputs": [],
   "source": [
    "# sample dataset\n",
    "dataset = load_from_disk('/lus/eagle/projects/tpc/braceal/metric-rag/data/semantic_chunks/LUCID.nougat.pubmedbert/embeddings/81e81138-3159-4093-9d35-7dfc014739fe/')\n",
    "\n",
    "# faux-response\n",
    "response_dict = {idx : i for i,idx in enumerate(['03', '1f', '4a', '71', '73', '7c', 'c9', 'db', 'f1', 'f7'])}\n",
    "responses = [response_dict[Path(f).stem[:2]] for f in dataset['path']]\n",
    "responses[7] = 3; responses[17] = 1; responses[55] = 4\n",
    "dataset = dataset.add_column('responses', responses)\n",
    "\n",
    "# X, y\n",
    "X = np.array(dataset['embeddings'])\n",
    "y = np.array(dataset['responses'])\n",
    "\n",
    "# train model\n",
    "clf = RandomForestClassifier(random_state=42)\n",
    "clf.fit(X, y)\n",
    "y_pred = clf.predict(X)\n",
    "\n",
    "# validate\n",
    "accuracy = accuracy_score(y, y_pred)\n",
    "print(classification_report(y, y_pred))"
   ]
  }
 ],
 "metadata": {
  "kernelspec": {
   "display_name": "bo",
   "language": "python",
   "name": "bo"
  },
  "language_info": {
   "codemirror_mode": {
    "name": "ipython",
    "version": 3
   },
   "file_extension": ".py",
   "mimetype": "text/x-python",
   "name": "python",
   "nbconvert_exporter": "python",
   "pygments_lexer": "ipython3",
   "version": "3.11.9"
  }
 },
 "nbformat": 4,
 "nbformat_minor": 5
}
