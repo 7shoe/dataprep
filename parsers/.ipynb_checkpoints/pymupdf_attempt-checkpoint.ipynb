{
 "cells": [
  {
   "cell_type": "markdown",
   "id": "32117b98-a645-4497-9cac-733a8e4c9a2a",
   "metadata": {},
   "source": [
    "# Parse with `pyMuPDF`\n",
    "\n",
    "### Pending tests ... "
   ]
  },
  {
   "cell_type": "code",
   "execution_count": 1,
   "id": "af5791d7-c8c4-48f5-b321-ab5760e33db2",
   "metadata": {},
   "outputs": [],
   "source": [
    "import fitz\n",
    "import re\n",
    "\n",
    "import os"
   ]
  },
  {
   "cell_type": "code",
   "execution_count": 50,
   "id": "6f0b58a4-0716-4fbb-9aa3-dbea89764472",
   "metadata": {},
   "outputs": [],
   "source": [
    "#sample_pdf_path = '/eagle/projects/argonne_tpc/siebenschuh/aurora_gpt/joint/arxiv/pdf/2407.20858v1.pdf'\n",
    "sample_pdf_path = '/eagle/projects/argonne_tpc/siebenschuh/aurora_gpt/joint/nature/pdf/s_4_1_5_8_6_-_0_2_0_-_2_9_1_4_-_4.pdf'\n",
    "#sample_pdf_path = '/eagle/projects/argonne_tpc/siebenschuh/aurora_gpt/joint/nature/pdf/s_4_1_5_8_6_-_0_2_2_-_0_5_5_2_6_-_y.pdf'\n",
    "#sample_pdf_path = '/eagle/projects/argonne_tpc/siebenschuh/aurora_gpt/joint/bmc/pdf/10.1186_s13326-018-0181-1.pdf'\n",
    "#sample_pdf_path = '/eagle/projects/argonne_tpc/siebenschuh/aurora_gpt/joint/bmc/pdf/10.1186_s12938-021-00953-w.pdf'\n",
    "#sample_pdf_path = '/eagle/projects/argonne_tpc/siebenschuh/aurora_gpt/joint/medrxiv/pdf/10.1101_2020.09.16.20195677.pdf'\n",
    "#sample_pdf_path = '/eagle/projects/argonne_tpc/siebenschuh/aurora_gpt/joint/medrxiv/pdf/10.1101_19003798.pdf'\n",
    "#sample_pdf_path = '/eagle/projects/argonne_tpc/siebenschuh/aurora_gpt/joint/mdpi/pdf/1996-1944.15.3.998.pdf'\n",
    "#sample_pdf_path = '/eagle/projects/argonne_tpc/siebenschuh/aurora_gpt/joint/mdpi/pdf/2227-9059.10.3.572.pdf'\n",
    "\n",
    "abstract_threshold = 420\n",
    "\n",
    "# load file\n",
    "doc = fitz.open(sample_pdf_path)\n",
    "\n",
    "# scrape text\n",
    "text_list = []\n",
    "for page in doc:\n",
    "    text_list.append(page.get_text())\n",
    "\n",
    "def extract_doi_info(input_str: str) -> str:\n",
    "    # Regular expression to match 'doi:' followed by any non-whitespace characters\n",
    "    match = re.search(r'(doi:\\s*|doi\\.org/)(\\S+)', input_str)\n",
    "    \n",
    "    if match:\n",
    "        return match.group(2)  # Return only the part after 'doi:'\n",
    "    else:\n",
    "        return ''\n",
    "\n",
    "# all text\n",
    "all_text = \"\\n\".join(text_list)\n",
    "\n",
    "# meta data\n",
    "title = doc.metadata.get('title', '')\n",
    "authors = doc.metadata.get('author', '')\n",
    "cratedate = doc.metadata.get('creationDate', '') # new\n",
    "keywords = doc.metadata.get('keywords', '')\n",
    "doi = extract_doi_info(doc.metadata.get('subject', ''))\n",
    "producer = doc.metadata.get('producer', '')\n",
    "format = doc.metadata.get('format', '')\n",
    "abstract = doc.metadata.get('subject', '') if len(doc.metadata.get('subject', '')) > abstract_threshold else ''\n",
    "\n",
    "# output\n",
    "output_dict = {'path' : sample_pdf_path, 'text' : all_text}"
   ]
  },
  {
   "cell_type": "code",
   "execution_count": 51,
   "id": "ddcb430c-1014-495e-9689-fcf22be31b1d",
   "metadata": {},
   "outputs": [
    {
     "data": {
      "text/plain": [
       "{'format': 'PDF 1.4',\n",
       " 'title': 'Coupling of hippocampal theta and ripples with pontogeniculooccipital waves',\n",
       " 'author': 'Juan F. Ramirez-Villegas',\n",
       " 'subject': 'Nature, doi:10.1038/s41586-020-2914-4',\n",
       " 'keywords': '',\n",
       " 'creator': 'Springer',\n",
       " 'producer': '',\n",
       " 'creationDate': \"D:20201222213228+05'30'\",\n",
       " 'modDate': \"D:20201222213329+05'30'\",\n",
       " 'trapped': '',\n",
       " 'encryption': None}"
      ]
     },
     "execution_count": 51,
     "metadata": {},
     "output_type": "execute_result"
    }
   ],
   "source": [
    "doc.metadata"
   ]
  },
  {
   "cell_type": "code",
   "execution_count": 52,
   "id": "0787334c-29a7-41f4-9fe8-8101300760b4",
   "metadata": {},
   "outputs": [
    {
     "data": {
      "text/plain": [
       "'10.1038/s41586-020-2914-4'"
      ]
     },
     "execution_count": 52,
     "metadata": {},
     "output_type": "execute_result"
    }
   ],
   "source": [
    "doi"
   ]
  },
  {
   "cell_type": "code",
   "execution_count": 28,
   "id": "6e21db24-b8f4-4ef3-89a0-a9ddb887da75",
   "metadata": {},
   "outputs": [
    {
     "data": {
      "text/plain": [
       "0"
      ]
     },
     "execution_count": 28,
     "metadata": {},
     "output_type": "execute_result"
    }
   ],
   "source": [
    "len(doc.metadata.get('/Subject', ''))"
   ]
  },
  {
   "cell_type": "code",
   "execution_count": null,
   "id": "83419e19-eda1-4f86-9445-e583f70c7293",
   "metadata": {},
   "outputs": [],
   "source": []
  }
 ],
 "metadata": {
  "kernelspec": {
   "display_name": "bo",
   "language": "python",
   "name": "bo"
  },
  "language_info": {
   "codemirror_mode": {
    "name": "ipython",
    "version": 3
   },
   "file_extension": ".py",
   "mimetype": "text/x-python",
   "name": "python",
   "nbconvert_exporter": "python",
   "pygments_lexer": "ipython3",
   "version": "3.11.9"
  }
 },
 "nbformat": 4,
 "nbformat_minor": 5
}
