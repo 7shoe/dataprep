{
 "cells": [
  {
   "cell_type": "code",
   "execution_count": null,
   "id": "4c7d78ac-c6f7-46e0-9b1c-df945921eeb6",
   "metadata": {},
   "outputs": [],
   "source": [
    "import os\n",
    "from pathlib import Path\n",
    "from PIL import Image"
   ]
  },
  {
   "cell_type": "code",
   "execution_count": null,
   "id": "8540f267-aaad-4f83-b7e5-6c89d5a34443",
   "metadata": {},
   "outputs": [],
   "source": [
    "# Set the PATH environment variable to include the directory where Tesseract is installed\n",
    "os.environ['PATH'] = str(Path.home() / \"tesseract/bin\") + os.pathsep + os.environ['PATH']\n",
    "#os.environ['PATH'] = '/home/siebenschuh/Projects/dataprep/parser_manual/tesseract/tesseract-5.3.0/.libs/libtesseract.so.5'\n",
    "os.environ['LD_LIBRARY_PATH'] = str(Path.home() / \"tesseract/lib\") + os.pathsep + os.environ.get('LD_LIBRARY_PATH', '')\n",
    "\n",
    "# Ensure pytesseract uses the correct Tesseract executable\n",
    "import pytesseract\n",
    "#pytesseract.pytesseract.tesseract_cmd = str(Path.home() / \"tesseract/bin/tesseract\")"
   ]
  },
  {
   "cell_type": "code",
   "execution_count": null,
   "id": "404894f6-9ed5-4a48-a87b-72608c81d3d4",
   "metadata": {},
   "outputs": [],
   "source": [
    "# Load a sample image (make sure the image path is correct)\n",
    "image = Image.open('breaking.png')\n",
    "\n",
    "# Use pytesseract to extract text from the image\n",
    "text = pytesseract.image_to_string(image)\n",
    "\n",
    "print(text)"
   ]
  },
  {
   "cell_type": "code",
   "execution_count": null,
   "id": "efe15642-eed6-4674-bf79-3b6c7bf690b7",
   "metadata": {},
   "outputs": [],
   "source": [
    "?pytesseract"
   ]
  },
  {
   "cell_type": "code",
   "execution_count": null,
   "id": "36207d77-47d0-45ba-ba54-b0942d2b8354",
   "metadata": {},
   "outputs": [],
   "source": [
    "find $HOME -name \"libtesseract.so.5\"\n",
    "#/home/siebenschuh/Projects/dataprep/parser_manual/tesseract/tesseract-5.3.0/.libs/libtesseract.so.5"
   ]
  }
 ],
 "metadata": {
  "kernelspec": {
   "display_name": "bo",
   "language": "python",
   "name": "bo"
  },
  "language_info": {
   "codemirror_mode": {
    "name": "ipython",
    "version": 3
   },
   "file_extension": ".py",
   "mimetype": "text/x-python",
   "name": "python",
   "nbconvert_exporter": "python",
   "pygments_lexer": "ipython3",
   "version": "3.11.9"
  }
 },
 "nbformat": 4,
 "nbformat_minor": 5
}
